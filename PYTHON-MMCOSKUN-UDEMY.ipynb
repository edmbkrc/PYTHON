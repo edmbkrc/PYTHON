{
 "cells": [
  {
   "cell_type": "code",
   "execution_count": 4,
   "metadata": {},
   "outputs": [],
   "source": [
    "a = 3\n",
    "b = 4"
   ]
  },
  {
   "cell_type": "code",
   "execution_count": 34,
   "metadata": {},
   "outputs": [
    {
     "name": "stdout",
     "output_type": "stream",
     "text": [
      "2\n"
     ]
    }
   ],
   "source": [
    "a = \"ABCDCDC\"\n",
    "b = \"CDC\"\n",
    "count = 0\n",
    "for i in range(len(a)-len(b) + 1):\n",
    "    if a[i] == b[0]:\n",
    "        flag = 1\n",
    "        for j in range(len(b)):\n",
    "            if a[i+j] != b[j]:\n",
    "                flag = 0\n",
    "                break\n",
    "        if flag == 1:\n",
    "            count += 1\n",
    "print(count)            "
   ]
  },
  {
   "cell_type": "code",
   "execution_count": 32,
   "metadata": {},
   "outputs": [
    {
     "name": "stdout",
     "output_type": "stream",
     "text": [
      "3\n"
     ]
    }
   ],
   "source": [
    "a = \"ABCDCDCDC\"\n",
    "b = \"CDC\"\n",
    "count = 0\n",
    "for i in range(len(a)-len(b) + 1):\n",
    "    if a[i] == b[0]:\n",
    "        flag = 1\n",
    "        if flag == 1:\n",
    "            count += 1\n",
    "print(count)          "
   ]
  },
  {
   "cell_type": "code",
   "execution_count": 6,
   "metadata": {},
   "outputs": [
    {
     "data": {
      "text/plain": [
       "4"
      ]
     },
     "execution_count": 6,
     "metadata": {},
     "output_type": "execute_result"
    }
   ],
   "source": [
    "b"
   ]
  },
  {
   "cell_type": "code",
   "execution_count": 7,
   "metadata": {},
   "outputs": [],
   "source": [
    "a,b = b,a"
   ]
  },
  {
   "cell_type": "code",
   "execution_count": 8,
   "metadata": {},
   "outputs": [
    {
     "data": {
      "text/plain": [
       "4"
      ]
     },
     "execution_count": 8,
     "metadata": {},
     "output_type": "execute_result"
    }
   ],
   "source": [
    "a"
   ]
  },
  {
   "cell_type": "code",
   "execution_count": 9,
   "metadata": {},
   "outputs": [
    {
     "data": {
      "text/plain": [
       "3"
      ]
     },
     "execution_count": 9,
     "metadata": {},
     "output_type": "execute_result"
    }
   ],
   "source": [
    "b"
   ]
  },
  {
   "cell_type": "code",
   "execution_count": 12,
   "metadata": {},
   "outputs": [
    {
     "data": {
      "text/plain": [
       "5"
      ]
     },
     "execution_count": 12,
     "metadata": {},
     "output_type": "execute_result"
    }
   ],
   "source": [
    "i = 4\n",
    "i = i+1\n",
    "i"
   ]
  },
  {
   "cell_type": "code",
   "execution_count": 13,
   "metadata": {},
   "outputs": [],
   "source": [
    "i+=1"
   ]
  },
  {
   "cell_type": "code",
   "execution_count": 14,
   "metadata": {},
   "outputs": [
    {
     "data": {
      "text/plain": [
       "6"
      ]
     },
     "execution_count": 14,
     "metadata": {},
     "output_type": "execute_result"
    }
   ],
   "source": [
    "i"
   ]
  },
  {
   "cell_type": "code",
   "execution_count": 17,
   "metadata": {},
   "outputs": [
    {
     "data": {
      "text/plain": [
       "10"
      ]
     },
     "execution_count": 17,
     "metadata": {},
     "output_type": "execute_result"
    }
   ],
   "source": [
    "i+=2\n",
    "i"
   ]
  },
  {
   "cell_type": "code",
   "execution_count": 18,
   "metadata": {},
   "outputs": [],
   "source": [
    "b = 4\n",
    "b *= 3"
   ]
  },
  {
   "cell_type": "code",
   "execution_count": 19,
   "metadata": {},
   "outputs": [
    {
     "data": {
      "text/plain": [
       "12"
      ]
     },
     "execution_count": 19,
     "metadata": {},
     "output_type": "execute_result"
    }
   ],
   "source": [
    "b"
   ]
  },
  {
   "cell_type": "code",
   "execution_count": 20,
   "metadata": {},
   "outputs": [
    {
     "data": {
      "text/plain": [
       "2.0"
      ]
     },
     "execution_count": 20,
     "metadata": {},
     "output_type": "execute_result"
    }
   ],
   "source": [
    "4/2"
   ]
  },
  {
   "cell_type": "code",
   "execution_count": 21,
   "metadata": {},
   "outputs": [
    {
     "data": {
      "text/plain": [
       "2"
      ]
     },
     "execution_count": 21,
     "metadata": {},
     "output_type": "execute_result"
    }
   ],
   "source": [
    "4//2"
   ]
  },
  {
   "cell_type": "code",
   "execution_count": 22,
   "metadata": {},
   "outputs": [
    {
     "data": {
      "text/plain": [
       "3.25"
      ]
     },
     "execution_count": 22,
     "metadata": {},
     "output_type": "execute_result"
    }
   ],
   "source": [
    "13/4"
   ]
  },
  {
   "cell_type": "code",
   "execution_count": 23,
   "metadata": {},
   "outputs": [
    {
     "data": {
      "text/plain": [
       "3"
      ]
     },
     "execution_count": 23,
     "metadata": {},
     "output_type": "execute_result"
    }
   ],
   "source": [
    "13//4"
   ]
  },
  {
   "cell_type": "code",
   "execution_count": 24,
   "metadata": {},
   "outputs": [
    {
     "data": {
      "text/plain": [
       "1"
      ]
     },
     "execution_count": 24,
     "metadata": {},
     "output_type": "execute_result"
    }
   ],
   "source": [
    "13 % 4"
   ]
  },
  {
   "cell_type": "code",
   "execution_count": 25,
   "metadata": {},
   "outputs": [
    {
     "data": {
      "text/plain": [
       "5"
      ]
     },
     "execution_count": 25,
     "metadata": {},
     "output_type": "execute_result"
    }
   ],
   "source": [
    "45 % 8"
   ]
  },
  {
   "cell_type": "code",
   "execution_count": 26,
   "metadata": {},
   "outputs": [
    {
     "data": {
      "text/plain": [
       "0"
      ]
     },
     "execution_count": 26,
     "metadata": {},
     "output_type": "execute_result"
    }
   ],
   "source": [
    "4 % 2"
   ]
  },
  {
   "cell_type": "code",
   "execution_count": 27,
   "metadata": {},
   "outputs": [
    {
     "data": {
      "text/plain": [
       "8"
      ]
     },
     "execution_count": 27,
     "metadata": {},
     "output_type": "execute_result"
    }
   ],
   "source": [
    "2 * 4"
   ]
  },
  {
   "cell_type": "code",
   "execution_count": 28,
   "metadata": {},
   "outputs": [
    {
     "data": {
      "text/plain": [
       "16"
      ]
     },
     "execution_count": 28,
     "metadata": {},
     "output_type": "execute_result"
    }
   ],
   "source": [
    "2 ** 4"
   ]
  },
  {
   "cell_type": "code",
   "execution_count": 29,
   "metadata": {},
   "outputs": [
    {
     "data": {
      "text/plain": [
       "12"
      ]
     },
     "execution_count": 29,
     "metadata": {},
     "output_type": "execute_result"
    }
   ],
   "source": [
    "3 * 4"
   ]
  },
  {
   "cell_type": "code",
   "execution_count": 30,
   "metadata": {},
   "outputs": [
    {
     "data": {
      "text/plain": [
       "81"
      ]
     },
     "execution_count": 30,
     "metadata": {},
     "output_type": "execute_result"
    }
   ],
   "source": [
    "3 ** 4"
   ]
  },
  {
   "cell_type": "code",
   "execution_count": 32,
   "metadata": {},
   "outputs": [
    {
     "data": {
      "text/plain": [
       "8.0"
      ]
     },
     "execution_count": 32,
     "metadata": {},
     "output_type": "execute_result"
    }
   ],
   "source": [
    "64 ** 0.5"
   ]
  },
  {
   "cell_type": "code",
   "execution_count": 33,
   "metadata": {},
   "outputs": [
    {
     "data": {
      "text/plain": [
       "32.31098884280702"
      ]
     },
     "execution_count": 33,
     "metadata": {},
     "output_type": "execute_result"
    }
   ],
   "source": [
    "1044 ** 0.5"
   ]
  },
  {
   "cell_type": "code",
   "execution_count": 34,
   "metadata": {},
   "outputs": [
    {
     "data": {
      "text/plain": [
       "3.0"
      ]
     },
     "execution_count": 34,
     "metadata": {},
     "output_type": "execute_result"
    }
   ],
   "source": [
    "27 ** (1/3)"
   ]
  },
  {
   "cell_type": "code",
   "execution_count": 35,
   "metadata": {},
   "outputs": [],
   "source": [
    "string = \"MErhaba\""
   ]
  },
  {
   "cell_type": "code",
   "execution_count": 36,
   "metadata": {},
   "outputs": [
    {
     "data": {
      "text/plain": [
       "7"
      ]
     },
     "execution_count": 36,
     "metadata": {},
     "output_type": "execute_result"
    }
   ],
   "source": [
    "len(string)"
   ]
  },
  {
   "cell_type": "code",
   "execution_count": 38,
   "metadata": {},
   "outputs": [
    {
     "ename": "TypeError",
     "evalue": "'str' object does not support item assignment",
     "output_type": "error",
     "traceback": [
      "\u001b[1;31m---------------------------------------------------------------------------\u001b[0m",
      "\u001b[1;31mTypeError\u001b[0m                                 Traceback (most recent call last)",
      "\u001b[1;32m<ipython-input-38-8f48dbbb0e1c>\u001b[0m in \u001b[0;36m<module>\u001b[1;34m\u001b[0m\n\u001b[1;32m----> 1\u001b[1;33m \u001b[0mstring\u001b[0m\u001b[1;33m[\u001b[0m\u001b[1;36m3\u001b[0m\u001b[1;33m]\u001b[0m \u001b[1;33m=\u001b[0m \u001b[1;34m\"b\"\u001b[0m\u001b[1;33m\u001b[0m\u001b[1;33m\u001b[0m\u001b[0m\n\u001b[0m\u001b[0;32m      2\u001b[0m \u001b[0mstring\u001b[0m\u001b[1;33m\u001b[0m\u001b[1;33m\u001b[0m\u001b[0m\n",
      "\u001b[1;31mTypeError\u001b[0m: 'str' object does not support item assignment"
     ]
    }
   ],
   "source": [
    "string[3] = \"b\"\n",
    "string"
   ]
  },
  {
   "cell_type": "code",
   "execution_count": 40,
   "metadata": {},
   "outputs": [
    {
     "data": {
      "text/plain": [
       "'Mustafa Murat Coşkun'"
      ]
     },
     "execution_count": 40,
     "metadata": {},
     "output_type": "execute_result"
    }
   ],
   "source": [
    "a = \"Mustafa\"\n",
    "a = a + \" Murat Coşkun\"\n",
    "a"
   ]
  },
  {
   "cell_type": "code",
   "execution_count": 41,
   "metadata": {},
   "outputs": [
    {
     "data": {
      "text/plain": [
       "43"
      ]
     },
     "execution_count": 41,
     "metadata": {},
     "output_type": "execute_result"
    }
   ],
   "source": [
    "a = 43\n",
    "a"
   ]
  },
  {
   "cell_type": "code",
   "execution_count": 42,
   "metadata": {},
   "outputs": [
    {
     "data": {
      "text/plain": [
       "43.0"
      ]
     },
     "execution_count": 42,
     "metadata": {},
     "output_type": "execute_result"
    }
   ],
   "source": [
    "a = float (a)\n",
    "a"
   ]
  },
  {
   "cell_type": "code",
   "execution_count": 43,
   "metadata": {},
   "outputs": [
    {
     "data": {
      "text/plain": [
       "-1.0"
      ]
     },
     "execution_count": 43,
     "metadata": {},
     "output_type": "execute_result"
    }
   ],
   "source": [
    "float(-1)"
   ]
  },
  {
   "cell_type": "code",
   "execution_count": 44,
   "metadata": {},
   "outputs": [
    {
     "data": {
      "text/plain": [
       "-13.4"
      ]
     },
     "execution_count": 44,
     "metadata": {},
     "output_type": "execute_result"
    }
   ],
   "source": [
    "float(-13.4)"
   ]
  },
  {
   "cell_type": "code",
   "execution_count": 45,
   "metadata": {},
   "outputs": [
    {
     "data": {
      "text/plain": [
       "-13.0"
      ]
     },
     "execution_count": 45,
     "metadata": {},
     "output_type": "execute_result"
    }
   ],
   "source": [
    "float(-13)"
   ]
  },
  {
   "cell_type": "code",
   "execution_count": 47,
   "metadata": {},
   "outputs": [
    {
     "data": {
      "text/plain": [
       "3.14"
      ]
     },
     "execution_count": 47,
     "metadata": {},
     "output_type": "execute_result"
    }
   ],
   "source": [
    "b = 3.14\n",
    "b"
   ]
  },
  {
   "cell_type": "code",
   "execution_count": 48,
   "metadata": {},
   "outputs": [
    {
     "data": {
      "text/plain": [
       "3"
      ]
     },
     "execution_count": 48,
     "metadata": {},
     "output_type": "execute_result"
    }
   ],
   "source": [
    "int(b)"
   ]
  },
  {
   "cell_type": "code",
   "execution_count": 49,
   "metadata": {},
   "outputs": [
    {
     "data": {
      "text/plain": [
       "8"
      ]
     },
     "execution_count": 49,
     "metadata": {},
     "output_type": "execute_result"
    }
   ],
   "source": [
    "int(8.97)"
   ]
  },
  {
   "cell_type": "code",
   "execution_count": 51,
   "metadata": {},
   "outputs": [
    {
     "data": {
      "text/plain": [
       "'345'"
      ]
     },
     "execution_count": 51,
     "metadata": {},
     "output_type": "execute_result"
    }
   ],
   "source": [
    "str(345)\n",
    "a = 345\n",
    "str(a)"
   ]
  },
  {
   "cell_type": "code",
   "execution_count": 52,
   "metadata": {},
   "outputs": [
    {
     "data": {
      "text/plain": [
       "int"
      ]
     },
     "execution_count": 52,
     "metadata": {},
     "output_type": "execute_result"
    }
   ],
   "source": [
    "type(a)"
   ]
  },
  {
   "cell_type": "code",
   "execution_count": 56,
   "metadata": {},
   "outputs": [],
   "source": [
    "a = 3.14\n",
    "b = str(a)"
   ]
  },
  {
   "cell_type": "code",
   "execution_count": 57,
   "metadata": {},
   "outputs": [
    {
     "data": {
      "text/plain": [
       "4"
      ]
     },
     "execution_count": 57,
     "metadata": {},
     "output_type": "execute_result"
    }
   ],
   "source": [
    "len(b)"
   ]
  },
  {
   "cell_type": "code",
   "execution_count": 6,
   "metadata": {},
   "outputs": [
    {
     "name": "stdout",
     "output_type": "stream",
     "text": [
      "Merhaba\n",
      "Nasılsın\n",
      "İyi misin\n"
     ]
    }
   ],
   "source": [
    "print(\"Merhaba\\nNasılsın\\nİyi misin\")"
   ]
  },
  {
   "cell_type": "code",
   "execution_count": 8,
   "metadata": {},
   "outputs": [
    {
     "name": "stdout",
     "output_type": "stream",
     "text": [
      "MerhabaNasılsınİyi misin\n"
     ]
    }
   ],
   "source": [
    "print(\"Merhaba\"\"Nasılsın\"\"İyi misin\")"
   ]
  },
  {
   "cell_type": "code",
   "execution_count": 9,
   "metadata": {},
   "outputs": [
    {
     "name": "stdout",
     "output_type": "stream",
     "text": [
      "Merhaba Nasılsın İyi misin\n"
     ]
    }
   ],
   "source": [
    "print(\"Merhaba\",\"Nasılsın\",\"İyi misin\")"
   ]
  },
  {
   "cell_type": "code",
   "execution_count": 11,
   "metadata": {},
   "outputs": [
    {
     "name": "stdout",
     "output_type": "stream",
     "text": [
      "Merhaba\tNasılsın\tİyi misin\n"
     ]
    }
   ],
   "source": [
    "\n",
    "print(\"Merhaba\\tNasılsın\\tİyi misin\")"
   ]
  },
  {
   "cell_type": "code",
   "execution_count": 12,
   "metadata": {},
   "outputs": [
    {
     "name": "stdout",
     "output_type": "stream",
     "text": [
      "Merhaba\t\tNasılsın\tİyi misin\n"
     ]
    }
   ],
   "source": [
    "print(\"Merhaba\\t\\tNasılsın\\tİyi misin\")"
   ]
  },
  {
   "cell_type": "code",
   "execution_count": 15,
   "metadata": {},
   "outputs": [
    {
     "name": "stdout",
     "output_type": "stream",
     "text": [
      "Merhaba\t\t\t\tNasılsın\t\tİyi misin\n"
     ]
    }
   ],
   "source": [
    "print(\"Merhaba\\t\\t\\t\\tNasılsın\\t\\tİyi misin\")"
   ]
  },
  {
   "cell_type": "code",
   "execution_count": 16,
   "metadata": {},
   "outputs": [
    {
     "data": {
      "text/plain": [
       "int"
      ]
     },
     "execution_count": 16,
     "metadata": {},
     "output_type": "execute_result"
    }
   ],
   "source": [
    "type(34)"
   ]
  },
  {
   "cell_type": "code",
   "execution_count": 17,
   "metadata": {},
   "outputs": [
    {
     "name": "stdout",
     "output_type": "stream",
     "text": [
      "<class 'int'>\n"
     ]
    }
   ],
   "source": [
    "print(type(34))"
   ]
  },
  {
   "cell_type": "code",
   "execution_count": 19,
   "metadata": {},
   "outputs": [
    {
     "data": {
      "text/plain": [
       "float"
      ]
     },
     "execution_count": 19,
     "metadata": {},
     "output_type": "execute_result"
    }
   ],
   "source": [
    "type(3.14)"
   ]
  },
  {
   "cell_type": "code",
   "execution_count": 20,
   "metadata": {},
   "outputs": [
    {
     "name": "stdout",
     "output_type": "stream",
     "text": [
      "<class 'float'>\n"
     ]
    }
   ],
   "source": [
    "print(type(3.14))"
   ]
  },
  {
   "cell_type": "code",
   "execution_count": 21,
   "metadata": {},
   "outputs": [
    {
     "data": {
      "text/plain": [
       "str"
      ]
     },
     "execution_count": 21,
     "metadata": {},
     "output_type": "execute_result"
    }
   ],
   "source": [
    "type(\"Murat\")"
   ]
  },
  {
   "cell_type": "code",
   "execution_count": 22,
   "metadata": {},
   "outputs": [
    {
     "name": "stdout",
     "output_type": "stream",
     "text": [
      "35 43 54 65\n"
     ]
    }
   ],
   "source": [
    "print(35,43,54,65)"
   ]
  },
  {
   "cell_type": "code",
   "execution_count": 23,
   "metadata": {},
   "outputs": [
    {
     "name": "stdout",
     "output_type": "stream",
     "text": [
      "35/43/54/65\n"
     ]
    }
   ],
   "source": [
    "print(35,43,54,65,sep=\"/\")"
   ]
  },
  {
   "cell_type": "code",
   "execution_count": 24,
   "metadata": {},
   "outputs": [
    {
     "name": "stdout",
     "output_type": "stream",
     "text": [
      "12.4.1991\n"
     ]
    }
   ],
   "source": [
    "print(12,4,1991,sep = \".\")"
   ]
  },
  {
   "cell_type": "code",
   "execution_count": 25,
   "metadata": {},
   "outputs": [
    {
     "name": "stdout",
     "output_type": "stream",
     "text": [
      "adem\n"
     ]
    }
   ],
   "source": [
    "print(\"adem\")"
   ]
  },
  {
   "cell_type": "code",
   "execution_count": 26,
   "metadata": {},
   "outputs": [
    {
     "name": "stdout",
     "output_type": "stream",
     "text": [
      "a d e m\n"
     ]
    }
   ],
   "source": [
    "print(*\"adem\")"
   ]
  },
  {
   "cell_type": "code",
   "execution_count": 27,
   "metadata": {},
   "outputs": [
    {
     "name": "stdout",
     "output_type": "stream",
     "text": [
      "a/d/e/m\n"
     ]
    }
   ],
   "source": [
    "print(*\"adem\",sep = \"/\")"
   ]
  },
  {
   "cell_type": "code",
   "execution_count": 29,
   "metadata": {},
   "outputs": [
    {
     "name": "stdout",
     "output_type": "stream",
     "text": [
      "adem\n"
     ]
    }
   ],
   "source": [
    "print(\"adem\",sep=\",\")"
   ]
  },
  {
   "cell_type": "code",
   "execution_count": 30,
   "metadata": {},
   "outputs": [
    {
     "name": "stdout",
     "output_type": "stream",
     "text": [
      "T B M M\n"
     ]
    }
   ],
   "source": [
    "print(\"T\",\"B\",\"M\",\"M\")"
   ]
  },
  {
   "cell_type": "code",
   "execution_count": 32,
   "metadata": {},
   "outputs": [
    {
     "name": "stdout",
     "output_type": "stream",
     "text": [
      "T.B.M.M\n"
     ]
    }
   ],
   "source": [
    "print(*\"TBMM\",sep = \".\")"
   ]
  },
  {
   "cell_type": "code",
   "execution_count": 33,
   "metadata": {},
   "outputs": [
    {
     "name": "stdout",
     "output_type": "stream",
     "text": [
      "3 + 4 'nin toplamı 7 'dır\n"
     ]
    }
   ],
   "source": [
    "a = 3\n",
    "b = 4\n",
    "print(\"{} + {} 'nin toplamı {} 'dır\".format(a,b,a+b))"
   ]
  },
  {
   "cell_type": "code",
   "execution_count": 1,
   "metadata": {},
   "outputs": [
    {
     "data": {
      "text/plain": [
       "'hello'"
      ]
     },
     "execution_count": 1,
     "metadata": {},
     "output_type": "execute_result"
    }
   ],
   "source": [
    "\"hello\""
   ]
  },
  {
   "cell_type": "code",
   "execution_count": 2,
   "metadata": {},
   "outputs": [
    {
     "data": {
      "text/plain": [
       "'hellohellohellohellohellohellohellohellohellohello'"
      ]
     },
     "execution_count": 2,
     "metadata": {},
     "output_type": "execute_result"
    }
   ],
   "source": [
    "\"hello\"*10"
   ]
  },
  {
   "cell_type": "code",
   "execution_count": 3,
   "metadata": {},
   "outputs": [
    {
     "name": "stdout",
     "output_type": "stream",
     "text": [
      "hello\n"
     ]
    }
   ],
   "source": [
    "print(\"hello\")"
   ]
  },
  {
   "cell_type": "code",
   "execution_count": 4,
   "metadata": {},
   "outputs": [],
   "source": [
    "liste = [\"elma\",35,\"merhaba\",3.14,5]"
   ]
  },
  {
   "cell_type": "code",
   "execution_count": 5,
   "metadata": {},
   "outputs": [
    {
     "data": {
      "text/plain": [
       "['elma', 35, 'merhaba', 3.14, 5]"
      ]
     },
     "execution_count": 5,
     "metadata": {},
     "output_type": "execute_result"
    }
   ],
   "source": [
    "liste"
   ]
  },
  {
   "cell_type": "code",
   "execution_count": 6,
   "metadata": {},
   "outputs": [
    {
     "data": {
      "text/plain": [
       "list"
      ]
     },
     "execution_count": 6,
     "metadata": {},
     "output_type": "execute_result"
    }
   ],
   "source": [
    "type(liste)"
   ]
  },
  {
   "cell_type": "code",
   "execution_count": 7,
   "metadata": {},
   "outputs": [
    {
     "data": {
      "text/plain": [
       "[]"
      ]
     },
     "execution_count": 7,
     "metadata": {},
     "output_type": "execute_result"
    }
   ],
   "source": [
    "liste = []\n",
    "liste"
   ]
  },
  {
   "cell_type": "code",
   "execution_count": 9,
   "metadata": {},
   "outputs": [
    {
     "data": {
      "text/plain": [
       "[]"
      ]
     },
     "execution_count": 9,
     "metadata": {},
     "output_type": "execute_result"
    }
   ],
   "source": [
    "liste = list()\n",
    "liste"
   ]
  },
  {
   "cell_type": "code",
   "execution_count": 10,
   "metadata": {},
   "outputs": [
    {
     "data": {
      "text/plain": [
       "[1, 2, 3, 4, 5, 6, 7, 8, 9]"
      ]
     },
     "execution_count": 10,
     "metadata": {},
     "output_type": "execute_result"
    }
   ],
   "source": [
    "liste = [1,2,3,4,5,6,7,8,9]\n",
    "liste"
   ]
  },
  {
   "cell_type": "code",
   "execution_count": 12,
   "metadata": {},
   "outputs": [
    {
     "data": {
      "text/plain": [
       "9"
      ]
     },
     "execution_count": 12,
     "metadata": {},
     "output_type": "execute_result"
    }
   ],
   "source": [
    "len(liste)"
   ]
  },
  {
   "cell_type": "code",
   "execution_count": 13,
   "metadata": {},
   "outputs": [
    {
     "data": {
      "text/plain": [
       "['m', 'e', 'r', 'h', 'a', 'b', 'a']"
      ]
     },
     "execution_count": 13,
     "metadata": {},
     "output_type": "execute_result"
    }
   ],
   "source": [
    "liste = list(\"merhaba\")\n",
    "liste"
   ]
  },
  {
   "cell_type": "code",
   "execution_count": 16,
   "metadata": {},
   "outputs": [
    {
     "data": {
      "text/plain": [
       "['a', 'd', 'e', 'm', 'b', 'a', 'k', 'ı', 'r', 'c', 'ı']"
      ]
     },
     "execution_count": 16,
     "metadata": {},
     "output_type": "execute_result"
    }
   ],
   "source": [
    "l1 = list(\"adembakırcı\")\n",
    "l1"
   ]
  },
  {
   "cell_type": "code",
   "execution_count": 17,
   "metadata": {},
   "outputs": [
    {
     "data": {
      "text/plain": [
       "11"
      ]
     },
     "execution_count": 17,
     "metadata": {},
     "output_type": "execute_result"
    }
   ],
   "source": [
    "len(l1)"
   ]
  },
  {
   "cell_type": "code",
   "execution_count": 18,
   "metadata": {},
   "outputs": [
    {
     "data": {
      "text/plain": [
       "'a'"
      ]
     },
     "execution_count": 18,
     "metadata": {},
     "output_type": "execute_result"
    }
   ],
   "source": [
    "l1[0]"
   ]
  },
  {
   "cell_type": "code",
   "execution_count": 19,
   "metadata": {},
   "outputs": [
    {
     "data": {
      "text/plain": [
       "'ı'"
      ]
     },
     "execution_count": 19,
     "metadata": {},
     "output_type": "execute_result"
    }
   ],
   "source": [
    "l1[10]"
   ]
  },
  {
   "cell_type": "code",
   "execution_count": 20,
   "metadata": {},
   "outputs": [
    {
     "data": {
      "text/plain": [
       "['a', 'd']"
      ]
     },
     "execution_count": 20,
     "metadata": {},
     "output_type": "execute_result"
    }
   ],
   "source": [
    "l1[:2]"
   ]
  },
  {
   "cell_type": "code",
   "execution_count": 21,
   "metadata": {},
   "outputs": [
    {
     "data": {
      "text/plain": [
       "'ı'"
      ]
     },
     "execution_count": 21,
     "metadata": {},
     "output_type": "execute_result"
    }
   ],
   "source": [
    "l1[-1]"
   ]
  },
  {
   "cell_type": "code",
   "execution_count": 22,
   "metadata": {},
   "outputs": [
    {
     "data": {
      "text/plain": [
       "'r'"
      ]
     },
     "execution_count": 22,
     "metadata": {},
     "output_type": "execute_result"
    }
   ],
   "source": [
    "l1[-3]"
   ]
  },
  {
   "cell_type": "code",
   "execution_count": 23,
   "metadata": {},
   "outputs": [
    {
     "data": {
      "text/plain": [
       "['a', 'd', 'e', 'm', 'b', 'a', 'k', 'ı']"
      ]
     },
     "execution_count": 23,
     "metadata": {},
     "output_type": "execute_result"
    }
   ],
   "source": [
    "l1[:-3]"
   ]
  },
  {
   "cell_type": "code",
   "execution_count": 24,
   "metadata": {},
   "outputs": [
    {
     "data": {
      "text/plain": [
       "['d']"
      ]
     },
     "execution_count": 24,
     "metadata": {},
     "output_type": "execute_result"
    }
   ],
   "source": [
    "l1[1:2]"
   ]
  },
  {
   "cell_type": "code",
   "execution_count": 25,
   "metadata": {},
   "outputs": [
    {
     "data": {
      "text/plain": [
       "[]"
      ]
     },
     "execution_count": 25,
     "metadata": {},
     "output_type": "execute_result"
    }
   ],
   "source": [
    "l1[1:1]"
   ]
  },
  {
   "cell_type": "code",
   "execution_count": 29,
   "metadata": {},
   "outputs": [
    {
     "data": {
      "text/plain": [
       "['a', 'd', 'e', 'm', 'b', 'a']"
      ]
     },
     "execution_count": 29,
     "metadata": {},
     "output_type": "execute_result"
    }
   ],
   "source": [
    "l1[0:-5]"
   ]
  },
  {
   "cell_type": "code",
   "execution_count": 30,
   "metadata": {},
   "outputs": [
    {
     "data": {
      "text/plain": [
       "11"
      ]
     },
     "execution_count": 30,
     "metadata": {},
     "output_type": "execute_result"
    }
   ],
   "source": [
    "len(l1)"
   ]
  },
  {
   "cell_type": "code",
   "execution_count": 31,
   "metadata": {},
   "outputs": [
    {
     "data": {
      "text/plain": [
       "'ı'"
      ]
     },
     "execution_count": 31,
     "metadata": {},
     "output_type": "execute_result"
    }
   ],
   "source": [
    "l1[10]"
   ]
  },
  {
   "cell_type": "code",
   "execution_count": 32,
   "metadata": {},
   "outputs": [
    {
     "data": {
      "text/plain": [
       "10"
      ]
     },
     "execution_count": 32,
     "metadata": {},
     "output_type": "execute_result"
    }
   ],
   "source": [
    "len(l1)-1"
   ]
  },
  {
   "cell_type": "code",
   "execution_count": 33,
   "metadata": {},
   "outputs": [
    {
     "data": {
      "text/plain": [
       "'ı'"
      ]
     },
     "execution_count": 33,
     "metadata": {},
     "output_type": "execute_result"
    }
   ],
   "source": [
    "l1[len(l1)-1]"
   ]
  },
  {
   "cell_type": "code",
   "execution_count": 34,
   "metadata": {},
   "outputs": [
    {
     "data": {
      "text/plain": [
       "['a', 'd', 'e', 'm', 'b', 'a', 'k', 'ı', 'r', 'c', 'ı']"
      ]
     },
     "execution_count": 34,
     "metadata": {},
     "output_type": "execute_result"
    }
   ],
   "source": [
    "l1[:]"
   ]
  },
  {
   "cell_type": "code",
   "execution_count": 35,
   "metadata": {},
   "outputs": [
    {
     "data": {
      "text/plain": [
       "['a', 'd', 'e', 'm', 'b', 'a', 'k', 'ı', 'r', 'c']"
      ]
     },
     "execution_count": 35,
     "metadata": {},
     "output_type": "execute_result"
    }
   ],
   "source": [
    "l1[:10]"
   ]
  },
  {
   "cell_type": "code",
   "execution_count": 36,
   "metadata": {},
   "outputs": [
    {
     "data": {
      "text/plain": [
       "['a', 'd', 'e', 'm', 'b', 'a', 'k', 'ı', 'r', 'c', 'ı']"
      ]
     },
     "execution_count": 36,
     "metadata": {},
     "output_type": "execute_result"
    }
   ],
   "source": [
    "l1[:11]"
   ]
  },
  {
   "cell_type": "code",
   "execution_count": 37,
   "metadata": {},
   "outputs": [
    {
     "data": {
      "text/plain": [
       "['a', 'e', 'b', 'k', 'r', 'ı']"
      ]
     },
     "execution_count": 37,
     "metadata": {},
     "output_type": "execute_result"
    }
   ],
   "source": [
    "l1[::2]"
   ]
  },
  {
   "cell_type": "code",
   "execution_count": 38,
   "metadata": {},
   "outputs": [
    {
     "data": {
      "text/plain": [
       "['a', 'm', 'k', 'c']"
      ]
     },
     "execution_count": 38,
     "metadata": {},
     "output_type": "execute_result"
    }
   ],
   "source": [
    "l1[::3]"
   ]
  },
  {
   "cell_type": "code",
   "execution_count": 39,
   "metadata": {},
   "outputs": [
    {
     "data": {
      "text/plain": [
       "['a', 'b', 'r']"
      ]
     },
     "execution_count": 39,
     "metadata": {},
     "output_type": "execute_result"
    }
   ],
   "source": [
    "l1[::4]"
   ]
  },
  {
   "cell_type": "code",
   "execution_count": 40,
   "metadata": {},
   "outputs": [
    {
     "data": {
      "text/plain": [
       "['a', 'a', 'ı']"
      ]
     },
     "execution_count": 40,
     "metadata": {},
     "output_type": "execute_result"
    }
   ],
   "source": [
    "l1[::5]"
   ]
  },
  {
   "cell_type": "code",
   "execution_count": 41,
   "metadata": {},
   "outputs": [
    {
     "data": {
      "text/plain": [
       "['ı', 'c', 'r', 'ı', 'k', 'a', 'b', 'm', 'e', 'd', 'a']"
      ]
     },
     "execution_count": 41,
     "metadata": {},
     "output_type": "execute_result"
    }
   ],
   "source": [
    "l1[::-1]"
   ]
  },
  {
   "cell_type": "code",
   "execution_count": 42,
   "metadata": {},
   "outputs": [
    {
     "data": {
      "text/plain": [
       "[1, 2, 3, 4, 5, 6]"
      ]
     },
     "execution_count": 42,
     "metadata": {},
     "output_type": "execute_result"
    }
   ],
   "source": [
    "l_1 = [1,2,3]\n",
    "l_2 = [4,5,6]\n",
    "l_1 + l_2"
   ]
  },
  {
   "cell_type": "code",
   "execution_count": 45,
   "metadata": {},
   "outputs": [
    {
     "data": {
      "text/plain": [
       "[1, 2, 3, 1, 2, 3, 1, 2, 3]"
      ]
     },
     "execution_count": 45,
     "metadata": {},
     "output_type": "execute_result"
    }
   ],
   "source": [
    "l_1*3"
   ]
  },
  {
   "cell_type": "code",
   "execution_count": 47,
   "metadata": {},
   "outputs": [
    {
     "data": {
      "text/plain": [
       "[4, 5, 6, 1, 2, 3]"
      ]
     },
     "execution_count": 47,
     "metadata": {},
     "output_type": "execute_result"
    }
   ],
   "source": [
    "l_2 + l_1"
   ]
  },
  {
   "cell_type": "code",
   "execution_count": 48,
   "metadata": {},
   "outputs": [
    {
     "ename": "TypeError",
     "evalue": "int() argument must be a string, a bytes-like object or a number, not 'list'",
     "output_type": "error",
     "traceback": [
      "\u001b[1;31m---------------------------------------------------------------------------\u001b[0m",
      "\u001b[1;31mTypeError\u001b[0m                                 Traceback (most recent call last)",
      "\u001b[1;32mC:\\Users\\ADMCN_~1\\AppData\\Local\\Temp/ipykernel_636/21585701.py\u001b[0m in \u001b[0;36m<module>\u001b[1;34m\u001b[0m\n\u001b[1;32m----> 1\u001b[1;33m \u001b[0mint\u001b[0m\u001b[1;33m(\u001b[0m\u001b[0ml_1\u001b[0m\u001b[1;33m)\u001b[0m\u001b[1;33m*\u001b[0m\u001b[1;36m3\u001b[0m\u001b[1;33m\u001b[0m\u001b[1;33m\u001b[0m\u001b[0m\n\u001b[0m",
      "\u001b[1;31mTypeError\u001b[0m: int() argument must be a string, a bytes-like object or a number, not 'list'"
     ]
    }
   ],
   "source": [
    "int(l_1)*3"
   ]
  },
  {
   "cell_type": "code",
   "execution_count": 49,
   "metadata": {},
   "outputs": [
    {
     "ename": "NameError",
     "evalue": "name 'p' is not defined",
     "output_type": "error",
     "traceback": [
      "\u001b[1;31m---------------------------------------------------------------------------\u001b[0m",
      "\u001b[1;31mNameError\u001b[0m                                 Traceback (most recent call last)",
      "\u001b[1;32mC:\\Users\\ADMCN_~1\\AppData\\Local\\Temp/ipykernel_636/409058611.py\u001b[0m in \u001b[0;36m<module>\u001b[1;34m\u001b[0m\n\u001b[0;32m      1\u001b[0m \u001b[0ma\u001b[0m \u001b[1;33m=\u001b[0m \u001b[1;34m\"murat\"\u001b[0m\u001b[1;33m\u001b[0m\u001b[1;33m\u001b[0m\u001b[0m\n\u001b[1;32m----> 2\u001b[1;33m \u001b[0ma\u001b[0m\u001b[1;33m[\u001b[0m\u001b[1;36m2\u001b[0m\u001b[1;33m]\u001b[0m \u001b[1;33m=\u001b[0m \u001b[0mp\u001b[0m\u001b[1;33m\u001b[0m\u001b[1;33m\u001b[0m\u001b[0m\n\u001b[0m",
      "\u001b[1;31mNameError\u001b[0m: name 'p' is not defined"
     ]
    }
   ],
   "source": [
    "a = \"murat\"\n",
    "a[2] = p"
   ]
  },
  {
   "cell_type": "code",
   "execution_count": 50,
   "metadata": {},
   "outputs": [],
   "source": [
    "##strings can not be  changed but lists can be changed"
   ]
  },
  {
   "cell_type": "code",
   "execution_count": 51,
   "metadata": {},
   "outputs": [
    {
     "data": {
      "text/plain": [
       "[1, 2, 3]"
      ]
     },
     "execution_count": 51,
     "metadata": {},
     "output_type": "execute_result"
    }
   ],
   "source": [
    "l_1"
   ]
  },
  {
   "cell_type": "code",
   "execution_count": 52,
   "metadata": {},
   "outputs": [],
   "source": [
    "l_1[0] = \"adem\""
   ]
  },
  {
   "cell_type": "code",
   "execution_count": 53,
   "metadata": {},
   "outputs": [
    {
     "data": {
      "text/plain": [
       "['adem', 2, 3]"
      ]
     },
     "execution_count": 53,
     "metadata": {},
     "output_type": "execute_result"
    }
   ],
   "source": [
    "l_1"
   ]
  },
  {
   "cell_type": "code",
   "execution_count": 55,
   "metadata": {},
   "outputs": [
    {
     "data": {
      "text/plain": [
       "[1, 2, 3, 4, 5]"
      ]
     },
     "execution_count": 55,
     "metadata": {},
     "output_type": "execute_result"
    }
   ],
   "source": [
    "L = [1,2,3,4,5]\n",
    "L"
   ]
  },
  {
   "cell_type": "code",
   "execution_count": 56,
   "metadata": {},
   "outputs": [],
   "source": [
    "L[:2] = [\"adem\",\"bakırcı\"]"
   ]
  },
  {
   "cell_type": "code",
   "execution_count": 57,
   "metadata": {},
   "outputs": [
    {
     "data": {
      "text/plain": [
       "['adem', 'bakırcı', 3, 4, 5]"
      ]
     },
     "execution_count": 57,
     "metadata": {},
     "output_type": "execute_result"
    }
   ],
   "source": [
    "L"
   ]
  },
  {
   "cell_type": "code",
   "execution_count": 59,
   "metadata": {},
   "outputs": [
    {
     "data": {
      "text/plain": [
       "['adem', 'bakırcı', 3, 4, 5]"
      ]
     },
     "execution_count": 59,
     "metadata": {},
     "output_type": "execute_result"
    }
   ],
   "source": [
    "L"
   ]
  },
  {
   "cell_type": "code",
   "execution_count": 68,
   "metadata": {},
   "outputs": [
    {
     "data": {
      "text/plain": [
       "['bakırcı', 3, 4, 5]"
      ]
     },
     "execution_count": 68,
     "metadata": {},
     "output_type": "execute_result"
    }
   ],
   "source": [
    "L\n"
   ]
  },
  {
   "cell_type": "code",
   "execution_count": 69,
   "metadata": {},
   "outputs": [],
   "source": [
    "L.remove('bakırcı')"
   ]
  },
  {
   "cell_type": "code",
   "execution_count": 70,
   "metadata": {},
   "outputs": [
    {
     "data": {
      "text/plain": [
       "[3, 4, 5]"
      ]
     },
     "execution_count": 70,
     "metadata": {},
     "output_type": "execute_result"
    }
   ],
   "source": [
    "L"
   ]
  },
  {
   "cell_type": "code",
   "execution_count": 71,
   "metadata": {},
   "outputs": [],
   "source": [
    "L.sort()"
   ]
  },
  {
   "cell_type": "code",
   "execution_count": 72,
   "metadata": {},
   "outputs": [
    {
     "data": {
      "text/plain": [
       "[3, 4, 5]"
      ]
     },
     "execution_count": 72,
     "metadata": {},
     "output_type": "execute_result"
    }
   ],
   "source": [
    "L"
   ]
  },
  {
   "cell_type": "code",
   "execution_count": 73,
   "metadata": {},
   "outputs": [],
   "source": [
    "L.insert(7,8)"
   ]
  },
  {
   "cell_type": "code",
   "execution_count": 74,
   "metadata": {},
   "outputs": [
    {
     "data": {
      "text/plain": [
       "[3, 4, 5, 8]"
      ]
     },
     "execution_count": 74,
     "metadata": {},
     "output_type": "execute_result"
    }
   ],
   "source": [
    "L"
   ]
  },
  {
   "cell_type": "code",
   "execution_count": 75,
   "metadata": {},
   "outputs": [],
   "source": [
    "L.insert(7,8)##the last thing written is proceeded"
   ]
  },
  {
   "cell_type": "code",
   "execution_count": 76,
   "metadata": {},
   "outputs": [
    {
     "data": {
      "text/plain": [
       "[3, 4, 5, 8, 8]"
      ]
     },
     "execution_count": 76,
     "metadata": {},
     "output_type": "execute_result"
    }
   ],
   "source": [
    "L"
   ]
  },
  {
   "cell_type": "code",
   "execution_count": 78,
   "metadata": {},
   "outputs": [],
   "source": [
    "L.insert(9,9)"
   ]
  },
  {
   "cell_type": "code",
   "execution_count": 79,
   "metadata": {},
   "outputs": [
    {
     "data": {
      "text/plain": [
       "[3, 4, 5, 8, 8, 9]"
      ]
     },
     "execution_count": 79,
     "metadata": {},
     "output_type": "execute_result"
    }
   ],
   "source": [
    "L"
   ]
  },
  {
   "cell_type": "code",
   "execution_count": 80,
   "metadata": {},
   "outputs": [],
   "source": [
    "L.insert(3,10)"
   ]
  },
  {
   "cell_type": "code",
   "execution_count": 81,
   "metadata": {},
   "outputs": [
    {
     "data": {
      "text/plain": [
       "[3, 4, 5, 10, 8, 8, 9]"
      ]
     },
     "execution_count": 81,
     "metadata": {},
     "output_type": "execute_result"
    }
   ],
   "source": [
    "L"
   ]
  },
  {
   "cell_type": "code",
   "execution_count": 82,
   "metadata": {},
   "outputs": [],
   "source": [
    "L.sort()"
   ]
  },
  {
   "cell_type": "code",
   "execution_count": 83,
   "metadata": {},
   "outputs": [
    {
     "data": {
      "text/plain": [
       "[3, 4, 5, 8, 8, 9, 10]"
      ]
     },
     "execution_count": 83,
     "metadata": {},
     "output_type": "execute_result"
    }
   ],
   "source": [
    "L"
   ]
  },
  {
   "cell_type": "code",
   "execution_count": 86,
   "metadata": {},
   "outputs": [
    {
     "ename": "TypeError",
     "evalue": "'index' is an invalid keyword argument for sort()",
     "output_type": "error",
     "traceback": [
      "\u001b[1;31m---------------------------------------------------------------------------\u001b[0m",
      "\u001b[1;31mTypeError\u001b[0m                                 Traceback (most recent call last)",
      "\u001b[1;32mC:\\Users\\ADMCN_~1\\AppData\\Local\\Temp/ipykernel_636/3348724832.py\u001b[0m in \u001b[0;36m<module>\u001b[1;34m\u001b[0m\n\u001b[1;32m----> 1\u001b[1;33m \u001b[0mL\u001b[0m\u001b[1;33m.\u001b[0m\u001b[0msort\u001b[0m\u001b[1;33m(\u001b[0m\u001b[0mindex\u001b[0m \u001b[1;33m=\u001b[0m \u001b[1;36m0\u001b[0m\u001b[1;33m,\u001b[0m \u001b[0mascending\u001b[0m \u001b[1;33m=\u001b[0m \u001b[1;34m\"False\"\u001b[0m\u001b[1;33m)\u001b[0m\u001b[1;33m\u001b[0m\u001b[1;33m\u001b[0m\u001b[0m\n\u001b[0m",
      "\u001b[1;31mTypeError\u001b[0m: 'index' is an invalid keyword argument for sort()"
     ]
    }
   ],
   "source": [
    "L.sort(index = 0, ascending = \"False\")"
   ]
  },
  {
   "cell_type": "code",
   "execution_count": 87,
   "metadata": {},
   "outputs": [
    {
     "data": {
      "text/plain": [
       "[3, 4, 5, 8, 8, 9, 10]"
      ]
     },
     "execution_count": 87,
     "metadata": {},
     "output_type": "execute_result"
    }
   ],
   "source": [
    "L"
   ]
  },
  {
   "cell_type": "code",
   "execution_count": 88,
   "metadata": {},
   "outputs": [],
   "source": [
    "L.append(\"python\")"
   ]
  },
  {
   "cell_type": "code",
   "execution_count": 89,
   "metadata": {},
   "outputs": [
    {
     "data": {
      "text/plain": [
       "[3, 4, 5, 8, 8, 9, 10, 'python']"
      ]
     },
     "execution_count": 89,
     "metadata": {},
     "output_type": "execute_result"
    }
   ],
   "source": [
    "L"
   ]
  },
  {
   "cell_type": "code",
   "execution_count": 90,
   "metadata": {},
   "outputs": [],
   "source": [
    "L.append(12)"
   ]
  },
  {
   "cell_type": "code",
   "execution_count": 91,
   "metadata": {},
   "outputs": [
    {
     "data": {
      "text/plain": [
       "[3, 4, 5, 8, 8, 9, 10, 'python', 12]"
      ]
     },
     "execution_count": 91,
     "metadata": {},
     "output_type": "execute_result"
    }
   ],
   "source": [
    "L##As you see, append method adds to end of the list"
   ]
  },
  {
   "cell_type": "code",
   "execution_count": 92,
   "metadata": {},
   "outputs": [
    {
     "data": {
      "text/plain": [
       "12"
      ]
     },
     "execution_count": 92,
     "metadata": {},
     "output_type": "execute_result"
    }
   ],
   "source": [
    "L.pop()"
   ]
  },
  {
   "cell_type": "code",
   "execution_count": 93,
   "metadata": {},
   "outputs": [
    {
     "data": {
      "text/plain": [
       "[3, 4, 5, 8, 8, 9, 10, 'python']"
      ]
     },
     "execution_count": 93,
     "metadata": {},
     "output_type": "execute_result"
    }
   ],
   "source": [
    "L"
   ]
  },
  {
   "cell_type": "code",
   "execution_count": 94,
   "metadata": {},
   "outputs": [
    {
     "data": {
      "text/plain": [
       "3"
      ]
     },
     "execution_count": 94,
     "metadata": {},
     "output_type": "execute_result"
    }
   ],
   "source": [
    "L.pop(0)"
   ]
  },
  {
   "cell_type": "code",
   "execution_count": 95,
   "metadata": {},
   "outputs": [
    {
     "data": {
      "text/plain": [
       "[4, 5, 8, 8, 9, 10, 'python']"
      ]
     },
     "execution_count": 95,
     "metadata": {},
     "output_type": "execute_result"
    }
   ],
   "source": [
    "L## pop method shows index it deleted"
   ]
  },
  {
   "cell_type": "code",
   "execution_count": 96,
   "metadata": {},
   "outputs": [],
   "source": [
    "L.append(3)"
   ]
  },
  {
   "cell_type": "code",
   "execution_count": 97,
   "metadata": {},
   "outputs": [
    {
     "data": {
      "text/plain": [
       "[4, 5, 8, 8, 9, 10, 'python', 3]"
      ]
     },
     "execution_count": 97,
     "metadata": {},
     "output_type": "execute_result"
    }
   ],
   "source": [
    "L"
   ]
  },
  {
   "cell_type": "code",
   "execution_count": 99,
   "metadata": {},
   "outputs": [
    {
     "data": {
      "text/plain": [
       "'python'"
      ]
     },
     "execution_count": 99,
     "metadata": {},
     "output_type": "execute_result"
    }
   ],
   "source": [
    "L.pop(6)"
   ]
  },
  {
   "cell_type": "code",
   "execution_count": 100,
   "metadata": {},
   "outputs": [
    {
     "data": {
      "text/plain": [
       "[4, 5, 8, 8, 9, 10, 3]"
      ]
     },
     "execution_count": 100,
     "metadata": {},
     "output_type": "execute_result"
    }
   ],
   "source": [
    "L"
   ]
  },
  {
   "cell_type": "code",
   "execution_count": 101,
   "metadata": {},
   "outputs": [],
   "source": [
    "L.sort()"
   ]
  },
  {
   "cell_type": "code",
   "execution_count": 102,
   "metadata": {},
   "outputs": [
    {
     "data": {
      "text/plain": [
       "[3, 4, 5, 8, 8, 9, 10]"
      ]
     },
     "execution_count": 102,
     "metadata": {},
     "output_type": "execute_result"
    }
   ],
   "source": [
    "L"
   ]
  },
  {
   "cell_type": "code",
   "execution_count": 103,
   "metadata": {},
   "outputs": [
    {
     "data": {
      "text/plain": [
       "8"
      ]
     },
     "execution_count": 103,
     "metadata": {},
     "output_type": "execute_result"
    }
   ],
   "source": [
    "L.pop(3)"
   ]
  },
  {
   "cell_type": "code",
   "execution_count": 104,
   "metadata": {},
   "outputs": [
    {
     "data": {
      "text/plain": [
       "[3, 4, 5, 8, 9, 10]"
      ]
     },
     "execution_count": 104,
     "metadata": {},
     "output_type": "execute_result"
    }
   ],
   "source": [
    "L"
   ]
  },
  {
   "cell_type": "code",
   "execution_count": 105,
   "metadata": {},
   "outputs": [],
   "source": [
    "L.remove(3)"
   ]
  },
  {
   "cell_type": "code",
   "execution_count": 106,
   "metadata": {},
   "outputs": [
    {
     "data": {
      "text/plain": [
       "[4, 5, 8, 9, 10]"
      ]
     },
     "execution_count": 106,
     "metadata": {},
     "output_type": "execute_result"
    }
   ],
   "source": [
    "L"
   ]
  },
  {
   "cell_type": "code",
   "execution_count": 107,
   "metadata": {},
   "outputs": [],
   "source": [
    "L.append(\"adem\")"
   ]
  },
  {
   "cell_type": "code",
   "execution_count": 108,
   "metadata": {},
   "outputs": [
    {
     "data": {
      "text/plain": [
       "[4, 5, 8, 9, 10, 'adem']"
      ]
     },
     "execution_count": 108,
     "metadata": {},
     "output_type": "execute_result"
    }
   ],
   "source": [
    "L"
   ]
  },
  {
   "cell_type": "code",
   "execution_count": 109,
   "metadata": {},
   "outputs": [],
   "source": [
    "L.remove(\"adem\")"
   ]
  },
  {
   "cell_type": "code",
   "execution_count": 110,
   "metadata": {},
   "outputs": [
    {
     "data": {
      "text/plain": [
       "[4, 5, 8, 9, 10]"
      ]
     },
     "execution_count": 110,
     "metadata": {},
     "output_type": "execute_result"
    }
   ],
   "source": [
    "L"
   ]
  },
  {
   "cell_type": "code",
   "execution_count": 111,
   "metadata": {},
   "outputs": [],
   "source": [
    "L.sort(reverse = True)"
   ]
  },
  {
   "cell_type": "code",
   "execution_count": 112,
   "metadata": {},
   "outputs": [
    {
     "data": {
      "text/plain": [
       "[10, 9, 8, 5, 4]"
      ]
     },
     "execution_count": 112,
     "metadata": {},
     "output_type": "execute_result"
    }
   ],
   "source": [
    "L"
   ]
  },
  {
   "cell_type": "code",
   "execution_count": 113,
   "metadata": {},
   "outputs": [],
   "source": [
    "L.sort(reverse = False)##reverse = False means from little to big\n",
    "                       ##reverse = True means from big to little"
   ]
  },
  {
   "cell_type": "code",
   "execution_count": 114,
   "metadata": {},
   "outputs": [
    {
     "data": {
      "text/plain": [
       "[4, 5, 8, 9, 10]"
      ]
     },
     "execution_count": 114,
     "metadata": {},
     "output_type": "execute_result"
    }
   ],
   "source": [
    "L"
   ]
  },
  {
   "cell_type": "code",
   "execution_count": 115,
   "metadata": {},
   "outputs": [],
   "source": [
    "L = [\"adem\",\"bakırcı\",\"cansu\"]"
   ]
  },
  {
   "cell_type": "code",
   "execution_count": 116,
   "metadata": {},
   "outputs": [],
   "source": [
    "L.sort()"
   ]
  },
  {
   "cell_type": "code",
   "execution_count": 117,
   "metadata": {},
   "outputs": [
    {
     "data": {
      "text/plain": [
       "['adem', 'bakırcı', 'cansu']"
      ]
     },
     "execution_count": 117,
     "metadata": {},
     "output_type": "execute_result"
    }
   ],
   "source": [
    "L"
   ]
  },
  {
   "cell_type": "code",
   "execution_count": 119,
   "metadata": {},
   "outputs": [],
   "source": [
    "L.sort(reverse = True)"
   ]
  },
  {
   "cell_type": "code",
   "execution_count": 120,
   "metadata": {},
   "outputs": [
    {
     "data": {
      "text/plain": [
       "['cansu', 'bakırcı', 'adem']"
      ]
     },
     "execution_count": 120,
     "metadata": {},
     "output_type": "execute_result"
    }
   ],
   "source": [
    "L"
   ]
  },
  {
   "cell_type": "code",
   "execution_count": 123,
   "metadata": {},
   "outputs": [],
   "source": [
    "L = [[1,2],[3,4],[5,6]]"
   ]
  },
  {
   "cell_type": "code",
   "execution_count": 124,
   "metadata": {},
   "outputs": [
    {
     "data": {
      "text/plain": [
       "[[1, 2], [3, 4], [5, 6]]"
      ]
     },
     "execution_count": 124,
     "metadata": {},
     "output_type": "execute_result"
    }
   ],
   "source": [
    "L"
   ]
  },
  {
   "cell_type": "code",
   "execution_count": 125,
   "metadata": {},
   "outputs": [
    {
     "data": {
      "text/plain": [
       "[1, 2]"
      ]
     },
     "execution_count": 125,
     "metadata": {},
     "output_type": "execute_result"
    }
   ],
   "source": [
    "L[0]"
   ]
  },
  {
   "cell_type": "code",
   "execution_count": 126,
   "metadata": {},
   "outputs": [
    {
     "data": {
      "text/plain": [
       "2"
      ]
     },
     "execution_count": 126,
     "metadata": {},
     "output_type": "execute_result"
    }
   ],
   "source": [
    "L[0][1]"
   ]
  },
  {
   "cell_type": "code",
   "execution_count": 127,
   "metadata": {},
   "outputs": [
    {
     "data": {
      "text/plain": [
       "3"
      ]
     },
     "execution_count": 127,
     "metadata": {},
     "output_type": "execute_result"
    }
   ],
   "source": [
    "L[1][0]"
   ]
  },
  {
   "cell_type": "code",
   "execution_count": 129,
   "metadata": {},
   "outputs": [
    {
     "data": {
      "text/plain": [
       "6"
      ]
     },
     "execution_count": 129,
     "metadata": {},
     "output_type": "execute_result"
    }
   ],
   "source": [
    "L[2][1]"
   ]
  },
  {
   "cell_type": "code",
   "execution_count": 130,
   "metadata": {},
   "outputs": [
    {
     "data": {
      "text/plain": [
       "[[1, 2], [3, 4], [5, 6]]"
      ]
     },
     "execution_count": 130,
     "metadata": {},
     "output_type": "execute_result"
    }
   ],
   "source": [
    "L"
   ]
  },
  {
   "cell_type": "code",
   "execution_count": 131,
   "metadata": {},
   "outputs": [
    {
     "data": {
      "text/plain": [
       "[[1, 2], [3, 4], [5, 6], [1, 2], [3, 4], [5, 6]]"
      ]
     },
     "execution_count": 131,
     "metadata": {},
     "output_type": "execute_result"
    }
   ],
   "source": [
    "L*2"
   ]
  },
  {
   "cell_type": "code",
   "execution_count": 132,
   "metadata": {},
   "outputs": [
    {
     "data": {
      "text/plain": [
       "[[1, 2], [3, 4], [5, 6]]"
      ]
     },
     "execution_count": 132,
     "metadata": {},
     "output_type": "execute_result"
    }
   ],
   "source": [
    "L"
   ]
  },
  {
   "cell_type": "code",
   "execution_count": 1,
   "metadata": {},
   "outputs": [],
   "source": [
    "## TUPPLES"
   ]
  },
  {
   "cell_type": "code",
   "execution_count": 2,
   "metadata": {},
   "outputs": [],
   "source": [
    "## difference of lists and tuples\n",
    "##Lists can be changed but tupples can not be changed\n",
    "##strings can not be changed"
   ]
  },
  {
   "cell_type": "code",
   "execution_count": 3,
   "metadata": {},
   "outputs": [],
   "source": [
    "T = (1,2,3,4,5,6,7)"
   ]
  },
  {
   "cell_type": "code",
   "execution_count": 4,
   "metadata": {},
   "outputs": [
    {
     "data": {
      "text/plain": [
       "(1, 2, 3, 4, 5, 6, 7)"
      ]
     },
     "execution_count": 4,
     "metadata": {},
     "output_type": "execute_result"
    }
   ],
   "source": [
    "T"
   ]
  },
  {
   "cell_type": "code",
   "execution_count": 5,
   "metadata": {},
   "outputs": [
    {
     "data": {
      "text/plain": [
       "tuple"
      ]
     },
     "execution_count": 5,
     "metadata": {},
     "output_type": "execute_result"
    }
   ],
   "source": [
    "type(T)"
   ]
  },
  {
   "cell_type": "code",
   "execution_count": 6,
   "metadata": {},
   "outputs": [
    {
     "data": {
      "text/plain": [
       "1"
      ]
     },
     "execution_count": 6,
     "metadata": {},
     "output_type": "execute_result"
    }
   ],
   "source": [
    "T[0]"
   ]
  },
  {
   "cell_type": "code",
   "execution_count": 7,
   "metadata": {},
   "outputs": [
    {
     "data": {
      "text/plain": [
       "5"
      ]
     },
     "execution_count": 7,
     "metadata": {},
     "output_type": "execute_result"
    }
   ],
   "source": [
    "T[4]"
   ]
  },
  {
   "cell_type": "code",
   "execution_count": 8,
   "metadata": {},
   "outputs": [
    {
     "data": {
      "text/plain": [
       "(1, 3, 5, 7)"
      ]
     },
     "execution_count": 8,
     "metadata": {},
     "output_type": "execute_result"
    }
   ],
   "source": [
    "T[::2]"
   ]
  },
  {
   "cell_type": "code",
   "execution_count": 9,
   "metadata": {},
   "outputs": [
    {
     "data": {
      "text/plain": [
       "(1, 2, 3, 4, 5, 6)"
      ]
     },
     "execution_count": 9,
     "metadata": {},
     "output_type": "execute_result"
    }
   ],
   "source": [
    "T[:-1]"
   ]
  },
  {
   "cell_type": "code",
   "execution_count": 10,
   "metadata": {},
   "outputs": [
    {
     "data": {
      "text/plain": [
       "(7, 6, 5, 4, 3, 2, 1)"
      ]
     },
     "execution_count": 10,
     "metadata": {},
     "output_type": "execute_result"
    }
   ],
   "source": [
    "T[::-1]"
   ]
  },
  {
   "cell_type": "code",
   "execution_count": 11,
   "metadata": {},
   "outputs": [
    {
     "ename": "TypeError",
     "evalue": "'tuple' object does not support item assignment",
     "output_type": "error",
     "traceback": [
      "\u001b[1;31m---------------------------------------------------------------------------\u001b[0m",
      "\u001b[1;31mTypeError\u001b[0m                                 Traceback (most recent call last)",
      "\u001b[1;32mC:\\Users\\ADMCN_~1\\AppData\\Local\\Temp/ipykernel_1036/876615972.py\u001b[0m in \u001b[0;36m<module>\u001b[1;34m\u001b[0m\n\u001b[1;32m----> 1\u001b[1;33m \u001b[0mT\u001b[0m\u001b[1;33m[\u001b[0m\u001b[1;36m0\u001b[0m\u001b[1;33m]\u001b[0m \u001b[1;33m=\u001b[0m \u001b[1;36m10\u001b[0m\u001b[1;33m\u001b[0m\u001b[1;33m\u001b[0m\u001b[0m\n\u001b[0m",
      "\u001b[1;31mTypeError\u001b[0m: 'tuple' object does not support item assignment"
     ]
    }
   ],
   "source": [
    "T[0] = 10"
   ]
  },
  {
   "cell_type": "code",
   "execution_count": null,
   "metadata": {},
   "outputs": [],
   "source": [
    "## Tuple has only two method COUNT and INDEX"
   ]
  },
  {
   "cell_type": "code",
   "execution_count": 12,
   "metadata": {},
   "outputs": [],
   "source": [
    "T = (1,1,1,1,2,2,2,3,3)"
   ]
  },
  {
   "cell_type": "code",
   "execution_count": 14,
   "metadata": {},
   "outputs": [
    {
     "data": {
      "text/plain": [
       "4"
      ]
     },
     "execution_count": 14,
     "metadata": {},
     "output_type": "execute_result"
    }
   ],
   "source": [
    "T.count(1)"
   ]
  },
  {
   "cell_type": "code",
   "execution_count": 15,
   "metadata": {},
   "outputs": [
    {
     "data": {
      "text/plain": [
       "3"
      ]
     },
     "execution_count": 15,
     "metadata": {},
     "output_type": "execute_result"
    }
   ],
   "source": [
    "T.count(2)"
   ]
  },
  {
   "cell_type": "code",
   "execution_count": 16,
   "metadata": {},
   "outputs": [
    {
     "data": {
      "text/plain": [
       "2"
      ]
     },
     "execution_count": 16,
     "metadata": {},
     "output_type": "execute_result"
    }
   ],
   "source": [
    "T.count(3)"
   ]
  },
  {
   "cell_type": "code",
   "execution_count": 17,
   "metadata": {},
   "outputs": [
    {
     "data": {
      "text/plain": [
       "0"
      ]
     },
     "execution_count": 17,
     "metadata": {},
     "output_type": "execute_result"
    }
   ],
   "source": [
    "T.count(5)"
   ]
  },
  {
   "cell_type": "code",
   "execution_count": 18,
   "metadata": {},
   "outputs": [],
   "source": [
    "T = (\"python\",\"c\",\"java\",\"php\")"
   ]
  },
  {
   "cell_type": "code",
   "execution_count": 20,
   "metadata": {},
   "outputs": [
    {
     "data": {
      "text/plain": [
       "0"
      ]
     },
     "execution_count": 20,
     "metadata": {},
     "output_type": "execute_result"
    }
   ],
   "source": [
    "T.index(\"python\")"
   ]
  },
  {
   "cell_type": "code",
   "execution_count": 21,
   "metadata": {},
   "outputs": [
    {
     "data": {
      "text/plain": [
       "1"
      ]
     },
     "execution_count": 21,
     "metadata": {},
     "output_type": "execute_result"
    }
   ],
   "source": [
    "T.index(\"c\")"
   ]
  },
  {
   "cell_type": "code",
   "execution_count": 22,
   "metadata": {},
   "outputs": [
    {
     "ename": "ValueError",
     "evalue": "tuple.index(x): x not in tuple",
     "output_type": "error",
     "traceback": [
      "\u001b[1;31m---------------------------------------------------------------------------\u001b[0m",
      "\u001b[1;31mValueError\u001b[0m                                Traceback (most recent call last)",
      "\u001b[1;32mC:\\Users\\ADMCN_~1\\AppData\\Local\\Temp/ipykernel_1036/3253524045.py\u001b[0m in \u001b[0;36m<module>\u001b[1;34m\u001b[0m\n\u001b[1;32m----> 1\u001b[1;33m \u001b[0mT\u001b[0m\u001b[1;33m.\u001b[0m\u001b[0mindex\u001b[0m\u001b[1;33m(\u001b[0m\u001b[1;34m\"a\"\u001b[0m\u001b[1;33m)\u001b[0m\u001b[1;33m\u001b[0m\u001b[1;33m\u001b[0m\u001b[0m\n\u001b[0m",
      "\u001b[1;31mValueError\u001b[0m: tuple.index(x): x not in tuple"
     ]
    }
   ],
   "source": [
    "T.index(\"a\")"
   ]
  },
  {
   "cell_type": "code",
   "execution_count": 1,
   "metadata": {},
   "outputs": [],
   "source": [
    "##DICTIONARY"
   ]
  },
  {
   "cell_type": "code",
   "execution_count": 2,
   "metadata": {},
   "outputs": [],
   "source": [
    "D = {\"bir\":1,\"iki\":2,\"üç\":3,\"dört\":4}"
   ]
  },
  {
   "cell_type": "code",
   "execution_count": 3,
   "metadata": {},
   "outputs": [
    {
     "data": {
      "text/plain": [
       "dict"
      ]
     },
     "execution_count": 3,
     "metadata": {},
     "output_type": "execute_result"
    }
   ],
   "source": [
    "type(D)"
   ]
  },
  {
   "cell_type": "code",
   "execution_count": 4,
   "metadata": {},
   "outputs": [
    {
     "data": {
      "text/plain": [
       "{}"
      ]
     },
     "execution_count": 4,
     "metadata": {},
     "output_type": "execute_result"
    }
   ],
   "source": [
    "D = {}\n",
    "D"
   ]
  },
  {
   "cell_type": "code",
   "execution_count": 6,
   "metadata": {},
   "outputs": [
    {
     "data": {
      "text/plain": [
       "{}"
      ]
     },
     "execution_count": 6,
     "metadata": {},
     "output_type": "execute_result"
    }
   ],
   "source": [
    "d = dict()\n",
    "d"
   ]
  },
  {
   "cell_type": "code",
   "execution_count": 7,
   "metadata": {},
   "outputs": [],
   "source": [
    "d = {\"bir\":1,\"iki\":2,\"üç\":3,\"dört\":4}"
   ]
  },
  {
   "cell_type": "code",
   "execution_count": 8,
   "metadata": {},
   "outputs": [
    {
     "data": {
      "text/plain": [
       "2"
      ]
     },
     "execution_count": 8,
     "metadata": {},
     "output_type": "execute_result"
    }
   ],
   "source": [
    "d[\"iki\"]"
   ]
  },
  {
   "cell_type": "code",
   "execution_count": 9,
   "metadata": {},
   "outputs": [
    {
     "data": {
      "text/plain": [
       "4"
      ]
     },
     "execution_count": 9,
     "metadata": {},
     "output_type": "execute_result"
    }
   ],
   "source": [
    "d[\"dört\"]"
   ]
  },
  {
   "cell_type": "code",
   "execution_count": 10,
   "metadata": {},
   "outputs": [
    {
     "ename": "KeyError",
     "evalue": "'beş'",
     "output_type": "error",
     "traceback": [
      "\u001b[1;31m---------------------------------------------------------------------------\u001b[0m",
      "\u001b[1;31mKeyError\u001b[0m                                  Traceback (most recent call last)",
      "\u001b[1;32mC:\\Users\\ADMCN_~1\\AppData\\Local\\Temp/ipykernel_988/3206979299.py\u001b[0m in \u001b[0;36m<module>\u001b[1;34m\u001b[0m\n\u001b[1;32m----> 1\u001b[1;33m \u001b[0md\u001b[0m\u001b[1;33m[\u001b[0m\u001b[1;34m\"beş\"\u001b[0m\u001b[1;33m]\u001b[0m\u001b[1;33m\u001b[0m\u001b[1;33m\u001b[0m\u001b[0m\n\u001b[0m",
      "\u001b[1;31mKeyError\u001b[0m: 'beş'"
     ]
    }
   ],
   "source": [
    "d[\"beş\"]"
   ]
  },
  {
   "cell_type": "code",
   "execution_count": 11,
   "metadata": {},
   "outputs": [
    {
     "data": {
      "text/plain": [
       "{'bir': 1, 'iki': 2, 'üç': 3, 'dört': 4, 'beş': 5}"
      ]
     },
     "execution_count": 11,
     "metadata": {},
     "output_type": "execute_result"
    }
   ],
   "source": [
    "d[\"beş\"] = 5\n",
    "d"
   ]
  },
  {
   "cell_type": "code",
   "execution_count": 12,
   "metadata": {},
   "outputs": [
    {
     "data": {
      "text/plain": [
       "{'bir': [1, 2, 3, 4], 'iki': [[1, 2], [3, 4, 5]], 'üç': 5}"
      ]
     },
     "execution_count": 12,
     "metadata": {},
     "output_type": "execute_result"
    }
   ],
   "source": [
    "d = {\"bir\":[1,2,3,4],\"iki\":[[1,2],[3,4,5]],\"üç\":5}\n",
    "d"
   ]
  },
  {
   "cell_type": "code",
   "execution_count": 13,
   "metadata": {},
   "outputs": [
    {
     "data": {
      "text/plain": [
       "1"
      ]
     },
     "execution_count": 13,
     "metadata": {},
     "output_type": "execute_result"
    }
   ],
   "source": [
    "d[\"bir\"][0]"
   ]
  },
  {
   "cell_type": "code",
   "execution_count": 14,
   "metadata": {},
   "outputs": [
    {
     "data": {
      "text/plain": [
       "3"
      ]
     },
     "execution_count": 14,
     "metadata": {},
     "output_type": "execute_result"
    }
   ],
   "source": [
    "d[\"iki\"][1][0]"
   ]
  },
  {
   "cell_type": "code",
   "execution_count": 15,
   "metadata": {},
   "outputs": [
    {
     "data": {
      "text/plain": [
       "{'bir': [1, 2, 3, 4], 'iki': [[1, 2], [3, 4, 5]], 'üç': 10}"
      ]
     },
     "execution_count": 15,
     "metadata": {},
     "output_type": "execute_result"
    }
   ],
   "source": [
    "d[\"üç\"] = 10\n",
    "d"
   ]
  },
  {
   "cell_type": "code",
   "execution_count": 16,
   "metadata": {},
   "outputs": [],
   "source": [
    "d[\"üç\"] += 1"
   ]
  },
  {
   "cell_type": "code",
   "execution_count": 17,
   "metadata": {},
   "outputs": [
    {
     "data": {
      "text/plain": [
       "{'bir': [1, 2, 3, 4], 'iki': [[1, 2], [3, 4, 5]], 'üç': 11}"
      ]
     },
     "execution_count": 17,
     "metadata": {},
     "output_type": "execute_result"
    }
   ],
   "source": [
    "d"
   ]
  },
  {
   "cell_type": "code",
   "execution_count": 18,
   "metadata": {},
   "outputs": [
    {
     "data": {
      "text/plain": [
       "{'bir': [1, 2, 3, 4], 'iki': [[1, 2], [3, 4, 5]], 'üç': 11}"
      ]
     },
     "execution_count": 18,
     "metadata": {},
     "output_type": "execute_result"
    }
   ],
   "source": [
    "d"
   ]
  },
  {
   "cell_type": "code",
   "execution_count": 19,
   "metadata": {},
   "outputs": [
    {
     "data": {
      "text/plain": [
       "dict_keys(['bir', 'iki', 'üç'])"
      ]
     },
     "execution_count": 19,
     "metadata": {},
     "output_type": "execute_result"
    }
   ],
   "source": [
    "d.keys()"
   ]
  },
  {
   "cell_type": "code",
   "execution_count": 20,
   "metadata": {},
   "outputs": [
    {
     "data": {
      "text/plain": [
       "dict_values([[1, 2, 3, 4], [[1, 2], [3, 4, 5]], 11])"
      ]
     },
     "execution_count": 20,
     "metadata": {},
     "output_type": "execute_result"
    }
   ],
   "source": [
    "d.values()"
   ]
  },
  {
   "cell_type": "code",
   "execution_count": 22,
   "metadata": {},
   "outputs": [
    {
     "data": {
      "text/plain": [
       "dict_items([('bir', [1, 2, 3, 4]), ('iki', [[1, 2], [3, 4, 5]]), ('üç', 11)])"
      ]
     },
     "execution_count": 22,
     "metadata": {},
     "output_type": "execute_result"
    }
   ],
   "source": [
    "d.items()"
   ]
  },
  {
   "cell_type": "code",
   "execution_count": 23,
   "metadata": {},
   "outputs": [
    {
     "name": "stdout",
     "output_type": "stream",
     "text": [
      "bir [1, 2, 3, 4]\n",
      "iki [[1, 2], [3, 4, 5]]\n",
      "üç 11\n"
     ]
    }
   ],
   "source": [
    "for k,v in d.items():\n",
    "    print(k,v)\n",
    "    "
   ]
  },
  {
   "cell_type": "code",
   "execution_count": 24,
   "metadata": {},
   "outputs": [
    {
     "ename": "ValueError",
     "evalue": "too many values to unpack (expected 2)",
     "output_type": "error",
     "traceback": [
      "\u001b[1;31m---------------------------------------------------------------------------\u001b[0m",
      "\u001b[1;31mValueError\u001b[0m                                Traceback (most recent call last)",
      "\u001b[1;32mC:\\Users\\ADMCN_~1\\AppData\\Local\\Temp/ipykernel_988/3714184323.py\u001b[0m in \u001b[0;36m<module>\u001b[1;34m\u001b[0m\n\u001b[1;32m----> 1\u001b[1;33m \u001b[1;32mfor\u001b[0m \u001b[0mk\u001b[0m\u001b[1;33m,\u001b[0m\u001b[0mv\u001b[0m \u001b[1;32min\u001b[0m \u001b[0md\u001b[0m\u001b[1;33m:\u001b[0m\u001b[1;33m\u001b[0m\u001b[1;33m\u001b[0m\u001b[0m\n\u001b[0m\u001b[0;32m      2\u001b[0m     \u001b[0mprint\u001b[0m\u001b[1;33m(\u001b[0m\u001b[0mk\u001b[0m\u001b[1;33m,\u001b[0m\u001b[0mv\u001b[0m\u001b[1;33m)\u001b[0m\u001b[1;33m\u001b[0m\u001b[1;33m\u001b[0m\u001b[0m\n",
      "\u001b[1;31mValueError\u001b[0m: too many values to unpack (expected 2)"
     ]
    }
   ],
   "source": [
    "for k,v in d:\n",
    "    print(k,v)"
   ]
  },
  {
   "cell_type": "markdown",
   "metadata": {},
   "source": [
    "## INPUT FUNCTION"
   ]
  },
  {
   "cell_type": "code",
   "execution_count": 25,
   "metadata": {},
   "outputs": [
    {
     "name": "stdout",
     "output_type": "stream",
     "text": [
      "26\n"
     ]
    },
    {
     "data": {
      "text/plain": [
       "'26'"
      ]
     },
     "execution_count": 25,
     "metadata": {},
     "output_type": "execute_result"
    }
   ],
   "source": [
    "input()"
   ]
  },
  {
   "cell_type": "code",
   "execution_count": 26,
   "metadata": {},
   "outputs": [
    {
     "name": "stdout",
     "output_type": "stream",
     "text": [
      "lütfen bir sayı giriniz:26\n"
     ]
    },
    {
     "data": {
      "text/plain": [
       "'26'"
      ]
     },
     "execution_count": 26,
     "metadata": {},
     "output_type": "execute_result"
    }
   ],
   "source": [
    "input(\"lütfen bir sayı giriniz:\")"
   ]
  },
  {
   "cell_type": "code",
   "execution_count": 27,
   "metadata": {},
   "outputs": [
    {
     "name": "stdout",
     "output_type": "stream",
     "text": [
      "please enter the number:26\n",
      "the value user entered: 26\n"
     ]
    }
   ],
   "source": [
    "a = input(\"please enter the number:\")\n",
    "print(\"the value user entered:\",a)"
   ]
  },
  {
   "cell_type": "code",
   "execution_count": 29,
   "metadata": {},
   "outputs": [
    {
     "name": "stdout",
     "output_type": "stream",
     "text": [
      "please enter the number:26\n"
     ]
    }
   ],
   "source": [
    "the_value_user_entered = input(\"please enter the number:\")"
   ]
  },
  {
   "cell_type": "code",
   "execution_count": 30,
   "metadata": {},
   "outputs": [
    {
     "data": {
      "text/plain": [
       "'26'"
      ]
     },
     "execution_count": 30,
     "metadata": {},
     "output_type": "execute_result"
    }
   ],
   "source": [
    "the_value_user_entered"
   ]
  },
  {
   "cell_type": "code",
   "execution_count": 31,
   "metadata": {},
   "outputs": [
    {
     "name": "stdout",
     "output_type": "stream",
     "text": [
      "please enter the number:26\n",
      "262626\n"
     ]
    }
   ],
   "source": [
    "a = input(\"please enter the number:\")\n",
    "print(a*3)"
   ]
  },
  {
   "cell_type": "code",
   "execution_count": 32,
   "metadata": {},
   "outputs": [
    {
     "name": "stdout",
     "output_type": "stream",
     "text": [
      "please enter the number:26\n",
      "<class 'str'>\n"
     ]
    }
   ],
   "source": [
    "a = input(\"please enter the number:\")\n",
    "print(type(a))"
   ]
  },
  {
   "cell_type": "code",
   "execution_count": 33,
   "metadata": {},
   "outputs": [
    {
     "name": "stdout",
     "output_type": "stream",
     "text": [
      "please enter the number:26\n",
      "78\n"
     ]
    }
   ],
   "source": [
    "a = int(input(\"please enter the number:\"))\n",
    "print(a*3)"
   ]
  },
  {
   "cell_type": "code",
   "execution_count": 35,
   "metadata": {},
   "outputs": [
    {
     "name": "stdout",
     "output_type": "stream",
     "text": [
      "1. number:25\n",
      "2. number:26\n",
      "3. number:27\n",
      "total= 78\n"
     ]
    }
   ],
   "source": [
    "a = int(input(\"1. number:\"))\n",
    "b = int(input(\"2. number:\"))\n",
    "c = int(input(\"3. number:\"))\n",
    "print(\"total=\",a+b+c)"
   ]
  },
  {
   "cell_type": "code",
   "execution_count": 36,
   "metadata": {},
   "outputs": [
    {
     "name": "stdout",
     "output_type": "stream",
     "text": [
      "a:26\n",
      "26\n"
     ]
    }
   ],
   "source": [
    "a = int(input(\"a:\"))\n",
    "print(a)"
   ]
  },
  {
   "cell_type": "code",
   "execution_count": 37,
   "metadata": {},
   "outputs": [
    {
     "name": "stdout",
     "output_type": "stream",
     "text": [
      "a:35asasa\n"
     ]
    },
    {
     "ename": "ValueError",
     "evalue": "invalid literal for int() with base 10: '35asasa'",
     "output_type": "error",
     "traceback": [
      "\u001b[1;31m---------------------------------------------------------------------------\u001b[0m",
      "\u001b[1;31mValueError\u001b[0m                                Traceback (most recent call last)",
      "\u001b[1;32mC:\\Users\\ADMCN_~1\\AppData\\Local\\Temp/ipykernel_988/3984141650.py\u001b[0m in \u001b[0;36m<module>\u001b[1;34m\u001b[0m\n\u001b[1;32m----> 1\u001b[1;33m \u001b[0ma\u001b[0m \u001b[1;33m=\u001b[0m \u001b[0mint\u001b[0m\u001b[1;33m(\u001b[0m\u001b[0minput\u001b[0m\u001b[1;33m(\u001b[0m\u001b[1;34m\"a:\"\u001b[0m\u001b[1;33m)\u001b[0m\u001b[1;33m)\u001b[0m\u001b[1;33m\u001b[0m\u001b[1;33m\u001b[0m\u001b[0m\n\u001b[0m\u001b[0;32m      2\u001b[0m \u001b[0mprint\u001b[0m\u001b[1;33m(\u001b[0m\u001b[0ma\u001b[0m\u001b[1;33m)\u001b[0m\u001b[1;33m\u001b[0m\u001b[1;33m\u001b[0m\u001b[0m\n",
      "\u001b[1;31mValueError\u001b[0m: invalid literal for int() with base 10: '35asasa'"
     ]
    }
   ],
   "source": [
    "a = int(input(\"a:\"))\n",
    "print(a)"
   ]
  },
  {
   "cell_type": "code",
   "execution_count": 38,
   "metadata": {},
   "outputs": [
    {
     "name": "stdout",
     "output_type": "stream",
     "text": [
      "a:25asd\n",
      "please true input form\n"
     ]
    }
   ],
   "source": [
    "try:\n",
    "    a = int(input(\"a:\"))\n",
    "    print(a)\n",
    "except:\n",
    "    print(\"please true input form\")\n"
   ]
  },
  {
   "cell_type": "code",
   "execution_count": 39,
   "metadata": {},
   "outputs": [
    {
     "name": "stdout",
     "output_type": "stream",
     "text": [
      "isim:adem\n",
      "adem\n"
     ]
    }
   ],
   "source": [
    "isim = input(\"isim:\")\n",
    "print(isim)"
   ]
  },
  {
   "cell_type": "code",
   "execution_count": 40,
   "metadata": {},
   "outputs": [
    {
     "name": "stdout",
     "output_type": "stream",
     "text": [
      "isim:adem\n",
      "adem\n"
     ]
    }
   ],
   "source": [
    "try:\n",
    "    isim = input(\"isim:\")\n",
    "    print(isim)\n",
    "except:\n",
    "    print(\"please true input form\")"
   ]
  },
  {
   "cell_type": "code",
   "execution_count": 42,
   "metadata": {},
   "outputs": [
    {
     "name": "stdout",
     "output_type": "stream",
     "text": [
      "isim:25sdd\n",
      "25sdd\n"
     ]
    }
   ],
   "source": [
    "try:\n",
    "    isim = input(\"isim:\")\n",
    "    print(isim)\n",
    "except:\n",
    "    print(\"please true input form\")"
   ]
  },
  {
   "cell_type": "markdown",
   "metadata": {},
   "source": [
    "## PLAYER REGISTRATION PROGRAM"
   ]
  },
  {
   "cell_type": "code",
   "execution_count": 46,
   "metadata": {},
   "outputs": [
    {
     "name": "stdout",
     "output_type": "stream",
     "text": [
      "PLAYER REGISTRATION PROGRAM\n",
      "player's name:adem\n",
      "player's surname:bakırcı\n",
      "player's team:deep learning\n",
      "infos are being registrated...\n",
      "player's name: adem\n",
      " player's surname: bakırcı\n",
      " player's team: deep learning\n",
      "\n",
      "infos are registrated\n"
     ]
    }
   ],
   "source": [
    "print(\"PLAYER REGISTRATION PROGRAM\")\n",
    "\n",
    "name = input(\"player's name:\")\n",
    "surname = input(\"player's surname:\")\n",
    "team = input(\"player's team:\")\n",
    "\n",
    "infos = [name,surname,team]\n",
    "\n",
    "print(\"infos are being registrated...\")\n",
    "\n",
    "print(\"player's name: {}\\n player's surname: {}\\n player's team: {}\\n\".format(infos[0],infos[1],infos[2])) \n",
    "\n",
    "print(\"infos are registrated\")"
   ]
  },
  {
   "cell_type": "markdown",
   "metadata": {},
   "source": [
    "## FINDING THE ROOTS OF A QUADRATIC EQUATION WITH ONE UNKNOWN"
   ]
  },
  {
   "cell_type": "markdown",
   "metadata": {},
   "source": [
    "## Denklem : ax^2 + bx + c\n",
    "\n",
    "Deltayı Hesaplama:  b ** 2 -  4 * a * c\n",
    "\n",
    "Birinci Kök : (-b - delta ** 0.5) / (2*a)\n",
    "İkinci Kök : (-b + delta ** 0.5) / (2*a)"
   ]
  },
  {
   "cell_type": "code",
   "execution_count": 53,
   "metadata": {},
   "outputs": [
    {
     "name": "stdout",
     "output_type": "stream",
     "text": [
      "a:1\n",
      "b:5\n",
      "c:6\n",
      "x1: -3.0\n",
      "x2: -2.0\n"
     ]
    }
   ],
   "source": [
    "a = int(input(\"a:\"))\n",
    "b = int(input(\"b:\"))\n",
    "c = int(input(\"c:\"))\n",
    "\n",
    "\n",
    "\n",
    "delta = b ** 2 - 4 * a * c\n",
    "\n",
    "x1 = (-b - delta ** 0.5) // (2 * a)\n",
    "x2 = (-b + delta ** 0.5) // (2 * a)\n",
    "\n",
    "\n",
    "print(\"x1:\",x1)\n",
    "print(\"x2:\",x2)"
   ]
  },
  {
   "cell_type": "code",
   "execution_count": 54,
   "metadata": {},
   "outputs": [
    {
     "name": "stdout",
     "output_type": "stream",
     "text": [
      "a:1\n",
      "b:5\n",
      "c:6\n",
      "Birinci Kök : -3.0\n",
      "İkinci Kök : -2.0\n"
     ]
    }
   ],
   "source": [
    "a = int(input(\"a:\"))\n",
    "b = int(input(\"b:\"))\n",
    "c = int(input(\"c:\"))\n",
    "\n",
    "\n",
    "\n",
    "delta = b ** 2 - 4 * a * c\n",
    "\n",
    "x1 = (-b - delta ** 0.5) // (2 * a)\n",
    "x2 = (-b + delta ** 0.5) // (2 * a)\n",
    "\n",
    "\n",
    "print(\"Birinci Kök : {}\\nİkinci Kök : {}\".format(x1,x2))"
   ]
  },
  {
   "cell_type": "markdown",
   "metadata": {},
   "source": [
    "## Programlama Ödevi - Temel Python Objeleri ve Veri Yapıları"
   ]
  },
  {
   "cell_type": "code",
   "execution_count": 55,
   "metadata": {},
   "outputs": [],
   "source": [
    "## Problem 1\n",
    "## Kullanıcıdan aldığınız 3 tane sayıyı çarparak ekrana yazdırın. Ekrana yazdırma işlemini format metoduyla yapmaya çalışın."
   ]
  },
  {
   "cell_type": "code",
   "execution_count": 1,
   "metadata": {},
   "outputs": [
    {
     "name": "stdout",
     "output_type": "stream",
     "text": [
      "bir sayı giriniz:6\n",
      "bir sayı giriniz:5\n",
      "bir sayı giriniz:8\n",
      "çarpım:  240\n"
     ]
    }
   ],
   "source": [
    "a = int(input(\"bir sayı giriniz:\"))\n",
    "b = int(input(\"bir sayı giriniz:\"))\n",
    "c = int(input(\"bir sayı giriniz:\"))\n",
    "\n",
    "print(\"çarpım: \",a * b * c )\n",
    "\n"
   ]
  },
  {
   "cell_type": "code",
   "execution_count": 2,
   "metadata": {},
   "outputs": [
    {
     "name": "stdout",
     "output_type": "stream",
     "text": [
      "bir sayı giriniz:6\n",
      "bir sayı giriniz:5\n",
      "bir sayı giriniz:8\n",
      "çarpım: 240\n"
     ]
    }
   ],
   "source": [
    "a = int(input(\"bir sayı giriniz:\"))\n",
    "b = int(input(\"bir sayı giriniz:\"))\n",
    "c = int(input(\"bir sayı giriniz:\"))\n",
    "\n",
    "Ç = a * b * c\n",
    "print(\"çarpım: {}\" .format(Ç))"
   ]
  },
  {
   "cell_type": "code",
   "execution_count": 56,
   "metadata": {},
   "outputs": [],
   "source": [
    "#Problem 2\n",
    "#Kullanıcıdan aldığınız boy ve kilo değerlerine göre kullanıcının beden kitle indeksini bulun.\n",
    "\n",
    "#Beden Kitle İndeksi : Kilo / Boy(m) Boy(m)"
   ]
  },
  {
   "cell_type": "code",
   "execution_count": 9,
   "metadata": {},
   "outputs": [
    {
     "name": "stdout",
     "output_type": "stream",
     "text": [
      "kilonuzu giriniz: 85\n",
      "boyunuzu giriniz: 1.73\n",
      "Beden Kitle Endeksiniz:  28.40054796351365\n"
     ]
    }
   ],
   "source": [
    "kilo = int(input(\"kilonuzu giriniz: \"))\n",
    "boy = float(input(\"boyunuzu giriniz: \"))\n",
    "\n",
    "BKE = kilo / (boy **2)\n",
    "\n",
    "print(\"Beden Kitle Endeksiniz: \", BKE)"
   ]
  },
  {
   "cell_type": "code",
   "execution_count": null,
   "metadata": {},
   "outputs": [],
   "source": [
    "##Problem 3\n",
    "#Bir aracın kilometrede ne kadar yaktığı ve kaç kilometre yol yaptığı bilgilerini alın ve sürücünü toplam ne kadar ödemesini gerektiğini hesaplayın."
   ]
  },
  {
   "cell_type": "code",
   "execution_count": 10,
   "metadata": {},
   "outputs": [
    {
     "name": "stdout",
     "output_type": "stream",
     "text": [
      "aracınızın kaç km yaptığını yazınız: 100\n",
      "aracınızın bir kilometrede kaç tl yaktığını yazınız: 1\n",
      "ödemeniz gereken tutar :  100\n"
     ]
    }
   ],
   "source": [
    "a = int(input(\"aracınızın kaç km yaptığını yazınız: \"))\n",
    "b = int(input(\"aracınızın bir kilometrede kaç tl yaktığını yazınız: \"))\n",
    "print(\"ödemeniz gereken tutar : \",a * b)"
   ]
  },
  {
   "cell_type": "code",
   "execution_count": null,
   "metadata": {},
   "outputs": [],
   "source": [
    "##Problem 4\n",
    "#Kullanıcıdan ad,soyad ve numara bilgisini alarak bunları alt alta ekrana yazdırın."
   ]
  },
  {
   "cell_type": "code",
   "execution_count": 14,
   "metadata": {},
   "outputs": [
    {
     "name": "stdout",
     "output_type": "stream",
     "text": [
      "adınız: adem\n",
      "soyadınız: bakırcı\n",
      "numaranız: 2154+6\n",
      "isim: adem\n",
      "soyisim: bakırcı\n",
      "numara: 2154+6\n"
     ]
    }
   ],
   "source": [
    "a = input(\"adınız: \")\n",
    "b = input(\"soyadınız: \")\n",
    "c = input(\"numaranız: \")\n",
    "\n",
    "bilgiler = [a,b,c]\n",
    "\n",
    "print(\"isim: {}\\nsoyisim: {}\\nnumara: {}\".format(bilgiler[0],bilgiler[1] ,bilgiler[2]))"
   ]
  },
  {
   "cell_type": "code",
   "execution_count": 19,
   "metadata": {},
   "outputs": [
    {
     "name": "stdout",
     "output_type": "stream",
     "text": [
      "adınız: adem\n",
      "soyadınız: bakırcı\n",
      "numaranız: 123456\n",
      "isim:  adem\n",
      "soyisim:  bakırcı\n",
      "numara:  123456\n"
     ]
    }
   ],
   "source": [
    "a = input(\"adınız: \")\n",
    "b = input(\"soyadınız: \")\n",
    "c = input(\"numaranız: \")\n",
    "\n",
    "bilgiler = [a,b,c]\n",
    "\n",
    "print(\"isim: \",a)\n",
    "print(\"soyisim: \",b)\n",
    "print(\"numara: \",c)"
   ]
  },
  {
   "cell_type": "code",
   "execution_count": null,
   "metadata": {},
   "outputs": [],
   "source": [
    "##Problem 5\n",
    "#Kullanıcıdan iki tane sayı isteyin ve bu sayıların değerlerini birbirleriyle değiştirin."
   ]
  },
  {
   "cell_type": "code",
   "execution_count": 20,
   "metadata": {},
   "outputs": [
    {
     "name": "stdout",
     "output_type": "stream",
     "text": [
      "bir sayı giriniz: 3\n",
      "farklı bir sayıdaha giriniz: 5\n",
      "birinci_sayı: 5, ikinci_sayı: 3\n"
     ]
    }
   ],
   "source": [
    "a = int(input(\"bir sayı giriniz: \"))\n",
    "b = int(input(\"farklı bir sayıdaha giriniz: \"))\n",
    "sayı_değiştirme = [a,b]\n",
    "\n",
    "print(\"birinci_sayı: {}, ikinci_sayı: {}\".format(sayı_değiştirme[1],sayı_değiştirme[0]))"
   ]
  },
  {
   "cell_type": "code",
   "execution_count": 21,
   "metadata": {},
   "outputs": [],
   "source": [
    "##Problem 6\n",
    "#Kullanıcıdan bir dik üçgenin dik olan iki kenarını(a,b) alın ve hipotenüs uzunluğunu bulmaya çalışın.\n",
    "\n",
    "#Hipotenüs Formülü: a^2 + b^2 = c^2"
   ]
  },
  {
   "cell_type": "code",
   "execution_count": 22,
   "metadata": {},
   "outputs": [
    {
     "name": "stdout",
     "output_type": "stream",
     "text": [
      "birinci dik kenarı yazınız: 3\n",
      "ikinci dik kenarı yazınız: 4\n",
      "hipotenüs_uzunluğu:  5.0\n"
     ]
    }
   ],
   "source": [
    "a = int(input(\"birinci dik kenarı yazınız: \"))\n",
    "b = int(input(\"ikinci dik kenarı yazınız: \"))\n",
    "\n",
    "h = (a ** 2 + b ** 2)**0.5\n",
    "\n",
    "print (\"hipotenüs_uzunluğu: \",h)"
   ]
  },
  {
   "cell_type": "markdown",
   "metadata": {},
   "source": [
    "## MANTIKSAL DEĞERLER VE KARŞILAŞTIRMA OPERATÖRLERİ"
   ]
  },
  {
   "cell_type": "code",
   "execution_count": 1,
   "metadata": {},
   "outputs": [
    {
     "data": {
      "text/plain": [
       "bool"
      ]
     },
     "execution_count": 1,
     "metadata": {},
     "output_type": "execute_result"
    }
   ],
   "source": [
    "a = True\n",
    "b = False\n",
    "type(a)\n",
    "type(b)"
   ]
  },
  {
   "cell_type": "code",
   "execution_count": 2,
   "metadata": {},
   "outputs": [
    {
     "data": {
      "text/plain": [
       "bool"
      ]
     },
     "execution_count": 2,
     "metadata": {},
     "output_type": "execute_result"
    }
   ],
   "source": [
    "type(b)"
   ]
  },
  {
   "cell_type": "code",
   "execution_count": 3,
   "metadata": {},
   "outputs": [
    {
     "data": {
      "text/plain": [
       "False"
      ]
     },
     "execution_count": 3,
     "metadata": {},
     "output_type": "execute_result"
    }
   ],
   "source": [
    "bool(0)"
   ]
  },
  {
   "cell_type": "code",
   "execution_count": 4,
   "metadata": {},
   "outputs": [
    {
     "data": {
      "text/plain": [
       "True"
      ]
     },
     "execution_count": 4,
     "metadata": {},
     "output_type": "execute_result"
    }
   ],
   "source": [
    "bool(1)"
   ]
  },
  {
   "cell_type": "code",
   "execution_count": 5,
   "metadata": {},
   "outputs": [
    {
     "data": {
      "text/plain": [
       "False"
      ]
     },
     "execution_count": 5,
     "metadata": {},
     "output_type": "execute_result"
    }
   ],
   "source": [
    "bool(0.0)"
   ]
  },
  {
   "cell_type": "code",
   "execution_count": 6,
   "metadata": {},
   "outputs": [
    {
     "data": {
      "text/plain": [
       "True"
      ]
     },
     "execution_count": 6,
     "metadata": {},
     "output_type": "execute_result"
    }
   ],
   "source": [
    "bool(2.1)"
   ]
  },
  {
   "cell_type": "code",
   "execution_count": 7,
   "metadata": {},
   "outputs": [
    {
     "data": {
      "text/plain": [
       "True"
      ]
     },
     "execution_count": 7,
     "metadata": {},
     "output_type": "execute_result"
    }
   ],
   "source": [
    "1 == 1"
   ]
  },
  {
   "cell_type": "code",
   "execution_count": 8,
   "metadata": {},
   "outputs": [
    {
     "data": {
      "text/plain": [
       "False"
      ]
     },
     "execution_count": 8,
     "metadata": {},
     "output_type": "execute_result"
    }
   ],
   "source": [
    "1 == 2"
   ]
  },
  {
   "cell_type": "code",
   "execution_count": 9,
   "metadata": {},
   "outputs": [],
   "source": [
    "a = None #a nın değeri daha atanmamaş"
   ]
  },
  {
   "cell_type": "code",
   "execution_count": 10,
   "metadata": {},
   "outputs": [
    {
     "name": "stdout",
     "output_type": "stream",
     "text": [
      "None\n"
     ]
    }
   ],
   "source": [
    "print(a)"
   ]
  },
  {
   "cell_type": "code",
   "execution_count": 11,
   "metadata": {},
   "outputs": [
    {
     "data": {
      "text/plain": [
       "True"
      ]
     },
     "execution_count": 11,
     "metadata": {},
     "output_type": "execute_result"
    }
   ],
   "source": [
    "\"mehmet\" == \"mehmet\""
   ]
  },
  {
   "cell_type": "code",
   "execution_count": 12,
   "metadata": {},
   "outputs": [
    {
     "data": {
      "text/plain": [
       "False"
      ]
     },
     "execution_count": 12,
     "metadata": {},
     "output_type": "execute_result"
    }
   ],
   "source": [
    "\"mehmet\"  == \"murat\""
   ]
  },
  {
   "cell_type": "code",
   "execution_count": 14,
   "metadata": {},
   "outputs": [
    {
     "data": {
      "text/plain": [
       "True"
      ]
     },
     "execution_count": 14,
     "metadata": {},
     "output_type": "execute_result"
    }
   ],
   "source": [
    "\"ahmet\" < \"zehra\""
   ]
  },
  {
   "cell_type": "code",
   "execution_count": 15,
   "metadata": {},
   "outputs": [
    {
     "data": {
      "text/plain": [
       "False"
      ]
     },
     "execution_count": 15,
     "metadata": {},
     "output_type": "execute_result"
    }
   ],
   "source": [
    "\"zehra\" < \"eray\""
   ]
  },
  {
   "cell_type": "code",
   "execution_count": 16,
   "metadata": {},
   "outputs": [
    {
     "data": {
      "text/plain": [
       "True"
      ]
     },
     "execution_count": 16,
     "metadata": {},
     "output_type": "execute_result"
    }
   ],
   "source": [
    "3 <= 4"
   ]
  },
  {
   "cell_type": "code",
   "execution_count": 17,
   "metadata": {},
   "outputs": [
    {
     "data": {
      "text/plain": [
       "False"
      ]
     },
     "execution_count": 17,
     "metadata": {},
     "output_type": "execute_result"
    }
   ],
   "source": [
    "2.4 <= 1.8"
   ]
  },
  {
   "cell_type": "markdown",
   "metadata": {},
   "source": [
    "## MANTIKSAL BAĞLAÇLAR"
   ]
  },
  {
   "cell_type": "code",
   "execution_count": 18,
   "metadata": {},
   "outputs": [
    {
     "data": {
      "text/plain": [
       "True"
      ]
     },
     "execution_count": 18,
     "metadata": {},
     "output_type": "execute_result"
    }
   ],
   "source": [
    "1 < 2"
   ]
  },
  {
   "cell_type": "code",
   "execution_count": 19,
   "metadata": {},
   "outputs": [
    {
     "data": {
      "text/plain": [
       "True"
      ]
     },
     "execution_count": 19,
     "metadata": {},
     "output_type": "execute_result"
    }
   ],
   "source": [
    "\"murat\" == \"murat\""
   ]
  },
  {
   "cell_type": "code",
   "execution_count": 20,
   "metadata": {},
   "outputs": [
    {
     "data": {
      "text/plain": [
       "True"
      ]
     },
     "execution_count": 20,
     "metadata": {},
     "output_type": "execute_result"
    }
   ],
   "source": [
    "1 < 2 and \"murat\" == \"murat\""
   ]
  },
  {
   "cell_type": "code",
   "execution_count": 21,
   "metadata": {},
   "outputs": [
    {
     "data": {
      "text/plain": [
       "False"
      ]
     },
     "execution_count": 21,
     "metadata": {},
     "output_type": "execute_result"
    }
   ],
   "source": [
    "1 > 2 and \"murat\" == \"murat\""
   ]
  },
  {
   "cell_type": "code",
   "execution_count": 22,
   "metadata": {},
   "outputs": [
    {
     "data": {
      "text/plain": [
       "True"
      ]
     },
     "execution_count": 22,
     "metadata": {},
     "output_type": "execute_result"
    }
   ],
   "source": [
    "1 < 2 and \"eray\" < \"zehra\" and 4.32 < 5"
   ]
  },
  {
   "cell_type": "code",
   "execution_count": 23,
   "metadata": {},
   "outputs": [
    {
     "data": {
      "text/plain": [
       "False"
      ]
     },
     "execution_count": 23,
     "metadata": {},
     "output_type": "execute_result"
    }
   ],
   "source": [
    "1 > 2 and \"eray\" < \"zehra\" and 4.32 < 5"
   ]
  },
  {
   "cell_type": "code",
   "execution_count": 24,
   "metadata": {},
   "outputs": [
    {
     "data": {
      "text/plain": [
       "True"
      ]
     },
     "execution_count": 24,
     "metadata": {},
     "output_type": "execute_result"
    }
   ],
   "source": [
    "1 < 2 or \"murat\" == \"murat\""
   ]
  },
  {
   "cell_type": "code",
   "execution_count": 25,
   "metadata": {},
   "outputs": [
    {
     "data": {
      "text/plain": [
       "True"
      ]
     },
     "execution_count": 25,
     "metadata": {},
     "output_type": "execute_result"
    }
   ],
   "source": [
    "1 > 2 or \"murat\" == \"murat\""
   ]
  },
  {
   "cell_type": "code",
   "execution_count": 26,
   "metadata": {},
   "outputs": [
    {
     "data": {
      "text/plain": [
       "False"
      ]
     },
     "execution_count": 26,
     "metadata": {},
     "output_type": "execute_result"
    }
   ],
   "source": [
    "1 > 2 or \"murat\" != \"murat\""
   ]
  },
  {
   "cell_type": "code",
   "execution_count": 28,
   "metadata": {},
   "outputs": [
    {
     "data": {
      "text/plain": [
       "True"
      ]
     },
     "execution_count": 28,
     "metadata": {},
     "output_type": "execute_result"
    }
   ],
   "source": [
    "1 > 2 or \"eray\" < \"zehra\" or 4.32 > 5"
   ]
  },
  {
   "cell_type": "code",
   "execution_count": 29,
   "metadata": {},
   "outputs": [
    {
     "data": {
      "text/plain": [
       "False"
      ]
     },
     "execution_count": 29,
     "metadata": {},
     "output_type": "execute_result"
    }
   ],
   "source": [
    "1 > 2 or \"eray\" > \"zehra\" or 4.32 > 5"
   ]
  },
  {
   "cell_type": "code",
   "execution_count": 30,
   "metadata": {},
   "outputs": [
    {
     "data": {
      "text/plain": [
       "True"
      ]
     },
     "execution_count": 30,
     "metadata": {},
     "output_type": "execute_result"
    }
   ],
   "source": [
    "2 == 2"
   ]
  },
  {
   "cell_type": "code",
   "execution_count": 31,
   "metadata": {},
   "outputs": [
    {
     "data": {
      "text/plain": [
       "False"
      ]
     },
     "execution_count": 31,
     "metadata": {},
     "output_type": "execute_result"
    }
   ],
   "source": [
    "not 2 == 2"
   ]
  },
  {
   "cell_type": "code",
   "execution_count": 32,
   "metadata": {},
   "outputs": [
    {
     "data": {
      "text/plain": [
       "False"
      ]
     },
     "execution_count": 32,
     "metadata": {},
     "output_type": "execute_result"
    }
   ],
   "source": [
    "\"murat\"  != \"murat\""
   ]
  },
  {
   "cell_type": "code",
   "execution_count": 33,
   "metadata": {},
   "outputs": [
    {
     "data": {
      "text/plain": [
       "True"
      ]
     },
     "execution_count": 33,
     "metadata": {},
     "output_type": "execute_result"
    }
   ],
   "source": [
    "not \"murat\"  != \"murat\""
   ]
  },
  {
   "cell_type": "code",
   "execution_count": 35,
   "metadata": {},
   "outputs": [
    {
     "data": {
      "text/plain": [
       "True"
      ]
     },
     "execution_count": 35,
     "metadata": {},
     "output_type": "execute_result"
    }
   ],
   "source": [
    "not 2.14 > 3.49 or 2 != 2 and \"murat\" == \"murat\""
   ]
  },
  {
   "cell_type": "markdown",
   "metadata": {},
   "source": [
    "## IF-ELSE KOŞULLU DURUMLAR"
   ]
  },
  {
   "cell_type": "code",
   "execution_count": 39,
   "metadata": {},
   "outputs": [
    {
     "name": "stdout",
     "output_type": "stream",
     "text": [
      "lütfen yaşınızı giriniz: 18\n",
      "hoşgeldiniz\n"
     ]
    }
   ],
   "source": [
    "yas = int(input(\"lütfen yaşınızı giriniz: \"))\n",
    "\n",
    "if yas < 18:\n",
    "    print(\"mekana giremezsiniz!\")\n",
    "else:\n",
    "    print(\"hoşgeldiniz\")\n",
    "    \n",
    "   "
   ]
  },
  {
   "cell_type": "code",
   "execution_count": 48,
   "metadata": {
    "scrolled": true
   },
   "outputs": [
    {
     "name": "stdout",
     "output_type": "stream",
     "text": [
      "bir sayı girin: -2\n",
      "sayı negatiftir.\n",
      "sayı pozitiftir\n"
     ]
    }
   ],
   "source": [
    "sayı = int(input(\"bir sayı girin: \"))\n",
    "if sayı < 0:\n",
    "    print(\"sayı negatiftir.\")\n",
    "if sayı == 0:\n",
    "    print(\"sayı 0 dır.\")\n",
    "else:\n",
    "    print(\"sayı pozitiftir\")\n"
   ]
  },
  {
   "cell_type": "code",
   "execution_count": 51,
   "metadata": {},
   "outputs": [
    {
     "name": "stdout",
     "output_type": "stream",
     "text": [
      "bir sayı girin: 5\n",
      "sayı pozitiftir\n"
     ]
    }
   ],
   "source": [
    "sayı = int(input(\"bir sayı girin: \"))\n",
    "if sayı < 0:\n",
    "    print(\"sayı negatiftir.\")\n",
    "elif sayı == 0:\n",
    "    print(\"sayı 0 dır.\")\n",
    "else:\n",
    "    print(\"sayı pozitiftir\")\n"
   ]
  },
  {
   "cell_type": "code",
   "execution_count": 67,
   "metadata": {},
   "outputs": [
    {
     "name": "stdout",
     "output_type": "stream",
     "text": [
      "bir sayı girin: 2.3\n",
      "pozitif\n"
     ]
    }
   ],
   "source": [
    "sayı = float(input(\"bir sayı girin: \"))\n",
    "\n",
    "if sayı >= 0:\n",
    "    if sayı == 0:\n",
    "        print(\"0\")\n",
    "    else:\n",
    "        print(\"pozitif\")\n",
    "else:\n",
    "    print(\"negatif\")"
   ]
  },
  {
   "cell_type": "code",
   "execution_count": 57,
   "metadata": {},
   "outputs": [
    {
     "name": "stdout",
     "output_type": "stream",
     "text": [
      "işleminizi giriniz: 5\n",
      "geçersiz işlem...\n"
     ]
    }
   ],
   "source": [
    "işlem = input(\"işleminizi giriniz: \")\n",
    "\n",
    "if işlem == \"1\":\n",
    "    print(\"işlem 1 seçildi...\")\n",
    "elif işlem == \"2\":\n",
    "    print(\"işlem 2 seçildi...\")\n",
    "elif işlem == \"3\":\n",
    "    print(\"işlem 3 seçildi...\")\n",
    "else:\n",
    "    print(\"geçersiz işlem...\")"
   ]
  },
  {
   "cell_type": "code",
   "execution_count": 63,
   "metadata": {},
   "outputs": [
    {
     "name": "stdout",
     "output_type": "stream",
     "text": [
      "notunuzu giriniz59\n",
      "KALDINIZ...\n"
     ]
    }
   ],
   "source": [
    "note = float(input(\"notunuzu giriniz\"))\n",
    "\n",
    "if note >= 90:\n",
    "    print(\"AA\")\n",
    "elif note >= 80:\n",
    "    print(\"BA\")\n",
    "elif note >= 70:\n",
    "    print(\"BB\")\n",
    "elif note >= 60:\n",
    "    print(\"CB\")\n",
    "else:\n",
    "    print(\"KALDINIZ...\")"
   ]
  },
  {
   "cell_type": "markdown",
   "metadata": {},
   "source": [
    "## HESAP MAKİNESİ "
   ]
  },
  {
   "cell_type": "code",
   "execution_count": 74,
   "metadata": {},
   "outputs": [
    {
     "name": "stdout",
     "output_type": "stream",
     "text": [
      "*************\n",
      "HESAP MAKİNESİ PROGRAMI\n",
      "\n",
      "İŞLEMLER:\n",
      "1.TOPLAMA\n",
      "2.ÇIKARMA\n",
      "3.ÇARPMA\n",
      "4.BÖLME\n",
      "\n",
      "*************\n",
      " bir sayı giriniz: 2\n",
      " diğer sayıyı giriniz: 6\n",
      "işlemi giriniz: 5\n",
      "lütfen yukarıda yazılı işlemlerden birinin numarasını  giriniz...\n",
      "örneğin: 1\n"
     ]
    }
   ],
   "source": [
    "print(\"\"\"*************\n",
    "HESAP MAKİNESİ PROGRAMI\n",
    "\n",
    "İŞLEMLER:\n",
    "1.TOPLAMA\n",
    "2.ÇIKARMA\n",
    "3.ÇARPMA\n",
    "4.BÖLME\n",
    "\n",
    "*************\"\"\")\n",
    "\n",
    "a = float(input(\" bir sayı giriniz: \"))\n",
    "b = float(input(\" diğer sayıyı giriniz: \"))\n",
    "\n",
    "işlem = input(\"işlemi giriniz: \")\n",
    "\n",
    "\n",
    "if işlem == \"1\":\n",
    "    print(a+b)\n",
    "elif işlem == \"2\":\n",
    "    print(a-b)\n",
    "elif işlem == \"3\":\n",
    "    print(a*b)\n",
    "elif işlem == \"4\":\n",
    "    print(a/b)\n",
    "else:\n",
    "    print(\"lütfen yukarıda yazılı işlemlerden birinin numarasını  giriniz...\\nörneğin: 1\")"
   ]
  },
  {
   "cell_type": "code",
   "execution_count": null,
   "metadata": {},
   "outputs": [],
   "source": [
    "print(\"\"\"*************\n",
    "HESAP MAKİNESİ PROGRAMI\n",
    "\n",
    "İŞLEMLER:\n",
    "1.TOPLAMA\n",
    "2.ÇIKARMA\n",
    "3.ÇARPMA\n",
    "4.BÖLME\n",
    "\n",
    "*************\"\"\")\n",
    "\n",
    "a = float(input(\" bir sayı giriniz: \"))\n",
    "b = float(input(\" diğer sayıyı giriniz: \"))\n",
    "\n",
    "işlem = input(\"işlemi giriniz: \")\n",
    "\n",
    "\n",
    "if işlem == \"1\":\n",
    "    print(f\"{} ile {}'in toplamı {}'dır.\",a,b,a+b)\n",
    "elif işlem == \"2\":\n",
    "    print(\"{} ile {}'in farkı {}'dır.\".format(a,b,a-b))\n",
    "elif işlem == \"3\":\n",
    "    print(\"{} ile {}'in çarpımı {}'dır.\".format(a,b,a*b))\n",
    "elif işlem == \"4\":\n",
    "    print(\"{} ile {}'in bölümü {}'dır.\".format(a,b,a/b))\n",
    "else:\n",
    "    print(\"lütfen yukarıda yazılı işlemlerden birinin numarasını  giriniz...\\nörneğin: 1\")"
   ]
  },
  {
   "cell_type": "markdown",
   "metadata": {},
   "source": [
    "\n",
    "## KOŞULLU DURUMLARDA KULLANICI GİRİŞİ PROGRAMI"
   ]
  },
  {
   "cell_type": "code",
   "execution_count": 83,
   "metadata": {},
   "outputs": [
    {
     "name": "stdout",
     "output_type": "stream",
     "text": [
      "*************\n",
      "KULLANICI GİRİŞİ\n",
      "*************\n",
      "kullanıcı adı: edm_bkrc\n",
      "parola: Ab1991\n",
      "başarıyla giriş yaptınız...\n"
     ]
    }
   ],
   "source": [
    "print(\"\"\"*************\n",
    "KULLANICI GİRİŞİ\n",
    "*************\"\"\")\n",
    "sys_kullanıcı_adı = \"edm_bkrc\"\n",
    "sys_parola = \"Ab1991\"\n",
    "\n",
    "\n",
    "\n",
    "kullanıcı_adı = input(\"kullanıcı adı: \")\n",
    "parola = input(\"parola: \")\n",
    "\n",
    "if kullanıcı_adı == sys_kullanıcı_adı and parola != sys_parola:\n",
    "    print(\"parola hatalı...\")\n",
    "elif kullanıcı_adı != sys_kullanıcı_adı and parola == sys_parola:\n",
    "    print(\"kullanıcı_adı hatalı...\")\n",
    "elif kullanıcı_adı != sys_kullanıcı_adı and parola != sys_parola:\n",
    "    print(\"kullanıcı_adı ve parola hatalı... \")\n",
    "else:\n",
    "    print(\"başarıyla giriş yaptınız...\")\n",
    "    \n",
    "\n"
   ]
  },
  {
   "cell_type": "markdown",
   "metadata": {},
   "source": [
    "## Programlama Ödevi - Koşullu Durumlar\n",
    "Tebrikler! Bölümü başarıyla bitirdiniz. Şimdi, öğrendiklerinizin akılda kalması için ödevinizi yapma zamanı!\n",
    "\n",
    "Problem 1\n",
    "Kullanıcıdan alınan boy ve kilo değerlerine göre beden kitle indeksini hesaplayın ve şu kurallara göre ekrana şu yazıları yazdırın.\n",
    "\n",
    " Beden Kitle İndeksi: Kilo / Boy(m) *  Boy(m)\n",
    "\n",
    " BKİ 18.5'un altındaysa -------> Zayıf\n",
    "\n",
    " BKİ 18.5 ile 25 arasındaysa ------> Normal\n",
    "\n",
    " BKİ 25 ile 30 arasındaysa --------> Fazla Kilolu\n",
    "\n",
    " BKİ 30'un üstündeyse -------------> Obez"
   ]
  },
  {
   "cell_type": "code",
   "execution_count": 92,
   "metadata": {},
   "outputs": [
    {
     "name": "stdout",
     "output_type": "stream",
     "text": [
      "*************\n",
      "BEDEN KİTLE ENDEKSİ HESAPLAMA PROGRAMI\n",
      "Beden Kitle İndeksi: Kilo / Boy(m) * Boy(m)\n",
      "\n",
      "BKİ 18.5'un altındaysa -------> Zayıf\n",
      "\n",
      "BKİ 18.5 ile 25 arasındaysa ------> Normal\n",
      "\n",
      "BKİ 25 ile 30 arasındaysa --------> Fazla Kilolu\n",
      "\n",
      "BKİ 30'un üstündeyse -------------> Obez\n",
      "*************\n",
      "lütfen kilonuzu girin: 73\n",
      "lütfen boyunuzu girin: 1.73\n",
      "beden kitle indeksiniz: 24.3910588392529\n",
      "kilo sınıflandırmanız: NORMAL\n"
     ]
    }
   ],
   "source": [
    "print(\"\"\"*************\n",
    "BEDEN KİTLE ENDEKSİ HESAPLAMA PROGRAMI\n",
    "Beden Kitle İndeksi: Kilo / Boy(m) * Boy(m)\n",
    "\n",
    "BKİ 18.5'un altındaysa -------> Zayıf\n",
    "\n",
    "BKİ 18.5 ile 25 arasındaysa ------> Normal\n",
    "\n",
    "BKİ 25 ile 30 arasındaysa --------> Fazla Kilolu\n",
    "\n",
    "BKİ 30'un üstündeyse -------------> Obez\n",
    "*************\"\"\")\n",
    "\n",
    "kilo = float(input(\"lütfen kilonuzu girin: \"))\n",
    "boy = float(input(\"lütfen boyunuzu girin: \"))\n",
    "\n",
    "BKİ = kilo / (boy**2)\n",
    "\n",
    "if BKİ < 18.5:\n",
    "    print(\"beden kitle indeksiniz: {}\\nkilo sınıflandırmanız: {}\".format(BKİ,\"ZAYIF\"))\n",
    "elif BKİ < 25:\n",
    "    print(\"beden kitle indeksiniz: {}\\nkilo sınıflandırmanız: {}\".format(BKİ,\"NORMAL\"))\n",
    "elif BKİ <30:\n",
    "    print(\"beden kitle indeksiniz: {}\\nkilo sınıflandırmanız: {}\".format(BKİ,\"FAZLA KİLOLU\"))\n",
    "else:\n",
    "    print(\"beden kitle indeksiniz: {}\\nkilo sınıflandırmanız: {}\".format(BKİ,\"OBEZ\"))\n",
    "\n"
   ]
  },
  {
   "cell_type": "code",
   "execution_count": 104,
   "metadata": {},
   "outputs": [
    {
     "name": "stdout",
     "output_type": "stream",
     "text": [
      "*************\n",
      "BEDEN KİTLE ENDEKSİ HESAPLAMA PROGRAMI\n",
      "Beden Kitle İndeksi: Kilo / Boy(m) * Boy(m)\n",
      "\n",
      "BKİ 18.5'un altındaysa -------> Zayıf\n",
      "\n",
      "BKİ 18.5 ile 25 arasındaysa ------> Normal\n",
      "\n",
      "BKİ 25 ile 30 arasındaysa --------> Fazla Kilolu\n",
      "\n",
      "BKİ 30'un üstündeyse -------------> Obez\n",
      "*************\n",
      "lütfen kilonuzu girin: 58\n",
      "lütfen boyunuzu girin: 1.72\n",
      "beden kitle indeksiniz: 19.60519199567334\n",
      "kilo sınıflandırmanız: NORMAL\n"
     ]
    }
   ],
   "source": [
    "print(\"\"\"*************\n",
    "BEDEN KİTLE ENDEKSİ HESAPLAMA PROGRAMI\n",
    "Beden Kitle İndeksi: Kilo / Boy(m) * Boy(m)\n",
    "\n",
    "BKİ 18.5'un altındaysa -------> Zayıf\n",
    "\n",
    "BKİ 18.5 ile 25 arasındaysa ------> Normal\n",
    "\n",
    "BKİ 25 ile 30 arasındaysa --------> Fazla Kilolu\n",
    "\n",
    "BKİ 30'un üstündeyse -------------> Obez\n",
    "*************\"\"\")\n",
    "\n",
    "kilo = float(input(\"lütfen kilonuzu girin: \"))\n",
    "boy = float(input(\"lütfen boyunuzu girin: \"))\n",
    "\n",
    "BKİ = kilo / (boy**2)\n",
    "\n",
    "if BKİ < 18.5:\n",
    "    print(\"beden kitle indeksiniz: {}\\nkilo sınıflandırmanız: {}\".format(BKİ,\"ZAYIF\"))\n",
    "elif (BKİ >= 18.5 and BKİ < 25):\n",
    "    print(\"beden kitle indeksiniz: {}\\nkilo sınıflandırmanız: {}\".format(BKİ,\"NORMAL\"))\n",
    "elif (BKİ >=25 and BKİ < 30):\n",
    "    print(\"beden kitle indeksiniz: {}\\nkilo sınıflandırmanız: {}\".format(BKİ,\"FAZLA KİLOLU\"))\n",
    "else:\n",
    "    print(\"beden kitle indeksiniz: {}\\nkilo sınıflandırmanız: {}\".format(BKİ,\"OBEZ\"))"
   ]
  },
  {
   "cell_type": "markdown",
   "metadata": {},
   "source": [
    "## Problem 2\n",
    "Kullanıcıdan 3 tane sayı alın ve en büyük sayıyı ekrana yazdırın."
   ]
  },
  {
   "cell_type": "code",
   "execution_count": 97,
   "metadata": {},
   "outputs": [
    {
     "name": "stdout",
     "output_type": "stream",
     "text": [
      "***********\n",
      "EN BÜYÜK SAYIYI EKRANA YAZDIRMA PROGRAMI\n",
      "***********\n",
      "birinci_sayıyı girin: 1\n",
      "ikinci_sayıyı girin: 4\n",
      "üçüncü_sayıyı girin: 98\n",
      "en büyük sayı 98.0' dır.\n"
     ]
    }
   ],
   "source": [
    "print(\"\"\"***********\n",
    "EN BÜYÜK SAYIYI EKRANA YAZDIRMA PROGRAMI\n",
    "***********\"\"\")\n",
    "\n",
    "birinci_sayı = float(input(\"birinci_sayıyı girin: \"))\n",
    "ikinci_sayı = float(input(\"ikinci_sayıyı girin: \"))\n",
    "üçüncü_sayı = float(input(\"üçüncü_sayıyı girin: \"))\n",
    "\n",
    "if birinci_sayı > ikinci_sayı and birinci_sayı > üçüncü_sayı:\n",
    "    print(\"en büyük sayı {}' dır.\".format(birinci_sayı))\n",
    "elif ikinci_sayı > birinci_sayı and ikinci_sayı > üçüncü_sayı:\n",
    "    print(\"en büyük sayı {}' dır.\".format(ikinci_sayı))\n",
    "else:\n",
    "   print(\"en büyük sayı {}' dır.\".format(üçüncü_sayı))"
   ]
  },
  {
   "cell_type": "markdown",
   "metadata": {},
   "source": [
    "## Problem 3\n",
    "Kullanıcının girdiği vize1,vize2,final notlarına notlarına göre harf notunu hesaplayın.\n",
    "\n",
    "    Vize1 toplam notun %30'una etki edecek.\n",
    "\n",
    "    Vize2 toplam notun %30'una etki edecek.\n",
    "\n",
    "    Final toplam notun %40'ına etki edecek.\n",
    "\n",
    "\n",
    "    Toplam Not >=  90 -----> AA\n",
    "\n",
    "    Toplam Not >=  85 -----> BA\n",
    "\n",
    "    Toplam Not >=  80 -----> BB\n",
    "\n",
    "    Toplam Not >=  75 -----> CB\n",
    "\n",
    "    Toplam Not >=  70 -----> CC\n",
    "\n",
    "    Toplam Not >=  65 -----> DC\n",
    "\n",
    "    Toplam Not >=  60 -----> DD\n",
    "\n",
    "    Toplam Not >=  55 -----> FD\n",
    "\n",
    "    Toplam Not <  55 -----> FF"
   ]
  },
  {
   "cell_type": "code",
   "execution_count": 102,
   "metadata": {},
   "outputs": [
    {
     "name": "stdout",
     "output_type": "stream",
     "text": [
      "*************\n",
      "ÖĞRENCİ HARF NOTU HESAPLAMA PROGRAMI\n",
      "*************\n",
      "vize1 notunuzu girin: 45\n",
      "vize2 notunuzu girin: 45\n",
      "final notunuzu girin: 60\n",
      "yıllık not ortalaması:  51.0\n",
      "aldığınız harf derecesi:  FF\n"
     ]
    }
   ],
   "source": [
    "print(\"\"\"*************\n",
    "ÖĞRENCİ HARF NOTU HESAPLAMA PROGRAMI\n",
    "*************\"\"\")\n",
    "\n",
    "a = float(input(\"vize1 notunuzu girin: \"))\n",
    "b = float(input(\"vize2 notunuzu girin: \"))\n",
    "c = float(input(\"final notunuzu girin: \"))\n",
    "\n",
    "Toplam_not = a * 0.3 + b * 0.3 + c * 0.4\n",
    "print(\"yıllık not ortalaması: \",Toplam_not)\n",
    "\n",
    "if Toplam_not >= 90:\n",
    "    print(\"aldığınız harf derecesi: \",\"AA\")\n",
    "elif Toplam_not >= 85:\n",
    "    print(\"aldığınız harf derecesi: \",\"BA\")\n",
    "elif Toplam_not >= 80:\n",
    "    print(\"aldığınız harf derecesi: \",\"BB\")\n",
    "elif Toplam_not >= 75:\n",
    "    print(\"aldığınız harf derecesi: \",\"CB\")\n",
    "elif Toplam_not >= 70:\n",
    "    print(\"aldığınız harf derecesi: \",\"CC\")\n",
    "elif Toplam_not >= 65:\n",
    "    print(\"aldığınız harf derecesi: \",\"DC\")\n",
    "elif Toplam_not >= 60:\n",
    "    print(\"aldığınız harf derecesi: \",\"DD\")\n",
    "elif Toplam_not >= 55:\n",
    "    print(\"aldığınız harf derecesi: \",\"FD\")\n",
    "else:\n",
    "    print(\"aldığınız harf derecesi: \",\"FF\")"
   ]
  },
  {
   "cell_type": "markdown",
   "metadata": {},
   "source": [
    "## Problem 4\n",
    "Şimdi de geometrik şekil hesaplama işlemi yapalım. İlk olarak kullanıcıdan üçgenin mi dörtgenin mi tipini bulmak istediğini sorun.\n",
    "\n",
    "Eğer kullanıcı \"Dörtgen\" cevabını verirse , 4 tane kenar isteyip bu dörtgenin kare mi , dikdörtgen mi yoksa sıradan bir dörtgen mi olduğunu bulmaya çalışın.\n",
    "\n",
    "Eğer kullanıcı \"Üçgen\" cevabını verirse , 3 tane kenar isteyip bu üçgenin ikizkenar mı , eşkenar mı yoksa sıradan bir üçgen mi olduğunu bulmaya çalışın. Eğer verilen kenarlar bir üçgen belirtmiyorsa, ekrana \"Üçgen belirtmiyor\" şeklinde bir yazı yazın.o\n",
    "\n",
    "Üçgen belirtme şartını bilmiyorsunuz internetten bakabilirsiniz.\n",
    "\n",
    "Ayrıca , bu problemde mutlak değer bulmaya ihtiyacınız olacak. Bunun için, Pythonda hazır bir fonksiyon olan abs() fonksiyonunu kullanabilirsiniz. Kullanımı şu şekildedir ;"
   ]
  },
  {
   "cell_type": "code",
   "execution_count": 127,
   "metadata": {},
   "outputs": [
    {
     "name": "stdout",
     "output_type": "stream",
     "text": [
      "***********\n",
      "GEOMETRİK ŞEKİL HESAPLAMA PROGRAMI\n",
      "1.ÜÇGENİN TİPİNİ ÖĞRENMEK İSTİYORUM\n",
      "2.DÖRTGENİN TİPİNİ ÖĞRENMEK İSTİYORUM\n",
      "***********\n",
      "lütfen yapmak istediğiniz işlemi(1 ya da 2 olarak) giriniz: 2\n",
      "lütfen üçgenin birinci kenar uzunluğunu yazınız: 4\n",
      "lütfen üçgenin ikinci kenar uzunluğunu yazınız: 5\n",
      "lütfen üçgenin üçüncü kenar uzunluğunu yazınız: 6\n",
      "lütfen üçgenin dördüncü kenar uzunluğunu yazınız: 7\n",
      "DÖRTGEN...\n"
     ]
    }
   ],
   "source": [
    "print(\"\"\"***********\n",
    "GEOMETRİK ŞEKİL HESAPLAMA PROGRAMI\n",
    "1.ÜÇGENİN TİPİNİ ÖĞRENMEK İSTİYORUM\n",
    "2.DÖRTGENİN TİPİNİ ÖĞRENMEK İSTİYORUM\n",
    "***********\"\"\")\n",
    "işlem = input(\"lütfen yapmak istediğiniz işlemi(1 ya da 2 olarak) giriniz: \")\n",
    "\n",
    "if işlem == \"1\":\n",
    "    a = float(input(\"lütfen üçgenin birinci kenar uzunluğunu yazınız: \"))\n",
    "    b = float(input(\"lütfen üçgenin ikinci kenar uzunluğunu yazınız: \"))\n",
    "    c = float(input(\"lütfen üçgenin üçüncü kenar uzunluğunu yazınız: \"))\n",
    "    \n",
    "    if abs(a + b) > c and abs(a + c) > b and abs(b + c) > a:\n",
    "        if (a == b and a != c) or ( b == c and b != a ) or (a == c and a != b):\n",
    "            print(\"İKİZKENAR ÜÇGEN...\")\n",
    "        elif a == b and a == c:\n",
    "            print(\"EŞKENAR ÜÇGEN...\")\n",
    "        else:\n",
    "            print(\"ÇEŞİTKENAR ÜÇGEN...\")\n",
    "    else:\n",
    "        print(\"ÜÇGEN BELİRTMİYOR...\")\n",
    "\n",
    "elif işlem == \"2\":\n",
    "    a = float(input(\"lütfen üçgenin birinci kenar uzunluğunu yazınız: \"))\n",
    "    b = float(input(\"lütfen üçgenin ikinci kenar uzunluğunu yazınız: \"))\n",
    "    c = float(input(\"lütfen üçgenin üçüncü kenar uzunluğunu yazınız: \"))\n",
    "    d = float(input(\"lütfen üçgenin dördüncü kenar uzunluğunu yazınız: \"))\n",
    "    if a==b and a == c and a == d:\n",
    "        print(\"KARE...\")\n",
    "    elif (a == b and c == d and a != c) or (a == c and b == d and a != b) or (a == d and b == c and a != b):\n",
    "        print(\"DİKDÖRTGEN...\")\n",
    "    else:\n",
    "        print(\"DÖRTGEN...\")\n",
    "else:\n",
    "    print(\"GEÇERSİZ ŞEKİL...\")\n",
    "    \n"
   ]
  },
  {
   "cell_type": "markdown",
   "metadata": {},
   "source": [
    "## FOR DÖNGÜLERİ"
   ]
  },
  {
   "cell_type": "code",
   "execution_count": 128,
   "metadata": {},
   "outputs": [
    {
     "data": {
      "text/plain": [
       "True"
      ]
     },
     "execution_count": 128,
     "metadata": {},
     "output_type": "execute_result"
    }
   ],
   "source": [
    "1 in [1,2,3,4]"
   ]
  },
  {
   "cell_type": "code",
   "execution_count": 130,
   "metadata": {},
   "outputs": [
    {
     "data": {
      "text/plain": [
       "False"
      ]
     },
     "execution_count": 130,
     "metadata": {},
     "output_type": "execute_result"
    }
   ],
   "source": [
    "1 in [2,3,4,5]"
   ]
  },
  {
   "cell_type": "code",
   "execution_count": 131,
   "metadata": {},
   "outputs": [
    {
     "data": {
      "text/plain": [
       "True"
      ]
     },
     "execution_count": 131,
     "metadata": {},
     "output_type": "execute_result"
    }
   ],
   "source": [
    "\"p\" in \"python\""
   ]
  },
  {
   "cell_type": "code",
   "execution_count": 132,
   "metadata": {},
   "outputs": [
    {
     "data": {
      "text/plain": [
       "False"
      ]
     },
     "execution_count": 132,
     "metadata": {},
     "output_type": "execute_result"
    }
   ],
   "source": [
    "\"p\" in \"Python\""
   ]
  },
  {
   "cell_type": "code",
   "execution_count": 133,
   "metadata": {},
   "outputs": [
    {
     "data": {
      "text/plain": [
       "True"
      ]
     },
     "execution_count": 133,
     "metadata": {},
     "output_type": "execute_result"
    }
   ],
   "source": [
    "not  4 in (1,2,3)"
   ]
  },
  {
   "cell_type": "code",
   "execution_count": 134,
   "metadata": {},
   "outputs": [],
   "source": [
    "list = [1,2,3,4,5,6,7]"
   ]
  },
  {
   "cell_type": "code",
   "execution_count": 135,
   "metadata": {},
   "outputs": [
    {
     "name": "stdout",
     "output_type": "stream",
     "text": [
      "1\n",
      "2\n",
      "3\n",
      "4\n",
      "5\n",
      "6\n",
      "7\n"
     ]
    }
   ],
   "source": [
    "for i in list:\n",
    "    print(i)"
   ]
  },
  {
   "cell_type": "code",
   "execution_count": 137,
   "metadata": {},
   "outputs": [
    {
     "name": "stdout",
     "output_type": "stream",
     "text": [
      "toplam: 1 eleman: 1\n",
      "toplam: 3 eleman: 2\n",
      "toplam: 6 eleman: 3\n",
      "toplam: 10 eleman: 4\n",
      "toplam: 15 eleman: 5\n",
      "toplam: 21 eleman: 6\n",
      "toplam: 28 eleman: 7\n",
      "28\n"
     ]
    }
   ],
   "source": [
    "toplam = 0\n",
    "list = [1,2,3,4,5,6,7]\n",
    "\n",
    "for eleman in list:\n",
    "    toplam = toplam + eleman\n",
    "    print(\"toplam: {} eleman: {}\".format(toplam,eleman))\n",
    "print(toplam)"
   ]
  },
  {
   "cell_type": "code",
   "execution_count": 138,
   "metadata": {},
   "outputs": [
    {
     "data": {
      "text/plain": [
       "0"
      ]
     },
     "execution_count": 138,
     "metadata": {},
     "output_type": "execute_result"
    }
   ],
   "source": [
    "54 % 2"
   ]
  },
  {
   "cell_type": "code",
   "execution_count": 139,
   "metadata": {},
   "outputs": [
    {
     "data": {
      "text/plain": [
       "0"
      ]
     },
     "execution_count": 139,
     "metadata": {},
     "output_type": "execute_result"
    }
   ],
   "source": [
    "54 % 9"
   ]
  },
  {
   "cell_type": "code",
   "execution_count": 140,
   "metadata": {},
   "outputs": [
    {
     "data": {
      "text/plain": [
       "2"
      ]
     },
     "execution_count": 140,
     "metadata": {},
     "output_type": "execute_result"
    }
   ],
   "source": [
    "54 % 13"
   ]
  },
  {
   "cell_type": "code",
   "execution_count": 141,
   "metadata": {},
   "outputs": [
    {
     "name": "stdout",
     "output_type": "stream",
     "text": [
      "2\n",
      "54\n",
      "98\n",
      "118\n",
      "208\n"
     ]
    }
   ],
   "source": [
    "liste = [1,2,3,5,54,98,118,208]\n",
    "\n",
    "for i in liste:\n",
    "    if (i % 2) == 0:\n",
    "        print(i)"
   ]
  },
  {
   "cell_type": "code",
   "execution_count": 143,
   "metadata": {},
   "outputs": [
    {
     "name": "stdout",
     "output_type": "stream",
     "text": [
      "p\n",
      "y\n",
      "t\n",
      "h\n",
      "o\n",
      "n\n"
     ]
    }
   ],
   "source": [
    "s = \"python\"\n",
    "\n",
    "for i in s:\n",
    "    print(i)"
   ]
  },
  {
   "cell_type": "code",
   "execution_count": 144,
   "metadata": {},
   "outputs": [
    {
     "name": "stdout",
     "output_type": "stream",
     "text": [
      "ppp\n",
      "yyy\n",
      "ttt\n",
      "hhh\n",
      "ooo\n",
      "nnn\n"
     ]
    }
   ],
   "source": [
    "s = \"python\"\n",
    "\n",
    "for i in s:\n",
    "    print(i*3)"
   ]
  },
  {
   "cell_type": "code",
   "execution_count": 145,
   "metadata": {},
   "outputs": [
    {
     "name": "stdout",
     "output_type": "stream",
     "text": [
      "1\n",
      "2\n",
      "3\n",
      "4\n",
      "5\n"
     ]
    }
   ],
   "source": [
    "demet = (1,2,3,4,5)\n",
    "\n",
    "for i in demet:\n",
    "    print(i)"
   ]
  },
  {
   "cell_type": "code",
   "execution_count": 146,
   "metadata": {},
   "outputs": [
    {
     "name": "stdout",
     "output_type": "stream",
     "text": [
      "(1, 2)\n",
      "(3, 4)\n",
      "(5, 6)\n",
      "(7, 8)\n"
     ]
    }
   ],
   "source": [
    "liste = [(1,2),(3,4),(5,6),(7,8)]\n",
    "for a in liste:\n",
    "    print(a)"
   ]
  },
  {
   "cell_type": "code",
   "execution_count": 147,
   "metadata": {},
   "outputs": [
    {
     "name": "stdout",
     "output_type": "stream",
     "text": [
      "a: 1 b: 2\n",
      "a: 3 b: 4\n",
      "a: 5 b: 6\n",
      "a: 7 b: 8\n"
     ]
    }
   ],
   "source": [
    "liste = [(1,2),(3,4),(5,6),(7,8)]\n",
    "for a,b in liste:\n",
    "    print(\"a: {} b: {}\".format(a,b))"
   ]
  },
  {
   "cell_type": "code",
   "execution_count": 148,
   "metadata": {},
   "outputs": [
    {
     "name": "stdout",
     "output_type": "stream",
     "text": [
      "1 2\n",
      "3 4\n",
      "5 6\n",
      "7 8\n"
     ]
    }
   ],
   "source": [
    "liste = [(1,2),(3,4),(5,6),(7,8)]\n",
    "for a,b in liste:\n",
    "    print(a,b)"
   ]
  },
  {
   "cell_type": "code",
   "execution_count": 149,
   "metadata": {},
   "outputs": [
    {
     "name": "stdout",
     "output_type": "stream",
     "text": [
      "a: 1\n",
      "b: 2\n",
      "a: 3\n",
      "b: 4\n",
      "a: 5\n",
      "b: 6\n",
      "a: 7\n",
      "b: 8\n"
     ]
    }
   ],
   "source": [
    "liste = [(1,2),(3,4),(5,6),(7,8)]\n",
    "for a,b in liste:\n",
    "    print(\"a: {}\\nb: {}\".format(a,b))"
   ]
  },
  {
   "cell_type": "code",
   "execution_count": 152,
   "metadata": {},
   "outputs": [
    {
     "name": "stdout",
     "output_type": "stream",
     "text": [
      "1\n",
      "2\n",
      "3\n",
      "4\n",
      "5\n",
      "6\n",
      "7\n",
      "8\n"
     ]
    }
   ],
   "source": [
    "liste = [(1,2),(3,4),(5,6),(7,8)]\n",
    "for a,b in liste:\n",
    "    print(\"{}\\n{}\".format(a,b))"
   ]
  },
  {
   "cell_type": "code",
   "execution_count": 153,
   "metadata": {},
   "outputs": [
    {
     "name": "stdout",
     "output_type": "stream",
     "text": [
      "1 2 10\n",
      "3 4 11\n",
      "5 6 12\n",
      "7 8 14\n"
     ]
    }
   ],
   "source": [
    "liste = [(1,2,10),(3,4,11),(5,6,12),(7,8,14)]\n",
    "\n",
    "for i,j,k in liste:\n",
    "    print(i,j,k)"
   ]
  },
  {
   "cell_type": "code",
   "execution_count": 154,
   "metadata": {},
   "outputs": [
    {
     "name": "stdout",
     "output_type": "stream",
     "text": [
      "1\n",
      "2\n",
      "10\n",
      "3\n",
      "4\n",
      "11\n",
      "5\n",
      "6\n",
      "12\n",
      "7\n",
      "8\n",
      "14\n"
     ]
    }
   ],
   "source": [
    "liste = [(1,2,10),(3,4,11),(5,6,12),(7,8,14)]\n",
    "\n",
    "for i,j,k in liste:\n",
    "    print(\"{}\\n{}\\n{}\".format(i,j,k))"
   ]
  },
  {
   "cell_type": "code",
   "execution_count": 155,
   "metadata": {},
   "outputs": [
    {
     "name": "stdout",
     "output_type": "stream",
     "text": [
      "20\n",
      "132\n",
      "360\n",
      "784\n"
     ]
    }
   ],
   "source": [
    "liste = [(1,2,10),(3,4,11),(5,6,12),(7,8,14)]\n",
    "\n",
    "for i,j,k in liste:\n",
    "    print(i * j * k)"
   ]
  },
  {
   "cell_type": "code",
   "execution_count": 156,
   "metadata": {},
   "outputs": [
    {
     "name": "stdout",
     "output_type": "stream",
     "text": [
      "bir\n",
      "iki\n",
      "üç\n",
      "dört\n"
     ]
    }
   ],
   "source": [
    "d = {\"bir\":1,\"iki\":2,\"üç\":3,\"dört\":4}\n",
    "for i in d:\n",
    "    print(i)"
   ]
  },
  {
   "cell_type": "code",
   "execution_count": 160,
   "metadata": {},
   "outputs": [
    {
     "name": "stdout",
     "output_type": "stream",
     "text": [
      "bir\n",
      "iki\n",
      "üç\n",
      "dört\n"
     ]
    }
   ],
   "source": [
    "d = {\"bir\":1,\"iki\":2,\"üç\":3,\"dört\":4}\n",
    "\n",
    "for i in d.keys():\n",
    "    print(i)"
   ]
  },
  {
   "cell_type": "code",
   "execution_count": 161,
   "metadata": {},
   "outputs": [
    {
     "name": "stdout",
     "output_type": "stream",
     "text": [
      "1\n",
      "2\n",
      "3\n",
      "4\n"
     ]
    }
   ],
   "source": [
    "d = {\"bir\":1,\"iki\":2,\"üç\":3,\"dört\":4}\n",
    "\n",
    "for i in d.values():\n",
    "    print(i)"
   ]
  },
  {
   "cell_type": "code",
   "execution_count": 162,
   "metadata": {},
   "outputs": [
    {
     "name": "stdout",
     "output_type": "stream",
     "text": [
      "('bir', 1)\n",
      "('iki', 2)\n",
      "('üç', 3)\n",
      "('dört', 4)\n"
     ]
    }
   ],
   "source": [
    "d = {\"bir\":1,\"iki\":2,\"üç\":3,\"dört\":4}\n",
    "\n",
    "for i in d.items():\n",
    "    print(i)"
   ]
  },
  {
   "cell_type": "code",
   "execution_count": 163,
   "metadata": {},
   "outputs": [
    {
     "name": "stdout",
     "output_type": "stream",
     "text": [
      "bir 1\n",
      "iki 2\n",
      "üç 3\n",
      "dört 4\n"
     ]
    }
   ],
   "source": [
    "d = {\"bir\":1,\"iki\":2,\"üç\":3,\"dört\":4}\n",
    "\n",
    "for i,j in d.items():\n",
    "    print(i,j)"
   ]
  },
  {
   "cell_type": "code",
   "execution_count": 164,
   "metadata": {},
   "outputs": [
    {
     "name": "stdout",
     "output_type": "stream",
     "text": [
      "i:bir j:1\n",
      "i:iki j:2\n",
      "i:üç j:3\n",
      "i:dört j:4\n"
     ]
    }
   ],
   "source": [
    "d = {\"bir\":1,\"iki\":2,\"üç\":3,\"dört\":4}\n",
    "\n",
    "for i,j in d.items():\n",
    "    print(\"i:{} j:{}\".format(i,j))"
   ]
  },
  {
   "cell_type": "markdown",
   "metadata": {},
   "source": [
    "## WHILE DÖNGÜSÜ"
   ]
  },
  {
   "cell_type": "code",
   "execution_count": 1,
   "metadata": {},
   "outputs": [
    {
     "name": "stdout",
     "output_type": "stream",
     "text": [
      "i nin değeri 0\n",
      "i nin değeri 1\n",
      "i nin değeri 2\n",
      "i nin değeri 3\n",
      "i nin değeri 4\n",
      "i nin değeri 5\n",
      "i nin değeri 6\n",
      "i nin değeri 7\n",
      "i nin değeri 8\n",
      "i nin değeri 9\n"
     ]
    }
   ],
   "source": [
    "i = 0\n",
    "while(i < 10):\n",
    "    print(\"i nin değeri\",i)\n",
    "    i += 1\n"
   ]
  },
  {
   "cell_type": "code",
   "execution_count": 4,
   "metadata": {},
   "outputs": [
    {
     "name": "stdout",
     "output_type": "stream",
     "text": [
      "0\n",
      "2\n",
      "4\n",
      "6\n",
      "8\n",
      "10\n",
      "12\n",
      "14\n",
      "16\n",
      "18\n"
     ]
    }
   ],
   "source": [
    "i = 0\n",
    "\n",
    "while(i < 20):\n",
    "    print(i)\n",
    "    i += 2"
   ]
  },
  {
   "cell_type": "code",
   "execution_count": 6,
   "metadata": {},
   "outputs": [
    {
     "name": "stdout",
     "output_type": "stream",
     "text": [
      "python öğreniyorum\n",
      "python öğreniyorum\n",
      "python öğreniyorum\n",
      "python öğreniyorum\n",
      "python öğreniyorum\n",
      "python öğreniyorum\n",
      "python öğreniyorum\n",
      "python öğreniyorum\n",
      "python öğreniyorum\n",
      "python öğreniyorum\n",
      "python öğreniyorum\n",
      "python öğreniyorum\n",
      "python öğreniyorum\n",
      "python öğreniyorum\n",
      "python öğreniyorum\n",
      "python öğreniyorum\n",
      "python öğreniyorum\n",
      "python öğreniyorum\n",
      "python öğreniyorum\n",
      "python öğreniyorum\n"
     ]
    }
   ],
   "source": [
    "a = 0\n",
    "\n",
    "while(a<20):\n",
    "    print(\"python öğreniyorum\")\n",
    "    a += 1"
   ]
  },
  {
   "cell_type": "code",
   "execution_count": 7,
   "metadata": {},
   "outputs": [
    {
     "name": "stdout",
     "output_type": "stream",
     "text": [
      "1\n",
      "2\n",
      "3\n",
      "4\n",
      "5\n"
     ]
    }
   ],
   "source": [
    "l = [1,2,3,4,5]\n",
    "\n",
    "for i in l:\n",
    "    print(i)"
   ]
  },
  {
   "cell_type": "code",
   "execution_count": 12,
   "metadata": {},
   "outputs": [
    {
     "name": "stdout",
     "output_type": "stream",
     "text": [
      "1\n",
      "2\n",
      "3\n",
      "4\n",
      "5\n"
     ]
    }
   ],
   "source": [
    "l = [1,2,3,4,5]\n",
    "\n",
    "a = 0\n",
    "while(a < len(l)):\n",
    "    print(l[a])\n",
    "    a += 1"
   ]
  },
  {
   "cell_type": "code",
   "execution_count": 9,
   "metadata": {},
   "outputs": [
    {
     "data": {
      "text/plain": [
       "5"
      ]
     },
     "execution_count": 9,
     "metadata": {},
     "output_type": "execute_result"
    }
   ],
   "source": [
    "len(l)"
   ]
  },
  {
   "cell_type": "code",
   "execution_count": 14,
   "metadata": {},
   "outputs": [
    {
     "name": "stdout",
     "output_type": "stream",
     "text": [
      "index:  0 eleman:  1\n",
      "index:  1 eleman:  2\n",
      "index:  2 eleman:  3\n",
      "index:  3 eleman:  4\n",
      "index:  4 eleman:  5\n"
     ]
    }
   ],
   "source": [
    "l = [1,2,3,4,5]\n",
    "\n",
    "a = 0\n",
    "while(a < len(l)):\n",
    "    print(\"index: \",a,\"eleman: \",l[a])\n",
    "    a += 1"
   ]
  },
  {
   "cell_type": "markdown",
   "metadata": {},
   "source": [
    "## RANGE FONKSİYONU"
   ]
  },
  {
   "cell_type": "code",
   "execution_count": 15,
   "metadata": {},
   "outputs": [
    {
     "data": {
      "text/plain": [
       "range(0, 20)"
      ]
     },
     "execution_count": 15,
     "metadata": {},
     "output_type": "execute_result"
    }
   ],
   "source": [
    "range(0,20)"
   ]
  },
  {
   "cell_type": "code",
   "execution_count": 16,
   "metadata": {},
   "outputs": [
    {
     "name": "stdout",
     "output_type": "stream",
     "text": [
      "0 1 2 3 4 5 6 7 8 9 10 11 12 13 14 15 16 17 18 19\n"
     ]
    }
   ],
   "source": [
    "print(*range(0,20))"
   ]
  },
  {
   "cell_type": "code",
   "execution_count": 17,
   "metadata": {},
   "outputs": [
    {
     "name": "stdout",
     "output_type": "stream",
     "text": [
      "0 1 2 3 4 5 6 7 8 9 10 11 12 13 14 15 16 17 18 19 20 21 22 23 24 25 26 27 28 29 30 31 32 33 34 35 36 37 38 39 40 41 42 43 44 45 46 47 48 49 50 51 52 53 54 55 56 57 58 59 60 61 62 63 64 65 66 67 68 69 70 71 72 73 74 75 76 77 78 79 80 81 82 83 84 85 86 87 88 89 90 91 92 93 94 95 96 97 98 99\n"
     ]
    }
   ],
   "source": [
    "print(*range(0,100))"
   ]
  },
  {
   "cell_type": "code",
   "execution_count": 18,
   "metadata": {},
   "outputs": [
    {
     "name": "stdout",
     "output_type": "stream",
     "text": [
      "1 2 3 4 5 6 7 8 9 10 11 12 13 14 15 16 17 18 19\n"
     ]
    }
   ],
   "source": [
    "print(*range(1,20))"
   ]
  },
  {
   "cell_type": "code",
   "execution_count": 19,
   "metadata": {},
   "outputs": [
    {
     "name": "stdout",
     "output_type": "stream",
     "text": [
      "0 1 2 3 4 5 6 7 8 9 10 11 12 13 14 15 16 17 18 19\n"
     ]
    }
   ],
   "source": [
    "print(*range(20))"
   ]
  },
  {
   "cell_type": "code",
   "execution_count": 20,
   "metadata": {},
   "outputs": [
    {
     "name": "stdout",
     "output_type": "stream",
     "text": [
      "1 3 5 7 9 11 13 15 17 19 21 23 25 27 29 31 33 35 37 39 41 43 45 47 49 51 53 55 57 59 61 63 65 67 69 71 73 75 77 79 81 83 85 87 89 91 93 95 97 99\n"
     ]
    }
   ],
   "source": [
    "print(*range(1,100,2))"
   ]
  },
  {
   "cell_type": "code",
   "execution_count": 27,
   "metadata": {},
   "outputs": [
    {
     "name": "stdout",
     "output_type": "stream",
     "text": [
      "0 12 24 36 48 60 72 84 96\n"
     ]
    }
   ],
   "source": [
    "print(*range(0,101,12))"
   ]
  },
  {
   "cell_type": "code",
   "execution_count": 28,
   "metadata": {},
   "outputs": [
    {
     "name": "stdout",
     "output_type": "stream",
     "text": [
      "5 10 15 20 25 30 35 40 45 50 55 60 65 70 75 80 85 90 95 100\n"
     ]
    }
   ],
   "source": [
    "print(*range(5,101,5))"
   ]
  },
  {
   "cell_type": "code",
   "execution_count": 29,
   "metadata": {},
   "outputs": [
    {
     "name": "stdout",
     "output_type": "stream",
     "text": [
      "100 99 98 97 96 95 94 93 92 91 90 89 88 87 86 85 84 83 82 81 80 79 78 77 76 75 74 73 72 71 70 69 68 67 66 65 64 63 62 61 60 59 58 57 56 55 54 53 52 51 50 49 48 47 46 45 44 43 42 41 40 39 38 37 36 35 34 33 32 31 30 29 28 27 26 25 24 23 22 21 20 19 18 17 16 15 14 13 12 11 10 9 8 7 6\n"
     ]
    }
   ],
   "source": [
    "print(*range(100,5,-1))"
   ]
  },
  {
   "cell_type": "code",
   "execution_count": 33,
   "metadata": {},
   "outputs": [
    {
     "name": "stdout",
     "output_type": "stream",
     "text": [
      "100 95 90 85 80 75 70 65 60 55 50 45 40 35 30 25 20 15 10 5 0 -5\n"
     ]
    }
   ],
   "source": [
    "print(*range(100,-10,-5))"
   ]
  },
  {
   "cell_type": "code",
   "execution_count": 34,
   "metadata": {},
   "outputs": [
    {
     "name": "stdout",
     "output_type": "stream",
     "text": [
      "1\n",
      "2\n",
      "3\n",
      "4\n",
      "5\n",
      "6\n",
      "7\n",
      "8\n",
      "9\n",
      "10\n",
      "11\n",
      "12\n",
      "13\n",
      "14\n",
      "15\n",
      "16\n",
      "17\n",
      "18\n",
      "19\n",
      "20\n",
      "21\n",
      "22\n",
      "23\n",
      "24\n",
      "25\n",
      "26\n",
      "27\n",
      "28\n",
      "29\n",
      "30\n",
      "31\n",
      "32\n",
      "33\n",
      "34\n",
      "35\n",
      "36\n",
      "37\n",
      "38\n",
      "39\n",
      "40\n",
      "41\n",
      "42\n",
      "43\n",
      "44\n",
      "45\n",
      "46\n",
      "47\n",
      "48\n",
      "49\n",
      "50\n",
      "51\n",
      "52\n",
      "53\n",
      "54\n",
      "55\n",
      "56\n",
      "57\n",
      "58\n",
      "59\n",
      "60\n",
      "61\n",
      "62\n",
      "63\n",
      "64\n",
      "65\n",
      "66\n",
      "67\n",
      "68\n",
      "69\n",
      "70\n",
      "71\n",
      "72\n",
      "73\n",
      "74\n",
      "75\n",
      "76\n",
      "77\n",
      "78\n",
      "79\n",
      "80\n",
      "81\n",
      "82\n",
      "83\n",
      "84\n",
      "85\n",
      "86\n",
      "87\n",
      "88\n",
      "89\n",
      "90\n",
      "91\n",
      "92\n",
      "93\n",
      "94\n",
      "95\n",
      "96\n",
      "97\n",
      "98\n",
      "99\n",
      "100\n"
     ]
    }
   ],
   "source": [
    "for i in range(1,101):\n",
    "    print(i)"
   ]
  },
  {
   "cell_type": "code",
   "execution_count": 35,
   "metadata": {},
   "outputs": [
    {
     "name": "stdout",
     "output_type": "stream",
     "text": [
      "* \n",
      "* * \n",
      "* * * \n",
      "* * * * \n",
      "* * * * * \n",
      "* * * * * * \n",
      "* * * * * * * \n",
      "* * * * * * * * \n",
      "* * * * * * * * * \n",
      "* * * * * * * * * * \n"
     ]
    }
   ],
   "source": [
    "for i in range(1,11):\n",
    "    print(\"* \" * i)"
   ]
  },
  {
   "cell_type": "markdown",
   "metadata": {},
   "source": [
    "## BREAK AND CONTINUE"
   ]
  },
  {
   "cell_type": "code",
   "execution_count": 36,
   "metadata": {},
   "outputs": [
    {
     "name": "stdout",
     "output_type": "stream",
     "text": [
      "0\n",
      "1\n",
      "2\n",
      "3\n",
      "4\n",
      "5\n",
      "6\n",
      "7\n",
      "8\n",
      "9\n"
     ]
    }
   ],
   "source": [
    "i = 0\n",
    "\n",
    "while(i < 10):\n",
    "    print(i)\n",
    "    i += 1"
   ]
  },
  {
   "cell_type": "code",
   "execution_count": 37,
   "metadata": {},
   "outputs": [
    {
     "name": "stdout",
     "output_type": "stream",
     "text": [
      "0\n",
      "1\n",
      "2\n",
      "3\n",
      "4\n"
     ]
    }
   ],
   "source": [
    "i = 0\n",
    "\n",
    "while(i < 10):\n",
    "    if i == 5:\n",
    "        break\n",
    "    print(i)\n",
    "    i += 1"
   ]
  },
  {
   "cell_type": "code",
   "execution_count": 39,
   "metadata": {},
   "outputs": [
    {
     "name": "stdout",
     "output_type": "stream",
     "text": [
      "0\n",
      "1\n",
      "2\n",
      "3\n",
      "4\n"
     ]
    }
   ],
   "source": [
    "for i in range(10):\n",
    "    if i ==5:\n",
    "        break\n",
    "    print(i)"
   ]
  },
  {
   "cell_type": "code",
   "execution_count": 43,
   "metadata": {},
   "outputs": [
    {
     "name": "stdout",
     "output_type": "stream",
     "text": [
      "isminizi girin(çıkmak için q a basın): adem\n",
      "isminizi girin(çıkmak için q a basın): q\n",
      "çıkış yapılıyor...\n",
      "q\n"
     ]
    }
   ],
   "source": [
    "while True:#sonsuz döngü\n",
    "    isim = input(\"isminizi girin(çıkmak için q a basın): \")\n",
    "    if isim == \"q\":\n",
    "        print(\"çıkış yapılıyor...\")\n",
    "        break\n",
    "print(isim)\n",
    "    "
   ]
  },
  {
   "cell_type": "code",
   "execution_count": 44,
   "metadata": {},
   "outputs": [
    {
     "name": "stdout",
     "output_type": "stream",
     "text": [
      "isminizi girin(çıkmak için q a basın): adem\n",
      "isminizi girin(çıkmak için q a basın): q\n",
      "çıkış yapılıyor...\n"
     ]
    }
   ],
   "source": [
    "while True:#sonsuz döngü\n",
    "    isim = input(\"isminizi girin(çıkmak için q a basın): \")\n",
    "    if isim == \"q\":\n",
    "        print(\"çıkış yapılıyor...\")\n",
    "        break\n",
    "        print(isim)"
   ]
  },
  {
   "cell_type": "code",
   "execution_count": 45,
   "metadata": {},
   "outputs": [],
   "source": [
    "## CONTINUE"
   ]
  },
  {
   "cell_type": "code",
   "execution_count": 48,
   "metadata": {},
   "outputs": [
    {
     "name": "stdout",
     "output_type": "stream",
     "text": [
      "0 1 2 3 4 5 6 7 8 9 10\n"
     ]
    }
   ],
   "source": [
    "l = range(11)\n",
    "print(*l)"
   ]
  },
  {
   "cell_type": "code",
   "execution_count": 49,
   "metadata": {},
   "outputs": [
    {
     "data": {
      "text/plain": [
       "[0, 1, 2, 3, 4, 5, 6, 7, 8, 9, 10]"
      ]
     },
     "execution_count": 49,
     "metadata": {},
     "output_type": "execute_result"
    }
   ],
   "source": [
    "l = list(range(11))\n",
    "l"
   ]
  },
  {
   "cell_type": "code",
   "execution_count": 50,
   "metadata": {},
   "outputs": [
    {
     "name": "stdout",
     "output_type": "stream",
     "text": [
      "0\n",
      "1\n",
      "2\n",
      "3\n",
      "4\n",
      "5\n",
      "6\n",
      "7\n",
      "8\n",
      "9\n",
      "10\n"
     ]
    }
   ],
   "source": [
    "for i in l:\n",
    "    print(i)"
   ]
  },
  {
   "cell_type": "code",
   "execution_count": 52,
   "metadata": {},
   "outputs": [
    {
     "name": "stdout",
     "output_type": "stream",
     "text": [
      "0\n",
      "1\n",
      "2\n",
      "4\n",
      "6\n",
      "7\n",
      "8\n",
      "9\n",
      "10\n"
     ]
    }
   ],
   "source": [
    "for i in l:\n",
    "    if i == 5 or i == 3:\n",
    "        continue\n",
    "    print(i)"
   ]
  },
  {
   "cell_type": "code",
   "execution_count": 53,
   "metadata": {},
   "outputs": [
    {
     "name": "stdout",
     "output_type": "stream",
     "text": [
      "0\n",
      "1\n",
      "2\n",
      "3\n",
      "4\n",
      "5\n",
      "6\n",
      "7\n",
      "8\n",
      "9\n",
      "10\n"
     ]
    }
   ],
   "source": [
    "for i in l:\n",
    "    if i == 5 and i == 3:## and e dikkat\n",
    "        continue\n",
    "    print(i)"
   ]
  },
  {
   "cell_type": "code",
   "execution_count": null,
   "metadata": {},
   "outputs": [],
   "source": [
    "i = 0\n",
    "\n",
    "while(i < 10):\n",
    "    if i == 2:\n",
    "        #continue\n",
    "    print(i)\n",
    "    i += 1\n",
    "### bu kodu çalıştırdığımızda döngü sonsuz döngüye girer çünkü continue dan sonraki satırlar çalışmayacağı için sürekli 2 yi döndürür."
   ]
  },
  {
   "cell_type": "code",
   "execution_count": 56,
   "metadata": {},
   "outputs": [
    {
     "name": "stdout",
     "output_type": "stream",
     "text": [
      "0\n",
      "1\n",
      "3\n",
      "4\n",
      "5\n",
      "6\n",
      "7\n",
      "8\n",
      "9\n"
     ]
    }
   ],
   "source": [
    "i = 0\n",
    "\n",
    "while(i < 10):\n",
    "    if i == 2:\n",
    "        i += 1\n",
    "        continue\n",
    "    print(i)\n",
    "    i += 1"
   ]
  },
  {
   "cell_type": "markdown",
   "metadata": {},
   "source": [
    "## LIST COMPREHENSION"
   ]
  },
  {
   "cell_type": "code",
   "execution_count": 57,
   "metadata": {},
   "outputs": [],
   "source": [
    "l = [1,2,3,4]\n",
    "l.append(5)"
   ]
  },
  {
   "cell_type": "code",
   "execution_count": 58,
   "metadata": {},
   "outputs": [
    {
     "data": {
      "text/plain": [
       "[1, 2, 3, 4, 5]"
      ]
     },
     "execution_count": 58,
     "metadata": {},
     "output_type": "execute_result"
    }
   ],
   "source": [
    "l"
   ]
  },
  {
   "cell_type": "code",
   "execution_count": 59,
   "metadata": {},
   "outputs": [],
   "source": [
    "l1 = []"
   ]
  },
  {
   "cell_type": "code",
   "execution_count": 60,
   "metadata": {},
   "outputs": [
    {
     "name": "stdout",
     "output_type": "stream",
     "text": [
      "[1]\n",
      "[1, 2]\n",
      "[1, 2, 3]\n",
      "[1, 2, 3, 4]\n",
      "[1, 2, 3, 4, 5]\n"
     ]
    }
   ],
   "source": [
    "for i in l:\n",
    "    l1.append(i)\n",
    "    print(l1)"
   ]
  },
  {
   "cell_type": "code",
   "execution_count": 61,
   "metadata": {},
   "outputs": [
    {
     "data": {
      "text/plain": [
       "[1, 2, 3, 4, 5]"
      ]
     },
     "execution_count": 61,
     "metadata": {},
     "output_type": "execute_result"
    }
   ],
   "source": [
    "l1"
   ]
  },
  {
   "cell_type": "code",
   "execution_count": 62,
   "metadata": {},
   "outputs": [
    {
     "data": {
      "text/plain": [
       "[1, 2, 3, 4, 5]"
      ]
     },
     "execution_count": 62,
     "metadata": {},
     "output_type": "execute_result"
    }
   ],
   "source": [
    "l"
   ]
  },
  {
   "cell_type": "code",
   "execution_count": 63,
   "metadata": {},
   "outputs": [],
   "source": [
    "l3 = [1,2,3,4,5]\n",
    "l4 = [i for i in l3]"
   ]
  },
  {
   "cell_type": "code",
   "execution_count": 64,
   "metadata": {},
   "outputs": [
    {
     "data": {
      "text/plain": [
       "[1, 2, 3, 4, 5]"
      ]
     },
     "execution_count": 64,
     "metadata": {},
     "output_type": "execute_result"
    }
   ],
   "source": [
    "l4"
   ]
  },
  {
   "cell_type": "code",
   "execution_count": 65,
   "metadata": {},
   "outputs": [
    {
     "data": {
      "text/plain": [
       "[3, 4, 5]"
      ]
     },
     "execution_count": 65,
     "metadata": {},
     "output_type": "execute_result"
    }
   ],
   "source": [
    "l = [3,4,5]\n",
    "l1 = [i for i in l]\n",
    "l1"
   ]
  },
  {
   "cell_type": "code",
   "execution_count": 66,
   "metadata": {},
   "outputs": [
    {
     "data": {
      "text/plain": [
       "[9, 12, 15]"
      ]
     },
     "execution_count": 66,
     "metadata": {},
     "output_type": "execute_result"
    }
   ],
   "source": [
    "l = [3,4,5]\n",
    "l1 = [i * 3 for i in l]\n",
    "l1"
   ]
  },
  {
   "cell_type": "code",
   "execution_count": 68,
   "metadata": {},
   "outputs": [
    {
     "data": {
      "text/plain": [
       "[2, 12, 30]"
      ]
     },
     "execution_count": 68,
     "metadata": {},
     "output_type": "execute_result"
    }
   ],
   "source": [
    "l = [(1,2),(3,4),(5,6)]\n",
    "l1 = [i*j for i,j in l]\n",
    "l1"
   ]
  },
  {
   "cell_type": "code",
   "execution_count": 69,
   "metadata": {},
   "outputs": [
    {
     "data": {
      "text/plain": [
       "['ppp', 'yyy', 'ttt', 'hhh', 'ooo', 'nnn']"
      ]
     },
     "execution_count": 69,
     "metadata": {},
     "output_type": "execute_result"
    }
   ],
   "source": [
    "s = \"python\"\n",
    "\n",
    "l = [i * 3 for i in s]\n",
    "l"
   ]
  },
  {
   "cell_type": "code",
   "execution_count": 75,
   "metadata": {},
   "outputs": [
    {
     "name": "stdout",
     "output_type": "stream",
     "text": [
      "1\n",
      "2\n",
      "3\n",
      "4\n",
      "5\n",
      "6\n",
      "7\n",
      "8\n",
      "9\n",
      "10\n",
      "11\n",
      "12\n",
      "13\n",
      "14\n",
      "15\n"
     ]
    }
   ],
   "source": [
    "l = [[1,2,3],[4,5,6,7,8],[9,10,11,12,13,14,15]]\n",
    "\n",
    "for i in l:\n",
    "    for x in i:\n",
    "        print(x)"
   ]
  },
  {
   "cell_type": "code",
   "execution_count": 78,
   "metadata": {},
   "outputs": [
    {
     "name": "stdout",
     "output_type": "stream",
     "text": [
      "[1, 2, 3, 4, 5, 6, 7, 8, 9, 10, 11, 12, 13, 14, 15]\n"
     ]
    }
   ],
   "source": [
    "l = [[1,2,3],[4,5,6,7,8],[9,10,11,12,13,14,15]]\n",
    "l1 = []\n",
    "\n",
    "for i in l:\n",
    "    for x in i:\n",
    "        l1.append(x)\n",
    "print(l1)"
   ]
  },
  {
   "cell_type": "code",
   "execution_count": 85,
   "metadata": {},
   "outputs": [
    {
     "data": {
      "text/plain": [
       "[1, 2, 3, 4, 5, 6, 7, 8, 9, 10, 11, 12, 13, 14, 15]"
      ]
     },
     "execution_count": 85,
     "metadata": {},
     "output_type": "execute_result"
    }
   ],
   "source": [
    "l = [[1,2,3],[4,5,6,7,8],[9,10,11,12,13,14,15]]\n",
    "l1=[x for i in l for x in i]\n",
    "l1"
   ]
  },
  {
   "cell_type": "markdown",
   "metadata": {},
   "source": [
    "## KULLANICI GİRİŞİ WHILE DÖNGÜSÜ"
   ]
  },
  {
   "cell_type": "code",
   "execution_count": 100,
   "metadata": {},
   "outputs": [
    {
     "name": "stdout",
     "output_type": "stream",
     "text": [
      "**************************\n",
      "KULLANICI GİRİŞİ PROGRAMI\n",
      "**************************\n",
      "lütfen kullanıcı adınızı girin: edmbkrc\n",
      "lütfen parolanızı girin: 12\n",
      "parolanızı dogru giriniz...\n",
      "Giriş Hakkı:  2\n",
      "lütfen kullanıcı adınızı girin: dsds\n",
      "lütfen parolanızı girin: 12345\n",
      "Doğru kullanıcı adı girin...\n",
      "Giriş Hakkı:  1\n",
      "lütfen kullanıcı adınızı girin: edd\n",
      "lütfen parolanızı girin: 15\n",
      "kullanıcı adı ve parola hatalı...\n",
      "Giriş Hakkı:  0\n",
      "giriş hakkınız bitmiştir...\n"
     ]
    }
   ],
   "source": [
    "print(\"\"\"**************************\n",
    "KULLANICI GİRİŞİ PROGRAMI\n",
    "**************************\"\"\")\n",
    "\n",
    "sys_kullanıcı_adı = \"edmbkrc\"\n",
    "sys_parola = \"12345\"\n",
    "\n",
    "giriş_hakkı = 3\n",
    "\n",
    "while True:\n",
    "    kullanıcı_adı = input(\"lütfen kullanıcı adınızı girin: \")\n",
    "    parola = input(\"lütfen parolanızı girin: \")\n",
    "    if kullanıcı_adı != sys_kullanıcı_adı and parola != sys_parola:\n",
    "        print(\"kullanıcı adı ve parola hatalı...\")\n",
    "        giriş_hakkı -= 1\n",
    "        print(\"Giriş Hakkı: \", giriş_hakkı)\n",
    "    elif kullanıcı_adı == sys_kullanıcı_adı and parola != sys_parola:\n",
    "        print(\"parolanızı dogru giriniz...\")\n",
    "        giriş_hakkı -= 1\n",
    "        print(\"Giriş Hakkı: \", giriş_hakkı)\n",
    "    elif kullanıcı_adı != sys_kullanıcı_adı and parola == sys_parola:\n",
    "        print(\"Doğru kullanıcı adı girin...\")\n",
    "        giriş_hakkı -=1\n",
    "        print(\"Giriş Hakkı: \", giriş_hakkı)\n",
    "    else:\n",
    "        print(\"hoşgeldiniz...\")\n",
    "        \n",
    "        break\n",
    "    if giriş_hakkı == 0:\n",
    "        print(\"giriş hakkınız bitmiştir...\")\n",
    "        break\n",
    "    "
   ]
  },
  {
   "cell_type": "code",
   "execution_count": 96,
   "metadata": {},
   "outputs": [
    {
     "name": "stdout",
     "output_type": "stream",
     "text": [
      "**********\n",
      "Kullanıcı Girişi\n",
      "**********\n",
      "\n",
      "Kullanıcı Adı:fhj\n",
      "Parola:klş\n",
      "Kullanıcı Adı ve Parola Hatalı...\n",
      "Giriş Hakkı:  2\n",
      "Kullanıcı Adı:klşi\n",
      "Parola:mlk\n",
      "Kullanıcı Adı ve Parola Hatalı...\n",
      "Giriş Hakkı:  1\n",
      "Kullanıcı Adı:lpi\n",
      "Parola:olp\n",
      "Kullanıcı Adı ve Parola Hatalı...\n",
      "Giriş Hakkı:  0\n",
      "Giriş Hakkınız Bitti...\n"
     ]
    }
   ],
   "source": [
    "print(\"**********\\nKullanıcı Girişi\\n**********\\n\")\n",
    "\n",
    "# Kullanıcı Adı Girişi örneğinin gerçek versiyonunu PyQT5 derslerinde bulabilirsiniz.\n",
    "\n",
    "sys_kul_adı = \"mmurat\" # Sistemde Kayıtlı Olduğunu Düşündüğümüz Kullanıcı Adı\n",
    "\n",
    "sys_parola  = \"12345\" # Sistemde Kayıtlı Olduğunu Düşündüğümüz Parola\n",
    "\n",
    "giriş_hakkı = 3\n",
    "while True: # Kullanıcı Doğru Giriş Yaptığında ve Giriş Hakkı bittiğinde sona erecek.\n",
    "    kullanıcı_adı = input(\"Kullanıcı Adı:\")\n",
    "    parola = input(\"Parola:\")\n",
    "\n",
    "    if (kullanıcı_adı != sys_kul_adı and parola == sys_parola):\n",
    "        print(\"Kullanıcı Adı Hatalı...\")\n",
    "        giriş_hakkı -= 1\n",
    "        print(\"Giriş Hakkı: \", giriş_hakkı)\n",
    "    elif (kullanıcı_adı == sys_kul_adı and parola != sys_parola):\n",
    "        print(\"Parola Hatalı...\")\n",
    "        giriş_hakkı -= 1\n",
    "\n",
    "        print(\"Giriş Hakkı: \", giriş_hakkı)\n",
    "    elif (kullanıcı_adı != sys_kul_adı and parola != sys_parola):\n",
    "        print(\"Kullanıcı Adı ve Parola Hatalı...\")\n",
    "        giriş_hakkı -= 1\n",
    "        print(\"Giriş Hakkı: \", giriş_hakkı)\n",
    "\n",
    "    else:\n",
    "        print(\"Başarıyla Giriş Yaptınız...\")\n",
    "        break\n",
    "    if (giriş_hakkı == 0 ):\n",
    "\n",
    "        print(\"Giriş Hakkınız Bitti...\")\n",
    "        break"
   ]
  },
  {
   "cell_type": "markdown",
   "metadata": {},
   "source": [
    "## ATM PROGRAMI"
   ]
  },
  {
   "cell_type": "code",
   "execution_count": 103,
   "metadata": {},
   "outputs": [
    {
     "name": "stdout",
     "output_type": "stream",
     "text": [
      "***********************\n",
      "ATM makinesine hoşgeldiniz...\n",
      "İŞLEMLER\n",
      "1.Bakiye sorgulama\n",
      "2.Para yatırma\n",
      "3.Para çekme\n",
      "\n",
      "Programdan çıkmak için q ya basın...\n",
      "\n",
      "***********************\n",
      "işlemi seçin: 1\n",
      "bakiyeniz 1000 TL'dir.\n",
      "işlemi seçin: 2\n",
      "yatıracağınız miktarı girin :2000\n",
      "işlemi seçin: 1\n",
      "bakiyeniz 3000 TL'dir.\n",
      "işlemi seçin: 3\n",
      "çekeceğiniz miktarı girin: 2000\n",
      "işlemi seçin: 1\n",
      "bakiyeniz 1000 TL'dir.\n",
      "işlemi seçin: 3\n",
      "çekeceğiniz miktarı girin: 4000\n",
      "yetersiz bakiye...\n",
      "işlemi seçin: 4\n",
      "geçersiz işlem...\n",
      "işlemi seçin: q\n",
      "yine bekleriz...\n"
     ]
    }
   ],
   "source": [
    "print(\"\"\"***********************\n",
    "ATM makinesine hoşgeldiniz...\n",
    "İŞLEMLER\n",
    "1.Bakiye sorgulama\n",
    "2.Para yatırma\n",
    "3.Para çekme\n",
    "\n",
    "Programdan çıkmak için q ya basın...\n",
    "\n",
    "***********************\"\"\")\n",
    "\n",
    "bakiye = 1000\n",
    "\n",
    "while True:\n",
    "    işlem = input(\"işlemi seçin: \")\n",
    "    \n",
    "    if işlem == \"q\":\n",
    "        print(\"yine bekleriz...\")\n",
    "        break\n",
    "    elif işlem == \"1\":\n",
    "        print(\"bakiyeniz {} TL'dir.\".format(bakiye))\n",
    "        \n",
    "        \n",
    "    elif işlem == \"2\":\n",
    "        miktar = int(input(\"yatıracağınız miktarı girin :\"))\n",
    "        bakiye += miktar\n",
    "    elif işlem == \"3\":\n",
    "        miktar = int(input(\"çekeceğiniz miktarı girin: \"))\n",
    "        if bakiye-miktar < 0:\n",
    "            print(\"yetersiz bakiye...\")\n",
    "            continue\n",
    "        bakiye -= miktar\n",
    "        \n",
    "    else:\n",
    "        print(\"geçersiz işlem...\")\n",
    "        "
   ]
  },
  {
   "cell_type": "markdown",
   "metadata": {},
   "source": [
    "## FAKTÖRİYEL BULMA PROGRAMI\n"
   ]
  },
  {
   "cell_type": "code",
   "execution_count": 117,
   "metadata": {},
   "outputs": [
    {
     "name": "stdout",
     "output_type": "stream",
     "text": [
      "**************************\n",
      "FAKTORİYEL BULMA PROGRAMI\n",
      "Çıkmak için q ya basın\n",
      "**************************\n",
      "faktoriyelini almak istediğiniz sayıyı girin: 0\n",
      "0!: 1 \n",
      "faktoriyelini almak istediğiniz sayıyı girin: 1\n",
      "1!: 1 \n",
      "faktoriyelini almak istediğiniz sayıyı girin: 2\n",
      "2!: 2 \n",
      "faktoriyelini almak istediğiniz sayıyı girin: 3\n",
      "3!: 6 \n",
      "faktoriyelini almak istediğiniz sayıyı girin: 4\n",
      "4!: 24 \n",
      "faktoriyelini almak istediğiniz sayıyı girin: 5\n",
      "5!: 120 \n",
      "faktoriyelini almak istediğiniz sayıyı girin: 21\n",
      "21!: 51090942171709440000 \n",
      "faktoriyelini almak istediğiniz sayıyı girin: q\n",
      "program sonlandırılıyor...\n"
     ]
    }
   ],
   "source": [
    "print(\"\"\"**************************\n",
    "FAKTORİYEL BULMA PROGRAMI\n",
    "Çıkmak için q ya basın\n",
    "**************************\"\"\")\n",
    "\n",
    "while True:\n",
    "    sayı = input(\"faktoriyelini almak istediğiniz sayıyı girin: \")\n",
    "    if sayı == \"q\":\n",
    "        print(\"program sonlandırılıyor...\")\n",
    "        break\n",
    "    else:\n",
    "        sayı = int(sayı)\n",
    "        faktoriyel = 1\n",
    "        for i in range(2,sayı+1):\n",
    "            faktoriyel *= i\n",
    "        print(\"{}!: {} \".format(sayı,faktoriyel))\n",
    "    "
   ]
  },
  {
   "cell_type": "code",
   "execution_count": 119,
   "metadata": {},
   "outputs": [
    {
     "name": "stdout",
     "output_type": "stream",
     "text": [
      "*********************\n",
      "FIBONACCI PROGRAMI\n",
      "*********************\n",
      "[1, 1, 2, 3, 5, 8, 13, 21, 34, 55, 89, 144, 233, 377, 610, 987, 1597, 2584, 4181, 6765, 10946, 17711]\n"
     ]
    }
   ],
   "source": [
    "print(\"\"\"*********************\n",
    "FIBONACCI PROGRAMI\n",
    "*********************\"\"\")\n",
    "a = 1\n",
    "b = 1\n",
    "fibonacci = [a,b]\n",
    "\n",
    "for i in range(20):\n",
    "    a,b = b, a+b\n",
    "    fibonacci.append(b)\n",
    "print(fibonacci)\n",
    "    \n"
   ]
  },
  {
   "cell_type": "markdown",
   "metadata": {},
   "source": [
    "## Problem 1\n",
    "Kullanıcıdan aldığınız bir sayının mükemmel olup olmadığını bulmaya çalışın.\n",
    "\n",
    "Bir sayının kendi hariç bölenlerinin toplamı kendine eşitse bu sayıya \"mükemmel sayı\" denir. Örnek olarak, 6 mükemmel bir sayıdır. (1 + 2 + 3 = 6)"
   ]
  },
  {
   "cell_type": "code",
   "execution_count": 12,
   "metadata": {},
   "outputs": [
    {
     "name": "stdout",
     "output_type": "stream",
     "text": [
      "sayı: 28\n",
      "28 sayısı MÜKEMMEL sayıdır...\n"
     ]
    }
   ],
   "source": [
    "sayı = int (input(\"sayı: \"))\n",
    "toplam = 0\n",
    "for i in range(1,sayı):\n",
    "    if (sayı % i == 0) :\n",
    "        toplam += i\n",
    "if toplam == sayı:\n",
    "    print(f\"{sayı} sayısı MÜKEMMEL sayıdır...\")\n",
    "else:\n",
    "    print(f\"{sayı} sayısı MÜKEMMEL DEĞİLDİR...\")"
   ]
  },
  {
   "cell_type": "code",
   "execution_count": 21,
   "metadata": {},
   "outputs": [
    {
     "name": "stdout",
     "output_type": "stream",
     "text": [
      "sayı: 28\n",
      "28 sayısı MÜKEMMEL sayıdır...\n"
     ]
    }
   ],
   "source": [
    "sayı = int (input(\"sayı: \"))\n",
    "toplam = 0\n",
    "i = 1\n",
    "while (i < sayı):\n",
    "    if (sayı % i == 0) :\n",
    "        toplam += i\n",
    "    i += 1\n",
    "if toplam == sayı:\n",
    "    print(f\"{sayı} sayısı MÜKEMMEL sayıdır...\")\n",
    "else:\n",
    "    print(f\"{sayı} sayısı MÜKEMMEL DEĞİLDİR...\")\n",
    "    \n",
    "    "
   ]
  },
  {
   "cell_type": "markdown",
   "metadata": {},
   "source": [
    "## Problem 2\n",
    "Kullanıcıdan aldığınız bir sayının \"Armstrong\" sayısı olup olmadığını bulmaya çalışın.\n",
    "\n",
    "Örnek olarak, Bir sayı eğer 4 basamaklı ise ve oluşturan rakamlardan herbirinin 4. kuvvetinin toplamı( 3 basamaklı sayılar için 3.kuvveti ) o sayıya eşitse bu sayıya \"Armstrong\" sayısı denir.\n",
    "\n",
    "Örnek olarak : 1634 = 1^4 + 6^4 + 3^4 + 4^4"
   ]
  },
  {
   "cell_type": "code",
   "execution_count": 69,
   "metadata": {},
   "outputs": [
    {
     "name": "stdout",
     "output_type": "stream",
     "text": [
      "sayı: 1634\n",
      "1634: ARMSTRONG sayısıdır.\n"
     ]
    }
   ],
   "source": [
    "sayı = input(\"sayı: \")\n",
    "\n",
    "top = 0\n",
    "a = len(sayı)\n",
    "for i in sayı:\n",
    "    i = int(i)\n",
    "    top = top + (i**(a))\n",
    "    \n",
    "\n",
    "if top == int(sayı):\n",
    "    print(f\"{sayı}: ARMSTRONG sayısıdır.\")\n",
    "else:\n",
    "    print(f\"{sayı}: ARMSTRONG sayısı DEĞİLDİR.çünkü kuvvetlerinin toplamı: {top} dır.\")\n",
    "\n",
    "    \n",
    "    "
   ]
  },
  {
   "cell_type": "markdown",
   "metadata": {},
   "source": [
    "## Problem 3\n",
    "1'den 10'kadar olan sayılarla ekrana çarpım tablosu bastırmaya çalışın.\n",
    "\n",
    "İpucu: İç içe 2 tane for döngüsü kullanın. Aynı zamanda sayıları range() fonksiyonunu kullanarak elde edin."
   ]
  },
  {
   "cell_type": "code",
   "execution_count": 72,
   "metadata": {},
   "outputs": [
    {
     "name": "stdout",
     "output_type": "stream",
     "text": [
      "***************\n",
      "1*1 = 1\n",
      "1*2 = 2\n",
      "1*3 = 3\n",
      "1*4 = 4\n",
      "1*5 = 5\n",
      "1*6 = 6\n",
      "1*7 = 7\n",
      "1*8 = 8\n",
      "1*9 = 9\n",
      "1*10 = 10\n",
      "***************\n",
      "2*1 = 2\n",
      "2*2 = 4\n",
      "2*3 = 6\n",
      "2*4 = 8\n",
      "2*5 = 10\n",
      "2*6 = 12\n",
      "2*7 = 14\n",
      "2*8 = 16\n",
      "2*9 = 18\n",
      "2*10 = 20\n",
      "***************\n",
      "3*1 = 3\n",
      "3*2 = 6\n",
      "3*3 = 9\n",
      "3*4 = 12\n",
      "3*5 = 15\n",
      "3*6 = 18\n",
      "3*7 = 21\n",
      "3*8 = 24\n",
      "3*9 = 27\n",
      "3*10 = 30\n",
      "***************\n",
      "4*1 = 4\n",
      "4*2 = 8\n",
      "4*3 = 12\n",
      "4*4 = 16\n",
      "4*5 = 20\n",
      "4*6 = 24\n",
      "4*7 = 28\n",
      "4*8 = 32\n",
      "4*9 = 36\n",
      "4*10 = 40\n",
      "***************\n",
      "5*1 = 5\n",
      "5*2 = 10\n",
      "5*3 = 15\n",
      "5*4 = 20\n",
      "5*5 = 25\n",
      "5*6 = 30\n",
      "5*7 = 35\n",
      "5*8 = 40\n",
      "5*9 = 45\n",
      "5*10 = 50\n",
      "***************\n",
      "6*1 = 6\n",
      "6*2 = 12\n",
      "6*3 = 18\n",
      "6*4 = 24\n",
      "6*5 = 30\n",
      "6*6 = 36\n",
      "6*7 = 42\n",
      "6*8 = 48\n",
      "6*9 = 54\n",
      "6*10 = 60\n",
      "***************\n",
      "7*1 = 7\n",
      "7*2 = 14\n",
      "7*3 = 21\n",
      "7*4 = 28\n",
      "7*5 = 35\n",
      "7*6 = 42\n",
      "7*7 = 49\n",
      "7*8 = 56\n",
      "7*9 = 63\n",
      "7*10 = 70\n",
      "***************\n",
      "8*1 = 8\n",
      "8*2 = 16\n",
      "8*3 = 24\n",
      "8*4 = 32\n",
      "8*5 = 40\n",
      "8*6 = 48\n",
      "8*7 = 56\n",
      "8*8 = 64\n",
      "8*9 = 72\n",
      "8*10 = 80\n",
      "***************\n",
      "9*1 = 9\n",
      "9*2 = 18\n",
      "9*3 = 27\n",
      "9*4 = 36\n",
      "9*5 = 45\n",
      "9*6 = 54\n",
      "9*7 = 63\n",
      "9*8 = 72\n",
      "9*9 = 81\n",
      "9*10 = 90\n",
      "***************\n",
      "10*1 = 10\n",
      "10*2 = 20\n",
      "10*3 = 30\n",
      "10*4 = 40\n",
      "10*5 = 50\n",
      "10*6 = 60\n",
      "10*7 = 70\n",
      "10*8 = 80\n",
      "10*9 = 90\n",
      "10*10 = 100\n"
     ]
    }
   ],
   "source": [
    "for i in range(1,11):\n",
    "    print(\"*\"*15)\n",
    "    for x in range(1,11):\n",
    "        print(f\"{i}*{x} = {i*x}\")"
   ]
  },
  {
   "cell_type": "markdown",
   "metadata": {},
   "source": [
    "## Problem 4\n",
    "Her bir while döngüsünde kullanıcıdan bir sayı alın ve kullanıcının girdiği sayıları \"toplam\" isimli bir değişkene ekleyin. Kullanıcı \"q\" tuşuna bastığı zaman döngüyü sonlandırın ve ekrana \"toplam değişkenini\" bastırın.\n",
    "\n",
    "İpucu : while döngüsünü sonsuz koşulla başlatın ve kullanıcı q'ya basarsa döngüyü break ile sonlandırın."
   ]
  },
  {
   "cell_type": "code",
   "execution_count": 85,
   "metadata": {},
   "outputs": [
    {
     "name": "stdout",
     "output_type": "stream",
     "text": [
      "sayı girin: 1\n",
      "sayı girin: 5\n",
      "sayı girin: 4\n",
      "sayı girin: q\n",
      "10\n"
     ]
    }
   ],
   "source": [
    "toplam = 0\n",
    "\n",
    "while True:\n",
    "    sayı = input(\"sayı girin: \")\n",
    "    if sayı == \"q\":\n",
    "        break\n",
    "    sayı = int(sayı)\n",
    "    toplam += sayı\n",
    "    \n",
    "print(toplam)\n",
    "    \n",
    "    "
   ]
  },
  {
   "cell_type": "markdown",
   "metadata": {},
   "source": [
    "## Problem 5\n",
    "1'den 100'e kadar olan sayılardan sadece 3'e bölünen sayıları ekrana bastırın. Bu işlemi continue ile yapmaya çalışın."
   ]
  },
  {
   "cell_type": "code",
   "execution_count": 131,
   "metadata": {
    "scrolled": true
   },
   "outputs": [
    {
     "name": "stdout",
     "output_type": "stream",
     "text": [
      "3\n",
      "6\n",
      "9\n",
      "12\n",
      "15\n",
      "18\n",
      "21\n",
      "24\n",
      "27\n",
      "30\n",
      "33\n",
      "36\n",
      "39\n",
      "42\n",
      "45\n",
      "48\n",
      "51\n",
      "54\n",
      "57\n",
      "60\n",
      "63\n",
      "66\n",
      "69\n",
      "72\n",
      "75\n",
      "78\n",
      "81\n",
      "84\n",
      "87\n",
      "90\n",
      "93\n",
      "96\n",
      "99\n"
     ]
    }
   ],
   "source": [
    "for i in range(1,101):\n",
    "    if not (i%3) == 0:\n",
    "        continue\n",
    "    print(i)"
   ]
  },
  {
   "cell_type": "code",
   "execution_count": 2,
   "metadata": {
    "scrolled": true
   },
   "outputs": [
    {
     "name": "stdout",
     "output_type": "stream",
     "text": [
      "3\n",
      "6\n",
      "9\n",
      "12\n",
      "15\n",
      "18\n",
      "21\n",
      "24\n",
      "27\n",
      "30\n",
      "33\n",
      "36\n",
      "39\n",
      "42\n",
      "45\n",
      "48\n",
      "51\n",
      "54\n",
      "57\n",
      "60\n",
      "63\n",
      "66\n",
      "69\n",
      "72\n",
      "75\n",
      "78\n",
      "81\n",
      "84\n",
      "87\n",
      "90\n",
      "93\n",
      "96\n",
      "99\n"
     ]
    }
   ],
   "source": [
    "for i in range(1,101):\n",
    "    if  (i%3) != 0:\n",
    "        continue\n",
    "    print(i)"
   ]
  },
  {
   "cell_type": "code",
   "execution_count": 93,
   "metadata": {},
   "outputs": [
    {
     "name": "stdout",
     "output_type": "stream",
     "text": [
      "3\n",
      "6\n",
      "9\n",
      "12\n",
      "15\n",
      "18\n",
      "21\n",
      "24\n",
      "27\n",
      "30\n",
      "33\n",
      "36\n",
      "39\n",
      "42\n",
      "45\n",
      "48\n",
      "51\n",
      "54\n",
      "57\n",
      "60\n",
      "63\n",
      "66\n",
      "69\n",
      "72\n",
      "75\n",
      "78\n",
      "81\n",
      "84\n",
      "87\n",
      "90\n",
      "93\n",
      "96\n",
      "99\n"
     ]
    }
   ],
   "source": [
    "i = 1\n",
    "while(i < 100):\n",
    "    i += 1 \n",
    "    if i % 3 != 0:\n",
    "        continue\n",
    "   \n",
    "    \n",
    "    print(i)"
   ]
  },
  {
   "cell_type": "markdown",
   "metadata": {},
   "source": [
    "## Problem 6\n",
    "Buradaki problemin çözümünü derslerimizde özellikle öğrenmedik. Burada mantık yürüterek ve list comprehension kullanarak 1'den 100'e kadar olan sayılardan sadece çift sayıları bir listeye atmayı yapmayı çalışın.\n",
    "\n",
    "Not: Programlamada her detayı öğrenemeyiz. Bunun için bazı yerlerde deneme yanılma yoluyla da öğrendiğimiz şeyler olur. Bu problemde deneme yanılma yoluyla list comprehension'ın koşullu durumlarla kullanımını öğreneceksiniz.\n",
    "\n",
    "İpucu: Basit düşünmeye çalışın."
   ]
  },
  {
   "cell_type": "code",
   "execution_count": 95,
   "metadata": {},
   "outputs": [
    {
     "name": "stdout",
     "output_type": "stream",
     "text": [
      "[0, 1, 2, 3, 4, 5, 6, 7, 8, 9, 10, 11, 12, 13, 14, 15, 16, 17, 18, 19, 20, 21, 22, 23, 24, 25, 26, 27, 28, 29, 30, 31, 32, 33, 34, 35, 36, 37, 38, 39, 40, 41, 42, 43, 44, 45, 46, 47, 48, 49, 50, 51, 52, 53, 54, 55, 56, 57, 58, 59, 60, 61, 62, 63, 64, 65, 66, 67, 68, 69, 70, 71, 72, 73, 74, 75, 76, 77, 78, 79, 80, 81, 82, 83, 84, 85, 86, 87, 88, 89, 90, 91, 92, 93, 94, 95, 96, 97, 98, 99, 100]\n"
     ]
    }
   ],
   "source": [
    "numbers = [i for i in range(1,101)]\n",
    "print(numbers)"
   ]
  },
  {
   "cell_type": "code",
   "execution_count": 96,
   "metadata": {},
   "outputs": [
    {
     "name": "stdout",
     "output_type": "stream",
     "text": [
      "[2, 4, 6, 8, 10, 12, 14, 16, 18, 20, 22, 24, 26, 28, 30, 32, 34, 36, 38, 40, 42, 44, 46, 48, 50, 52, 54, 56, 58, 60, 62, 64, 66, 68, 70, 72, 74, 76, 78, 80, 82, 84, 86, 88, 90, 92, 94, 96, 98, 100]\n"
     ]
    }
   ],
   "source": [
    "numbers = [i for i in range(2,101,2)]\n",
    "print(numbers)"
   ]
  },
  {
   "cell_type": "code",
   "execution_count": 97,
   "metadata": {},
   "outputs": [
    {
     "name": "stdout",
     "output_type": "stream",
     "text": [
      "[2, 4, 6, 8, 10, 12, 14, 16, 18, 20, 22, 24, 26, 28, 30, 32, 34, 36, 38, 40, 42, 44, 46, 48, 50, 52, 54, 56, 58, 60, 62, 64, 66, 68, 70, 72, 74, 76, 78, 80, 82, 84, 86, 88, 90, 92, 94, 96, 98, 100]\n"
     ]
    }
   ],
   "source": [
    "numbers = [i for i in range(1,101) if (i % 2 == 0)]\n",
    "print(numbers)"
   ]
  },
  {
   "cell_type": "code",
   "execution_count": 98,
   "metadata": {},
   "outputs": [
    {
     "name": "stdout",
     "output_type": "stream",
     "text": [
      "[4, 16, 36, 64, 100, 144, 196, 256, 324, 400, 484, 576, 676, 784, 900, 1024, 1156, 1296, 1444, 1600, 1764, 1936, 2116, 2304, 2500, 2704, 2916, 3136, 3364, 3600, 3844, 4096, 4356, 4624, 4900, 5184, 5476, 5776, 6084, 6400, 6724, 7056, 7396, 7744, 8100, 8464, 8836, 9216, 9604, 10000]\n"
     ]
    }
   ],
   "source": [
    "numbers = [i**2 for i in range(1,101) if (i % 2 == 0)]\n",
    "print(numbers)"
   ]
  },
  {
   "cell_type": "markdown",
   "metadata": {},
   "source": [
    "## FUNCTION"
   ]
  },
  {
   "cell_type": "code",
   "execution_count": 1,
   "metadata": {},
   "outputs": [],
   "source": [
    "def selamla():\n",
    "    print(\"merhaba\")\n",
    "    print(\"nasılsınız\")"
   ]
  },
  {
   "cell_type": "code",
   "execution_count": 2,
   "metadata": {},
   "outputs": [
    {
     "data": {
      "text/plain": [
       "function"
      ]
     },
     "execution_count": 2,
     "metadata": {},
     "output_type": "execute_result"
    }
   ],
   "source": [
    "type(selamla)"
   ]
  },
  {
   "cell_type": "code",
   "execution_count": 3,
   "metadata": {},
   "outputs": [
    {
     "name": "stdout",
     "output_type": "stream",
     "text": [
      "merhaba\n",
      "nasılsınız\n"
     ]
    }
   ],
   "source": [
    "selamla()"
   ]
  },
  {
   "cell_type": "code",
   "execution_count": 4,
   "metadata": {},
   "outputs": [],
   "source": [
    "def selamla(isim):\n",
    "    print(f\"isminiz: {isim}\")"
   ]
  },
  {
   "cell_type": "code",
   "execution_count": 5,
   "metadata": {},
   "outputs": [
    {
     "ename": "TypeError",
     "evalue": "selamla() missing 1 required positional argument: 'isim'",
     "output_type": "error",
     "traceback": [
      "\u001b[1;31m---------------------------------------------------------------------------\u001b[0m",
      "\u001b[1;31mTypeError\u001b[0m                                 Traceback (most recent call last)",
      "\u001b[1;32mC:\\Users\\ADMCN_~1\\AppData\\Local\\Temp/ipykernel_1872/2692271083.py\u001b[0m in \u001b[0;36m<module>\u001b[1;34m\u001b[0m\n\u001b[1;32m----> 1\u001b[1;33m \u001b[0mselamla\u001b[0m\u001b[1;33m(\u001b[0m\u001b[1;33m)\u001b[0m\u001b[1;33m\u001b[0m\u001b[1;33m\u001b[0m\u001b[0m\n\u001b[0m",
      "\u001b[1;31mTypeError\u001b[0m: selamla() missing 1 required positional argument: 'isim'"
     ]
    }
   ],
   "source": [
    "selamla()"
   ]
  },
  {
   "cell_type": "code",
   "execution_count": 7,
   "metadata": {},
   "outputs": [
    {
     "name": "stdout",
     "output_type": "stream",
     "text": [
      "isminiz: adem\n"
     ]
    }
   ],
   "source": [
    "selamla(\"adem\")"
   ]
  },
  {
   "cell_type": "code",
   "execution_count": 8,
   "metadata": {},
   "outputs": [
    {
     "name": "stdout",
     "output_type": "stream",
     "text": [
      "isminiz: cansu\n"
     ]
    }
   ],
   "source": [
    "selamla(\"cansu\")"
   ]
  },
  {
   "cell_type": "code",
   "execution_count": 9,
   "metadata": {},
   "outputs": [],
   "source": [
    "def toplamınıBulma(a,b,c):\n",
    "    print(\"toplam = \",a+b+c)"
   ]
  },
  {
   "cell_type": "code",
   "execution_count": 10,
   "metadata": {},
   "outputs": [
    {
     "name": "stdout",
     "output_type": "stream",
     "text": [
      "toplam =  6\n"
     ]
    }
   ],
   "source": [
    "toplamınıBulma(1,2,3)"
   ]
  },
  {
   "cell_type": "code",
   "execution_count": 11,
   "metadata": {},
   "outputs": [
    {
     "name": "stdout",
     "output_type": "stream",
     "text": [
      "toplam =  128\n"
     ]
    }
   ],
   "source": [
    "toplamınıBulma(48,2,78)"
   ]
  },
  {
   "cell_type": "code",
   "execution_count": 30,
   "metadata": {},
   "outputs": [
    {
     "name": "stdout",
     "output_type": "stream",
     "text": [
      "24\n"
     ]
    }
   ],
   "source": [
    "def faktoriyelBulma(sayı):\n",
    "    çarpım = 1\n",
    "    for i in range(1,sayı + 1):\n",
    "        çarpım *= i\n",
    "    print(çarpım)\n",
    "faktoriyelBulma(4)    "
   ]
  },
  {
   "cell_type": "code",
   "execution_count": 34,
   "metadata": {},
   "outputs": [
    {
     "data": {
      "text/plain": [
       "24"
      ]
     },
     "execution_count": 34,
     "metadata": {},
     "output_type": "execute_result"
    }
   ],
   "source": [
    "def faktoriyelBulma(sayı):\n",
    "    çarpım = 1\n",
    "    for i in range(1,sayı + 1):\n",
    "        çarpım *= i\n",
    "    return çarpım\n",
    "faktoriyelBulma(4) "
   ]
  },
  {
   "cell_type": "code",
   "execution_count": 27,
   "metadata": {},
   "outputs": [
    {
     "name": "stdout",
     "output_type": "stream",
     "text": [
      "sayı: 5\n",
      "120\n"
     ]
    }
   ],
   "source": [
    "sayı = int(input(\"sayı: \"))\n",
    "çarpım = 1\n",
    "for i in range(1,sayı + 1):\n",
    "        çarpım *= i\n",
    "print(çarpım)"
   ]
  },
  {
   "cell_type": "code",
   "execution_count": 33,
   "metadata": {},
   "outputs": [
    {
     "name": "stdout",
     "output_type": "stream",
     "text": [
      "1\n"
     ]
    }
   ],
   "source": [
    "faktoriyelBulma(1)"
   ]
  },
  {
   "cell_type": "code",
   "execution_count": 1,
   "metadata": {},
   "outputs": [],
   "source": [
    "def toplamınıBulma(a,b,c):\n",
    "    print(\"toplam = \",a+b+c)"
   ]
  },
  {
   "cell_type": "code",
   "execution_count": 2,
   "metadata": {},
   "outputs": [],
   "source": [
    "def ikiyleCarp(a):\n",
    "    print(2*a)"
   ]
  },
  {
   "cell_type": "code",
   "execution_count": 4,
   "metadata": {},
   "outputs": [
    {
     "name": "stdout",
     "output_type": "stream",
     "text": [
      "toplam =  12\n"
     ]
    },
    {
     "ename": "TypeError",
     "evalue": "unsupported operand type(s) for *: 'int' and 'NoneType'",
     "output_type": "error",
     "traceback": [
      "\u001b[1;31m---------------------------------------------------------------------------\u001b[0m",
      "\u001b[1;31mTypeError\u001b[0m                                 Traceback (most recent call last)",
      "\u001b[1;32mC:\\Users\\ADMCN_~1\\AppData\\Local\\Temp/ipykernel_4432/1940671623.py\u001b[0m in \u001b[0;36m<module>\u001b[1;34m\u001b[0m\n\u001b[0;32m      1\u001b[0m \u001b[0mtoplam\u001b[0m \u001b[1;33m=\u001b[0m \u001b[0mtoplamınıBulma\u001b[0m\u001b[1;33m(\u001b[0m\u001b[1;36m3\u001b[0m\u001b[1;33m,\u001b[0m\u001b[1;36m4\u001b[0m\u001b[1;33m,\u001b[0m\u001b[1;36m5\u001b[0m\u001b[1;33m)\u001b[0m\u001b[1;33m\u001b[0m\u001b[1;33m\u001b[0m\u001b[0m\n\u001b[1;32m----> 2\u001b[1;33m \u001b[0mikiyleCarp\u001b[0m\u001b[1;33m(\u001b[0m\u001b[0mtoplam\u001b[0m\u001b[1;33m)\u001b[0m\u001b[1;33m\u001b[0m\u001b[1;33m\u001b[0m\u001b[0m\n\u001b[0m",
      "\u001b[1;32mC:\\Users\\ADMCN_~1\\AppData\\Local\\Temp/ipykernel_4432/652393482.py\u001b[0m in \u001b[0;36mikiyleCarp\u001b[1;34m(a)\u001b[0m\n\u001b[0;32m      1\u001b[0m \u001b[1;32mdef\u001b[0m \u001b[0mikiyleCarp\u001b[0m\u001b[1;33m(\u001b[0m\u001b[0ma\u001b[0m\u001b[1;33m)\u001b[0m\u001b[1;33m:\u001b[0m\u001b[1;33m\u001b[0m\u001b[1;33m\u001b[0m\u001b[0m\n\u001b[1;32m----> 2\u001b[1;33m     \u001b[0mprint\u001b[0m\u001b[1;33m(\u001b[0m\u001b[1;36m2\u001b[0m\u001b[1;33m*\u001b[0m\u001b[0ma\u001b[0m\u001b[1;33m)\u001b[0m\u001b[1;33m\u001b[0m\u001b[1;33m\u001b[0m\u001b[0m\n\u001b[0m",
      "\u001b[1;31mTypeError\u001b[0m: unsupported operand type(s) for *: 'int' and 'NoneType'"
     ]
    }
   ],
   "source": [
    "toplam = toplamınıBulma(3,4,5)\n",
    "ikiyleCarp(toplam)"
   ]
  },
  {
   "cell_type": "code",
   "execution_count": 5,
   "metadata": {},
   "outputs": [
    {
     "data": {
      "text/plain": [
       "NoneType"
      ]
     },
     "execution_count": 5,
     "metadata": {},
     "output_type": "execute_result"
    }
   ],
   "source": [
    "type(toplam)"
   ]
  },
  {
   "cell_type": "code",
   "execution_count": 10,
   "metadata": {},
   "outputs": [],
   "source": [
    "def toplamınıBulma(a,b,c):\n",
    "    return a+b+c"
   ]
  },
  {
   "cell_type": "code",
   "execution_count": 11,
   "metadata": {},
   "outputs": [],
   "source": [
    "def ikiyleCarp(a):\n",
    "    return 2*a"
   ]
  },
  {
   "cell_type": "code",
   "execution_count": 13,
   "metadata": {},
   "outputs": [
    {
     "data": {
      "text/plain": [
       "12"
      ]
     },
     "execution_count": 13,
     "metadata": {},
     "output_type": "execute_result"
    }
   ],
   "source": [
    "toplam = toplamınıBulma(3,4,5)\n",
    "toplam"
   ]
  },
  {
   "cell_type": "code",
   "execution_count": 15,
   "metadata": {},
   "outputs": [
    {
     "name": "stdout",
     "output_type": "stream",
     "text": [
      "24\n"
     ]
    }
   ],
   "source": [
    "print(ikiyleCarp(toplam))"
   ]
  },
  {
   "cell_type": "code",
   "execution_count": 21,
   "metadata": {},
   "outputs": [
    {
     "name": "stdout",
     "output_type": "stream",
     "text": [
      "1. fonksiyon çalıştı...\n",
      "2. fonksiyon çalıştı...\n",
      "3. fonksiyon çalıştı...\n",
      "4.25\n"
     ]
    }
   ],
   "source": [
    "def ucleCarp(a):\n",
    "    print(\"1. fonksiyon çalıştı...\")\n",
    "    return a * 3\n",
    "def ikiyleTopla(a):\n",
    "    print(\"2. fonksiyon çalıştı...\")\n",
    "    return a + 2\n",
    "def dordeBol(a):\n",
    "    print(\"3. fonksiyon çalıştı...\")\n",
    "    return a / 4\n",
    "\n",
    "print(dordeBol(ikiyleTopla(ucleCarp(5))))"
   ]
  },
  {
   "cell_type": "code",
   "execution_count": 22,
   "metadata": {},
   "outputs": [],
   "source": [
    "def ucleCarp(a):\n",
    "    return a * 3\n",
    "    print(\"1. fonksiyon çalıştı...\")# return den sonra gelen kodlar calışmaz. bunlara void fonksiyoonu denir"
   ]
  },
  {
   "cell_type": "code",
   "execution_count": 23,
   "metadata": {},
   "outputs": [
    {
     "name": "stdout",
     "output_type": "stream",
     "text": [
      "15\n"
     ]
    }
   ],
   "source": [
    "print(ucleCarp(5))"
   ]
  },
  {
   "cell_type": "code",
   "execution_count": 24,
   "metadata": {},
   "outputs": [],
   "source": [
    "def ucleCarp(a):\n",
    "    print(\"1. fonksiyon çalıştı...\")\n",
    "    return a * 3\n",
    "    "
   ]
  },
  {
   "cell_type": "code",
   "execution_count": 25,
   "metadata": {},
   "outputs": [
    {
     "name": "stdout",
     "output_type": "stream",
     "text": [
      "1. fonksiyon çalıştı...\n",
      "15\n"
     ]
    }
   ],
   "source": [
    "print(ucleCarp(5))"
   ]
  },
  {
   "cell_type": "code",
   "execution_count": 28,
   "metadata": {},
   "outputs": [],
   "source": [
    "def selamla():\n",
    "    print(\"merhaba\")"
   ]
  },
  {
   "cell_type": "code",
   "execution_count": 29,
   "metadata": {},
   "outputs": [
    {
     "name": "stdout",
     "output_type": "stream",
     "text": [
      "merhaba\n",
      "None\n"
     ]
    }
   ],
   "source": [
    "print(selamla())"
   ]
  },
  {
   "cell_type": "code",
   "execution_count": 30,
   "metadata": {},
   "outputs": [
    {
     "name": "stdout",
     "output_type": "stream",
     "text": [
      "merhaba\n"
     ]
    }
   ],
   "source": [
    "selamla()"
   ]
  },
  {
   "cell_type": "code",
   "execution_count": 32,
   "metadata": {},
   "outputs": [
    {
     "name": "stdout",
     "output_type": "stream",
     "text": [
      "merhaba adem\n",
      "None\n"
     ]
    }
   ],
   "source": [
    "def selamla(isim):\n",
    "    print(\"merhaba\",isim)\n",
    "print(selamla(\"adem\"))"
   ]
  },
  {
   "cell_type": "code",
   "execution_count": 33,
   "metadata": {},
   "outputs": [
    {
     "ename": "TypeError",
     "evalue": "selamla() missing 1 required positional argument: 'isim'",
     "output_type": "error",
     "traceback": [
      "\u001b[1;31m---------------------------------------------------------------------------\u001b[0m",
      "\u001b[1;31mTypeError\u001b[0m                                 Traceback (most recent call last)",
      "\u001b[1;32mC:\\Users\\ADMCN_~1\\AppData\\Local\\Temp/ipykernel_4432/2506801573.py\u001b[0m in \u001b[0;36m<module>\u001b[1;34m\u001b[0m\n\u001b[0;32m      1\u001b[0m \u001b[1;32mdef\u001b[0m \u001b[0mselamla\u001b[0m\u001b[1;33m(\u001b[0m\u001b[0misim\u001b[0m\u001b[1;33m)\u001b[0m\u001b[1;33m:\u001b[0m\u001b[1;33m\u001b[0m\u001b[1;33m\u001b[0m\u001b[0m\n\u001b[0;32m      2\u001b[0m     \u001b[0mprint\u001b[0m\u001b[1;33m(\u001b[0m\u001b[1;34m\"merhaba\"\u001b[0m\u001b[1;33m,\u001b[0m\u001b[0misim\u001b[0m\u001b[1;33m)\u001b[0m\u001b[1;33m\u001b[0m\u001b[1;33m\u001b[0m\u001b[0m\n\u001b[1;32m----> 3\u001b[1;33m \u001b[0mprint\u001b[0m\u001b[1;33m(\u001b[0m\u001b[0mselamla\u001b[0m\u001b[1;33m(\u001b[0m\u001b[1;33m)\u001b[0m\u001b[1;33m)\u001b[0m\u001b[1;33m\u001b[0m\u001b[1;33m\u001b[0m\u001b[0m\n\u001b[0m",
      "\u001b[1;31mTypeError\u001b[0m: selamla() missing 1 required positional argument: 'isim'"
     ]
    }
   ],
   "source": [
    "def selamla(isim):\n",
    "    print(\"merhaba\",isim)\n",
    "print(selamla())"
   ]
  },
  {
   "cell_type": "code",
   "execution_count": 34,
   "metadata": {},
   "outputs": [
    {
     "name": "stdout",
     "output_type": "stream",
     "text": [
      "merhaba isimsiz\n"
     ]
    }
   ],
   "source": [
    "def selamla(isim = \"isimsiz\"):\n",
    "    print(\"merhaba\",isim)\n",
    "selamla()"
   ]
  },
  {
   "cell_type": "code",
   "execution_count": 35,
   "metadata": {},
   "outputs": [
    {
     "name": "stdout",
     "output_type": "stream",
     "text": [
      "merhaba adem\n"
     ]
    }
   ],
   "source": [
    "selamla(\"adem\")"
   ]
  },
  {
   "cell_type": "code",
   "execution_count": 36,
   "metadata": {},
   "outputs": [],
   "source": [
    "def bilgileriGoster(ad,soyad,numara):\n",
    "    print(\"ad: \",ad,\"soyadı: \",soyad,\"numara: \",numara)"
   ]
  },
  {
   "cell_type": "code",
   "execution_count": 39,
   "metadata": {},
   "outputs": [
    {
     "name": "stdout",
     "output_type": "stream",
     "text": [
      "ad:  adem soyadı:  bakırcı numara:  12345\n"
     ]
    }
   ],
   "source": [
    "bilgileriGoster(\"adem\",\"bakırcı\",12345)"
   ]
  },
  {
   "cell_type": "code",
   "execution_count": 40,
   "metadata": {},
   "outputs": [],
   "source": [
    "def bilgileriGoster(ad = \"bigi yok\",soyad = \"bigi yok\",numara = \"bigi yok\"):\n",
    "    print(\"ad: \",ad,\"soyadı: \",soyad,\"numara: \",numara)"
   ]
  },
  {
   "cell_type": "code",
   "execution_count": 41,
   "metadata": {},
   "outputs": [
    {
     "name": "stdout",
     "output_type": "stream",
     "text": [
      "ad:  adem soyadı:  bakırcı numara:  12345\n"
     ]
    }
   ],
   "source": [
    "bilgileriGoster(\"adem\",\"bakırcı\",12345)"
   ]
  },
  {
   "cell_type": "code",
   "execution_count": 44,
   "metadata": {},
   "outputs": [
    {
     "name": "stdout",
     "output_type": "stream",
     "text": [
      "ad:  adem soyadı:  bigi yok numara:  bigi yok\n"
     ]
    }
   ],
   "source": [
    "bilgileriGoster(\"adem\")"
   ]
  },
  {
   "cell_type": "code",
   "execution_count": 47,
   "metadata": {},
   "outputs": [
    {
     "name": "stdout",
     "output_type": "stream",
     "text": [
      "ad:  adem soyadı:  bakırcı numara:  bigi yok\n"
     ]
    }
   ],
   "source": [
    "bilgileriGoster(\"adem\",\"bakırcı\")"
   ]
  },
  {
   "cell_type": "code",
   "execution_count": 48,
   "metadata": {},
   "outputs": [
    {
     "name": "stdout",
     "output_type": "stream",
     "text": [
      "ad:  bigi yok soyadı:  bigi yok numara:  12345\n"
     ]
    }
   ],
   "source": [
    "bilgileriGoster(numara = 12345)"
   ]
  },
  {
   "cell_type": "markdown",
   "metadata": {},
   "source": [
    "## Esnek Sayıda Değerler"
   ]
  },
  {
   "cell_type": "code",
   "execution_count": 49,
   "metadata": {},
   "outputs": [
    {
     "data": {
      "text/plain": [
       "12"
      ]
     },
     "execution_count": 49,
     "metadata": {},
     "output_type": "execute_result"
    }
   ],
   "source": [
    "def toplamınıBulma(a,b,c):\n",
    "    return a+b+c\n",
    "toplamınıBulma(3,4,5)"
   ]
  },
  {
   "cell_type": "code",
   "execution_count": 50,
   "metadata": {},
   "outputs": [
    {
     "ename": "TypeError",
     "evalue": "toplamınıBulma() takes 3 positional arguments but 4 were given",
     "output_type": "error",
     "traceback": [
      "\u001b[1;31m---------------------------------------------------------------------------\u001b[0m",
      "\u001b[1;31mTypeError\u001b[0m                                 Traceback (most recent call last)",
      "\u001b[1;32mC:\\Users\\ADMCN_~1\\AppData\\Local\\Temp/ipykernel_4432/2226175011.py\u001b[0m in \u001b[0;36m<module>\u001b[1;34m\u001b[0m\n\u001b[1;32m----> 1\u001b[1;33m \u001b[0mtoplamınıBulma\u001b[0m\u001b[1;33m(\u001b[0m\u001b[1;36m3\u001b[0m\u001b[1;33m,\u001b[0m\u001b[1;36m4\u001b[0m\u001b[1;33m,\u001b[0m\u001b[1;36m5\u001b[0m\u001b[1;33m,\u001b[0m\u001b[1;36m4\u001b[0m\u001b[1;33m)\u001b[0m\u001b[1;33m\u001b[0m\u001b[1;33m\u001b[0m\u001b[0m\n\u001b[0m",
      "\u001b[1;31mTypeError\u001b[0m: toplamınıBulma() takes 3 positional arguments but 4 were given"
     ]
    }
   ],
   "source": [
    "toplamınıBulma(3,4,5,4)"
   ]
  },
  {
   "cell_type": "code",
   "execution_count": 51,
   "metadata": {},
   "outputs": [
    {
     "data": {
      "text/plain": [
       "(3, 4, 5)"
      ]
     },
     "execution_count": 51,
     "metadata": {},
     "output_type": "execute_result"
    }
   ],
   "source": [
    "def toplamınıBulma(*a):\n",
    "    return a\n",
    "toplamınıBulma(3,4,5)"
   ]
  },
  {
   "cell_type": "code",
   "execution_count": 52,
   "metadata": {},
   "outputs": [
    {
     "data": {
      "text/plain": [
       "(3, 4, 5, 6, 7)"
      ]
     },
     "execution_count": 52,
     "metadata": {},
     "output_type": "execute_result"
    }
   ],
   "source": [
    "toplamınıBulma(3,4,5,6,7)"
   ]
  },
  {
   "cell_type": "code",
   "execution_count": 54,
   "metadata": {},
   "outputs": [
    {
     "name": "stdout",
     "output_type": "stream",
     "text": [
      "12\n"
     ]
    }
   ],
   "source": [
    "def toplamınıBulma(*a):\n",
    "    top = 0\n",
    "    for i in a:\n",
    "        top += i\n",
    "    print(top)\n",
    "toplamınıBulma(3,4,5)        "
   ]
  },
  {
   "cell_type": "code",
   "execution_count": 55,
   "metadata": {},
   "outputs": [
    {
     "name": "stdout",
     "output_type": "stream",
     "text": [
      "34\n"
     ]
    }
   ],
   "source": [
    "toplamınıBulma(3,4,8,9,10)"
   ]
  },
  {
   "cell_type": "markdown",
   "metadata": {},
   "source": [
    "## Global Yerel Değişkenler"
   ]
  },
  {
   "cell_type": "code",
   "execution_count": 56,
   "metadata": {},
   "outputs": [
    {
     "name": "stdout",
     "output_type": "stream",
     "text": [
      "10\n"
     ]
    }
   ],
   "source": [
    "def fonksiyon():\n",
    "    a = 10\n",
    "    print(a)\n",
    "fonksiyon()\n"
   ]
  },
  {
   "cell_type": "code",
   "execution_count": 57,
   "metadata": {},
   "outputs": [
    {
     "name": "stdout",
     "output_type": "stream",
     "text": [
      "10\n"
     ]
    },
    {
     "ename": "NameError",
     "evalue": "name 'a' is not defined",
     "output_type": "error",
     "traceback": [
      "\u001b[1;31m---------------------------------------------------------------------------\u001b[0m",
      "\u001b[1;31mNameError\u001b[0m                                 Traceback (most recent call last)",
      "\u001b[1;32mC:\\Users\\ADMCN_~1\\AppData\\Local\\Temp/ipykernel_4432/3642979160.py\u001b[0m in \u001b[0;36m<module>\u001b[1;34m\u001b[0m\n\u001b[0;32m      3\u001b[0m     \u001b[0mprint\u001b[0m\u001b[1;33m(\u001b[0m\u001b[0ma\u001b[0m\u001b[1;33m)\u001b[0m\u001b[1;33m\u001b[0m\u001b[1;33m\u001b[0m\u001b[0m\n\u001b[0;32m      4\u001b[0m \u001b[0mfonksiyon\u001b[0m\u001b[1;33m(\u001b[0m\u001b[1;33m)\u001b[0m\u001b[1;33m\u001b[0m\u001b[1;33m\u001b[0m\u001b[0m\n\u001b[1;32m----> 5\u001b[1;33m \u001b[0mprint\u001b[0m\u001b[1;33m(\u001b[0m\u001b[0ma\u001b[0m\u001b[1;33m)\u001b[0m\u001b[1;33m\u001b[0m\u001b[1;33m\u001b[0m\u001b[0m\n\u001b[0m",
      "\u001b[1;31mNameError\u001b[0m: name 'a' is not defined"
     ]
    }
   ],
   "source": [
    "def fonksiyon():\n",
    "    a = 10\n",
    "    print(a)\n",
    "fonksiyon()\n",
    "print(a)\n",
    "## a fonksiyon içinde tanımlandığı için yerel değişkendir bundan dolayı fonksiyondan çıkıldığında a ya atanmış deüer de kaybolur."
   ]
  },
  {
   "cell_type": "code",
   "execution_count": 58,
   "metadata": {},
   "outputs": [
    {
     "name": "stdout",
     "output_type": "stream",
     "text": [
      "5\n"
     ]
    }
   ],
   "source": [
    "b = 5\n",
    "def fonksiyon():\n",
    "    print(b)\n",
    "fonksiyon()\n",
    "## b global değişken olduğu için fonsiyonun içinde de dışında da kullanılır."
   ]
  },
  {
   "cell_type": "code",
   "execution_count": 62,
   "metadata": {},
   "outputs": [
    {
     "ename": "NameError",
     "evalue": "name 's' is not defined",
     "output_type": "error",
     "traceback": [
      "\u001b[1;31m---------------------------------------------------------------------------\u001b[0m",
      "\u001b[1;31mNameError\u001b[0m                                 Traceback (most recent call last)",
      "\u001b[1;32mC:\\Users\\ADMCN_~1\\AppData\\Local\\Temp/ipykernel_4432/2588543627.py\u001b[0m in \u001b[0;36m<module>\u001b[1;34m\u001b[0m\n\u001b[0;32m      1\u001b[0m \u001b[1;32mdef\u001b[0m \u001b[0mfonksiyon\u001b[0m\u001b[1;33m(\u001b[0m\u001b[1;33m)\u001b[0m\u001b[1;33m:\u001b[0m\u001b[1;33m\u001b[0m\u001b[1;33m\u001b[0m\u001b[0m\n\u001b[0;32m      2\u001b[0m     \u001b[0mprint\u001b[0m\u001b[1;33m(\u001b[0m\u001b[0ms\u001b[0m\u001b[1;33m)\u001b[0m\u001b[1;33m\u001b[0m\u001b[1;33m\u001b[0m\u001b[0m\n\u001b[1;32m----> 3\u001b[1;33m \u001b[0mfonksiyon\u001b[0m\u001b[1;33m(\u001b[0m\u001b[1;33m)\u001b[0m\u001b[1;33m\u001b[0m\u001b[1;33m\u001b[0m\u001b[0m\n\u001b[0m\u001b[0;32m      4\u001b[0m \u001b[0ms\u001b[0m \u001b[1;33m=\u001b[0m \u001b[1;34m\"python\"\u001b[0m\u001b[1;33m\u001b[0m\u001b[1;33m\u001b[0m\u001b[0m\n",
      "\u001b[1;32mC:\\Users\\ADMCN_~1\\AppData\\Local\\Temp/ipykernel_4432/2588543627.py\u001b[0m in \u001b[0;36mfonksiyon\u001b[1;34m()\u001b[0m\n\u001b[0;32m      1\u001b[0m \u001b[1;32mdef\u001b[0m \u001b[0mfonksiyon\u001b[0m\u001b[1;33m(\u001b[0m\u001b[1;33m)\u001b[0m\u001b[1;33m:\u001b[0m\u001b[1;33m\u001b[0m\u001b[1;33m\u001b[0m\u001b[0m\n\u001b[1;32m----> 2\u001b[1;33m     \u001b[0mprint\u001b[0m\u001b[1;33m(\u001b[0m\u001b[0ms\u001b[0m\u001b[1;33m)\u001b[0m\u001b[1;33m\u001b[0m\u001b[1;33m\u001b[0m\u001b[0m\n\u001b[0m\u001b[0;32m      3\u001b[0m \u001b[0mfonksiyon\u001b[0m\u001b[1;33m(\u001b[0m\u001b[1;33m)\u001b[0m\u001b[1;33m\u001b[0m\u001b[1;33m\u001b[0m\u001b[0m\n\u001b[0;32m      4\u001b[0m \u001b[0ms\u001b[0m \u001b[1;33m=\u001b[0m \u001b[1;34m\"python\"\u001b[0m\u001b[1;33m\u001b[0m\u001b[1;33m\u001b[0m\u001b[0m\n",
      "\u001b[1;31mNameError\u001b[0m: name 's' is not defined"
     ]
    }
   ],
   "source": [
    "def fonksiyon():\n",
    "    print(s)\n",
    "fonksiyon()\n",
    "s = \"python\"\n"
   ]
  },
  {
   "cell_type": "code",
   "execution_count": 63,
   "metadata": {},
   "outputs": [
    {
     "name": "stdout",
     "output_type": "stream",
     "text": [
      "python\n"
     ]
    }
   ],
   "source": [
    "s = \"python\"\n",
    "def fonksiyon():\n",
    "    print(s)\n",
    "fonksiyon()"
   ]
  },
  {
   "cell_type": "code",
   "execution_count": 64,
   "metadata": {},
   "outputs": [
    {
     "name": "stdout",
     "output_type": "stream",
     "text": [
      "5\n",
      "10\n"
     ]
    }
   ],
   "source": [
    "c = 10\n",
    "def fonksiyon():\n",
    "    c = 5\n",
    "    print(c)\n",
    "fonksiyon()\n",
    "print(c)"
   ]
  },
  {
   "cell_type": "code",
   "execution_count": 65,
   "metadata": {},
   "outputs": [
    {
     "name": "stdout",
     "output_type": "stream",
     "text": [
      "5\n",
      "5\n"
     ]
    }
   ],
   "source": [
    "c = 10\n",
    "def fonksiyon():\n",
    "    global c\n",
    "    c = 5\n",
    "    print(c)\n",
    "fonksiyon()\n",
    "print(c)"
   ]
  },
  {
   "cell_type": "markdown",
   "metadata": {},
   "source": [
    "## Lambda"
   ]
  },
  {
   "cell_type": "code",
   "execution_count": 68,
   "metadata": {},
   "outputs": [
    {
     "data": {
      "text/plain": [
       "[2, 4, 6, 8, 10]"
      ]
     },
     "execution_count": 68,
     "metadata": {},
     "output_type": "execute_result"
    }
   ],
   "source": [
    "liste1 = [1,2,3,4,5]\n",
    "liste2 = [i*2 for i in liste1]\n",
    "liste2"
   ]
  },
  {
   "cell_type": "code",
   "execution_count": 69,
   "metadata": {},
   "outputs": [
    {
     "name": "stdout",
     "output_type": "stream",
     "text": [
      "20\n"
     ]
    }
   ],
   "source": [
    "def ikiyleCarp(a):\n",
    "    return a * 2\n",
    "print(ikiyleCarp(10))"
   ]
  },
  {
   "cell_type": "code",
   "execution_count": 70,
   "metadata": {},
   "outputs": [
    {
     "data": {
      "text/plain": [
       "<function __main__.<lambda>(num)>"
      ]
     },
     "execution_count": 70,
     "metadata": {},
     "output_type": "execute_result"
    }
   ],
   "source": [
    "lambda num: num * 2\n",
    "ikiyleCarp = lambda num: num * 2"
   ]
  },
  {
   "cell_type": "code",
   "execution_count": 77,
   "metadata": {},
   "outputs": [
    {
     "data": {
      "text/plain": [
       "10"
      ]
     },
     "execution_count": 77,
     "metadata": {},
     "output_type": "execute_result"
    }
   ],
   "source": [
    "\n",
    "ikiyleCarp(5)"
   ]
  },
  {
   "cell_type": "code",
   "execution_count": 78,
   "metadata": {},
   "outputs": [
    {
     "name": "stdout",
     "output_type": "stream",
     "text": [
      "135\n"
     ]
    }
   ],
   "source": [
    "def toplama(x,y,z):\n",
    "    return x + y + z\n",
    "print(toplama(12,45,78))"
   ]
  },
  {
   "cell_type": "code",
   "execution_count": 79,
   "metadata": {},
   "outputs": [
    {
     "name": "stdout",
     "output_type": "stream",
     "text": [
      "135\n"
     ]
    }
   ],
   "source": [
    "toplama = lambda a,b,c: a + b + c\n",
    "print(toplama(12,45,78))"
   ]
  },
  {
   "cell_type": "code",
   "execution_count": 80,
   "metadata": {},
   "outputs": [
    {
     "name": "stdout",
     "output_type": "stream",
     "text": [
      "meda\n"
     ]
    }
   ],
   "source": [
    "def tersCevir(s):\n",
    "    return s[::-1]\n",
    "print(tersCevir(\"adem\"))"
   ]
  },
  {
   "cell_type": "code",
   "execution_count": 81,
   "metadata": {},
   "outputs": [
    {
     "name": "stdout",
     "output_type": "stream",
     "text": [
      "meda\n"
     ]
    }
   ],
   "source": [
    "tersCevir = lambda s: s[::-1]\n",
    "print(tersCevir(\"adem\"))"
   ]
  },
  {
   "cell_type": "code",
   "execution_count": 82,
   "metadata": {},
   "outputs": [
    {
     "name": "stdout",
     "output_type": "stream",
     "text": [
      "ıcrıkab\n"
     ]
    }
   ],
   "source": [
    "print(tersCevir(\"bakırcı\"))"
   ]
  },
  {
   "cell_type": "code",
   "execution_count": 84,
   "metadata": {},
   "outputs": [
    {
     "data": {
      "text/plain": [
       "True"
      ]
     },
     "execution_count": 84,
     "metadata": {},
     "output_type": "execute_result"
    }
   ],
   "source": [
    "def ciftTek(a):\n",
    "    return a % 2 == 0\n",
    "print(ciftTek(20))        "
   ]
  },
  {
   "cell_type": "code",
   "execution_count": 85,
   "metadata": {},
   "outputs": [
    {
     "name": "stdout",
     "output_type": "stream",
     "text": [
      "True\n"
     ]
    }
   ],
   "source": [
    "ciftTek = lambda a: a % 2 == 0\n",
    "print(ciftTek(20)) "
   ]
  },
  {
   "cell_type": "code",
   "execution_count": 86,
   "metadata": {},
   "outputs": [
    {
     "name": "stdout",
     "output_type": "stream",
     "text": [
      "False\n"
     ]
    }
   ],
   "source": [
    "print(ciftTek(19))"
   ]
  },
  {
   "cell_type": "markdown",
   "metadata": {},
   "source": [
    "## ASAL SAYI BULMA PROBLEMİ"
   ]
  },
  {
   "cell_type": "code",
   "execution_count": 114,
   "metadata": {},
   "outputs": [
    {
     "name": "stdout",
     "output_type": "stream",
     "text": [
      "sayı1: 1\n",
      "sayı2: 10\n",
      "2\n",
      "3\n",
      "5\n",
      "7\n"
     ]
    }
   ],
   "source": [
    "def asalSayıBul(sayi1,sayi2):\n",
    "    for i in range(sayi1,sayi2+1):\n",
    "        \n",
    "        if i > 1:\n",
    "            for x in  range(2,i):\n",
    "                if i % x == 0:\n",
    "                    \n",
    "                    break\n",
    "            else:\n",
    "                print(i)\n",
    "    \n",
    "               \n",
    "sayi1 = int(input(\"sayı1: \"))\n",
    "sayi2 = int(input(\"sayı2: \"))\n",
    "\n",
    "asalSayıBul(sayi1,sayi2)\n"
   ]
  },
  {
   "cell_type": "markdown",
   "metadata": {},
   "source": [
    " ## TAM SAYI BÖLENLERİNİ BULMA\n",
    "    \n",
    "    \n",
    "    "
   ]
  },
  {
   "cell_type": "code",
   "execution_count": 2,
   "metadata": {},
   "outputs": [
    {
     "name": "stdout",
     "output_type": "stream",
     "text": [
      "sayı: 25\n",
      "tam bölenler:  [1, 5, 25]\n",
      "sayı: q\n"
     ]
    }
   ],
   "source": [
    "def tamSayıBölenleriniBul(sayi):\n",
    "    \n",
    "    list = []\n",
    "    for i in range(1,sayi+1):\n",
    "        if sayi % i == 0:\n",
    "            list.append(i)\n",
    "    return list\n",
    "while True:\n",
    "    sayi = input(\"sayı: \")\n",
    "    \n",
    "    if sayi == \"q\":\n",
    "        break\n",
    "    else:\n",
    "        sayi = int(sayi)\n",
    "        print(\"tam bölenler: \",tamSayıBölenleriniBul(sayi))\n",
    "    \n",
    "    \n",
    "          "
   ]
  },
  {
   "cell_type": "code",
   "execution_count": 3,
   "metadata": {},
   "outputs": [
    {
     "data": {
      "text/plain": [
       "[1, 5, 25]"
      ]
     },
     "execution_count": 3,
     "metadata": {},
     "output_type": "execute_result"
    }
   ],
   "source": [
    "tamSayıBölenleriniBul(25)"
   ]
  },
  {
   "cell_type": "markdown",
   "metadata": {},
   "source": [
    "## Problem 1\n",
    "1'den 1000'e kadar olan sayılardan mükemmel sayı olanları ekrana yazdırın. Bunun için bir sayının mükemmel olup olmadığını dönen bir tane fonksiyon yazın.\n",
    "\n",
    "Bir sayının bölenlerinin toplamı kendine eşitse bu sayı mükemmel bir sayıdır. Örnek olarak 6 mükemmel bir sayıdır (1 + 2 + 3 = 6)."
   ]
  },
  {
   "cell_type": "code",
   "execution_count": 41,
   "metadata": {},
   "outputs": [
    {
     "name": "stdout",
     "output_type": "stream",
     "text": [
      "MUKEMMEL 6\n",
      "MUKEMMEL 28\n",
      "MUKEMMEL 496\n",
      "MUKEMMEL 8128\n"
     ]
    }
   ],
   "source": [
    "def mukemmelSayıBul(sayi):\n",
    "  \n",
    "    total = 0\n",
    "    \n",
    "    for i in range(1,sayi):\n",
    "        if sayi % i == 0:\n",
    "            total += i\n",
    "    return total == sayi\n",
    "\n",
    "for x in range(1,10001):\n",
    "    if mukemmelSayıBul(x):\n",
    "        print(\"MUKEMMEL\",x)\n",
    "    \n",
    "                \n",
    "                    \n",
    "\n",
    "                "
   ]
  },
  {
   "cell_type": "markdown",
   "metadata": {},
   "source": [
    "## Problem 2\n",
    "Kullanıcıdan 2 tane sayı alarak bu sayıların en büyük ortak bölenini (EBOB) dönen bir tane fonksiyon yazın.\n",
    "\n",
    "Problem için şu siteye bakabilirsiniz;\n",
    "\n",
    "http://www.matematikciler.com/6-sinif/matematik-konu-anlatimlari/1020-en-kucuk-ortak-kat-ve-en-buyuk-ortak-bolen-ebob-ekok"
   ]
  },
  {
   "cell_type": "code",
   "execution_count": 58,
   "metadata": {},
   "outputs": [
    {
     "name": "stdout",
     "output_type": "stream",
     "text": [
      "sayı-1 gir: 10\n",
      "sayi-2 gir: 20\n"
     ]
    },
    {
     "data": {
      "text/plain": [
       "10"
      ]
     },
     "execution_count": 58,
     "metadata": {},
     "output_type": "execute_result"
    }
   ],
   "source": [
    "import numpy as np\n",
    "\n",
    "def ebobBul(sayi1,sayi2):\n",
    "    \n",
    "    return np.gcd(sayi1,sayi2)\n",
    "    \n",
    "sayi1 = int (input(\"sayı-1 gir: \"))\n",
    "sayi2 = int(input(\"sayi-2 gir: \"))\n",
    "\n",
    "ebobBul(sayi1,sayi2)    \n",
    "    \n",
    "    "
   ]
  },
  {
   "cell_type": "code",
   "execution_count": 72,
   "metadata": {},
   "outputs": [
    {
     "name": "stdout",
     "output_type": "stream",
     "text": [
      "sayı-1 gir: 15\n",
      "sayi-2 gir: 20\n",
      "ebob:  5\n"
     ]
    }
   ],
   "source": [
    "def ebobBul(sayi1,sayi2):\n",
    "    \n",
    "    sayi1 = int (input(\"sayı-1 gir: \"))\n",
    "    sayi2 = int(input(\"sayi-2 gir: \"))\n",
    "    \n",
    "    \n",
    "    i = 1\n",
    "    ebob = 1\n",
    "    while (i <= sayi1 and i <= sayi2):\n",
    "        \n",
    "        if (not(sayi1 % i)) and (not(sayi2 % i)):\n",
    "            ebob = i\n",
    "        i += 1\n",
    "    return ebob\n",
    "  \n",
    "    \n",
    "        \n",
    "        \n",
    "print(\"ebob: \",ebobBul(sayi1,sayi2) )    "
   ]
  },
  {
   "cell_type": "code",
   "execution_count": 41,
   "metadata": {},
   "outputs": [
    {
     "name": "stdout",
     "output_type": "stream",
     "text": [
      "Sayı-1:32\n",
      "Sayı-2:36\n",
      "Ebob: 4\n"
     ]
    }
   ],
   "source": [
    "\n",
    "def ebob_bulma(sayı1,sayı2):\n",
    "    \n",
    "    i = 1\n",
    "    ebob = 1\n",
    "    while (i <= sayı1 and i <= sayı2 ):\n",
    "\n",
    "        if ( (sayı1 % i == 0) and (sayı2 % i == 0)):\n",
    "            ebob = i\n",
    "        i += 1\n",
    "    return ebob\n",
    "sayı1 = int(input(\"Sayı-1:\"))\n",
    "sayı2 = int(input(\"Sayı-2:\"))\n",
    "\n",
    "print(\"Ebob:\",ebob_bulma(sayı1,sayı2))\n",
    "\n"
   ]
  },
  {
   "cell_type": "code",
   "execution_count": 59,
   "metadata": {},
   "outputs": [
    {
     "data": {
      "text/plain": [
       "5"
      ]
     },
     "execution_count": 59,
     "metadata": {},
     "output_type": "execute_result"
    }
   ],
   "source": [
    "math.gcd(20,15)"
   ]
  },
  {
   "cell_type": "markdown",
   "metadata": {},
   "source": [
    "## Problem 3\n",
    "Kullanıcıdan 2 tane sayı alarak bu sayıların en küçük ortak katlarını (EKOK) dönen bir tane fonksiyon yazın.\n",
    "\n",
    "Problem için şu siteye bakabilirsiniz;\n",
    "\n",
    "http://www.matematikciler.com/6-sinif/matematik-konu-anlatimlari/1020-en-kucuk-ortak-kat-ve-en-buyuk-ortak-bolen-ebob-ekok"
   ]
  },
  {
   "cell_type": "code",
   "execution_count": 48,
   "metadata": {},
   "outputs": [
    {
     "name": "stdout",
     "output_type": "stream",
     "text": [
      "sayı-1 gir: 5\n",
      "sayı-2 gir: 10\n",
      "10\n"
     ]
    }
   ],
   "source": [
    "import math\n",
    "def ekokBul(sayi1,sayi2):\n",
    "    \n",
    "    sayi1 = int(input(\"sayı-1 gir: \"))\n",
    "    sayi2 = int(input(\"sayı-2 gir: \"))\n",
    "    \n",
    "    return math.lcm(sayi1,sayi2)\n",
    "print(ekokBul(\"sayi1\",\"sayi2\"))\n",
    "    "
   ]
  },
  {
   "cell_type": "code",
   "execution_count": 109,
   "metadata": {},
   "outputs": [
    {
     "name": "stdout",
     "output_type": "stream",
     "text": [
      "sayı-1 gir: 10\n",
      "sayı-2 gir: 20\n",
      "EKOK: 20\n"
     ]
    }
   ],
   "source": [
    "\n",
    "\n",
    "def ekokBul(sayi1,sayi2):\n",
    "    \n",
    "\n",
    "    \n",
    "    list = []\n",
    "    \n",
    "    if sayi1 <= sayi2:\n",
    "        for i in range(sayi2,(sayi1 * sayi2)):\n",
    "            \n",
    "            if ((i % sayi1) == 0) and ((i % sayi2) == 0):\n",
    "                list.append(i)\n",
    "                \n",
    "                \n",
    "                           \n",
    "    elif sayi2 < sayi1:\n",
    "        \n",
    "        for i in range(sayi1,(sayi1 * sayi2)):\n",
    "            \n",
    "            if ((i % sayi1) == 0) and ((i % sayi2) == 0):\n",
    "                list.append(i)\n",
    "                \n",
    "    return list[0]\n",
    "    \n",
    "\n",
    "sayi1 = int(input(\"sayı-1 gir: \"))\n",
    "sayi2 = int(input(\"sayı-2 gir: \"))\n",
    "\n",
    "        \n",
    "print(\"EKOK:\",ekokBul(sayi1,sayi2))      \n",
    "                       \n",
    "                       \n",
    "                       \n",
    "        \n",
    "    \n",
    "    \n",
    "    \n",
    "    \n",
    "    \n",
    "    "
   ]
  },
  {
   "cell_type": "markdown",
   "metadata": {},
   "source": [
    "## Problem 4¶\n",
    "Kullanıcıdan 2 basamaklı bir sayı alın ve bu sayının okunuşunu bulan bir fonksiyon yazın.\n",
    "\n",
    "Örnek: 97 ---------> Doksan Yedi"
   ]
  },
  {
   "cell_type": "code",
   "execution_count": 117,
   "metadata": {
    "scrolled": true
   },
   "outputs": [
    {
     "name": "stdout",
     "output_type": "stream",
     "text": [
      "iki basamaklı sayı girin:12\n"
     ]
    }
   ],
   "source": [
    "def okunuşuBul(sayi):\n",
    "    import inflect\n",
    "    p = inflect.engine()\n",
    "    okunuşuBul = p.number_to_words(sayi)\n",
    "\n",
    "    return okunuşuBul\n",
    "\n",
    "sayi = int(input(\"iki basamaklı sayı girin:\"))\n",
    "\n"
   ]
  },
  {
   "cell_type": "code",
   "execution_count": 125,
   "metadata": {},
   "outputs": [
    {
     "data": {
      "text/plain": [
       "'ninety-seven'"
      ]
     },
     "execution_count": 125,
     "metadata": {},
     "output_type": "execute_result"
    }
   ],
   "source": [
    "#!pip install inflect\n",
    "#import inflect\n",
    "p = inflect.engine()\n",
    "okunuşuBul = p.number_to_words(97)\n",
    "okunuşuBul"
   ]
  },
  {
   "cell_type": "code",
   "execution_count": 105,
   "metadata": {},
   "outputs": [
    {
     "name": "stdout",
     "output_type": "stream",
     "text": [
      "iki basamaklı sayı girin:-5\n"
     ]
    },
    {
     "ename": "AssertionError",
     "evalue": "",
     "output_type": "error",
     "traceback": [
      "\u001b[1;31m---------------------------------------------------------------------------\u001b[0m",
      "\u001b[1;31mAssertionError\u001b[0m                            Traceback (most recent call last)",
      "\u001b[1;32mC:\\Users\\ADMCN_~1\\AppData\\Local\\Temp/ipykernel_4892/1713599611.py\u001b[0m in \u001b[0;36m<module>\u001b[1;34m\u001b[0m\n\u001b[0;32m     15\u001b[0m \u001b[1;33m\u001b[0m\u001b[0m\n\u001b[0;32m     16\u001b[0m \u001b[0msayi\u001b[0m \u001b[1;33m=\u001b[0m \u001b[0mint\u001b[0m\u001b[1;33m(\u001b[0m\u001b[0minput\u001b[0m\u001b[1;33m(\u001b[0m\u001b[1;34m\"iki basamaklı sayı girin:\"\u001b[0m\u001b[1;33m)\u001b[0m\u001b[1;33m)\u001b[0m\u001b[1;33m\u001b[0m\u001b[1;33m\u001b[0m\u001b[0m\n\u001b[1;32m---> 17\u001b[1;33m \u001b[0mprint\u001b[0m\u001b[1;33m(\u001b[0m\u001b[0mnumarayıYazıyaCevir\u001b[0m\u001b[1;33m(\u001b[0m\u001b[0msayi\u001b[0m\u001b[1;33m)\u001b[0m\u001b[1;33m)\u001b[0m\u001b[1;33m\u001b[0m\u001b[1;33m\u001b[0m\u001b[0m\n\u001b[0m\u001b[0;32m     18\u001b[0m \u001b[1;33m\u001b[0m\u001b[0m\n",
      "\u001b[1;32mC:\\Users\\ADMCN_~1\\AppData\\Local\\Temp/ipykernel_4892/1713599611.py\u001b[0m in \u001b[0;36mnumarayıYazıyaCevir\u001b[1;34m(sayi)\u001b[0m\n\u001b[0;32m      4\u001b[0m          10: \"on\",20:\"yirmi\", 30: \"otuz\", 40: \"kırk\", 50: \"elli\", 60: \"altmış\", 70: \"yetmiş\", 80:\"seksen\", 90: \"doksan\"}\n\u001b[0;32m      5\u001b[0m \u001b[1;33m\u001b[0m\u001b[0m\n\u001b[1;32m----> 6\u001b[1;33m     \u001b[1;32massert\u001b[0m \u001b[1;33m(\u001b[0m\u001b[1;36m0\u001b[0m \u001b[1;33m<\u001b[0m \u001b[0msayi\u001b[0m\u001b[1;33m)\u001b[0m \u001b[1;32mand\u001b[0m \u001b[1;33m(\u001b[0m\u001b[0msayi\u001b[0m \u001b[1;33m<\u001b[0m \u001b[1;36m100\u001b[0m\u001b[1;33m)\u001b[0m\u001b[1;33m\u001b[0m\u001b[1;33m\u001b[0m\u001b[0m\n\u001b[0m\u001b[0;32m      7\u001b[0m     \u001b[1;32mif\u001b[0m \u001b[0msayi\u001b[0m \u001b[1;33m%\u001b[0m \u001b[1;36m10\u001b[0m \u001b[1;33m==\u001b[0m \u001b[1;36m0\u001b[0m\u001b[1;33m:\u001b[0m\u001b[1;33m\u001b[0m\u001b[1;33m\u001b[0m\u001b[0m\n\u001b[0;32m      8\u001b[0m         \u001b[1;32mreturn\u001b[0m \u001b[0md\u001b[0m\u001b[1;33m[\u001b[0m\u001b[0msayi\u001b[0m\u001b[1;33m]\u001b[0m\u001b[1;33m\u001b[0m\u001b[1;33m\u001b[0m\u001b[0m\n",
      "\u001b[1;31mAssertionError\u001b[0m: "
     ]
    }
   ],
   "source": [
    "\n",
    "def numarayıYazıyaCevir(sayi):\n",
    "    \n",
    "    d = {0: \"sıfır\", 1:\"bir\",2: \"iki\", 3: \"üç\", 4: \"dört\", 5: \"beş\", 6: \"altı\", 7: \"yedi\", 8: \"sekiz\", 9:\"dokuz\",\n",
    "         10: \"on\",20:\"yirmi\", 30: \"otuz\", 40: \"kırk\", 50: \"elli\", 60: \"altmış\", 70: \"yetmiş\", 80:\"seksen\", 90: \"doksan\"}\n",
    "    \n",
    "    assert (0 < sayi) and (sayi < 100)\n",
    "    if sayi % 10 == 0:\n",
    "        return d[sayi]\n",
    "        \n",
    "    elif sayi <= 10:\n",
    "        return d[sayi]\n",
    "        \n",
    "    elif sayi > 10 and sayi < 100:\n",
    "        return d[(sayi // 10) *10 ]+\" \"+d[sayi % 10]\n",
    "        \n",
    "sayi = int(input(\"iki basamaklı sayı girin:\"))          \n",
    "print(numarayıYazıyaCevir(sayi))   \n",
    "\n"
   ]
  },
  {
   "cell_type": "code",
   "execution_count": 137,
   "metadata": {},
   "outputs": [
    {
     "name": "stdout",
     "output_type": "stream",
     "text": [
      "The \"assert\" statement\n",
      "**********************\n",
      "\n",
      "Assert statements are a convenient way to insert debugging assertions\n",
      "into a program:\n",
      "\n",
      "   assert_stmt ::= \"assert\" expression [\",\" expression]\n",
      "\n",
      "The simple form, \"assert expression\", is equivalent to\n",
      "\n",
      "   if __debug__:\n",
      "       if not expression: raise AssertionError\n",
      "\n",
      "The extended form, \"assert expression1, expression2\", is equivalent to\n",
      "\n",
      "   if __debug__:\n",
      "       if not expression1: raise AssertionError(expression2)\n",
      "\n",
      "These equivalences assume that \"__debug__\" and \"AssertionError\" refer\n",
      "to the built-in variables with those names.  In the current\n",
      "implementation, the built-in variable \"__debug__\" is \"True\" under\n",
      "normal circumstances, \"False\" when optimization is requested (command\n",
      "line option \"-O\").  The current code generator emits no code for an\n",
      "assert statement when optimization is requested at compile time.  Note\n",
      "that it is unnecessary to include the source code for the expression\n",
      "that failed in the error message; it will be displayed as part of the\n",
      "stack trace.\n",
      "\n",
      "Assignments to \"__debug__\" are illegal.  The value for the built-in\n",
      "variable is determined when the interpreter starts.\n",
      "\n",
      "None\n"
     ]
    }
   ],
   "source": [
    "print(help(\"assert\"))\n",
    "    "
   ]
  },
  {
   "cell_type": "markdown",
   "metadata": {},
   "source": [
    "## Problem 5\n",
    "1'den 100'e kadar olan sayılardan pisagor üçgeni oluşturanları ekrana yazdıran bir fonksiyon yazın.(a <= 100,b <= 100)"
   ]
  },
  {
   "cell_type": "code",
   "execution_count": 238,
   "metadata": {},
   "outputs": [
    {
     "name": "stdout",
     "output_type": "stream",
     "text": [
      "(3, 4, 5)\n",
      "(4, 3, 5)\n",
      "(5, 12, 13)\n",
      "(6, 8, 10)\n",
      "(7, 24, 25)\n",
      "(8, 6, 10)\n",
      "(8, 15, 17)\n",
      "(9, 12, 15)\n",
      "(9, 40, 41)\n",
      "(10, 24, 26)\n",
      "(11, 60, 61)\n",
      "(12, 5, 13)\n",
      "(12, 9, 15)\n",
      "(12, 16, 20)\n",
      "(12, 35, 37)\n",
      "(13, 84, 85)\n",
      "(14, 48, 50)\n",
      "(15, 8, 17)\n",
      "(15, 20, 25)\n",
      "(15, 36, 39)\n",
      "(16, 12, 20)\n",
      "(16, 30, 34)\n",
      "(16, 63, 65)\n",
      "(18, 24, 30)\n",
      "(18, 80, 82)\n",
      "(20, 15, 25)\n",
      "(20, 21, 29)\n",
      "(20, 48, 52)\n",
      "(20, 99, 101)\n",
      "(21, 20, 29)\n",
      "(21, 28, 35)\n",
      "(21, 72, 75)\n",
      "(24, 7, 25)\n",
      "(24, 10, 26)\n",
      "(24, 18, 30)\n",
      "(24, 32, 40)\n",
      "(24, 45, 51)\n",
      "(24, 70, 74)\n",
      "(25, 60, 65)\n",
      "(27, 36, 45)\n",
      "(28, 21, 35)\n",
      "(28, 45, 53)\n",
      "(28, 96, 100)\n",
      "(30, 16, 34)\n",
      "(30, 40, 50)\n",
      "(30, 72, 78)\n",
      "(32, 24, 40)\n",
      "(32, 60, 68)\n",
      "(33, 44, 55)\n",
      "(33, 56, 65)\n",
      "(35, 12, 37)\n",
      "(35, 84, 91)\n",
      "(36, 15, 39)\n",
      "(36, 27, 45)\n",
      "(36, 48, 60)\n",
      "(36, 77, 85)\n",
      "(39, 52, 65)\n",
      "(39, 80, 89)\n",
      "(40, 9, 41)\n",
      "(40, 30, 50)\n",
      "(40, 42, 58)\n",
      "(40, 75, 85)\n",
      "(40, 96, 104)\n",
      "(42, 40, 58)\n",
      "(42, 56, 70)\n",
      "(44, 33, 55)\n",
      "(45, 24, 51)\n",
      "(45, 28, 53)\n",
      "(45, 60, 75)\n",
      "(48, 14, 50)\n",
      "(48, 20, 52)\n",
      "(48, 36, 60)\n",
      "(48, 55, 73)\n",
      "(48, 64, 80)\n",
      "(48, 90, 102)\n",
      "(51, 68, 85)\n",
      "(52, 39, 65)\n",
      "(54, 72, 90)\n",
      "(55, 48, 73)\n",
      "(56, 33, 65)\n",
      "(56, 42, 70)\n",
      "(56, 90, 106)\n",
      "(57, 76, 95)\n",
      "(60, 11, 61)\n",
      "(60, 25, 65)\n",
      "(60, 32, 68)\n",
      "(60, 45, 75)\n",
      "(60, 63, 87)\n",
      "(60, 80, 100)\n",
      "(60, 91, 109)\n",
      "(63, 16, 65)\n",
      "(63, 60, 87)\n",
      "(63, 84, 105)\n",
      "(64, 48, 80)\n",
      "(65, 72, 97)\n",
      "(66, 88, 110)\n",
      "(68, 51, 85)\n",
      "(69, 92, 115)\n",
      "(70, 24, 74)\n",
      "(72, 21, 75)\n",
      "(72, 30, 78)\n",
      "(72, 54, 90)\n",
      "(72, 65, 97)\n",
      "(72, 96, 120)\n",
      "(75, 40, 85)\n",
      "(75, 100, 125)\n",
      "(76, 57, 95)\n",
      "(77, 36, 85)\n",
      "(80, 18, 82)\n",
      "(80, 39, 89)\n",
      "(80, 60, 100)\n",
      "(80, 84, 116)\n",
      "(84, 13, 85)\n",
      "(84, 35, 91)\n",
      "(84, 63, 105)\n",
      "(84, 80, 116)\n",
      "(88, 66, 110)\n",
      "(90, 48, 102)\n",
      "(90, 56, 106)\n",
      "(91, 60, 109)\n",
      "(92, 69, 115)\n",
      "(96, 28, 100)\n",
      "(96, 40, 104)\n",
      "(96, 72, 120)\n",
      "(99, 20, 101)\n",
      "(100, 75, 125)\n"
     ]
    }
   ],
   "source": [
    "def pisagor_bulma():\n",
    "    \n",
    "    list = []\n",
    "    for i in range(1,101):\n",
    "        for j in range(1,101):\n",
    "\n",
    "            c = (i ** 2 + j ** 2) ** 0.5\n",
    "\n",
    "            if (c == int(c) ):\n",
    "                list.append((i,j,int(c)))\n",
    "\n",
    "    return list\n",
    "\n",
    "for i in pisagor_bulma():\n",
    "    print(i)        "
   ]
  },
  {
   "cell_type": "code",
   "execution_count": 221,
   "metadata": {},
   "outputs": [
    {
     "data": {
      "text/plain": [
       "float"
      ]
     },
     "execution_count": 221,
     "metadata": {},
     "output_type": "execute_result"
    }
   ],
   "source": [
    "type((10 ** 2 + 4 ** 2) ** (0.5)) "
   ]
  },
  {
   "cell_type": "code",
   "execution_count": 1,
   "metadata": {},
   "outputs": [
    {
     "name": "stdout",
     "output_type": "stream",
     "text": [
      "1990\n",
      "False\n"
     ]
    }
   ],
   "source": [
    "def is_leap(year):\n",
    "    leap = False\n",
    "    \n",
    "    for i in range(1900,((10 ** 5) + 1)):\n",
    "        if year % 4 == 0:\n",
    "            leap = True\n",
    "        else:\n",
    "            leap = False\n",
    "            \n",
    "            \n",
    "            \n",
    "    \n",
    "    \n",
    "    \n",
    "    return leap\n",
    "\n",
    "year = int(input())\n",
    "print(is_leap(year))"
   ]
  },
  {
   "cell_type": "code",
   "execution_count": 4,
   "metadata": {},
   "outputs": [
    {
     "name": "stdout",
     "output_type": "stream",
     "text": [
      "True\n"
     ]
    }
   ],
   "source": [
    "print(is_leap(2024))"
   ]
  },
  {
   "cell_type": "code",
   "execution_count": 25,
   "metadata": {},
   "outputs": [
    {
     "name": "stdout",
     "output_type": "stream",
     "text": [
      "3\n",
      "123"
     ]
    }
   ],
   "source": [
    "n = int(input())\n",
    "for i in range(1,n + 1):\n",
    "    i = str(i)\n",
    "    print(i,end = \"\")\n",
    "    "
   ]
  },
  {
   "cell_type": "code",
   "execution_count": 32,
   "metadata": {},
   "outputs": [
    {
     "name": "stdout",
     "output_type": "stream",
     "text": [
      "200\n",
      "123456789101112131415161718192021222324252627282930313233343536373839404142434445464748495051525354555657585960616263646566676869707172737475767778798081828384858687888990919293949596979899100101102103104105106107108109110111112113114115116117118119120121122123124125126127128129130131132133134135136137138139140141142143144145146147148149150"
     ]
    }
   ],
   "source": [
    "n = int(input())\n",
    "\n",
    "for i in range(1,n + 1):\n",
    "    i = str(i)\n",
    "    print(i,end = \"\")\n",
    "    i = int(i)\n",
    "    if i > 149:\n",
    "        break"
   ]
  },
  {
   "cell_type": "markdown",
   "metadata": {},
   "source": [
    "\n",
    "## MODULLER"
   ]
  },
  {
   "cell_type": "code",
   "execution_count": 239,
   "metadata": {},
   "outputs": [],
   "source": [
    "import math"
   ]
  },
  {
   "cell_type": "code",
   "execution_count": 240,
   "metadata": {},
   "outputs": [
    {
     "data": {
      "text/plain": [
       "['__doc__',\n",
       " '__loader__',\n",
       " '__name__',\n",
       " '__package__',\n",
       " '__spec__',\n",
       " 'acos',\n",
       " 'acosh',\n",
       " 'asin',\n",
       " 'asinh',\n",
       " 'atan',\n",
       " 'atan2',\n",
       " 'atanh',\n",
       " 'ceil',\n",
       " 'comb',\n",
       " 'copysign',\n",
       " 'cos',\n",
       " 'cosh',\n",
       " 'degrees',\n",
       " 'dist',\n",
       " 'e',\n",
       " 'erf',\n",
       " 'erfc',\n",
       " 'exp',\n",
       " 'expm1',\n",
       " 'fabs',\n",
       " 'factorial',\n",
       " 'floor',\n",
       " 'fmod',\n",
       " 'frexp',\n",
       " 'fsum',\n",
       " 'gamma',\n",
       " 'gcd',\n",
       " 'hypot',\n",
       " 'inf',\n",
       " 'isclose',\n",
       " 'isfinite',\n",
       " 'isinf',\n",
       " 'isnan',\n",
       " 'isqrt',\n",
       " 'lcm',\n",
       " 'ldexp',\n",
       " 'lgamma',\n",
       " 'log',\n",
       " 'log10',\n",
       " 'log1p',\n",
       " 'log2',\n",
       " 'modf',\n",
       " 'nan',\n",
       " 'nextafter',\n",
       " 'perm',\n",
       " 'pi',\n",
       " 'pow',\n",
       " 'prod',\n",
       " 'radians',\n",
       " 'remainder',\n",
       " 'sin',\n",
       " 'sinh',\n",
       " 'sqrt',\n",
       " 'tan',\n",
       " 'tanh',\n",
       " 'tau',\n",
       " 'trunc',\n",
       " 'ulp']"
      ]
     },
     "execution_count": 240,
     "metadata": {},
     "output_type": "execute_result"
    }
   ],
   "source": [
    "dir(math)"
   ]
  },
  {
   "cell_type": "code",
   "execution_count": 241,
   "metadata": {},
   "outputs": [
    {
     "name": "stdout",
     "output_type": "stream",
     "text": [
      "Help on built-in module math:\n",
      "\n",
      "NAME\n",
      "    math\n",
      "\n",
      "DESCRIPTION\n",
      "    This module provides access to the mathematical functions\n",
      "    defined by the C standard.\n",
      "\n",
      "FUNCTIONS\n",
      "    acos(x, /)\n",
      "        Return the arc cosine (measured in radians) of x.\n",
      "        \n",
      "        The result is between 0 and pi.\n",
      "    \n",
      "    acosh(x, /)\n",
      "        Return the inverse hyperbolic cosine of x.\n",
      "    \n",
      "    asin(x, /)\n",
      "        Return the arc sine (measured in radians) of x.\n",
      "        \n",
      "        The result is between -pi/2 and pi/2.\n",
      "    \n",
      "    asinh(x, /)\n",
      "        Return the inverse hyperbolic sine of x.\n",
      "    \n",
      "    atan(x, /)\n",
      "        Return the arc tangent (measured in radians) of x.\n",
      "        \n",
      "        The result is between -pi/2 and pi/2.\n",
      "    \n",
      "    atan2(y, x, /)\n",
      "        Return the arc tangent (measured in radians) of y/x.\n",
      "        \n",
      "        Unlike atan(y/x), the signs of both x and y are considered.\n",
      "    \n",
      "    atanh(x, /)\n",
      "        Return the inverse hyperbolic tangent of x.\n",
      "    \n",
      "    ceil(x, /)\n",
      "        Return the ceiling of x as an Integral.\n",
      "        \n",
      "        This is the smallest integer >= x.\n",
      "    \n",
      "    comb(n, k, /)\n",
      "        Number of ways to choose k items from n items without repetition and without order.\n",
      "        \n",
      "        Evaluates to n! / (k! * (n - k)!) when k <= n and evaluates\n",
      "        to zero when k > n.\n",
      "        \n",
      "        Also called the binomial coefficient because it is equivalent\n",
      "        to the coefficient of k-th term in polynomial expansion of the\n",
      "        expression (1 + x)**n.\n",
      "        \n",
      "        Raises TypeError if either of the arguments are not integers.\n",
      "        Raises ValueError if either of the arguments are negative.\n",
      "    \n",
      "    copysign(x, y, /)\n",
      "        Return a float with the magnitude (absolute value) of x but the sign of y.\n",
      "        \n",
      "        On platforms that support signed zeros, copysign(1.0, -0.0)\n",
      "        returns -1.0.\n",
      "    \n",
      "    cos(x, /)\n",
      "        Return the cosine of x (measured in radians).\n",
      "    \n",
      "    cosh(x, /)\n",
      "        Return the hyperbolic cosine of x.\n",
      "    \n",
      "    degrees(x, /)\n",
      "        Convert angle x from radians to degrees.\n",
      "    \n",
      "    dist(p, q, /)\n",
      "        Return the Euclidean distance between two points p and q.\n",
      "        \n",
      "        The points should be specified as sequences (or iterables) of\n",
      "        coordinates.  Both inputs must have the same dimension.\n",
      "        \n",
      "        Roughly equivalent to:\n",
      "            sqrt(sum((px - qx) ** 2.0 for px, qx in zip(p, q)))\n",
      "    \n",
      "    erf(x, /)\n",
      "        Error function at x.\n",
      "    \n",
      "    erfc(x, /)\n",
      "        Complementary error function at x.\n",
      "    \n",
      "    exp(x, /)\n",
      "        Return e raised to the power of x.\n",
      "    \n",
      "    expm1(x, /)\n",
      "        Return exp(x)-1.\n",
      "        \n",
      "        This function avoids the loss of precision involved in the direct evaluation of exp(x)-1 for small x.\n",
      "    \n",
      "    fabs(x, /)\n",
      "        Return the absolute value of the float x.\n",
      "    \n",
      "    factorial(x, /)\n",
      "        Find x!.\n",
      "        \n",
      "        Raise a ValueError if x is negative or non-integral.\n",
      "    \n",
      "    floor(x, /)\n",
      "        Return the floor of x as an Integral.\n",
      "        \n",
      "        This is the largest integer <= x.\n",
      "    \n",
      "    fmod(x, y, /)\n",
      "        Return fmod(x, y), according to platform C.\n",
      "        \n",
      "        x % y may differ.\n",
      "    \n",
      "    frexp(x, /)\n",
      "        Return the mantissa and exponent of x, as pair (m, e).\n",
      "        \n",
      "        m is a float and e is an int, such that x = m * 2.**e.\n",
      "        If x is 0, m and e are both 0.  Else 0.5 <= abs(m) < 1.0.\n",
      "    \n",
      "    fsum(seq, /)\n",
      "        Return an accurate floating point sum of values in the iterable seq.\n",
      "        \n",
      "        Assumes IEEE-754 floating point arithmetic.\n",
      "    \n",
      "    gamma(x, /)\n",
      "        Gamma function at x.\n",
      "    \n",
      "    gcd(*integers)\n",
      "        Greatest Common Divisor.\n",
      "    \n",
      "    hypot(...)\n",
      "        hypot(*coordinates) -> value\n",
      "        \n",
      "        Multidimensional Euclidean distance from the origin to a point.\n",
      "        \n",
      "        Roughly equivalent to:\n",
      "            sqrt(sum(x**2 for x in coordinates))\n",
      "        \n",
      "        For a two dimensional point (x, y), gives the hypotenuse\n",
      "        using the Pythagorean theorem:  sqrt(x*x + y*y).\n",
      "        \n",
      "        For example, the hypotenuse of a 3/4/5 right triangle is:\n",
      "        \n",
      "            >>> hypot(3.0, 4.0)\n",
      "            5.0\n",
      "    \n",
      "    isclose(a, b, *, rel_tol=1e-09, abs_tol=0.0)\n",
      "        Determine whether two floating point numbers are close in value.\n",
      "        \n",
      "          rel_tol\n",
      "            maximum difference for being considered \"close\", relative to the\n",
      "            magnitude of the input values\n",
      "          abs_tol\n",
      "            maximum difference for being considered \"close\", regardless of the\n",
      "            magnitude of the input values\n",
      "        \n",
      "        Return True if a is close in value to b, and False otherwise.\n",
      "        \n",
      "        For the values to be considered close, the difference between them\n",
      "        must be smaller than at least one of the tolerances.\n",
      "        \n",
      "        -inf, inf and NaN behave similarly to the IEEE 754 Standard.  That\n",
      "        is, NaN is not close to anything, even itself.  inf and -inf are\n",
      "        only close to themselves.\n",
      "    \n",
      "    isfinite(x, /)\n",
      "        Return True if x is neither an infinity nor a NaN, and False otherwise.\n",
      "    \n",
      "    isinf(x, /)\n",
      "        Return True if x is a positive or negative infinity, and False otherwise.\n",
      "    \n",
      "    isnan(x, /)\n",
      "        Return True if x is a NaN (not a number), and False otherwise.\n",
      "    \n",
      "    isqrt(n, /)\n",
      "        Return the integer part of the square root of the input.\n",
      "    \n",
      "    lcm(*integers)\n",
      "        Least Common Multiple.\n",
      "    \n",
      "    ldexp(x, i, /)\n",
      "        Return x * (2**i).\n",
      "        \n",
      "        This is essentially the inverse of frexp().\n",
      "    \n",
      "    lgamma(x, /)\n",
      "        Natural logarithm of absolute value of Gamma function at x.\n",
      "    \n",
      "    log(...)\n",
      "        log(x, [base=math.e])\n",
      "        Return the logarithm of x to the given base.\n",
      "        \n",
      "        If the base not specified, returns the natural logarithm (base e) of x.\n",
      "    \n",
      "    log10(x, /)\n",
      "        Return the base 10 logarithm of x.\n",
      "    \n",
      "    log1p(x, /)\n",
      "        Return the natural logarithm of 1+x (base e).\n",
      "        \n",
      "        The result is computed in a way which is accurate for x near zero.\n",
      "    \n",
      "    log2(x, /)\n",
      "        Return the base 2 logarithm of x.\n",
      "    \n",
      "    modf(x, /)\n",
      "        Return the fractional and integer parts of x.\n",
      "        \n",
      "        Both results carry the sign of x and are floats.\n",
      "    \n",
      "    nextafter(x, y, /)\n",
      "        Return the next floating-point value after x towards y.\n",
      "    \n",
      "    perm(n, k=None, /)\n",
      "        Number of ways to choose k items from n items without repetition and with order.\n",
      "        \n",
      "        Evaluates to n! / (n - k)! when k <= n and evaluates\n",
      "        to zero when k > n.\n",
      "        \n",
      "        If k is not specified or is None, then k defaults to n\n",
      "        and the function returns n!.\n",
      "        \n",
      "        Raises TypeError if either of the arguments are not integers.\n",
      "        Raises ValueError if either of the arguments are negative.\n",
      "    \n",
      "    pow(x, y, /)\n",
      "        Return x**y (x to the power of y).\n",
      "    \n",
      "    prod(iterable, /, *, start=1)\n",
      "        Calculate the product of all the elements in the input iterable.\n",
      "        \n",
      "        The default start value for the product is 1.\n",
      "        \n",
      "        When the iterable is empty, return the start value.  This function is\n",
      "        intended specifically for use with numeric values and may reject\n",
      "        non-numeric types.\n",
      "    \n",
      "    radians(x, /)\n",
      "        Convert angle x from degrees to radians.\n",
      "    \n",
      "    remainder(x, y, /)\n",
      "        Difference between x and the closest integer multiple of y.\n",
      "        \n",
      "        Return x - n*y where n*y is the closest integer multiple of y.\n",
      "        In the case where x is exactly halfway between two multiples of\n",
      "        y, the nearest even value of n is used. The result is always exact.\n",
      "    \n",
      "    sin(x, /)\n",
      "        Return the sine of x (measured in radians).\n",
      "    \n",
      "    sinh(x, /)\n",
      "        Return the hyperbolic sine of x.\n",
      "    \n",
      "    sqrt(x, /)\n",
      "        Return the square root of x.\n",
      "    \n",
      "    tan(x, /)\n",
      "        Return the tangent of x (measured in radians).\n",
      "    \n",
      "    tanh(x, /)\n",
      "        Return the hyperbolic tangent of x.\n",
      "    \n",
      "    trunc(x, /)\n",
      "        Truncates the Real x to the nearest Integral toward 0.\n",
      "        \n",
      "        Uses the __trunc__ magic method.\n",
      "    \n",
      "    ulp(x, /)\n",
      "        Return the value of the least significant bit of the float x.\n",
      "\n",
      "DATA\n",
      "    e = 2.718281828459045\n",
      "    inf = inf\n",
      "    nan = nan\n",
      "    pi = 3.141592653589793\n",
      "    tau = 6.283185307179586\n",
      "\n",
      "FILE\n",
      "    (built-in)\n",
      "\n",
      "\n"
     ]
    }
   ],
   "source": [
    "help(math)"
   ]
  },
  {
   "cell_type": "code",
   "execution_count": 242,
   "metadata": {},
   "outputs": [
    {
     "data": {
      "text/plain": [
       "120"
      ]
     },
     "execution_count": 242,
     "metadata": {},
     "output_type": "execute_result"
    }
   ],
   "source": [
    "math.factorial(5)"
   ]
  },
  {
   "cell_type": "code",
   "execution_count": 243,
   "metadata": {},
   "outputs": [
    {
     "data": {
      "text/plain": [
       "5"
      ]
     },
     "execution_count": 243,
     "metadata": {},
     "output_type": "execute_result"
    }
   ],
   "source": [
    "math.floor(5.9)"
   ]
  },
  {
   "cell_type": "code",
   "execution_count": 244,
   "metadata": {},
   "outputs": [
    {
     "data": {
      "text/plain": [
       "5"
      ]
     },
     "execution_count": 244,
     "metadata": {},
     "output_type": "execute_result"
    }
   ],
   "source": [
    "math.floor(5.1)"
   ]
  },
  {
   "cell_type": "code",
   "execution_count": 245,
   "metadata": {},
   "outputs": [
    {
     "data": {
      "text/plain": [
       "6"
      ]
     },
     "execution_count": 245,
     "metadata": {},
     "output_type": "execute_result"
    }
   ],
   "source": [
    "math.ceil(5.9)"
   ]
  },
  {
   "cell_type": "code",
   "execution_count": 246,
   "metadata": {},
   "outputs": [
    {
     "data": {
      "text/plain": [
       "6"
      ]
     },
     "execution_count": 246,
     "metadata": {},
     "output_type": "execute_result"
    }
   ],
   "source": [
    "math.ceil(5.1)"
   ]
  },
  {
   "cell_type": "code",
   "execution_count": 247,
   "metadata": {},
   "outputs": [],
   "source": [
    "import math as matematik"
   ]
  },
  {
   "cell_type": "code",
   "execution_count": 248,
   "metadata": {},
   "outputs": [
    {
     "data": {
      "text/plain": [
       "24"
      ]
     },
     "execution_count": 248,
     "metadata": {},
     "output_type": "execute_result"
    }
   ],
   "source": [
    "matematik.factorial(4)"
   ]
  },
  {
   "cell_type": "code",
   "execution_count": 249,
   "metadata": {},
   "outputs": [],
   "source": [
    "from math import*"
   ]
  },
  {
   "cell_type": "code",
   "execution_count": 250,
   "metadata": {},
   "outputs": [
    {
     "data": {
      "text/plain": [
       "5040"
      ]
     },
     "execution_count": 250,
     "metadata": {},
     "output_type": "execute_result"
    }
   ],
   "source": [
    "factorial(7)\n"
   ]
  },
  {
   "cell_type": "code",
   "execution_count": 251,
   "metadata": {},
   "outputs": [
    {
     "data": {
      "text/plain": [
       "5"
      ]
     },
     "execution_count": 251,
     "metadata": {},
     "output_type": "execute_result"
    }
   ],
   "source": [
    "floor(5.8)"
   ]
  },
  {
   "cell_type": "code",
   "execution_count": 1,
   "metadata": {},
   "outputs": [],
   "source": [
    "from math import floor,ceil"
   ]
  },
  {
   "cell_type": "code",
   "execution_count": 3,
   "metadata": {},
   "outputs": [
    {
     "data": {
      "text/plain": [
       "3"
      ]
     },
     "execution_count": 3,
     "metadata": {},
     "output_type": "execute_result"
    }
   ],
   "source": [
    "ceil(2.1)"
   ]
  },
  {
   "cell_type": "code",
   "execution_count": 4,
   "metadata": {},
   "outputs": [
    {
     "ename": "NameError",
     "evalue": "name 'factorial' is not defined",
     "output_type": "error",
     "traceback": [
      "\u001b[1;31m---------------------------------------------------------------------------\u001b[0m",
      "\u001b[1;31mNameError\u001b[0m                                 Traceback (most recent call last)",
      "\u001b[1;32mC:\\Users\\ADMCN_~1\\AppData\\Local\\Temp/ipykernel_2600/1839277961.py\u001b[0m in \u001b[0;36m<module>\u001b[1;34m\u001b[0m\n\u001b[1;32m----> 1\u001b[1;33m \u001b[0mfactorial\u001b[0m\u001b[1;33m(\u001b[0m\u001b[1;36m4\u001b[0m\u001b[1;33m)\u001b[0m\u001b[1;33m\u001b[0m\u001b[1;33m\u001b[0m\u001b[0m\n\u001b[0m",
      "\u001b[1;31mNameError\u001b[0m: name 'factorial' is not defined"
     ]
    }
   ],
   "source": [
    "factorial(4)"
   ]
  },
  {
   "cell_type": "markdown",
   "metadata": {},
   "source": [
    "## MODULLER"
   ]
  },
  {
   "cell_type": "code",
   "execution_count": 3,
   "metadata": {},
   "outputs": [
    {
     "name": "stdout",
     "output_type": "stream",
     "text": [
      "sayı girin: 21\n",
      "tahmin sorgulanıyor...\n",
      "sayıyı düşürün...\n",
      "sayı girin: 10\n",
      "tahmin sorgulanıyor...\n",
      "sayıyı yükseltin...\n",
      "sayı girin: 15\n",
      "tahmin sorgulanıyor...\n",
      "sayıyı düşürün...\n",
      "sayı girin: 13\n",
      "tahmin sorgulanıyor...\n",
      "sayıyı düşürün...\n",
      "sayı girin: 12\n",
      "tahmin sorgulanıyor...\n",
      "sayıyı düşürün...\n",
      "sayı girin: 11\n",
      "tahmin sorgulanıyor...\n",
      "TEBRİKLER..\n"
     ]
    }
   ],
   "source": [
    "import random\n",
    "import time\n",
    "\"\"\"\n",
    "*******************************************\n",
    "SAYI TAHMİN OYUNU\n",
    "\n",
    "1 ile 40 arasındaki sayıyı tahmin edin...\n",
    "*******************************************\n",
    "\"\"\"\n",
    "\n",
    "rastgeleSayı = random.randint(1,40)\n",
    "\n",
    "tahminHakkı = 1\n",
    "\n",
    "while True:\n",
    "    \n",
    "    tahmin = int(input(\"sayı girin: \"))\n",
    "    \n",
    "    if tahmin < rastgeleSayı:\n",
    "        print(\"tahmin sorgulanıyor...\", )\n",
    "        time.sleep(1)\n",
    "        print(\"sayıyı yükseltin...\")\n",
    "        tahminHakkı -= 1\n",
    "        \n",
    "    elif tahmin > rastgeleSayı:\n",
    "        print(\"tahmin sorgulanıyor...\", )\n",
    "        time.sleep(1)\n",
    "        print(\"sayıyı düşürün...\")\n",
    "        tahminHakkı -= 1\n",
    "    else:\n",
    "        print(\"tahmin sorgulanıyor...\", )\n",
    "        time.sleep(1)\n",
    "        print(\"TEBRİKLER..\")\n",
    "        break\n",
    "    if tahmin == 0:\n",
    "        print(\"tahmin hakkınız bitmiştir...\")\n",
    "        print(\"Tahmin edeceğiniz sayı: \",rastgeleSayı)\n",
    "        break\n",
    "        \n",
    "        \n",
    "    \n",
    "        "
   ]
  },
  {
   "cell_type": "code",
   "execution_count": 31,
   "metadata": {
    "scrolled": true
   },
   "outputs": [
    {
     "name": "stdout",
     "output_type": "stream",
     "text": [
      "işlemi girin: 7\n",
      "sayı gir: 45\n",
      "sayı gir: 145\n",
      "EKOK: 1305 \n",
      "işlemi girin: 7\n",
      "sayı gir: 20\n",
      "sayı gir: 40\n",
      "EKOK: 40 \n",
      "işlemi girin: 6\n",
      "sayı gir: 15\n",
      "sayı gir: 48\n",
      "EBOB: 3 \n",
      "işlemi girin: q\n"
     ]
    }
   ],
   "source": [
    "import math\n",
    "\"\"\"\n",
    "********************\n",
    "HESAP MAKİNESİ\n",
    " İŞLEMLER\n",
    "1. TOPLAMA \n",
    "2. ÇIKARMA\n",
    "3. ÇARPMA\n",
    "4. BÖLME\n",
    "5. FAKTORİYEL ALMA\n",
    "6. EBOB ALMA\n",
    "7. EKOK ALMA\n",
    "8. KAREKÖK ALMA\n",
    "9. ÜS ALMA\n",
    "\n",
    "********************\n",
    "\"\"\"\n",
    "\n",
    "\n",
    "    \n",
    "\n",
    "while True:\n",
    "        islem = input(\"işlemi girin: \")\n",
    "        if islem == \"1\" or islem == \"2\" or islem == \"3\" or islem == \"4\" or islem == \"6\" or islem == \"7\"  :\n",
    "            a = int(input(\"sayı gir: \"))\n",
    "            b = int(input(\"sayı gir: \"))\n",
    "            if islem == \"1\":\n",
    "                print(\"Toplam= \", a + b)\n",
    "            elif islem == \"3\":\n",
    "                print(\"Fark= \", a - b)\n",
    "            elif islem == \"3\":\n",
    "                print(\"Çarpım= \", a * b)\n",
    "            elif islem == \"4\":\n",
    "                print(\"Bölme= \", a / b)\n",
    "            elif islem == \"6\":\n",
    "                print(f\"EBOB: {math.gcd(a,b)} \" )\n",
    "            elif islem == \"7\":\n",
    "                print(f\"EKOK: {math.lcm(a,b)} \" )\n",
    "            elif islem == \"q\":\n",
    "                break\n",
    "\n",
    "    \n",
    "        elif islem == \"5\" or islem == \"8\":\n",
    "            a = int(input(\"sayı gir: \"))\n",
    "        \n",
    "            if islem == \"5\":\n",
    "                print(f\"{a}!: {math.factorial(a)} \")\n",
    "            \n",
    "            elif islem == \"8\":\n",
    "                print(f\"{a}'nın karekökü: {math.sqrt(a)} \")\n",
    "       \n",
    "        elif islem == \"q\":\n",
    "            \n",
    "            break"
   ]
  },
  {
   "cell_type": "code",
   "execution_count": 7,
   "metadata": {},
   "outputs": [
    {
     "data": {
      "text/plain": [
       "1.4142135623730951"
      ]
     },
     "execution_count": 7,
     "metadata": {},
     "output_type": "execute_result"
    }
   ],
   "source": [
    "math.sqrt(2)"
   ]
  },
  {
   "cell_type": "markdown",
   "metadata": {},
   "source": [
    "## NESNE TABANLI PROGRAMLAMA\n",
    "# CLASS"
   ]
  },
  {
   "cell_type": "code",
   "execution_count": 32,
   "metadata": {},
   "outputs": [],
   "source": [
    "class araba():\n",
    "    model = \"opel crossland\"\n",
    "    renk = \"siyah beyaz\"\n",
    "    beygirGücü = 130\n",
    "    silindir = 1.2"
   ]
  },
  {
   "cell_type": "code",
   "execution_count": 33,
   "metadata": {},
   "outputs": [],
   "source": [
    "araba1 = araba()"
   ]
  },
  {
   "cell_type": "code",
   "execution_count": 34,
   "metadata": {},
   "outputs": [],
   "source": [
    "araba2 = araba()"
   ]
  },
  {
   "cell_type": "code",
   "execution_count": 35,
   "metadata": {},
   "outputs": [
    {
     "data": {
      "text/plain": [
       "<__main__.araba at 0xcb7cc8fc70>"
      ]
     },
     "execution_count": 35,
     "metadata": {},
     "output_type": "execute_result"
    }
   ],
   "source": [
    "araba1\n",
    "araba2"
   ]
  },
  {
   "cell_type": "code",
   "execution_count": 36,
   "metadata": {},
   "outputs": [
    {
     "data": {
      "text/plain": [
       "130"
      ]
     },
     "execution_count": 36,
     "metadata": {},
     "output_type": "execute_result"
    }
   ],
   "source": [
    "araba1.beygirGücü"
   ]
  },
  {
   "cell_type": "code",
   "execution_count": 37,
   "metadata": {},
   "outputs": [
    {
     "data": {
      "text/plain": [
       "'siyah beyaz'"
      ]
     },
     "execution_count": 37,
     "metadata": {},
     "output_type": "execute_result"
    }
   ],
   "source": [
    "araba2.renk"
   ]
  },
  {
   "cell_type": "code",
   "execution_count": 38,
   "metadata": {},
   "outputs": [
    {
     "data": {
      "text/plain": [
       "['__class__',\n",
       " '__delattr__',\n",
       " '__dict__',\n",
       " '__dir__',\n",
       " '__doc__',\n",
       " '__eq__',\n",
       " '__format__',\n",
       " '__ge__',\n",
       " '__getattribute__',\n",
       " '__gt__',\n",
       " '__hash__',\n",
       " '__init__',\n",
       " '__init_subclass__',\n",
       " '__le__',\n",
       " '__lt__',\n",
       " '__module__',\n",
       " '__ne__',\n",
       " '__new__',\n",
       " '__reduce__',\n",
       " '__reduce_ex__',\n",
       " '__repr__',\n",
       " '__setattr__',\n",
       " '__sizeof__',\n",
       " '__str__',\n",
       " '__subclasshook__',\n",
       " '__weakref__',\n",
       " 'beygirGücü',\n",
       " 'model',\n",
       " 'renk',\n",
       " 'silindir']"
      ]
     },
     "execution_count": 38,
     "metadata": {},
     "output_type": "execute_result"
    }
   ],
   "source": [
    "dir(araba)"
   ]
  },
  {
   "cell_type": "code",
   "execution_count": 39,
   "metadata": {},
   "outputs": [],
   "source": [
    "class araba():\n",
    "    model = \"opel crossland\"\n",
    "    renk = \"siyah beyaz\"\n",
    "    beygirGücü = 130\n",
    "    silindir = 1.2\n",
    "    def __init__(self):\n",
    "        print(\"init fonksiyonu çağrıldı...\")\n",
    "        "
   ]
  },
  {
   "cell_type": "code",
   "execution_count": 40,
   "metadata": {},
   "outputs": [
    {
     "name": "stdout",
     "output_type": "stream",
     "text": [
      "init fonksiyonuçağrıldı...\n"
     ]
    },
    {
     "data": {
      "text/plain": [
       "<__main__.araba at 0xcb7d226ee0>"
      ]
     },
     "execution_count": 40,
     "metadata": {},
     "output_type": "execute_result"
    }
   ],
   "source": [
    "araba()"
   ]
  },
  {
   "cell_type": "code",
   "execution_count": 41,
   "metadata": {},
   "outputs": [
    {
     "name": "stdout",
     "output_type": "stream",
     "text": [
      "init fonksiyonuçağrıldı...\n"
     ]
    }
   ],
   "source": [
    "araba1 = araba()"
   ]
  },
  {
   "cell_type": "code",
   "execution_count": 42,
   "metadata": {},
   "outputs": [],
   "source": [
    "class araba():\n",
    "    def __init__(self,model,renk,beygirGücü,silindir):\n",
    "        self.model = model\n",
    "        self.renk = renk\n",
    "        self.beygirGücü = beygirGücü\n",
    "        self.silindir = silindir\n",
    "    "
   ]
  },
  {
   "cell_type": "code",
   "execution_count": 44,
   "metadata": {},
   "outputs": [],
   "source": [
    "araba1 = araba(\"opel crossland\",\"siyah beyaz\",130,1.2)\n",
    "araba2 = araba(\"ford fiesta\",\"beyaz\",110,1.6)"
   ]
  },
  {
   "cell_type": "code",
   "execution_count": 45,
   "metadata": {},
   "outputs": [
    {
     "data": {
      "text/plain": [
       "'opel crossland'"
      ]
     },
     "execution_count": 45,
     "metadata": {},
     "output_type": "execute_result"
    }
   ],
   "source": [
    "araba1.model"
   ]
  },
  {
   "cell_type": "code",
   "execution_count": 46,
   "metadata": {},
   "outputs": [
    {
     "data": {
      "text/plain": [
       "'ford fiesta'"
      ]
     },
     "execution_count": 46,
     "metadata": {},
     "output_type": "execute_result"
    }
   ],
   "source": [
    "araba2.model"
   ]
  },
  {
   "cell_type": "code",
   "execution_count": 48,
   "metadata": {},
   "outputs": [],
   "source": [
    "class araba():\n",
    "    def __init__(self,model = \"bilgi yok\",renk = \"bilgi yok\",beygirGücü = 70 ,silindir = 4):\n",
    "        self.model = model\n",
    "        self.renk = renk\n",
    "        self.beygirGücü = beygirGücü\n",
    "        self.silindir = silindir"
   ]
  },
  {
   "cell_type": "code",
   "execution_count": 49,
   "metadata": {},
   "outputs": [],
   "source": [
    "araba1 = araba(beygirGücü = 110)"
   ]
  },
  {
   "cell_type": "code",
   "execution_count": 50,
   "metadata": {},
   "outputs": [
    {
     "data": {
      "text/plain": [
       "'bilgi yok'"
      ]
     },
     "execution_count": 50,
     "metadata": {},
     "output_type": "execute_result"
    }
   ],
   "source": [
    "araba1.model"
   ]
  },
  {
   "cell_type": "code",
   "execution_count": 51,
   "metadata": {},
   "outputs": [
    {
     "data": {
      "text/plain": [
       "110"
      ]
     },
     "execution_count": 51,
     "metadata": {},
     "output_type": "execute_result"
    }
   ],
   "source": [
    "araba1.beygirGücü"
   ]
  },
  {
   "cell_type": "code",
   "execution_count": 52,
   "metadata": {},
   "outputs": [
    {
     "data": {
      "text/plain": [
       "4"
      ]
     },
     "execution_count": 52,
     "metadata": {},
     "output_type": "execute_result"
    }
   ],
   "source": [
    "araba1.silindir"
   ]
  },
  {
   "cell_type": "code",
   "execution_count": 53,
   "metadata": {},
   "outputs": [],
   "source": [
    "class home():\n",
    "    def __init__(self, odaSayısı,alanı,eşyalıMı,balkonluMu):\n",
    "        self.odaSayısı = odaSayısı\n",
    "        self.alanı = alanı\n",
    "        self.eşyalıMı = eşyalıMı\n",
    "        self.balkonluMu = balkonluMu\n",
    "        "
   ]
  },
  {
   "cell_type": "code",
   "execution_count": 54,
   "metadata": {},
   "outputs": [],
   "source": [
    "house1 = home(\"3+1\",130,\"evet\",\"evet\")"
   ]
  },
  {
   "cell_type": "code",
   "execution_count": 55,
   "metadata": {},
   "outputs": [
    {
     "data": {
      "text/plain": [
       "'3+1'"
      ]
     },
     "execution_count": 55,
     "metadata": {},
     "output_type": "execute_result"
    }
   ],
   "source": [
    "house1.odaSayısı"
   ]
  },
  {
   "cell_type": "code",
   "execution_count": 57,
   "metadata": {},
   "outputs": [
    {
     "data": {
      "text/plain": [
       "'evet'"
      ]
     },
     "execution_count": 57,
     "metadata": {},
     "output_type": "execute_result"
    }
   ],
   "source": [
    "house1.eşyalıMı"
   ]
  },
  {
   "cell_type": "code",
   "execution_count": 58,
   "metadata": {},
   "outputs": [
    {
     "data": {
      "text/plain": [
       "'evet'"
      ]
     },
     "execution_count": 58,
     "metadata": {},
     "output_type": "execute_result"
    }
   ],
   "source": [
    "house2 = home(\"4+1\",156,\"hayır\",\"evet\")\n",
    "house2.balkonluMu"
   ]
  },
  {
   "cell_type": "code",
   "execution_count": 59,
   "metadata": {},
   "outputs": [],
   "source": [
    "class country():\n",
    "    def __init__(self,kıta,nüfus,yönetimŞekli,yaşamKalitesi):\n",
    "        self.kıta = kıta\n",
    "        self.nüfus = nüfus\n",
    "        self.yönetimŞekli = yönetimŞekli\n",
    "        self.yaşamKalitesi = yaşamKalitesi\n",
    "        "
   ]
  },
  {
   "cell_type": "code",
   "execution_count": 60,
   "metadata": {},
   "outputs": [],
   "source": [
    "turkey = country(\"asya ve avrupa\",\"85 milyon\",\"başkanlık\",\"orta\")\n",
    "USA = country(\"amerika\",\"300 milyon\",\"başkanlık\",\"çok iyi\")"
   ]
  },
  {
   "cell_type": "code",
   "execution_count": 61,
   "metadata": {},
   "outputs": [
    {
     "data": {
      "text/plain": [
       "'amerika'"
      ]
     },
     "execution_count": 61,
     "metadata": {},
     "output_type": "execute_result"
    }
   ],
   "source": [
    "\n",
    "USA.kıta"
   ]
  },
  {
   "cell_type": "code",
   "execution_count": 62,
   "metadata": {},
   "outputs": [
    {
     "data": {
      "text/plain": [
       "'asya ve avrupa'"
      ]
     },
     "execution_count": 62,
     "metadata": {},
     "output_type": "execute_result"
    }
   ],
   "source": [
    "turkey.kıta"
   ]
  },
  {
   "cell_type": "code",
   "execution_count": 63,
   "metadata": {},
   "outputs": [
    {
     "data": {
      "text/plain": [
       "'orta'"
      ]
     },
     "execution_count": 63,
     "metadata": {},
     "output_type": "execute_result"
    }
   ],
   "source": [
    "turkey.yaşamKalitesi"
   ]
  },
  {
   "cell_type": "code",
   "execution_count": 64,
   "metadata": {},
   "outputs": [
    {
     "data": {
      "text/plain": [
       "'çok iyi'"
      ]
     },
     "execution_count": 64,
     "metadata": {},
     "output_type": "execute_result"
    }
   ],
   "source": [
    "USA.yaşamKalitesi"
   ]
  },
  {
   "cell_type": "markdown",
   "metadata": {},
   "source": [
    "## METODLAR"
   ]
  },
  {
   "cell_type": "code",
   "execution_count": 107,
   "metadata": {},
   "outputs": [],
   "source": [
    "class yazılımcı():\n",
    "    def __init__(self,isim,soyisim,numara,maaş,diller):\n",
    "        self.isim = isim\n",
    "        self.soyisim = soyisim\n",
    "        self.numara = numara\n",
    "        self.maaş = maaş\n",
    "        self.diller = diller\n",
    "    def bilgileriGöster(self):\n",
    "        print(f\"\"\"\n",
    "        ÖZELLİKLER\n",
    "        Adı : {self.isim}\n",
    "        Soyadı: {self.soyisim}\n",
    "        Numarası: {self.numara}\n",
    "        Maaşı: {self.maaş}\n",
    "        Bildiği Diller : {self.diller}\n",
    "        \n",
    "        \"\"\")\n",
    "    def zamYap(self,zam_miktarı):\n",
    "        print(\"zam yapılıyor...\")\n",
    "        import time\n",
    "        time.sleep(1)\n",
    "        self.maaş += zam_miktarı\n",
    "        print(f\"yeni maaşınız: {yazılımcı1.maaş}\")\n",
    "        \n",
    "    def dil_ekle(self,yeni_dil):\n",
    "        print(\"dil ekleniyor...\")\n",
    "        time.sleep(1)\n",
    "        self.diller.append(yeni_dil)\n",
    "        print(yazılımcı1.diller)\n",
    "    "
   ]
  },
  {
   "cell_type": "code",
   "execution_count": 105,
   "metadata": {},
   "outputs": [
    {
     "data": {
      "text/plain": [
       "['python', 'SQL']"
      ]
     },
     "execution_count": 105,
     "metadata": {},
     "output_type": "execute_result"
    }
   ],
   "source": [
    "yazılımcı1 = yazılımcı(\"adem\",\"bakırcı\",\"4353\",5000,[\"python\",\"SQL\"])\n",
    "yazılımcı1.diller"
   ]
  },
  {
   "cell_type": "code",
   "execution_count": 72,
   "metadata": {},
   "outputs": [
    {
     "name": "stdout",
     "output_type": "stream",
     "text": [
      "\n",
      "        ÖZELLİKLER\n",
      "        Adı : adem\n",
      "        Soyadı: bakırcı\n",
      "        Numarası: 4353\n",
      "        Maaşı: 5000\n",
      "        Bildiği Diller : ['python', 'SQL']\n",
      "        \n",
      "        \n"
     ]
    }
   ],
   "source": [
    "yazılımcı1.bilgileriGöster()"
   ]
  },
  {
   "cell_type": "code",
   "execution_count": 81,
   "metadata": {},
   "outputs": [
    {
     "data": {
      "text/plain": [
       "5000"
      ]
     },
     "execution_count": 81,
     "metadata": {},
     "output_type": "execute_result"
    }
   ],
   "source": [
    "yazılımcı1.maaş"
   ]
  },
  {
   "cell_type": "code",
   "execution_count": 98,
   "metadata": {},
   "outputs": [
    {
     "name": "stdout",
     "output_type": "stream",
     "text": [
      "zam yapılıyor...\n",
      "yeni maaşınız: 7000\n"
     ]
    }
   ],
   "source": [
    "yazılımcı1.zamYap(2000)"
   ]
  },
  {
   "cell_type": "code",
   "execution_count": 83,
   "metadata": {},
   "outputs": [
    {
     "data": {
      "text/plain": [
       "7000"
      ]
     },
     "execution_count": 83,
     "metadata": {},
     "output_type": "execute_result"
    }
   ],
   "source": [
    "yazılımcı1.maaş"
   ]
  },
  {
   "cell_type": "code",
   "execution_count": 89,
   "metadata": {},
   "outputs": [
    {
     "name": "stdout",
     "output_type": "stream",
     "text": [
      "dil ekleniyor...\n",
      "['python', 'SQL', 'C#']\n"
     ]
    }
   ],
   "source": [
    "yazılımcı1.dil_ekle()\n"
   ]
  },
  {
   "cell_type": "code",
   "execution_count": 95,
   "metadata": {},
   "outputs": [
    {
     "name": "stdout",
     "output_type": "stream",
     "text": [
      "dil ekleniyor...\n",
      "['python', 'SQL', 'golang']\n"
     ]
    }
   ],
   "source": [
    "yazılımcı1.dil_ekle(\"golang\")"
   ]
  },
  {
   "cell_type": "code",
   "execution_count": 99,
   "metadata": {
    "scrolled": true
   },
   "outputs": [
    {
     "name": "stdout",
     "output_type": "stream",
     "text": [
      "\n",
      "        ÖZELLİKLER\n",
      "        Adı : adem\n",
      "        Soyadı: bakırcı\n",
      "        Numarası: 4353\n",
      "        Maaşı: 7000\n",
      "        Bildiği Diller : ['python', 'SQL', 'golang']\n",
      "        \n",
      "        \n"
     ]
    }
   ],
   "source": [
    "yazılımcı1.bilgileriGöster()"
   ]
  },
  {
   "cell_type": "code",
   "execution_count": null,
   "metadata": {
    "scrolled": true
   },
   "outputs": [],
   "source": []
  },
  {
   "cell_type": "code",
   "execution_count": null,
   "metadata": {},
   "outputs": [],
   "source": [
    "\n"
   ]
  },
  {
   "cell_type": "markdown",
   "metadata": {},
   "source": [
    "## INHERITANCE"
   ]
  },
  {
   "cell_type": "code",
   "execution_count": 132,
   "metadata": {},
   "outputs": [],
   "source": [
    "class calısan():\n",
    "    def __init__(self,isim,maas,departman):\n",
    "        print(\"Çalışanların init fonksiyonu...\")\n",
    "        self.isim = isim\n",
    "        self.maas = maas\n",
    "        self.departman = departman\n",
    "    def bilgileriGoster(self):\n",
    "        \n",
    "        print(\"çalışanların bilgileri...\")\n",
    "        print(f\"isim: {self.isim}\\nmaaş: {self.maas}\\ndepartman: {self.departman}\")\n",
    "    def departmanDeğiştir(self,yeni_departman):\n",
    "        print(\"Departman Değişikliği...\")\n",
    "        self.departman = yeni_departman\n",
    "        print(\"yeni departmanınız: \",self.departman)\n",
    "        "
   ]
  },
  {
   "cell_type": "code",
   "execution_count": 134,
   "metadata": {},
   "outputs": [
    {
     "name": "stdout",
     "output_type": "stream",
     "text": [
      "Çalışanların init fonksiyonu...\n"
     ]
    }
   ],
   "source": [
    "calısan1 = calısan(\"adem\",5000,\"IT Departmanı\")"
   ]
  },
  {
   "cell_type": "code",
   "execution_count": 129,
   "metadata": {},
   "outputs": [
    {
     "data": {
      "text/plain": [
       "5000"
      ]
     },
     "execution_count": 129,
     "metadata": {},
     "output_type": "execute_result"
    }
   ],
   "source": [
    "calısan1.maas"
   ]
  },
  {
   "cell_type": "code",
   "execution_count": 130,
   "metadata": {},
   "outputs": [
    {
     "data": {
      "text/plain": [
       "'IT Departmanı'"
      ]
     },
     "execution_count": 130,
     "metadata": {},
     "output_type": "execute_result"
    }
   ],
   "source": [
    "calısan1.departman"
   ]
  },
  {
   "cell_type": "code",
   "execution_count": 135,
   "metadata": {},
   "outputs": [
    {
     "name": "stdout",
     "output_type": "stream",
     "text": [
      "çalışanların bilgileri...\n",
      "isim: adem\n",
      "maaş: 5000\n",
      "departman: IT Departmanı\n"
     ]
    }
   ],
   "source": [
    "calısan1.bilgileriGoster()"
   ]
  },
  {
   "cell_type": "code",
   "execution_count": 136,
   "metadata": {},
   "outputs": [
    {
     "name": "stdout",
     "output_type": "stream",
     "text": [
      "Departman Değişikliği...\n",
      "yeni departmanınız:  Foreign Trade\n"
     ]
    }
   ],
   "source": [
    "calısan1.departmanDeğiştir(\"Foreign Trade\")"
   ]
  },
  {
   "cell_type": "code",
   "execution_count": 137,
   "metadata": {},
   "outputs": [
    {
     "name": "stdout",
     "output_type": "stream",
     "text": [
      "çalışanların bilgileri...\n",
      "isim: adem\n",
      "maaş: 5000\n",
      "departman: Foreign Trade\n"
     ]
    }
   ],
   "source": [
    "calısan1.bilgileriGoster()"
   ]
  },
  {
   "cell_type": "code",
   "execution_count": null,
   "metadata": {},
   "outputs": [],
   "source": [
    "class calısan():\n",
    "    def __init__(self,isim,maas,departman):\n",
    "        print(\"Çalışanların init fonksiyonu...\")\n",
    "        self.isim = isim\n",
    "        self.maas = maas\n",
    "        self.departman = departman\n",
    "    def bilgileriGoster(self):\n",
    "        \n",
    "        print(\"çalışanların bilgileri...\")\n",
    "        print(f\"isim: {self.isim}\\nmaaş: {self.maas}\\ndepartman: {self.departman}\")\n",
    "    def departmanDeğiştir(self,yeni_departman):\n",
    "        print(\"Departman Değişikliği...\")\n",
    "        self.departman = yeni_departman\n",
    "        print(\"yeni departmanınız: \",self.departman)"
   ]
  },
  {
   "cell_type": "code",
   "execution_count": 139,
   "metadata": {},
   "outputs": [
    {
     "ename": "IndentationError",
     "evalue": "expected an indented block (Temp/ipykernel_4532/1970722970.py, line 1)",
     "output_type": "error",
     "traceback": [
      "\u001b[1;36m  File \u001b[1;32m\"C:\\Users\\ADMCN_~1\\AppData\\Local\\Temp/ipykernel_4532/1970722970.py\"\u001b[1;36m, line \u001b[1;32m1\u001b[0m\n\u001b[1;33m    class yonetici(calısan):\u001b[0m\n\u001b[1;37m                            ^\u001b[0m\n\u001b[1;31mIndentationError\u001b[0m\u001b[1;31m:\u001b[0m expected an indented block\n"
     ]
    }
   ],
   "source": [
    "class yonetici(calısan):"
   ]
  },
  {
   "cell_type": "code",
   "execution_count": 140,
   "metadata": {},
   "outputs": [],
   "source": [
    "class yonetici(calısan):\n",
    "    pass"
   ]
  },
  {
   "cell_type": "code",
   "execution_count": 141,
   "metadata": {},
   "outputs": [
    {
     "name": "stdout",
     "output_type": "stream",
     "text": [
      "Çalışanların init fonksiyonu...\n"
     ]
    }
   ],
   "source": [
    "yonetici1 = yonetici(\"cansu\",6000,\"sağlık departmanı\")"
   ]
  },
  {
   "cell_type": "code",
   "execution_count": 142,
   "metadata": {},
   "outputs": [
    {
     "data": {
      "text/plain": [
       "'cansu'"
      ]
     },
     "execution_count": 142,
     "metadata": {},
     "output_type": "execute_result"
    }
   ],
   "source": [
    "yonetici1.isim"
   ]
  },
  {
   "cell_type": "code",
   "execution_count": 145,
   "metadata": {},
   "outputs": [
    {
     "name": "stdout",
     "output_type": "stream",
     "text": [
      "çalışanların bilgileri...\n",
      "isim: cansu\n",
      "maaş: 6000\n",
      "departman: sağlık departmanı\n"
     ]
    }
   ],
   "source": [
    "yonetici1.bilgileriGoster()"
   ]
  },
  {
   "cell_type": "code",
   "execution_count": 146,
   "metadata": {},
   "outputs": [
    {
     "name": "stdout",
     "output_type": "stream",
     "text": [
      "Departman Değişikliği...\n",
      "yeni departmanınız:  IT Departmanı\n"
     ]
    }
   ],
   "source": [
    "yonetici1.departmanDeğiştir(\"IT Departmanı\")"
   ]
  },
  {
   "cell_type": "code",
   "execution_count": 147,
   "metadata": {},
   "outputs": [
    {
     "name": "stdout",
     "output_type": "stream",
     "text": [
      "çalışanların bilgileri...\n",
      "isim: cansu\n",
      "maaş: 6000\n",
      "departman: IT Departmanı\n"
     ]
    }
   ],
   "source": [
    "yonetici1.bilgileriGoster()"
   ]
  },
  {
   "cell_type": "code",
   "execution_count": 148,
   "metadata": {},
   "outputs": [
    {
     "data": {
      "text/plain": [
       "['__class__',\n",
       " '__delattr__',\n",
       " '__dict__',\n",
       " '__dir__',\n",
       " '__doc__',\n",
       " '__eq__',\n",
       " '__format__',\n",
       " '__ge__',\n",
       " '__getattribute__',\n",
       " '__gt__',\n",
       " '__hash__',\n",
       " '__init__',\n",
       " '__init_subclass__',\n",
       " '__le__',\n",
       " '__lt__',\n",
       " '__module__',\n",
       " '__ne__',\n",
       " '__new__',\n",
       " '__reduce__',\n",
       " '__reduce_ex__',\n",
       " '__repr__',\n",
       " '__setattr__',\n",
       " '__sizeof__',\n",
       " '__str__',\n",
       " '__subclasshook__',\n",
       " '__weakref__',\n",
       " 'bilgileriGoster',\n",
       " 'departman',\n",
       " 'departmanDeğiştir',\n",
       " 'isim',\n",
       " 'maas']"
      ]
     },
     "execution_count": 148,
     "metadata": {},
     "output_type": "execute_result"
    }
   ],
   "source": [
    "dir(yonetici1)"
   ]
  },
  {
   "cell_type": "code",
   "execution_count": 154,
   "metadata": {},
   "outputs": [],
   "source": [
    "class yonetici1(calısan):\n",
    "    def zamVer(self,zam_miktari):\n",
    "        print(\"aldığınız zam işleniyor...\")\n",
    "        self.maas += zam_miktari\n",
    "        print(\"yeni maaşınız: \",self.maas)"
   ]
  },
  {
   "cell_type": "code",
   "execution_count": 157,
   "metadata": {},
   "outputs": [
    {
     "name": "stdout",
     "output_type": "stream",
     "text": [
      "Çalışanların init fonksiyonu...\n"
     ]
    }
   ],
   "source": [
    "yonetici2 = yonetici(\"cansu\",7000,\"bilişim\")"
   ]
  },
  {
   "cell_type": "code",
   "execution_count": 158,
   "metadata": {},
   "outputs": [
    {
     "name": "stdout",
     "output_type": "stream",
     "text": [
      "aldığınız zam işleniyor...\n",
      "yeni maaşınız:  9000\n"
     ]
    }
   ],
   "source": [
    "yonetici2.zamVer(2000)"
   ]
  },
  {
   "cell_type": "code",
   "execution_count": 159,
   "metadata": {},
   "outputs": [
    {
     "name": "stdout",
     "output_type": "stream",
     "text": [
      "çalışanların bilgileri...\n",
      "isim: cansu\n",
      "maaş: 9000\n",
      "departman: bilişim\n"
     ]
    }
   ],
   "source": [
    "yonetici2.bilgileriGoster()"
   ]
  },
  {
   "cell_type": "code",
   "execution_count": 172,
   "metadata": {},
   "outputs": [],
   "source": [
    "class calısan():\n",
    "    def __init__(self,isim,maas,departman):\n",
    "        print(\"Çalışanların init fonksiyonu...\")\n",
    "        self.isim = isim\n",
    "        self.maas = maas\n",
    "        self.departman = departman\n",
    "    def bilgileriGoster(self):\n",
    "        \n",
    "        print(\"çalışanların bilgileri...\")\n",
    "        print(f\"isim: {self.isim}\\nmaaş: {self.maas}\\ndepartman: {self.departman}\")\n",
    "    def departmanDeğiştir(self,yeni_departman):\n",
    "        print(\"Departman Değişikliği...\")\n",
    "        self.departman = yeni_departman\n",
    "        print(\"yeni departmanınız: \",self.departman)"
   ]
  },
  {
   "cell_type": "code",
   "execution_count": 173,
   "metadata": {},
   "outputs": [],
   "source": [
    "class yonetici(calısan):\n",
    "    def __init__ (self,isim,maas,departman,kisi_sayisi):\n",
    "        \n",
    "        print(\"Çalışanların init fonksiyonu...\")\n",
    "        self.isim = isim\n",
    "        self.maas = maas\n",
    "        self.departman = departman\n",
    "        self.kisi_sayisi = kisi_sayisi\n",
    "    def zamVer(self,zam_miktari):\n",
    "        print(\"aldığınız zam işleniyor...\")\n",
    "        self.maas += zam_miktari\n",
    "        print(\"yeni maaşınız: \",self.maas)"
   ]
  },
  {
   "cell_type": "code",
   "execution_count": 176,
   "metadata": {},
   "outputs": [
    {
     "name": "stdout",
     "output_type": "stream",
     "text": [
      "Çalışanların init fonksiyonu...\n"
     ]
    }
   ],
   "source": [
    "yonetici2 = yonetici(\"serdar\",8250,\"İnsan Kaynakları\",14)"
   ]
  },
  {
   "cell_type": "code",
   "execution_count": 177,
   "metadata": {},
   "outputs": [
    {
     "name": "stdout",
     "output_type": "stream",
     "text": [
      "çalışanların bilgileri...\n",
      "isim: serdar\n",
      "maaş: 8250\n",
      "departman: İnsan Kaynakları\n"
     ]
    }
   ],
   "source": [
    "yonetici2.bilgileriGoster()"
   ]
  },
  {
   "cell_type": "code",
   "execution_count": 178,
   "metadata": {},
   "outputs": [],
   "source": [
    "##ÖZEL METODLAR"
   ]
  },
  {
   "cell_type": "code",
   "execution_count": 183,
   "metadata": {},
   "outputs": [],
   "source": [
    "class Kitap():\n",
    "    pass"
   ]
  },
  {
   "cell_type": "code",
   "execution_count": 184,
   "metadata": {},
   "outputs": [
    {
     "name": "stdout",
     "output_type": "stream",
     "text": [
      "<__main__.Kitap object at 0x000000CB7C844940>\n"
     ]
    }
   ],
   "source": [
    "kitap = Kitap()\n",
    "print(kitap)"
   ]
  },
  {
   "cell_type": "code",
   "execution_count": 185,
   "metadata": {},
   "outputs": [
    {
     "ename": "TypeError",
     "evalue": "object of type 'Kitap' has no len()",
     "output_type": "error",
     "traceback": [
      "\u001b[1;31m---------------------------------------------------------------------------\u001b[0m",
      "\u001b[1;31mTypeError\u001b[0m                                 Traceback (most recent call last)",
      "\u001b[1;32mC:\\Users\\ADMCN_~1\\AppData\\Local\\Temp/ipykernel_4532/518691340.py\u001b[0m in \u001b[0;36m<module>\u001b[1;34m\u001b[0m\n\u001b[1;32m----> 1\u001b[1;33m \u001b[0mlen\u001b[0m\u001b[1;33m(\u001b[0m\u001b[0mkitap\u001b[0m\u001b[1;33m)\u001b[0m\u001b[1;33m\u001b[0m\u001b[1;33m\u001b[0m\u001b[0m\n\u001b[0m",
      "\u001b[1;31mTypeError\u001b[0m: object of type 'Kitap' has no len()"
     ]
    }
   ],
   "source": [
    "len(kitap)"
   ]
  },
  {
   "cell_type": "code",
   "execution_count": 186,
   "metadata": {},
   "outputs": [],
   "source": [
    "del kitap"
   ]
  },
  {
   "cell_type": "code",
   "execution_count": 187,
   "metadata": {},
   "outputs": [
    {
     "ename": "NameError",
     "evalue": "name 'kitap' is not defined",
     "output_type": "error",
     "traceback": [
      "\u001b[1;31m---------------------------------------------------------------------------\u001b[0m",
      "\u001b[1;31mNameError\u001b[0m                                 Traceback (most recent call last)",
      "\u001b[1;32mC:\\Users\\ADMCN_~1\\AppData\\Local\\Temp/ipykernel_4532/3621200320.py\u001b[0m in \u001b[0;36m<module>\u001b[1;34m\u001b[0m\n\u001b[1;32m----> 1\u001b[1;33m \u001b[0mprint\u001b[0m\u001b[1;33m(\u001b[0m\u001b[0mkitap\u001b[0m\u001b[1;33m)\u001b[0m\u001b[1;33m\u001b[0m\u001b[1;33m\u001b[0m\u001b[0m\n\u001b[0m",
      "\u001b[1;31mNameError\u001b[0m: name 'kitap' is not defined"
     ]
    }
   ],
   "source": [
    "print(kitap)"
   ]
  },
  {
   "cell_type": "code",
   "execution_count": 1,
   "metadata": {},
   "outputs": [],
   "source": [
    "class Kitap():\n",
    "    def __init__(self,kitap_adı,yazarı,sayfa_sayısı,türü):\n",
    "        self.kitap_adı = kitap_adı\n",
    "        self.yazarı = yazarı\n",
    "        self.sayfa_sayısı = sayfa_sayısı\n",
    "        self.türü = türü\n",
    "    def __str__(self):\n",
    "        return f\"isim: {self.kitap_adı}\\nyazar: {self.yazarı}\\nsayfa: {self.sayfa_sayısı}\\ntür: {self.türü} \""
   ]
  },
  {
   "cell_type": "code",
   "execution_count": 2,
   "metadata": {},
   "outputs": [
    {
     "name": "stdout",
     "output_type": "stream",
     "text": [
      "isim: teşkilat ı mahsusa yazar: ahmet ümit sayfa: 1000 tür: polisiye \n"
     ]
    }
   ],
   "source": [
    "kitap = Kitap(\"teşkilat ı mahsusa\",\"ahmet ümit\",1000,\"polisiye\")\n",
    "print(kitap)"
   ]
  },
  {
   "cell_type": "code",
   "execution_count": 4,
   "metadata": {},
   "outputs": [],
   "source": [
    "class Kitap():\n",
    "    def __init__(self,kitap_adı,yazarı,sayfa_sayısı,türü):\n",
    "        self.kitap_adı = kitap_adı\n",
    "        self.yazarı = yazarı\n",
    "        self.sayfa_sayısı = sayfa_sayısı\n",
    "        self.türü = türü\n",
    "    def __str__(self):\n",
    "        return f\"isim: {self.kitap_adı}\\nyazar: {self.yazarı}\\nsayfa: {self.sayfa_sayısı}\\ntür: {self.türü} \"\n",
    "    def __len__(self):\n",
    "        return self.sayfa_sayısı"
   ]
  },
  {
   "cell_type": "code",
   "execution_count": 5,
   "metadata": {},
   "outputs": [
    {
     "data": {
      "text/plain": [
       "1000"
      ]
     },
     "execution_count": 5,
     "metadata": {},
     "output_type": "execute_result"
    }
   ],
   "source": [
    "kitap = Kitap(\"teşkilat ı mahsusa\",\"ahmet ümit\",1000,\"polisiye\")\n",
    "len(kitap)"
   ]
  },
  {
   "cell_type": "code",
   "execution_count": 8,
   "metadata": {},
   "outputs": [],
   "source": [
    "class Kitap():\n",
    "    def __init__(self,kitap_adı,yazarı,sayfa_sayısı,türü):\n",
    "        self.kitap_adı = kitap_adı\n",
    "        self.yazarı = yazarı\n",
    "        self.sayfa_sayısı = sayfa_sayısı\n",
    "        self.türü = türü\n",
    "    def __str__(self):\n",
    "        return f\"isim: {self.kitap_adı}\\nyazar: {self.yazarı}\\nsayfa: {self.sayfa_sayısı}\\ntür: {self.türü} \"\n",
    "    def __len__(self):\n",
    "        return self.sayfa_sayısı\n",
    "    def __del__(self):\n",
    "        print(\"kitap objesi siliniyor...\")"
   ]
  },
  {
   "cell_type": "code",
   "execution_count": 9,
   "metadata": {},
   "outputs": [],
   "source": [
    "kitap = Kitap(\"teşkilat ı mahsusa\",\"ahmet ümit\",1000,\"polisiye\")"
   ]
  },
  {
   "cell_type": "code",
   "execution_count": 10,
   "metadata": {},
   "outputs": [
    {
     "name": "stdout",
     "output_type": "stream",
     "text": [
      "kitap objesi siliniyor...\n"
     ]
    }
   ],
   "source": [
    "del kitap"
   ]
  },
  {
   "cell_type": "markdown",
   "metadata": {},
   "source": [
    "## KUMANDA SINIFI GELİŞTİRME"
   ]
  },
  {
   "cell_type": "code",
   "execution_count": 37,
   "metadata": {},
   "outputs": [
    {
     "name": "stdout",
     "output_type": "stream",
     "text": [
      "\n",
      "    TELEVİZYON UYGULAMASI\n",
      "    \n",
      "    1. TV aç\n",
      "    2. TV kapat\n",
      "    3. Ses Ayarları\n",
      "    4. Kanal Ekle\n",
      "    5. Kanal Sayısını Öğrenme\n",
      "    6. Rastgele Kanala Geçme\n",
      "    7. TV bilgileri\n",
      "    Çıkmak için \"q\" a basın.\n",
      "    \n",
      "işlem: 4\n",
      "kanal isimlerini ',' ile ayırarak girin: fox,ntv\n",
      "kanal ekleniyor...\n",
      "kanal eklendi...\n",
      "kanal ekleniyor...\n",
      "kanal eklendi...\n",
      "kanal ekleniyor...\n",
      "kanal eklendi...\n",
      "kanal ekleniyor...\n",
      "kanal eklendi...\n",
      "kanal ekleniyor...\n",
      "kanal eklendi...\n",
      "kanal ekleniyor...\n",
      "kanal eklendi...\n",
      "kanal ekleniyor...\n",
      "kanal eklendi...\n",
      "işlem: 5\n",
      "kanal sayısı:  8\n",
      "işlem: 6\n",
      "şu anki kanal:  t\n",
      "işlem: 7\n",
      "tv durumu: kapalı\n",
      "TV ses: 0\n",
      "kanal listesi: ['trt', 'f', 'o', 'x', ',', 'n', 't', 'v']\n",
      "şu anki kanal: t\n",
      "işlem: 8\n",
      "geçersiz işlem...\n",
      "işlem: q\n",
      "program sonlandırılıyor...\n"
     ]
    }
   ],
   "source": [
    "import random\n",
    "import time\n",
    "\n",
    "class Kumanda():\n",
    "    def __init__(self, tv_durum = \"kapalı\",tv_ses  = 0,kanal_listesi = [\"trt\"],kanal = \"trt\"):\n",
    "        self.tv_durum = tv_durum\n",
    "        self.tv_ses = tv_ses\n",
    "        self.kanal_listesi = kanal_listesi\n",
    "        self.kanal = kanal\n",
    "        \n",
    "    def tv_ac(self):\n",
    "        \n",
    "        if self.tv_durum == \"acık\":\n",
    "            print(\"TV zaten açık...\")\n",
    "        else:\n",
    "            print(\"TV açılıyorr...\")\n",
    "            self.tv_durum = \"acık\"\n",
    "            \n",
    "    def tv_kapat(self):\n",
    "        \n",
    "        if self.tv_durum == \"kapalı\":\n",
    "            print(\"TV zaten kapalı...\")\n",
    "        else:\n",
    "            print(\"TV kapanıyorr...\")\n",
    "            self.tv_durum = \"kapalı\"\n",
    "            \n",
    "    def __ses_ayarları__(self):\n",
    "        \n",
    "        while True:\n",
    "            \n",
    "        \n",
    "            cevap = input(\"sesi azaltmak için <\\nsesi arttırmak için >\\nçıkış için çıkış' a basın\")\n",
    "        \n",
    "            if cevap == \"<\":\n",
    "                if self.tv_ses != 0:\n",
    "                    self.tv_ses -= 1\n",
    "                    print(\"ses: \", self.tv_ses)\n",
    "    \n",
    "            elif cevap == \">\":\n",
    "                if self.tv_ses != 31:\n",
    "                    self.tv_ses += 1\n",
    "                    print(\"ses: \", self.tv_ses)\n",
    "            else:\n",
    "                print(\"ses güncellendi...\", self.tv_ses)\n",
    "                break\n",
    "       \n",
    "    def kanal_ekle(self,kanal_ismi):\n",
    "        \n",
    "        print(\"kanal ekleniyor...\")\n",
    "        time.sleep(1)\n",
    "        \n",
    "        self.kanal_listesi.append(kanal_ismi)\n",
    "        print(\"kanal eklendi...\")\n",
    "        \n",
    "    def rastgele_kanal(self):\n",
    "        \n",
    "        rastgele= random.randint(0,len(self.kanal_listesi)-1)\n",
    "        self.kanal = self.kanal_listesi[rastgele]\n",
    "        \n",
    "        print(\"şu anki kanal: \",self.kanal )\n",
    "        \n",
    "    def __len__(self):\n",
    "        \n",
    "        return len(self.kanal_listesi)\n",
    "   \n",
    "    def __str__(self):\n",
    "        \n",
    "        return f\"tv durumu: {self.tv_durum}\\nTV ses: {self.tv_ses}\\nkanal listesi: {self.kanal_listesi}\\nşu anki kanal: {self.kanal}\"\n",
    "    \n",
    "kumanda = Kumanda()\n",
    "print(\"\"\"\n",
    "    TELEVİZYON UYGULAMASI\n",
    "    \n",
    "    1. TV aç\n",
    "    2. TV kapat\n",
    "    3. Ses Ayarları\n",
    "    4. Kanal Ekle\n",
    "    5. Kanal Sayısını Öğrenme\n",
    "    6. Rastgele Kanala Geçme\n",
    "    7. TV bilgileri\n",
    "    Çıkmak için \"q\" a basın.\n",
    "    \"\"\")\n",
    "    \n",
    "while True:\n",
    "    islem = input(\"işlem: \")    \n",
    "    if islem == \"q\":\n",
    "        print(\"program sonlandırılıyor...\")\n",
    "        break\n",
    "            \n",
    "    elif islem == \"1\":\n",
    "        kumanda.tv_ac()\n",
    "        \n",
    "    elif islem == \"2\":\n",
    "        kumanda.tv_kapat()\n",
    "        \n",
    "    elif islem == \"3\":\n",
    "        kumanda.tv_ses()\n",
    "        \n",
    "    elif islem == \"4\":\n",
    "            \n",
    "        kanal_isimleri = input(\"kanal isimlerini ',' ile ayırarak girin: \")\n",
    "        kanal_isimleri.split(\",\")\n",
    "        for eklenecekler in kanal_isimleri:\n",
    "            kumanda.kanal_ekle(eklenecekler)\n",
    "            \n",
    "    elif islem == \"5\":\n",
    "        print(\"kanal sayısı: \",len(kumanda))\n",
    "            \n",
    "    elif islem == \"6\":\n",
    "        kumanda.rastgele_kanal()\n",
    "            \n",
    "    elif islem == \"7\":\n",
    "        print(kumanda)\n",
    "        \n",
    "    else:\n",
    "        print(\"geçersiz işlem...\")\n",
    "            \n",
    "                  \n",
    "           \n",
    "                  "
   ]
  },
  {
   "cell_type": "code",
   "execution_count": 48,
   "metadata": {},
   "outputs": [
    {
     "name": "stdout",
     "output_type": "stream",
     "text": [
      "model: asus\n",
      "tür: laptop\n",
      "işletimSistemi: windows\n",
      "fiyat: 3000\n",
      "yıllar: [2000, 2001, 2003]\n",
      "None\n",
      "model: vestel\n",
      "tür: laptop\n",
      "işletimSistemi: linux\n",
      "fiyat: 4000\n",
      "yıllar: [2001, 2002, 2005, 2007]\n",
      "None\n",
      "3\n",
      "4\n"
     ]
    }
   ],
   "source": [
    "class Bilgisayar:\n",
    "    def __init__(self,model,kind,OS,price,year):\n",
    "        self.model = model\n",
    "        self.kind = kind\n",
    "        self.OS = OS\n",
    "        self.price = price \n",
    "        self.year = year\n",
    "    def showInfos(self):\n",
    "        print(f\"model: {self.model}\\ntür: {self.kind}\\nişletimSistemi: {self.OS}\\nfiyat: {self.price}\\nyıllar: {self.year}\")\n",
    "    def __len__(self):\n",
    "        return len(self.year)\n",
    "b1 = Bilgisayar(\"asus\",\"laptop\",\"windows\",3000,[2000,2001,2003])\n",
    "b2 = Bilgisayar(\"vestel\",\"laptop\",\"linux\",4000,[2001,2002,2005,2007])\n",
    "\n",
    "print(b1.showInfos())\n",
    "print(b2.showInfos())\n",
    "\n",
    "print(len(b1))\n",
    "print(len(b2.year))"
   ]
  },
  {
   "cell_type": "code",
   "execution_count": 67,
   "metadata": {},
   "outputs": [
    {
     "name": "stdout",
     "output_type": "stream",
     "text": [
      "cinsiyet: male\n",
      "yenilebilir mi?: false\n",
      "ayakSayısı: 4\n",
      " renk: black\n",
      "*********************************\n",
      "cinsiyet: female\n",
      "yenilebilir mi?: true\n",
      "ayakSayısı: 2\n",
      " renk: grey\n",
      "suda mı yaşıyor?: true\n",
      "*********************************\n",
      "cinsiyet: male\n",
      "yenilebilir mi?: false\n",
      "ayakSayısı: 4\n",
      "kaç yaşında? : 22\n"
     ]
    }
   ],
   "source": [
    "class Animal:\n",
    "    def __init__(self,gender,isedible,footnumber):\n",
    "        self.gender = gender\n",
    "        self.isedible = isedible\n",
    "        self.footnumber = footnumber\n",
    "        \n",
    "    def showInfos(self):\n",
    "        print(f\"cinsiyeti: {self.gender}\\nyenilebilir mi? : {self.isedible}\\nkaçAyaklı: {self.footnumber}\")\n",
    "        \n",
    "class Dog(Animal):\n",
    "    def  __init__(self,gender,isedible,footnumber,color):\n",
    "        Animal.__init__(self,gender,isedible,footnumber)\n",
    "        self.color = color\n",
    "\n",
    "class Bird(Animal):\n",
    "    def __init__(self,gender,isedible,footnumber,color,inWater):\n",
    "        \n",
    "        self.color = color\n",
    "        self.inWater = inWater\n",
    "        super().__init__(gender,isedible,footnumber)#Animal.__init__(self,gender,isedible,footnumber)\n",
    "\n",
    "class Horse(Animal):\n",
    "    def __init__(self,gender,isedible,footnumber,birthYear):\n",
    "        self.birthYear = birthYear\n",
    "        super().__init__(gender,isedible,footnumber)\n",
    "    \n",
    "    def calculateAge(self,year):\n",
    "        \n",
    "        age = year - horse.birthYear\n",
    "        return age\n",
    "        \n",
    "        \n",
    "dog = Dog(\"male\",\"false\",4,\"black\")\n",
    "bird = Bird(\"female\",\"true\",2,\"grey\",\"true\")\n",
    "horse = Horse(\"male\",\"false\",4,2000)\n",
    "\n",
    "print(f\"cinsiyet: {dog.gender}\\nyenilebilir mi?: {dog.isedible}\\nayakSayısı: {dog.footnumber}\\n renk: {dog.color}\")\n",
    "print(\"*********************************\")\n",
    "print(f\"cinsiyet: {bird.gender}\\nyenilebilir mi?: {bird.isedible}\\nayakSayısı: {bird.footnumber}\\n renk: {bird.color}\\nsuda mı yaşıyor?: {bird.inWater}\")\n",
    "print(\"*********************************\")\n",
    "print(f\"cinsiyet: {horse.gender}\\nyenilebilir mi?: {horse.isedible}\\nayakSayısı: {horse.footnumber}\\nkaç yaşında? : {horse.calculateAge(2022)}\")\n",
    "\n"
   ]
  },
  {
   "cell_type": "code",
   "execution_count": 68,
   "metadata": {},
   "outputs": [],
   "source": [
    "## HATA AYIKLAMA"
   ]
  },
  {
   "cell_type": "code",
   "execution_count": 69,
   "metadata": {},
   "outputs": [
    {
     "ename": "ValueError",
     "evalue": "invalid literal for int() with base 10: 'adsfgsh24463682u'",
     "output_type": "error",
     "traceback": [
      "\u001b[1;31m---------------------------------------------------------------------------\u001b[0m",
      "\u001b[1;31mValueError\u001b[0m                                Traceback (most recent call last)",
      "\u001b[1;32mC:\\Users\\ADMCN_~1\\AppData\\Local\\Temp/ipykernel_3476/434557709.py\u001b[0m in \u001b[0;36m<module>\u001b[1;34m\u001b[0m\n\u001b[1;32m----> 1\u001b[1;33m \u001b[0ma\u001b[0m \u001b[1;33m=\u001b[0m \u001b[0mint\u001b[0m\u001b[1;33m(\u001b[0m\u001b[1;34m\"adsfgsh24463682u\"\u001b[0m\u001b[1;33m)\u001b[0m\u001b[1;33m\u001b[0m\u001b[1;33m\u001b[0m\u001b[0m\n\u001b[0m\u001b[0;32m      2\u001b[0m \u001b[0mprint\u001b[0m\u001b[1;33m(\u001b[0m\u001b[0ma\u001b[0m\u001b[1;33m)\u001b[0m\u001b[1;33m\u001b[0m\u001b[1;33m\u001b[0m\u001b[0m\n",
      "\u001b[1;31mValueError\u001b[0m: invalid literal for int() with base 10: 'adsfgsh24463682u'"
     ]
    }
   ],
   "source": [
    "a = int(\"adsfgsh24463682u\")\n",
    "print(a)"
   ]
  },
  {
   "cell_type": "code",
   "execution_count": 76,
   "metadata": {},
   "outputs": [
    {
     "name": "stdout",
     "output_type": "stream",
     "text": [
      "hata var\n"
     ]
    }
   ],
   "source": [
    "try:\n",
    "    a = int(\"adsfgsh24463682u\")\n",
    "    print(a)\n",
    "except:\n",
    "    print(\"hata var\")"
   ]
  },
  {
   "cell_type": "code",
   "execution_count": 77,
   "metadata": {},
   "outputs": [
    {
     "name": "stdout",
     "output_type": "stream",
     "text": [
      "123\n"
     ]
    }
   ],
   "source": [
    "try:\n",
    "    a = int(\"123\")\n",
    "    print(a)\n",
    "except:\n",
    "    print(\"hata var\")"
   ]
  },
  {
   "cell_type": "code",
   "execution_count": 80,
   "metadata": {},
   "outputs": [
    {
     "name": "stdout",
     "output_type": "stream",
     "text": [
      "hata var\n"
     ]
    }
   ],
   "source": [
    "try:\n",
    "    a = int(\"123asd\")\n",
    "    print(a)\n",
    "except ValueError:\n",
    "    print(\"hata var\")"
   ]
  },
  {
   "cell_type": "code",
   "execution_count": 81,
   "metadata": {},
   "outputs": [
    {
     "ename": "IndentationError",
     "evalue": "expected an indented block (Temp/ipykernel_3476/2094261175.py, line 2)",
     "output_type": "error",
     "traceback": [
      "\u001b[1;36m  File \u001b[1;32m\"C:\\Users\\ADMCN_~1\\AppData\\Local\\Temp/ipykernel_3476/2094261175.py\"\u001b[1;36m, line \u001b[1;32m2\u001b[0m\n\u001b[1;33m    a = int(\"123asd\")\u001b[0m\n\u001b[1;37m    ^\u001b[0m\n\u001b[1;31mIndentationError\u001b[0m\u001b[1;31m:\u001b[0m expected an indented block\n"
     ]
    }
   ],
   "source": [
    "try:\n",
    "a = int(\"123asd\")\n",
    "    print(a)\n",
    "except ValueError:\n",
    "    print(\"hata var\")"
   ]
  },
  {
   "cell_type": "code",
   "execution_count": 82,
   "metadata": {},
   "outputs": [
    {
     "ename": "IndentationError",
     "evalue": "unexpected indent (Temp/ipykernel_3476/1878033086.py, line 2)",
     "output_type": "error",
     "traceback": [
      "\u001b[1;36m  File \u001b[1;32m\"C:\\Users\\ADMCN_~1\\AppData\\Local\\Temp/ipykernel_3476/1878033086.py\"\u001b[1;36m, line \u001b[1;32m2\u001b[0m\n\u001b[1;33m    print(a)\u001b[0m\n\u001b[1;37m    ^\u001b[0m\n\u001b[1;31mIndentationError\u001b[0m\u001b[1;31m:\u001b[0m unexpected indent\n"
     ]
    }
   ],
   "source": [
    "a = int(\"123asd\")\n",
    "    print(a)"
   ]
  },
  {
   "cell_type": "code",
   "execution_count": 83,
   "metadata": {},
   "outputs": [
    {
     "ename": "ZeroDivisionError",
     "evalue": "division by zero",
     "output_type": "error",
     "traceback": [
      "\u001b[1;31m---------------------------------------------------------------------------\u001b[0m",
      "\u001b[1;31mZeroDivisionError\u001b[0m                         Traceback (most recent call last)",
      "\u001b[1;32mC:\\Users\\ADMCN_~1\\AppData\\Local\\Temp/ipykernel_3476/1979898162.py\u001b[0m in \u001b[0;36m<module>\u001b[1;34m\u001b[0m\n\u001b[1;32m----> 1\u001b[1;33m \u001b[0ma\u001b[0m \u001b[1;33m/\u001b[0m \u001b[1;36m0\u001b[0m\u001b[1;33m\u001b[0m\u001b[1;33m\u001b[0m\u001b[0m\n\u001b[0m",
      "\u001b[1;31mZeroDivisionError\u001b[0m: division by zero"
     ]
    }
   ],
   "source": [
    "a / 0"
   ]
  },
  {
   "cell_type": "code",
   "execution_count": 86,
   "metadata": {},
   "outputs": [
    {
     "name": "stdout",
     "output_type": "stream",
     "text": [
      "sayı: 45\n",
      "sayı: 0\n"
     ]
    },
    {
     "ename": "ZeroDivisionError",
     "evalue": "division by zero",
     "output_type": "error",
     "traceback": [
      "\u001b[1;31m---------------------------------------------------------------------------\u001b[0m",
      "\u001b[1;31mZeroDivisionError\u001b[0m                         Traceback (most recent call last)",
      "\u001b[1;32mC:\\Users\\ADMCN_~1\\AppData\\Local\\Temp/ipykernel_3476/1825861075.py\u001b[0m in \u001b[0;36m<module>\u001b[1;34m\u001b[0m\n\u001b[0;32m      1\u001b[0m \u001b[0ma\u001b[0m \u001b[1;33m=\u001b[0m \u001b[0mint\u001b[0m\u001b[1;33m(\u001b[0m\u001b[0minput\u001b[0m\u001b[1;33m(\u001b[0m\u001b[1;34m\"sayı: \"\u001b[0m\u001b[1;33m)\u001b[0m\u001b[1;33m)\u001b[0m\u001b[1;33m\u001b[0m\u001b[1;33m\u001b[0m\u001b[0m\n\u001b[0;32m      2\u001b[0m \u001b[0mb\u001b[0m \u001b[1;33m=\u001b[0m \u001b[0mint\u001b[0m\u001b[1;33m(\u001b[0m\u001b[0minput\u001b[0m\u001b[1;33m(\u001b[0m\u001b[1;34m\"sayı: \"\u001b[0m\u001b[1;33m)\u001b[0m\u001b[1;33m)\u001b[0m\u001b[1;33m\u001b[0m\u001b[1;33m\u001b[0m\u001b[0m\n\u001b[1;32m----> 3\u001b[1;33m \u001b[0mprint\u001b[0m\u001b[1;33m(\u001b[0m\u001b[0ma\u001b[0m\u001b[1;33m/\u001b[0m\u001b[0mb\u001b[0m\u001b[1;33m)\u001b[0m\u001b[1;33m\u001b[0m\u001b[1;33m\u001b[0m\u001b[0m\n\u001b[0m",
      "\u001b[1;31mZeroDivisionError\u001b[0m: division by zero"
     ]
    }
   ],
   "source": [
    "a = int(input(\"sayı: \"))\n",
    "b = int(input(\"sayı: \"))\n",
    "print(a/b)"
   ]
  },
  {
   "cell_type": "code",
   "execution_count": 87,
   "metadata": {},
   "outputs": [
    {
     "name": "stdout",
     "output_type": "stream",
     "text": [
      "sayı: 45\n",
      "sayı: 0\n",
      "hata var\n"
     ]
    }
   ],
   "source": [
    "try:\n",
    "    \n",
    "    a = int(input(\"sayı: \"))\n",
    "    b = int(input(\"sayı: \"))\n",
    "    print(a/b)\n",
    "except:\n",
    "    print(\"hata var\")"
   ]
  },
  {
   "cell_type": "code",
   "execution_count": 88,
   "metadata": {},
   "outputs": [
    {
     "name": "stdout",
     "output_type": "stream",
     "text": [
      "sayı: as\n",
      "hata var\n"
     ]
    }
   ],
   "source": [
    "try:\n",
    "    \n",
    "    a = int(input(\"sayı: \"))\n",
    "    b = int(input(\"sayı: \"))\n",
    "    print(a/b)\n",
    "except:\n",
    "    print(\"hata var\")"
   ]
  },
  {
   "cell_type": "code",
   "execution_count": 89,
   "metadata": {},
   "outputs": [
    {
     "name": "stdout",
     "output_type": "stream",
     "text": [
      "sayı: 45\n",
      "sayı: 3\n",
      "15.0\n"
     ]
    }
   ],
   "source": [
    "try:\n",
    "    \n",
    "    a = int(input(\"sayı: \"))\n",
    "    b = int(input(\"sayı: \"))\n",
    "    print(a/b)\n",
    "except:\n",
    "    print(\"hata var\")"
   ]
  },
  {
   "cell_type": "code",
   "execution_count": 90,
   "metadata": {},
   "outputs": [
    {
     "name": "stdout",
     "output_type": "stream",
     "text": [
      "sayı: 45\n",
      "sayı: 0\n",
      "bir sayı 0 a bölünemez\n"
     ]
    }
   ],
   "source": [
    "try:\n",
    "    \n",
    "    a = int(input(\"sayı: \"))\n",
    "    b = int(input(\"sayı: \"))\n",
    "    print(a/b)\n",
    "except ValueError:\n",
    "    print(\"inputu doğru girin...\")\n",
    "except ZeroDivisionError:\n",
    "    print(\"bir sayı 0 a bölünemez\")"
   ]
  },
  {
   "cell_type": "code",
   "execution_count": 91,
   "metadata": {},
   "outputs": [
    {
     "name": "stdout",
     "output_type": "stream",
     "text": [
      "sayı: 45\n",
      "sayı: şdl\n",
      "inputu doğru girin...\n"
     ]
    }
   ],
   "source": [
    "try:\n",
    "    \n",
    "    a = int(input(\"sayı: \"))\n",
    "    b = int(input(\"sayı: \"))\n",
    "    print(a/b)\n",
    "except ValueError:\n",
    "    print(\"inputu doğru girin...\")\n",
    "except ZeroDivisionError:\n",
    "    print(\"bir sayı 0 a bölünemez\")"
   ]
  },
  {
   "cell_type": "code",
   "execution_count": 3,
   "metadata": {},
   "outputs": [
    {
     "name": "stdout",
     "output_type": "stream",
     "text": [
      "sayı: 12\n",
      "sayı: 0\n",
      "bir sayı 0 a bölünemez\n",
      "burası çalıştı...\n"
     ]
    }
   ],
   "source": [
    "try:\n",
    "    \n",
    "    a = int(input(\"sayı: \"))\n",
    "    b = int(input(\"sayı: \"))\n",
    "    print(a/b)\n",
    "except ValueError:\n",
    "    print(\"inputu doğru girin...\")\n",
    "except ZeroDivisionError:\n",
    "    print(\"bir sayı 0 a bölünemez\")\n",
    "finally:\n",
    "    print(\"burası çalıştı...\")"
   ]
  },
  {
   "cell_type": "code",
   "execution_count": 4,
   "metadata": {},
   "outputs": [],
   "source": [
    "def tersCevir(s):\n",
    "    if type(s) != str:\n",
    "        raise ValueError(\"lütfen string bir değer girin..\")\n",
    "    else:\n",
    "        return s[::-1]"
   ]
  },
  {
   "cell_type": "code",
   "execution_count": 5,
   "metadata": {},
   "outputs": [
    {
     "name": "stdout",
     "output_type": "stream",
     "text": [
      "nohtyp\n"
     ]
    }
   ],
   "source": [
    "print(tersCevir(\"python\"))"
   ]
  },
  {
   "cell_type": "code",
   "execution_count": 8,
   "metadata": {},
   "outputs": [
    {
     "ename": "ValueError",
     "evalue": "lütfen string bir değer girin..",
     "output_type": "error",
     "traceback": [
      "\u001b[1;31m---------------------------------------------------------------------------\u001b[0m",
      "\u001b[1;31mValueError\u001b[0m                                Traceback (most recent call last)",
      "\u001b[1;32mC:\\Users\\ADMCN_~1\\AppData\\Local\\Temp/ipykernel_4176/1542813772.py\u001b[0m in \u001b[0;36m<module>\u001b[1;34m\u001b[0m\n\u001b[1;32m----> 1\u001b[1;33m \u001b[0mprint\u001b[0m\u001b[1;33m(\u001b[0m\u001b[0mtersCevir\u001b[0m\u001b[1;33m(\u001b[0m\u001b[1;36m1245\u001b[0m\u001b[1;33m)\u001b[0m\u001b[1;33m)\u001b[0m\u001b[1;33m\u001b[0m\u001b[1;33m\u001b[0m\u001b[0m\n\u001b[0m",
      "\u001b[1;32mC:\\Users\\ADMCN_~1\\AppData\\Local\\Temp/ipykernel_4176/147276423.py\u001b[0m in \u001b[0;36mtersCevir\u001b[1;34m(s)\u001b[0m\n\u001b[0;32m      1\u001b[0m \u001b[1;32mdef\u001b[0m \u001b[0mtersCevir\u001b[0m\u001b[1;33m(\u001b[0m\u001b[0ms\u001b[0m\u001b[1;33m)\u001b[0m\u001b[1;33m:\u001b[0m\u001b[1;33m\u001b[0m\u001b[1;33m\u001b[0m\u001b[0m\n\u001b[0;32m      2\u001b[0m     \u001b[1;32mif\u001b[0m \u001b[0mtype\u001b[0m\u001b[1;33m(\u001b[0m\u001b[0ms\u001b[0m\u001b[1;33m)\u001b[0m \u001b[1;33m!=\u001b[0m \u001b[0mstr\u001b[0m\u001b[1;33m:\u001b[0m\u001b[1;33m\u001b[0m\u001b[1;33m\u001b[0m\u001b[0m\n\u001b[1;32m----> 3\u001b[1;33m         \u001b[1;32mraise\u001b[0m \u001b[0mValueError\u001b[0m\u001b[1;33m(\u001b[0m\u001b[1;34m\"lütfen string bir değer girin..\"\u001b[0m\u001b[1;33m)\u001b[0m\u001b[1;33m\u001b[0m\u001b[1;33m\u001b[0m\u001b[0m\n\u001b[0m\u001b[0;32m      4\u001b[0m     \u001b[1;32melse\u001b[0m\u001b[1;33m:\u001b[0m\u001b[1;33m\u001b[0m\u001b[1;33m\u001b[0m\u001b[0m\n\u001b[0;32m      5\u001b[0m         \u001b[1;32mreturn\u001b[0m \u001b[0ms\u001b[0m\u001b[1;33m[\u001b[0m\u001b[1;33m:\u001b[0m\u001b[1;33m:\u001b[0m\u001b[1;33m-\u001b[0m\u001b[1;36m1\u001b[0m\u001b[1;33m]\u001b[0m\u001b[1;33m\u001b[0m\u001b[1;33m\u001b[0m\u001b[0m\n",
      "\u001b[1;31mValueError\u001b[0m: lütfen string bir değer girin.."
     ]
    }
   ],
   "source": [
    "print(tersCevir(1245))"
   ]
  },
  {
   "cell_type": "code",
   "execution_count": 12,
   "metadata": {},
   "outputs": [
    {
     "name": "stdout",
     "output_type": "stream",
     "text": [
      "hata var\n"
     ]
    }
   ],
   "source": [
    "try:\n",
    "    print(tersCevir(1245))\n",
    "except ValueError :\n",
    "    print(\"hata var\")"
   ]
  },
  {
   "cell_type": "code",
   "execution_count": 47,
   "metadata": {
    "scrolled": true
   },
   "outputs": [
    {
     "name": "stdout",
     "output_type": "stream",
     "text": [
      "345\n",
      "bazı objelerde string kullanılmış\n",
      "bazı objelerde string kullanılmış\n",
      "14\n",
      "bazı objelerde string kullanılmış\n"
     ]
    }
   ],
   "source": [
    "liste = [\"345\",\"sadas\",\"324a\",\"14\",\"kemal\"]\n",
    "\n",
    "\n",
    "for i in liste:\n",
    "    \n",
    "    try:\n",
    "        i =int(i)\n",
    "        if type(i) == int:\n",
    "            print(i)\n",
    "    except ValueError:\n",
    "        print(\"bazı objelerde string kullanılmış\")\n",
    "    "
   ]
  },
  {
   "cell_type": "code",
   "execution_count": 91,
   "metadata": {},
   "outputs": [
    {
     "name": "stdout",
     "output_type": "stream",
     "text": [
      "345\n",
      "14\n"
     ]
    }
   ],
   "source": [
    "liste = [\"345\",\"sadas\",\"324a\",\"14\",\"kemal\"]\n",
    "\n",
    "\n",
    "for i in liste:\n",
    "    \n",
    "    try:\n",
    "        i =int(i)\n",
    "        if type(i) == int:\n",
    "            print(i)\n",
    "    except :\n",
    "        pass"
   ]
  },
  {
   "cell_type": "code",
   "execution_count": 48,
   "metadata": {},
   "outputs": [
    {
     "name": "stdout",
     "output_type": "stream",
     "text": [
      "True\n"
     ]
    }
   ],
   "source": [
    "\n",
    "iseven = lambda x: x % 2 == 0\n",
    "print(iseven(8))\n",
    "    \n",
    "            "
   ]
  },
  {
   "cell_type": "code",
   "execution_count": null,
   "metadata": {},
   "outputs": [],
   "source": [
    "toplama = lambda a,b,c: a + b + c\n",
    "print(toplama(12,45,78))"
   ]
  },
  {
   "cell_type": "code",
   "execution_count": 63,
   "metadata": {},
   "outputs": [
    {
     "name": "stdout",
     "output_type": "stream",
     "text": [
      "sayı: 15\n"
     ]
    },
    {
     "ename": "ValueError",
     "evalue": "lütfen çift sayı girin...",
     "output_type": "error",
     "traceback": [
      "\u001b[1;31m---------------------------------------------------------------------------\u001b[0m",
      "\u001b[1;31mValueError\u001b[0m                                Traceback (most recent call last)",
      "\u001b[1;32mC:\\Users\\ADMCN_~1\\AppData\\Local\\Temp/ipykernel_4176/3840670167.py\u001b[0m in \u001b[0;36m<module>\u001b[1;34m\u001b[0m\n\u001b[0;32m      5\u001b[0m         \u001b[1;32mraise\u001b[0m \u001b[0mValueError\u001b[0m\u001b[1;33m(\u001b[0m\u001b[1;34m\"lütfen çift sayı girin...\"\u001b[0m\u001b[1;33m)\u001b[0m\u001b[1;33m\u001b[0m\u001b[1;33m\u001b[0m\u001b[0m\n\u001b[0;32m      6\u001b[0m \u001b[0ma\u001b[0m \u001b[1;33m=\u001b[0m \u001b[0mint\u001b[0m\u001b[1;33m(\u001b[0m\u001b[0minput\u001b[0m\u001b[1;33m(\u001b[0m\u001b[1;34m\"sayı: \"\u001b[0m\u001b[1;33m)\u001b[0m\u001b[1;33m)\u001b[0m\u001b[1;33m\u001b[0m\u001b[1;33m\u001b[0m\u001b[0m\n\u001b[1;32m----> 7\u001b[1;33m \u001b[0mprint\u001b[0m\u001b[1;33m(\u001b[0m\u001b[0mciftSayıBul\u001b[0m\u001b[1;33m(\u001b[0m\u001b[0ma\u001b[0m\u001b[1;33m)\u001b[0m\u001b[1;33m)\u001b[0m\u001b[1;33m\u001b[0m\u001b[1;33m\u001b[0m\u001b[0m\n\u001b[0m",
      "\u001b[1;32mC:\\Users\\ADMCN_~1\\AppData\\Local\\Temp/ipykernel_4176/3840670167.py\u001b[0m in \u001b[0;36mciftSayıBul\u001b[1;34m(a)\u001b[0m\n\u001b[0;32m      3\u001b[0m         \u001b[1;32mreturn\u001b[0m \u001b[1;34mf\"{a} çift sayıdır..\"\u001b[0m\u001b[1;33m\u001b[0m\u001b[1;33m\u001b[0m\u001b[0m\n\u001b[0;32m      4\u001b[0m     \u001b[1;32melse\u001b[0m\u001b[1;33m:\u001b[0m\u001b[1;33m\u001b[0m\u001b[1;33m\u001b[0m\u001b[0m\n\u001b[1;32m----> 5\u001b[1;33m         \u001b[1;32mraise\u001b[0m \u001b[0mValueError\u001b[0m\u001b[1;33m(\u001b[0m\u001b[1;34m\"lütfen çift sayı girin...\"\u001b[0m\u001b[1;33m)\u001b[0m\u001b[1;33m\u001b[0m\u001b[1;33m\u001b[0m\u001b[0m\n\u001b[0m\u001b[0;32m      6\u001b[0m \u001b[0ma\u001b[0m \u001b[1;33m=\u001b[0m \u001b[0mint\u001b[0m\u001b[1;33m(\u001b[0m\u001b[0minput\u001b[0m\u001b[1;33m(\u001b[0m\u001b[1;34m\"sayı: \"\u001b[0m\u001b[1;33m)\u001b[0m\u001b[1;33m)\u001b[0m\u001b[1;33m\u001b[0m\u001b[1;33m\u001b[0m\u001b[0m\n\u001b[0;32m      7\u001b[0m \u001b[0mprint\u001b[0m\u001b[1;33m(\u001b[0m\u001b[0mciftSayıBul\u001b[0m\u001b[1;33m(\u001b[0m\u001b[0ma\u001b[0m\u001b[1;33m)\u001b[0m\u001b[1;33m)\u001b[0m\u001b[1;33m\u001b[0m\u001b[1;33m\u001b[0m\u001b[0m\n",
      "\u001b[1;31mValueError\u001b[0m: lütfen çift sayı girin..."
     ]
    }
   ],
   "source": [
    "def ciftSayıBul(a):\n",
    "    if a % 2 == 0:\n",
    "        return f\"{a} çift sayıdır..\"\n",
    "    else:\n",
    "        raise ValueError(\"lütfen çift sayı girin...\")\n",
    "a = int(input(\"sayı: \"))\n",
    "print(ciftSayıBul(a))"
   ]
  },
  {
   "cell_type": "code",
   "execution_count": 87,
   "metadata": {},
   "outputs": [
    {
     "data": {
      "text/plain": [
       "[2, 4, 6, 8, 10, 12, 14]"
      ]
     },
     "execution_count": 87,
     "metadata": {},
     "output_type": "execute_result"
    }
   ],
   "source": [
    "l = [i for i in range(2,15) if i % 2 == 0]\n",
    "l"
   ]
  },
  {
   "cell_type": "code",
   "execution_count": 88,
   "metadata": {},
   "outputs": [
    {
     "data": {
      "text/plain": [
       "[2, 3, 4, 5, 6, 7, 8, 9, 10, 11, 12, 13, 14]"
      ]
     },
     "execution_count": 88,
     "metadata": {},
     "output_type": "execute_result"
    }
   ],
   "source": [
    "l = [i for i in range(2,15) ]\n",
    "l"
   ]
  },
  {
   "cell_type": "code",
   "execution_count": 92,
   "metadata": {},
   "outputs": [
    {
     "name": "stdout",
     "output_type": "stream",
     "text": [
      "2\n",
      "4\n",
      "6\n",
      "8\n",
      "10\n",
      "12\n",
      "14\n"
     ]
    }
   ],
   "source": [
    "try:\n",
    "    for i in l:\n",
    "        if i % 2 == 0:\n",
    "            print(i)\n",
    "except:\n",
    "    pass"
   ]
  },
  {
   "cell_type": "markdown",
   "metadata": {},
   "source": [
    "## DOSYA AÇMA VE YAZMA İŞLEMLERİ"
   ]
  },
  {
   "cell_type": "code",
   "execution_count": 93,
   "metadata": {},
   "outputs": [
    {
     "data": {
      "text/plain": [
       "<_io.TextIOWrapper name='bilgiler.txt' mode='w' encoding='cp1254'>"
      ]
     },
     "execution_count": 93,
     "metadata": {},
     "output_type": "execute_result"
    }
   ],
   "source": [
    "open(\"bilgiler.txt\",\"w\")"
   ]
  },
  {
   "cell_type": "code",
   "execution_count": 94,
   "metadata": {},
   "outputs": [],
   "source": [
    "file = open(\"bilgiler.txt\",\"w\")"
   ]
  },
  {
   "cell_type": "code",
   "execution_count": 95,
   "metadata": {},
   "outputs": [],
   "source": [
    "file.close()"
   ]
  },
  {
   "cell_type": "code",
   "execution_count": 101,
   "metadata": {},
   "outputs": [],
   "source": [
    "file = open(\"C:/Users/admcn_000/Desktop/bilgiler.txt\",\"w\")"
   ]
  },
  {
   "cell_type": "code",
   "execution_count": 112,
   "metadata": {},
   "outputs": [],
   "source": [
    "file =open(\"bilgiler.txt\",\"w\",encoding = \"utf-8\")"
   ]
  },
  {
   "cell_type": "code",
   "execution_count": 113,
   "metadata": {},
   "outputs": [
    {
     "data": {
      "text/plain": [
       "13"
      ]
     },
     "execution_count": 113,
     "metadata": {},
     "output_type": "execute_result"
    }
   ],
   "source": [
    "file.write(\"Adem BAKIRCI \")"
   ]
  },
  {
   "cell_type": "code",
   "execution_count": 114,
   "metadata": {},
   "outputs": [],
   "source": [
    "file.close()"
   ]
  },
  {
   "cell_type": "code",
   "execution_count": 115,
   "metadata": {},
   "outputs": [],
   "source": [
    "file =open(\"bilgiler.txt\",\"w\",encoding = \"utf-8\")\n",
    "file.close()"
   ]
  },
  {
   "cell_type": "code",
   "execution_count": 116,
   "metadata": {},
   "outputs": [],
   "source": [
    "file =open(\"bilgiler.txt\",\"a\",encoding = \"utf-8\")"
   ]
  },
  {
   "cell_type": "code",
   "execution_count": 117,
   "metadata": {},
   "outputs": [
    {
     "data": {
      "text/plain": [
       "12"
      ]
     },
     "execution_count": 117,
     "metadata": {},
     "output_type": "execute_result"
    }
   ],
   "source": [
    "file.write(\"adem bakırcı\")"
   ]
  },
  {
   "cell_type": "code",
   "execution_count": 118,
   "metadata": {},
   "outputs": [],
   "source": [
    "file.close()"
   ]
  },
  {
   "cell_type": "code",
   "execution_count": 119,
   "metadata": {},
   "outputs": [],
   "source": [
    "file = open(\"bilgiler.txt\",\"a\", encoding = \"utf-8\")\n",
    "file.write(\"cansu bakırcı\")\n",
    "file.close()"
   ]
  },
  {
   "cell_type": "code",
   "execution_count": 120,
   "metadata": {},
   "outputs": [],
   "source": [
    "file = open(\"bilgiler.txt\",\"a\", encoding = \"utf-8\")\n",
    "file.write(\"cansu bakırcı\\n\")\n",
    "file.close()"
   ]
  },
  {
   "cell_type": "code",
   "execution_count": 121,
   "metadata": {},
   "outputs": [],
   "source": [
    "file = open(\"bilgiler.txt\",\"a\", encoding = \"utf-8\")\n",
    "file.write(\"adem bakırcı\")\n",
    "file.close()"
   ]
  },
  {
   "cell_type": "code",
   "execution_count": 124,
   "metadata": {},
   "outputs": [],
   "source": [
    "file = open(\"bilgiler.txt\",\"r\",encoding = \"utf-8\")"
   ]
  },
  {
   "cell_type": "code",
   "execution_count": 125,
   "metadata": {},
   "outputs": [
    {
     "data": {
      "text/plain": [
       "'\\ufeffadem bakırcı\\ncansu bakırcı\\nalperen bakırcı\\nayşe bakırcı\\nsedef taş'"
      ]
     },
     "execution_count": 125,
     "metadata": {},
     "output_type": "execute_result"
    }
   ],
   "source": [
    "file.read()"
   ]
  },
  {
   "cell_type": "code",
   "execution_count": 126,
   "metadata": {},
   "outputs": [],
   "source": [
    "file.close()"
   ]
  },
  {
   "cell_type": "code",
   "execution_count": 127,
   "metadata": {},
   "outputs": [
    {
     "ename": "FileNotFoundError",
     "evalue": "[Errno 2] No such file or directory: 'bilgiler2.txt'",
     "output_type": "error",
     "traceback": [
      "\u001b[1;31m---------------------------------------------------------------------------\u001b[0m",
      "\u001b[1;31mFileNotFoundError\u001b[0m                         Traceback (most recent call last)",
      "\u001b[1;32mC:\\Users\\ADMCN_~1\\AppData\\Local\\Temp/ipykernel_4176/2418183978.py\u001b[0m in \u001b[0;36m<module>\u001b[1;34m\u001b[0m\n\u001b[1;32m----> 1\u001b[1;33m \u001b[0mfile\u001b[0m \u001b[1;33m=\u001b[0m \u001b[0mopen\u001b[0m\u001b[1;33m(\u001b[0m\u001b[1;34m\"bilgiler2.txt\"\u001b[0m\u001b[1;33m,\u001b[0m\u001b[1;34m\"r\"\u001b[0m\u001b[1;33m)\u001b[0m\u001b[1;33m\u001b[0m\u001b[1;33m\u001b[0m\u001b[0m\n\u001b[0m",
      "\u001b[1;31mFileNotFoundError\u001b[0m: [Errno 2] No such file or directory: 'bilgiler2.txt'"
     ]
    }
   ],
   "source": [
    "file = open(\"bilgiler2.txt\",\"r\")"
   ]
  },
  {
   "cell_type": "code",
   "execution_count": 128,
   "metadata": {},
   "outputs": [
    {
     "name": "stdout",
     "output_type": "stream",
     "text": [
      "dosya bulunamadı...\n"
     ]
    }
   ],
   "source": [
    "try:\n",
    "    file = open(\"bilgiler2.txt\",\"r\")\n",
    "except:\n",
    "    print(\"dosya bulunamadı...\")\n",
    "    "
   ]
  },
  {
   "cell_type": "code",
   "execution_count": 129,
   "metadata": {},
   "outputs": [
    {
     "name": "stdout",
     "output_type": "stream",
     "text": [
      "dosya bulunamadı...\n"
     ]
    }
   ],
   "source": [
    "try:\n",
    "    file = open(\"bilgiler2.txt\",\"r\")\n",
    "except FileNotFoundError:\n",
    "    print(\"dosya bulunamadı...\")"
   ]
  },
  {
   "cell_type": "code",
   "execution_count": 132,
   "metadata": {},
   "outputs": [
    {
     "name": "stdout",
     "output_type": "stream",
     "text": [
      "﻿adem bakırcı\n",
      "cansu bakırcı\n",
      "alperen bakırcı\n",
      "ayşe bakırcı\n",
      "sedef taş"
     ]
    }
   ],
   "source": [
    "file = open(\"bilgiler.txt\",\"r\",encoding = \"utf-8\")\n",
    "for i in file:\n",
    "    print(i, end =\"\")\n",
    "file.close()"
   ]
  },
  {
   "cell_type": "code",
   "execution_count": 133,
   "metadata": {},
   "outputs": [
    {
     "name": "stdout",
     "output_type": "stream",
     "text": [
      "İÇERİK LİSTESİ\n",
      "﻿adem bakırcı\n",
      "cansu bakırcı\n",
      "alperen bakırcı\n",
      "ayşe bakırcı\n",
      "sedef taş\n"
     ]
    }
   ],
   "source": [
    "file = open(\"bilgiler.txt\",\"r\",encoding = \"utf-8\")\n",
    "icerik = file.read()\n",
    "print(\"İÇERİK LİSTESİ\")\n",
    "print(icerik)"
   ]
  },
  {
   "cell_type": "code",
   "execution_count": 136,
   "metadata": {},
   "outputs": [
    {
     "name": "stdout",
     "output_type": "stream",
     "text": [
      "İÇERİK LİSTESİ\n",
      "﻿adem bakırcı\n",
      "cansu bakırcı\n",
      "alperen bakırcı\n",
      "ayşe bakırcı\n",
      "sedef taş\n",
      "içerik listesi\n",
      "\n"
     ]
    }
   ],
   "source": [
    "file = open(\"bilgiler.txt\",\"r\",encoding = \"utf-8\")\n",
    "icerik = file.read()\n",
    "print(\"İÇERİK LİSTESİ\")\n",
    "print(icerik)\n",
    "\n",
    "print(\"içerik listesi\")\n",
    "icerik2 = file.read()\n",
    "print(icerik2)"
   ]
  },
  {
   "cell_type": "code",
   "execution_count": 137,
   "metadata": {},
   "outputs": [
    {
     "name": "stdout",
     "output_type": "stream",
     "text": [
      "﻿adem bakırcı\n",
      "\n"
     ]
    }
   ],
   "source": [
    "file = open(\"bilgiler.txt\",\"r\",encoding = \"utf-8\")\n",
    "print(file.readline())"
   ]
  },
  {
   "cell_type": "code",
   "execution_count": 140,
   "metadata": {},
   "outputs": [],
   "source": [
    "file.close()"
   ]
  },
  {
   "cell_type": "code",
   "execution_count": 139,
   "metadata": {},
   "outputs": [
    {
     "name": "stdout",
     "output_type": "stream",
     "text": [
      "﻿adem bakırcı\n",
      "\n",
      "cansu bakırcı\n",
      "\n",
      "alperen bakırcı\n",
      "\n",
      "ayşe bakırcı\n",
      "\n",
      "sedef taş\n",
      "************************\n",
      "\n",
      "\n",
      "\n"
     ]
    }
   ],
   "source": [
    "file = open(\"bilgiler.txt\",\"r\",encoding = \"utf-8\")\n",
    "print(file.readline())\n",
    "print(file.readline())\n",
    "print(file.readline())\n",
    "print(file.readline())\n",
    "print(file.readline())\n",
    "print(\"************************\")\n",
    "print(file.readline())\n",
    "print(file.readline())\n",
    "print(file.readline())"
   ]
  },
  {
   "cell_type": "code",
   "execution_count": 141,
   "metadata": {},
   "outputs": [
    {
     "name": "stdout",
     "output_type": "stream",
     "text": [
      "['\\ufeffadem bakırcı\\n', 'cansu bakırcı\\n', 'alperen bakırcı\\n', 'ayşe bakırcı\\n', 'sedef taş']\n"
     ]
    }
   ],
   "source": [
    "file = open(\"bilgiler.txt\",\"r\",encoding = \"utf-8\")\n",
    "\"print(file.readlines())"
   ]
  },
  {
   "cell_type": "code",
   "execution_count": null,
   "metadata": {},
   "outputs": [],
   "source": []
  },
  {
   "cell_type": "code",
   "execution_count": 4,
   "metadata": {},
   "outputs": [
    {
     "name": "stdout",
     "output_type": "stream",
     "text": [
      "0\n"
     ]
    }
   ],
   "source": [
    "with open(\"bilgiler.txt\",\"r\",encoding = \"utf-8\") as file:\n",
    "          print(file.tell())"
   ]
  },
  {
   "cell_type": "code",
   "execution_count": 5,
   "metadata": {},
   "outputs": [
    {
     "name": "stdout",
     "output_type": "stream",
     "text": [
      "20\n"
     ]
    }
   ],
   "source": [
    "with open(\"bilgiler.txt\",\"r\",encoding = \"utf-8\") as file:\n",
    "    file.seek(20)\n",
    "    print(file.tell())"
   ]
  },
  {
   "cell_type": "code",
   "execution_count": 9,
   "metadata": {},
   "outputs": [
    {
     "name": "stdout",
     "output_type": "stream",
     "text": [
      "﻿adem bakırcı\n",
      "cansu bakırcı\n",
      "alperen bakırcı\n",
      "ayşe bakırcı\n",
      "sedef taş\n"
     ]
    }
   ],
   "source": [
    "with open(\"bilgiler.txt\",\"r\",encoding = \"utf-8\") as file:\n",
    "    print(file.read())"
   ]
  },
  {
   "cell_type": "code",
   "execution_count": 10,
   "metadata": {},
   "outputs": [],
   "source": [
    "with open(\"bilgiler.txt\",\"w\",encoding = \"utf-8\") as file:\n",
    "    file.write(\"I want to be a data scientist but I should work hard.\")\n",
    "    "
   ]
  },
  {
   "cell_type": "code",
   "execution_count": 16,
   "metadata": {},
   "outputs": [
    {
     "name": "stdout",
     "output_type": "stream",
     "text": [
      "I want to be a data scientist but I should work hard.\n",
      "10\n",
      "be a data scientist but I should work hard.\n",
      "\n"
     ]
    }
   ],
   "source": [
    "with open (\"bilgiler.txt\",\"r\",encoding =\"utf-8\") as file:\n",
    "    print(file.read())\n",
    "    print(file.seek(10))\n",
    "    print(file.read(60))\n",
    "    print(file.read())"
   ]
  },
  {
   "cell_type": "code",
   "execution_count": 17,
   "metadata": {},
   "outputs": [
    {
     "name": "stdout",
     "output_type": "stream",
     "text": [
      "I want to be a data scientist but I should work hard.\n"
     ]
    }
   ],
   "source": [
    "with open (\"bilgiler.txt\",\"r\",encoding =\"utf-8\") as file:\n",
    "    print(file.read())"
   ]
  },
  {
   "cell_type": "code",
   "execution_count": 18,
   "metadata": {},
   "outputs": [
    {
     "name": "stdout",
     "output_type": "stream",
     "text": [
      "51\n"
     ]
    }
   ],
   "source": [
    "with open (\"bilgiler.txt\",\"a\",encoding =\"utf-8\") as file:\n",
    "    print(file.write(\"\\nI want to be a data analyst but I should work hard\"))\n",
    "    "
   ]
  },
  {
   "cell_type": "code",
   "execution_count": 20,
   "metadata": {},
   "outputs": [
    {
     "name": "stdout",
     "output_type": "stream",
     "text": [
      "I want to be a data scientist but I should work hard.\n",
      "I want to be a data analyst but I should work hard\n"
     ]
    }
   ],
   "source": [
    "with open (\"bilgiler.txt\",\"r\",encoding =\"utf-8\") as file:\n",
    "    print(file.read())"
   ]
  },
  {
   "cell_type": "code",
   "execution_count": 27,
   "metadata": {},
   "outputs": [
    {
     "name": "stdout",
     "output_type": "stream",
     "text": [
      "0\n",
      "10\n",
      "be a data scientist \n",
      "60\n",
      "t to be a data analy\n"
     ]
    }
   ],
   "source": [
    "with open (\"bilgiler.txt\",\"r\",encoding =\"utf-8\") as file:\n",
    "    print(file.tell())\n",
    "    print(file.seek(10))\n",
    "    a = print(file.read(20))\n",
    "    print(file.seek(60))\n",
    "    b = print(file.read(20))\n",
    "    "
   ]
  },
  {
   "cell_type": "code",
   "execution_count": 28,
   "metadata": {},
   "outputs": [],
   "source": [
    "## DOSYALARDA DEĞİŞİKLİK YAPMAK"
   ]
  },
  {
   "cell_type": "code",
   "execution_count": 29,
   "metadata": {},
   "outputs": [
    {
     "name": "stdout",
     "output_type": "stream",
     "text": [
      "65\n"
     ]
    }
   ],
   "source": [
    "with open(\"bilgiler.txt\",\"w\",encoding =\"utf-8\") as file:\n",
    "    print(file.write(\"adem bakırcı\\ncansu yıldırım\\nyılmaz yıldırım\\nelif bozi\\nsena saman \"))\n",
    "    \n",
    "    \n",
    "    "
   ]
  },
  {
   "cell_type": "code",
   "execution_count": 31,
   "metadata": {},
   "outputs": [
    {
     "name": "stdout",
     "output_type": "stream",
     "text": [
      "adem bakırcı\n",
      "cansu yıldırım\n",
      "yılmaz yıldırım\n",
      "elif bozi\n",
      "sena saman \n"
     ]
    }
   ],
   "source": [
    "with open(\"bilgiler.txt\",\"r\",encoding =\"utf-8\") as file:\n",
    "    print(file.read())"
   ]
  },
  {
   "cell_type": "code",
   "execution_count": 32,
   "metadata": {},
   "outputs": [
    {
     "name": "stdout",
     "output_type": "stream",
     "text": [
      "adem bakırcı\n",
      "cansu yıldırım\n",
      "yılmaz yıldırım\n",
      "elif bozi\n",
      "sena saman \n"
     ]
    }
   ],
   "source": [
    "with open(\"bilgiler.txt\",\"r+\",encoding =\"utf-8\") as file:\n",
    "    print(file.read())\n",
    "    "
   ]
  },
  {
   "cell_type": "code",
   "execution_count": 34,
   "metadata": {
    "scrolled": true
   },
   "outputs": [
    {
     "name": "stdout",
     "output_type": "stream",
     "text": [
      "20\n",
      "6\n"
     ]
    }
   ],
   "source": [
    "with open(\"bilgiler.txt\",\"r+\",encoding =\"utf-8\") as file:\n",
    "    print(file.seek(20))\n",
    "    print(file.write(\"deneme\"))\n",
    "    "
   ]
  },
  {
   "cell_type": "code",
   "execution_count": 35,
   "metadata": {},
   "outputs": [
    {
     "name": "stdout",
     "output_type": "stream",
     "text": [
      "adem bakırcı\n",
      "cansdenemedırım\n",
      "yılmaz yıldırım\n",
      "elif bozi\n",
      "sena saman \n"
     ]
    }
   ],
   "source": [
    "with open(\"bilgiler.txt\",\"r+\",encoding =\"utf-8\") as file:\n",
    "    print(file.read())"
   ]
  },
  {
   "cell_type": "code",
   "execution_count": 40,
   "metadata": {},
   "outputs": [
    {
     "name": "stdout",
     "output_type": "stream",
     "text": [
      "65\n"
     ]
    }
   ],
   "source": [
    "with open(\"bilgiler.txt\",\"w\",encoding =\"utf-8\") as file:\n",
    "    print(file.write(\"adem bakırcı\\ncansu yıldırım\\nyılmaz yıldırım\\nelif bozi\\nsena saman \"))"
   ]
  },
  {
   "cell_type": "code",
   "execution_count": 41,
   "metadata": {},
   "outputs": [
    {
     "name": "stdout",
     "output_type": "stream",
     "text": [
      "adem bakırcı\n",
      "cansu yıldırım\n",
      "yılmaz yıldırım\n",
      "elif bozi\n",
      "sena saman \n"
     ]
    }
   ],
   "source": [
    "with open(\"bilgiler.txt\",\"r+\",encoding =\"utf-8\") as file:\n",
    "    print(file.read())"
   ]
  },
  {
   "cell_type": "code",
   "execution_count": 42,
   "metadata": {},
   "outputs": [
    {
     "name": "stdout",
     "output_type": "stream",
     "text": [
      "12\n"
     ]
    }
   ],
   "source": [
    "with open(\"bilgiler.txt\",\"a\",encoding =\"utf-8\") as file:\n",
    "    print(file.write(\"ayşe çorbacı\"))\n",
    "    "
   ]
  },
  {
   "cell_type": "code",
   "execution_count": 43,
   "metadata": {},
   "outputs": [
    {
     "name": "stdout",
     "output_type": "stream",
     "text": [
      "adem bakırcı\n",
      "cansu yıldırım\n",
      "yılmaz yıldırım\n",
      "elif bozi\n",
      "sena saman ayşe çorbacı\n"
     ]
    }
   ],
   "source": [
    "with open(\"bilgiler.txt\",\"r+\",encoding =\"utf-8\") as file:\n",
    "    print(file.read())"
   ]
  },
  {
   "cell_type": "code",
   "execution_count": 44,
   "metadata": {},
   "outputs": [
    {
     "name": "stdout",
     "output_type": "stream",
     "text": [
      "65\n"
     ]
    }
   ],
   "source": [
    "with open(\"bilgiler.txt\",\"w\",encoding =\"utf-8\") as file:\n",
    "    print(file.write(\"adem bakırcı\\ncansu yıldırım\\nyılmaz yıldırım\\nelif bozi\\nsena saman \"))"
   ]
  },
  {
   "cell_type": "code",
   "execution_count": 45,
   "metadata": {},
   "outputs": [
    {
     "name": "stdout",
     "output_type": "stream",
     "text": [
      "13\n"
     ]
    }
   ],
   "source": [
    "with open(\"bilgiler.txt\",\"a\",encoding =\"utf-8\") as file:\n",
    "     print(file.write(\"\\nayşe çorbacı\"))\n",
    "    "
   ]
  },
  {
   "cell_type": "code",
   "execution_count": 47,
   "metadata": {},
   "outputs": [
    {
     "name": "stdout",
     "output_type": "stream",
     "text": [
      "adem bakırcı\n",
      "cansu yıldırım\n",
      "yılmaz yıldırım\n",
      "elif bozi\n",
      "sena saman \n",
      "ayşe çorbacı\n"
     ]
    }
   ],
   "source": [
    "with open(\"bilgiler.txt\",\"r+\",encoding =\"utf-8\") as file:\n",
    "    print(file.read())"
   ]
  },
  {
   "cell_type": "code",
   "execution_count": 50,
   "metadata": {},
   "outputs": [
    {
     "name": "stdout",
     "output_type": "stream",
     "text": [
      "emray gözübüyük\n",
      "adem bakırcı\n",
      "cansu yıldırım\n",
      "yılmaz yıldırım\n",
      "elif bozi\n",
      "sena saman \n",
      "ayşe çorbacı\n"
     ]
    }
   ],
   "source": [
    "with open(\"bilgiler.txt\",\"r+\",encoding =\"utf-8\") as file:\n",
    "    content = file.read()\n",
    "    content = \"emray gözübüyük\\n\" + content\n",
    "    print(content)\n",
    "    file.seek(0)\n",
    "    file.write(content)"
   ]
  },
  {
   "cell_type": "code",
   "execution_count": 51,
   "metadata": {},
   "outputs": [
    {
     "name": "stdout",
     "output_type": "stream",
     "text": [
      "emray gözübüyük\n",
      "adem bakırcı\n",
      "cansu yıldırım\n",
      "yılmaz yıldırım\n",
      "elif bozi\n",
      "sena saman \n",
      "ayşe çorbacı\n"
     ]
    }
   ],
   "source": [
    "with open(\"bilgiler.txt\",\"r+\",encoding =\"utf-8\") as file:\n",
    "    print(file.read())"
   ]
  },
  {
   "cell_type": "code",
   "execution_count": 52,
   "metadata": {},
   "outputs": [
    {
     "name": "stdout",
     "output_type": "stream",
     "text": [
      "['emray gözübüyük\\n', 'adem bakırcı\\n', 'cansu yıldırım\\n', 'yılmaz yıldırım\\n', 'elif bozi\\n', 'sena saman \\n', 'ayşe çorbacı']\n"
     ]
    }
   ],
   "source": [
    "with open(\"bilgiler.txt\",\"r+\",encoding =\"utf-8\") as file:\n",
    "    liste = file.readlines()\n",
    "    print(liste)"
   ]
  },
  {
   "cell_type": "code",
   "execution_count": 53,
   "metadata": {},
   "outputs": [],
   "source": [
    "with open(\"bilgiler.txt\",\"r+\",encoding =\"utf-8\") as file:\n",
    "    liste = file.readlines()\n",
    "    liste.insert(2,\"mehmet bakırcı\\n\")\n",
    "    file.seek(0)\n",
    "    for i in liste:\n",
    "        file.write(i)"
   ]
  },
  {
   "cell_type": "code",
   "execution_count": 54,
   "metadata": {},
   "outputs": [
    {
     "name": "stdout",
     "output_type": "stream",
     "text": [
      "emray gözübüyük\n",
      "adem bakırcı\n",
      "mehmet bakırcı\n",
      "cansu yıldırım\n",
      "yılmaz yıldırım\n",
      "elif bozi\n",
      "sena saman \n",
      "ayşe çorbacı\n"
     ]
    }
   ],
   "source": [
    "with open(\"bilgiler.txt\",\"r+\",encoding =\"utf-8\") as file:\n",
    "    print(file.read())"
   ]
  },
  {
   "cell_type": "code",
   "execution_count": 55,
   "metadata": {},
   "outputs": [],
   "source": [
    "with open(\"bilgiler.txt\",\"r+\",encoding =\"utf-8\") as file:\n",
    "    liste = file.readlines()\n",
    "    liste.insert(3,\"berat bakırcı\\n\")\n",
    "    file.seek(0)\n",
    "    file.writelines(liste)"
   ]
  },
  {
   "cell_type": "code",
   "execution_count": 56,
   "metadata": {},
   "outputs": [
    {
     "name": "stdout",
     "output_type": "stream",
     "text": [
      "emray gözübüyük\n",
      "adem bakırcı\n",
      "mehmet bakırcı\n",
      "berat bakırcı\n",
      "cansu yıldırım\n",
      "yılmaz yıldırım\n",
      "elif bozi\n",
      "sena saman \n",
      "ayşe çorbacı\n"
     ]
    }
   ],
   "source": [
    "with open(\"bilgiler.txt\",\"r+\",encoding =\"utf-8\") as file:\n",
    "    print(file.read())"
   ]
  },
  {
   "cell_type": "code",
   "execution_count": 58,
   "metadata": {},
   "outputs": [
    {
     "ename": "FileNotFoundError",
     "evalue": "[Errno 2] No such file or directory: 'öğrenci notları.txt'",
     "output_type": "error",
     "traceback": [
      "\u001b[1;31m---------------------------------------------------------------------------\u001b[0m",
      "\u001b[1;31mFileNotFoundError\u001b[0m                         Traceback (most recent call last)",
      "\u001b[1;32mC:\\Users\\ADMCN_~1\\AppData\\Local\\Temp/ipykernel_764/2487940535.py\u001b[0m in \u001b[0;36m<module>\u001b[1;34m\u001b[0m\n\u001b[1;32m----> 1\u001b[1;33m \u001b[1;32mwith\u001b[0m \u001b[0mopen\u001b[0m\u001b[1;33m(\u001b[0m\u001b[1;34m\"öğrenci notları.txt\"\u001b[0m\u001b[1;33m,\u001b[0m\u001b[1;34m\"r+\"\u001b[0m\u001b[1;33m,\u001b[0m\u001b[0mencoding\u001b[0m \u001b[1;33m=\u001b[0m \u001b[1;34m\"utf-8\"\u001b[0m\u001b[1;33m)\u001b[0m \u001b[1;32mas\u001b[0m \u001b[0mfile\u001b[0m\u001b[1;33m:\u001b[0m\u001b[1;33m\u001b[0m\u001b[1;33m\u001b[0m\u001b[0m\n\u001b[0m\u001b[0;32m      2\u001b[0m     \u001b[0mw\u001b[0m \u001b[1;33m=\u001b[0m \u001b[0mfile\u001b[0m\u001b[1;33m.\u001b[0m\u001b[0mwrite\u001b[0m\u001b[1;33m(\u001b[0m\u001b[1;34m\"adem bakırcı,85,78,96\\ncansu bakırcı,58,99,98\\nalperen bakırcı,92,45,65\\nnazan yıldırım,45,75,65\"\u001b[0m\u001b[1;33m)\u001b[0m\u001b[1;33m\u001b[0m\u001b[1;33m\u001b[0m\u001b[0m\n\u001b[0;32m      3\u001b[0m     \u001b[0mprint\u001b[0m\u001b[1;33m(\u001b[0m\u001b[0mw\u001b[0m\u001b[1;33m)\u001b[0m\u001b[1;33m\u001b[0m\u001b[1;33m\u001b[0m\u001b[0m\n\u001b[0;32m      4\u001b[0m \u001b[1;33m\u001b[0m\u001b[0m\n",
      "\u001b[1;31mFileNotFoundError\u001b[0m: [Errno 2] No such file or directory: 'öğrenci notları.txt'"
     ]
    }
   ],
   "source": [
    "with open(\"öğrenci notları.txt\",\"r+\",encoding = \"utf-8\") as file:\n",
    "    w = file.write(\"adem bakırcı,85,78,96\\ncansu bakırcı,58,99,98\\nalperen bakırcı,92,45,65\\nnazan yıldırım,45,75,65\")\n",
    "    print(w)\n",
    "    r = file.read()\n",
    "    print(r)"
   ]
  },
  {
   "cell_type": "code",
   "execution_count": 84,
   "metadata": {},
   "outputs": [],
   "source": [
    "file = open(\"öğrenci notları1.txt\",\"w\",encoding = \"utf-8\")"
   ]
  },
  {
   "cell_type": "code",
   "execution_count": 85,
   "metadata": {},
   "outputs": [
    {
     "name": "stdout",
     "output_type": "stream",
     "text": [
      "93\n",
      "\n"
     ]
    }
   ],
   "source": [
    "with open(\"öğrenci notları1.txt\",\"r+\",encoding = \"utf-8\") as file:\n",
    "    w = file.write(\"adem bakırcı,85,78,96\\ncansu bakırcı,58,99,98\\nalperen bakırcı,92,45,65\\nnazan yıldırım,45,75,65\")\n",
    "    print(w)\n",
    "    r = file.read()\n",
    "    print(r)"
   ]
  },
  {
   "cell_type": "code",
   "execution_count": 86,
   "metadata": {},
   "outputs": [
    {
     "name": "stdout",
     "output_type": "stream",
     "text": [
      "adem bakırcı,85,78,96\n",
      "cansu bakırcı,58,99,98\n",
      "alperen bakırcı,92,45,65\n",
      "nazan yıldırım,45,75,65\n"
     ]
    }
   ],
   "source": [
    "with open(\"öğrenci notları1.txt\",\"r+\",encoding = \"utf-8\") as file:\n",
    "    r = file.read()\n",
    "    print(r)"
   ]
  },
  {
   "cell_type": "code",
   "execution_count": 87,
   "metadata": {},
   "outputs": [
    {
     "name": "stdout",
     "output_type": "stream",
     "text": [
      "['adem bakırcı--------->BA\\n', 'cansu bakırcı--------->BA\\n', 'alperen bakırcı--------->DC\\n', 'nazan yıldırım--------->FF\\n']\n"
     ]
    }
   ],
   "source": [
    "def notHesapla(satır):\n",
    "    satır = satır[:-1]\n",
    "    liste = satır.split(\",\")\n",
    "    \n",
    "    isim = liste[0]\n",
    "    not1 = int(liste[1])\n",
    "    not2 = int(liste[2])\n",
    "    not3 = int(liste[3])\n",
    "    \n",
    "    not_ort = not1 * 0.3 + not2 * 0.3 + not3 * 0.4\n",
    "    \n",
    "    if (not_ort >= 90):\n",
    "        harf = \"AA\"\n",
    "    \n",
    "    elif (not_ort >= 85):\n",
    "        harf = \"BA\"\n",
    "    \n",
    "    elif (not_ort >= 80):\n",
    "        harf = \"BB\"\n",
    "    elif (not_ort >= 75):\n",
    "        harf = \"CB\"\n",
    "    elif (not_ort >= 70):\n",
    "        harf = \"CC\"\n",
    "    elif (not_ort >= 65):\n",
    "        harf = \"DC\"\n",
    "    elif (not_ort >= 60):\n",
    "        harf = \"DD\"\n",
    "    elif (not_ort >= 55):\n",
    "        harf = \"FD\"\n",
    "    else:\n",
    "        harf = \"FF\"\n",
    "        \n",
    "    return isim + \"--------->\"+ harf + \"\\n\"\n",
    "        \n",
    "        \n",
    "with open(\"öğrenci notları1.txt\",\"r+\",encoding = \"utf-8\") as file:\n",
    "    eklenecekler_listesi= []\n",
    "    \n",
    "    for i in file:\n",
    "        eklenecekler_listesi.append(notHesapla(i))\n",
    "    print(eklenecekler_listesi)\n",
    "        \n",
    "    with open(\"öğrenci notları1.txt\",\"r+\",encoding = \"utf-8\") as file2:\n",
    "        for i in eklenecekler_listesi:\n",
    "            file2.write(i)\n",
    "        \n",
    "    \n",
    "\n",
    "    "
   ]
  },
  {
   "cell_type": "code",
   "execution_count": 91,
   "metadata": {},
   "outputs": [
    {
     "name": "stdout",
     "output_type": "stream",
     "text": [
      "77\n"
     ]
    }
   ],
   "source": [
    "file = open(\"futbolcular.txt\",\"w\",encoding=\"utf-8\")\n",
    "print(file.write(\"Fernando Muslera,Galatasaray\\nAtiba Hutchinson,Beşiktaş\\nSimon Kjaer,Fenerbahçe\"))\n",
    "with open(\"futbolcular.txt\",\"r\",encoding=\"utf-8\") as file:\n",
    "    gs = list()\n",
    "    bjk = list()\n",
    "    fb = list()\n",
    "    \n",
    "    for satır in file:\n",
    "        satır = satır[:-1]\n",
    "        satır_elemanları = satır.split(\",\")\n",
    "        if (satır_elemanları[1] == \"Fenerbahçe\"):\n",
    "            fb.append(satır + \"\\n\")\n",
    "        elif (satır_elemanları[1] == \"Galatasaray\"):\n",
    "            gs.append(satır + \"\\n\")\n",
    "\n",
    "        else:\n",
    "            bjk.append(satır + \"\\n\")\n",
    "    with open(\"gs.txt\",\"w\",encoding=\"utf-8\") as file1:\n",
    "        for i in gs:\n",
    "            file1.write(i)\n",
    "            \n",
    "            \n",
    "\n",
    "    with open(\"fb.txt\",\"w\",encoding=\"utf-8\") as file2:\n",
    "        for i in fb:\n",
    "            file2.write(i)\n",
    "    with open(\"bjk.txt\",\"w\",encoding=\"utf-8\") as file3:\n",
    "        for i in bjk:\n",
    "            file3.write(i)"
   ]
  },
  {
   "cell_type": "markdown",
   "metadata": {},
   "source": [
    "## MAP "
   ]
  },
  {
   "cell_type": "code",
   "execution_count": 1,
   "metadata": {},
   "outputs": [],
   "source": [
    "def double(x):\n",
    "    return x * 2"
   ]
  },
  {
   "cell_type": "code",
   "execution_count": 2,
   "metadata": {},
   "outputs": [
    {
     "data": {
      "text/plain": [
       "<map at 0xa84ec14fa0>"
      ]
     },
     "execution_count": 2,
     "metadata": {},
     "output_type": "execute_result"
    }
   ],
   "source": [
    "map(double,range(1,10))"
   ]
  },
  {
   "cell_type": "code",
   "execution_count": 5,
   "metadata": {},
   "outputs": [
    {
     "data": {
      "text/plain": [
       "[2, 4, 6, 8, 10, 12, 14, 16, 18]"
      ]
     },
     "execution_count": 5,
     "metadata": {},
     "output_type": "execute_result"
    }
   ],
   "source": [
    "list(map(double , range(1,10)))"
   ]
  },
  {
   "cell_type": "code",
   "execution_count": 7,
   "metadata": {},
   "outputs": [
    {
     "data": {
      "text/plain": [
       "[2, 4, 6, 8, 10, 12, 14, 16, 18]"
      ]
     },
     "execution_count": 7,
     "metadata": {},
     "output_type": "execute_result"
    }
   ],
   "source": [
    "list(map(lambda x: x * 2,range(1,10)))"
   ]
  },
  {
   "cell_type": "code",
   "execution_count": 11,
   "metadata": {},
   "outputs": [],
   "source": [
    "liste1 = list(range(1,5))\n",
    "liste2 = list(range(5,9))\n",
    "liste3 = list(range(9,14))"
   ]
  },
  {
   "cell_type": "code",
   "execution_count": 12,
   "metadata": {},
   "outputs": [
    {
     "data": {
      "text/plain": [
       "[5, 12, 21, 32]"
      ]
     },
     "execution_count": 12,
     "metadata": {},
     "output_type": "execute_result"
    }
   ],
   "source": [
    "list(map(lambda x,y :  x * y, liste1, liste2  ))"
   ]
  },
  {
   "cell_type": "code",
   "execution_count": 15,
   "metadata": {},
   "outputs": [
    {
     "data": {
      "text/plain": [
       "[45, 120, 231, 384]"
      ]
     },
     "execution_count": 15,
     "metadata": {},
     "output_type": "execute_result"
    }
   ],
   "source": [
    "list(map(lambda x,y,z : x * y * z , liste1, liste2, liste3))"
   ]
  },
  {
   "cell_type": "markdown",
   "metadata": {},
   "source": [
    "## REDUCE"
   ]
  },
  {
   "cell_type": "code",
   "execution_count": 16,
   "metadata": {},
   "outputs": [],
   "source": [
    "from functools import reduce"
   ]
  },
  {
   "cell_type": "code",
   "execution_count": 17,
   "metadata": {},
   "outputs": [],
   "source": [
    "def toplama(x,y):\n",
    "    return x + y"
   ]
  },
  {
   "cell_type": "code",
   "execution_count": 19,
   "metadata": {},
   "outputs": [
    {
     "data": {
      "text/plain": [
       "60"
      ]
     },
     "execution_count": 19,
     "metadata": {},
     "output_type": "execute_result"
    }
   ],
   "source": [
    "reduce(toplama, [12,18,20,10])"
   ]
  },
  {
   "cell_type": "code",
   "execution_count": 20,
   "metadata": {},
   "outputs": [
    {
     "data": {
      "text/plain": [
       "60"
      ]
     },
     "execution_count": 20,
     "metadata": {},
     "output_type": "execute_result"
    }
   ],
   "source": [
    "reduce(lambda x,y : x + y,[12,18,20,10])"
   ]
  },
  {
   "cell_type": "code",
   "execution_count": 22,
   "metadata": {},
   "outputs": [
    {
     "data": {
      "text/plain": [
       "120"
      ]
     },
     "execution_count": 22,
     "metadata": {},
     "output_type": "execute_result"
    }
   ],
   "source": [
    "reduce(lambda x,y: x * y,range(1,6))"
   ]
  },
  {
   "cell_type": "code",
   "execution_count": 23,
   "metadata": {},
   "outputs": [
    {
     "data": {
      "text/plain": [
       "8"
      ]
     },
     "execution_count": 23,
     "metadata": {},
     "output_type": "execute_result"
    }
   ],
   "source": [
    "def max(x,y):\n",
    "    if x > y:\n",
    "        return x\n",
    "    else:\n",
    "        return y\n",
    "max(6,8)"
   ]
  },
  {
   "cell_type": "code",
   "execution_count": 25,
   "metadata": {},
   "outputs": [
    {
     "data": {
      "text/plain": [
       "4"
      ]
     },
     "execution_count": 25,
     "metadata": {},
     "output_type": "execute_result"
    }
   ],
   "source": [
    "reduce(max,[-2,2,4,1])"
   ]
  },
  {
   "cell_type": "markdown",
   "metadata": {},
   "source": [
    "## FILTER"
   ]
  },
  {
   "cell_type": "code",
   "execution_count": 26,
   "metadata": {},
   "outputs": [
    {
     "data": {
      "text/plain": [
       "[2, 4, 6, 8, 10, 12, 14]"
      ]
     },
     "execution_count": 26,
     "metadata": {},
     "output_type": "execute_result"
    }
   ],
   "source": [
    "list(filter(lambda x: x % 2 == 0,range(1,15)))"
   ]
  },
  {
   "cell_type": "code",
   "execution_count": 98,
   "metadata": {},
   "outputs": [
    {
     "name": "stdout",
     "output_type": "stream",
     "text": [
      "Requirement already satisfied: primePy in c:\\users\\admcn_000\\anaconda3\\lib\\site-packages (1.3)\n",
      "True\n"
     ]
    }
   ],
   "source": [
    "#!pip install primePy\n",
    "#from primePy import primes\n",
    "print(primes.check(1))"
   ]
  },
  {
   "cell_type": "code",
   "execution_count": 137,
   "metadata": {},
   "outputs": [
    {
     "name": "stdout",
     "output_type": "stream",
     "text": [
      "True\n"
     ]
    },
    {
     "data": {
      "text/plain": [
       "[2,\n",
       " 3,\n",
       " 5,\n",
       " 7,\n",
       " 11,\n",
       " 13,\n",
       " 17,\n",
       " 19,\n",
       " 23,\n",
       " 29,\n",
       " 31,\n",
       " 37,\n",
       " 41,\n",
       " 43,\n",
       " 47,\n",
       " 53,\n",
       " 59,\n",
       " 61,\n",
       " 67,\n",
       " 71,\n",
       " 73,\n",
       " 79,\n",
       " 83,\n",
       " 89,\n",
       " 97]"
      ]
     },
     "execution_count": 137,
     "metadata": {},
     "output_type": "execute_result"
    }
   ],
   "source": [
    "print(primes.check(1))\n",
    "primes.first(25)"
   ]
  },
  {
   "cell_type": "code",
   "execution_count": 21,
   "metadata": {},
   "outputs": [
    {
     "name": "stdout",
     "output_type": "stream",
     "text": [
      "True\n"
     ]
    }
   ],
   "source": [
    "def isprime(x):\n",
    "    \n",
    "    assert(x>=2),\"Invalid number\" \n",
    "    if x == 2:\n",
    "        return True\n",
    "    \n",
    "    for i in range(2, x):\n",
    "        if x % i == 0:\n",
    "            return False\n",
    "            \n",
    " \n",
    "    else:\n",
    "        return True   \n",
    "    \n",
    "               \n",
    "    \n",
    "    \n",
    "\n",
    "print(isprime(5))"
   ]
  },
  {
   "cell_type": "code",
   "execution_count": 102,
   "metadata": {
    "collapsed": true
   },
   "outputs": [
    {
     "data": {
      "text/plain": [
       "[2,\n",
       " 3,\n",
       " 5,\n",
       " 7,\n",
       " 11,\n",
       " 13,\n",
       " 17,\n",
       " 19,\n",
       " 23,\n",
       " 29,\n",
       " 31,\n",
       " 37,\n",
       " 41,\n",
       " 43,\n",
       " 47,\n",
       " 53,\n",
       " 59,\n",
       " 61,\n",
       " 67,\n",
       " 71,\n",
       " 73,\n",
       " 79,\n",
       " 83,\n",
       " 89,\n",
       " 97]"
      ]
     },
     "execution_count": 102,
     "metadata": {},
     "output_type": "execute_result"
    }
   ],
   "source": [
    "#from primePy import primes\n",
    "#print(primes.check(63))\n",
    "list(filter(primes.check,range(2,100)))"
   ]
  },
  {
   "cell_type": "code",
   "execution_count": 139,
   "metadata": {},
   "outputs": [
    {
     "data": {
      "text/plain": [
       "[2,\n",
       " 3,\n",
       " 5,\n",
       " 7,\n",
       " 11,\n",
       " 13,\n",
       " 17,\n",
       " 19,\n",
       " 23,\n",
       " 29,\n",
       " 31,\n",
       " 37,\n",
       " 41,\n",
       " 43,\n",
       " 47,\n",
       " 53,\n",
       " 59,\n",
       " 61,\n",
       " 67,\n",
       " 71,\n",
       " 73,\n",
       " 79,\n",
       " 83,\n",
       " 89,\n",
       " 97]"
      ]
     },
     "execution_count": 139,
     "metadata": {},
     "output_type": "execute_result"
    }
   ],
   "source": [
    "list(filter(isprime,range(2,100)))"
   ]
  },
  {
   "cell_type": "markdown",
   "metadata": {},
   "source": [
    "## ZIP"
   ]
  },
  {
   "cell_type": "code",
   "execution_count": 142,
   "metadata": {},
   "outputs": [
    {
     "name": "stdout",
     "output_type": "stream",
     "text": [
      "[(1, 6), (2, 7), (3, 8), (4, 9), (5, 10)]\n"
     ]
    }
   ],
   "source": [
    "liste1 = [1,2,3,4,5]\n",
    "liste2 = [6,7,8,9,10,11]\n",
    "\n",
    "i = 0\n",
    "sonuc = list()\n",
    "\n",
    "while i < len(liste1) and i < len(liste2):\n",
    "    sonuc.append((liste1[i],liste2[i]))\n",
    "    \n",
    "    i += 1\n",
    "print(sonuc)"
   ]
  },
  {
   "cell_type": "code",
   "execution_count": 143,
   "metadata": {},
   "outputs": [
    {
     "data": {
      "text/plain": [
       "<zip at 0xa84fd6c180>"
      ]
     },
     "execution_count": 143,
     "metadata": {},
     "output_type": "execute_result"
    }
   ],
   "source": [
    "zip(liste1,liste2)"
   ]
  },
  {
   "cell_type": "code",
   "execution_count": 144,
   "metadata": {},
   "outputs": [
    {
     "data": {
      "text/plain": [
       "[(1, 6), (2, 7), (3, 8), (4, 9), (5, 10)]"
      ]
     },
     "execution_count": 144,
     "metadata": {},
     "output_type": "execute_result"
    }
   ],
   "source": [
    "list(zip(liste1,liste2))"
   ]
  },
  {
   "cell_type": "code",
   "execution_count": 2,
   "metadata": {},
   "outputs": [
    {
     "data": {
      "text/plain": [
       "[(1, 6, 'python'), (2, 7, 'c'), (3, 8, 'c#'), (4, 9, 'java'), (5, 10, 'sql')]"
      ]
     },
     "execution_count": 2,
     "metadata": {},
     "output_type": "execute_result"
    }
   ],
   "source": [
    "liste1 = [1,2,3,4,5]\n",
    "liste2 = [6,7,8,9,10,11]\n",
    "liste3 = [\"python\",\"c\",\"c#\",\"java\",\"sql\",\"git\"]\n",
    "list(zip(liste1,liste2,liste3))\n"
   ]
  },
  {
   "cell_type": "code",
   "execution_count": 3,
   "metadata": {},
   "outputs": [
    {
     "name": "stdout",
     "output_type": "stream",
     "text": [
      "1 python\n",
      "2 c\n",
      "3 c#\n",
      "4 java\n",
      "5 sql\n"
     ]
    }
   ],
   "source": [
    "for i,j in zip(liste1,liste3):\n",
    "    print(i,j)"
   ]
  },
  {
   "cell_type": "code",
   "execution_count": 4,
   "metadata": {},
   "outputs": [],
   "source": [
    "d1 = {\"elma\":1,\"armut\":2,\"kiraz\":3}\n",
    "d2 = {\"sıfır\":0,\"bir\":1,\"iki\":2}"
   ]
  },
  {
   "cell_type": "code",
   "execution_count": 6,
   "metadata": {},
   "outputs": [
    {
     "data": {
      "text/plain": [
       "[('elma', 'sıfır'), ('armut', 'bir'), ('kiraz', 'iki')]"
      ]
     },
     "execution_count": 6,
     "metadata": {},
     "output_type": "execute_result"
    }
   ],
   "source": [
    "list(zip(d1,d2))"
   ]
  },
  {
   "cell_type": "code",
   "execution_count": 8,
   "metadata": {},
   "outputs": [
    {
     "data": {
      "text/plain": [
       "[(1, 0), (2, 1), (3, 2)]"
      ]
     },
     "execution_count": 8,
     "metadata": {},
     "output_type": "execute_result"
    }
   ],
   "source": [
    "list(zip(d1.values(),d2.values()))"
   ]
  },
  {
   "cell_type": "markdown",
   "metadata": {},
   "source": [
    "## ENUMERATE"
   ]
  },
  {
   "cell_type": "code",
   "execution_count": 21,
   "metadata": {},
   "outputs": [
    {
     "ename": "SyntaxError",
     "evalue": "invalid syntax (Temp/ipykernel_5976/469217233.py, line 10)",
     "output_type": "error",
     "traceback": [
      "\u001b[1;36m  File \u001b[1;32m\"C:\\Users\\ADMCN_~1\\AppData\\Local\\Temp/ipykernel_5976/469217233.py\"\u001b[1;36m, line \u001b[1;32m10\u001b[0m\n\u001b[1;33m    i += 1\u001b[0m\n\u001b[1;37m    ^\u001b[0m\n\u001b[1;31mSyntaxError\u001b[0m\u001b[1;31m:\u001b[0m invalid syntax\n"
     ]
    }
   ],
   "source": [
    "liste = [\"elma\",\"armut\",\"kiraz\",\"şeftali\"]\n",
    "\n",
    "i = 0\n",
    "\n",
    "r = list()\n",
    "\n",
    "while (i < len(liste)):\n",
    "    r.append((i,liste[i])\n",
    "             \n",
    "    i += 1\n",
    "\n",
    "print(r)"
   ]
  },
  {
   "cell_type": "code",
   "execution_count": 18,
   "metadata": {},
   "outputs": [
    {
     "name": "stdout",
     "output_type": "stream",
     "text": [
      "[(0, 'Elma'), (1, 'Armut'), (2, 'Muz'), (3, 'Kiraz')]\n"
     ]
    }
   ],
   "source": [
    "liste = [\"Elma\",\"Armut\",\"Muz\",\"Kiraz\"]\n",
    "\n",
    "# sonucu [(0,'Elma'),(1,'Armut'),(2,'Muz'),(3,'Kiraz')] yapmak istiyoruz.\n",
    "\n",
    "sonuç = list()\n",
    "\n",
    "i = 0\n",
    "\n",
    "for a in liste:\n",
    "    \n",
    "    sonuç.append((i,a))\n",
    "    i +=1\n",
    "print(sonuç)"
   ]
  },
  {
   "cell_type": "code",
   "execution_count": 22,
   "metadata": {},
   "outputs": [
    {
     "data": {
      "text/plain": [
       "<enumerate at 0xe95a31a240>"
      ]
     },
     "execution_count": 22,
     "metadata": {},
     "output_type": "execute_result"
    }
   ],
   "source": [
    "enumerate(liste)"
   ]
  },
  {
   "cell_type": "code",
   "execution_count": 23,
   "metadata": {},
   "outputs": [
    {
     "data": {
      "text/plain": [
       "[(0, 'Elma'), (1, 'Armut'), (2, 'Muz'), (3, 'Kiraz')]"
      ]
     },
     "execution_count": 23,
     "metadata": {},
     "output_type": "execute_result"
    }
   ],
   "source": [
    "list(enumerate(liste))"
   ]
  },
  {
   "cell_type": "code",
   "execution_count": 24,
   "metadata": {},
   "outputs": [
    {
     "name": "stdout",
     "output_type": "stream",
     "text": [
      "0 Elma\n",
      "1 Armut\n",
      "2 Muz\n",
      "3 Kiraz\n"
     ]
    }
   ],
   "source": [
    "for i,j in enumerate(liste):\n",
    "    print(i,j)"
   ]
  },
  {
   "cell_type": "code",
   "execution_count": 41,
   "metadata": {},
   "outputs": [
    {
     "name": "stdout",
     "output_type": "stream",
     "text": [
      "0 a\n",
      "2 c\n",
      "4 e\n",
      "6 g\n"
     ]
    }
   ],
   "source": [
    "liste = [\"a\",\"b\",\"c\",\"d\",\"e\",\"f\",\"g\"]\n",
    "for i,j in enumerate(liste):\n",
    "    if (i % 2 == 0):\n",
    "        \n",
    "        print(i,j)"
   ]
  },
  {
   "cell_type": "markdown",
   "metadata": {},
   "source": [
    "## ALL and ANY"
   ]
  },
  {
   "cell_type": "code",
   "execution_count": 55,
   "metadata": {},
   "outputs": [
    {
     "data": {
      "text/plain": [
       "True"
      ]
     },
     "execution_count": 55,
     "metadata": {},
     "output_type": "execute_result"
    }
   ],
   "source": [
    "liste = [True,True,True,True,True]\n",
    "# Bütün değerler True ise True en az birisi False ise False döndürmek istiyoruz.\n",
    "\n",
    "def hepsi(liste):\n",
    "    for i in liste:\n",
    "        if i == False:\n",
    "            return False\n",
    "        \n",
    "    else:\n",
    "        return True\n",
    "hepsi(liste)"
   ]
  },
  {
   "cell_type": "code",
   "execution_count": 56,
   "metadata": {},
   "outputs": [
    {
     "data": {
      "text/plain": [
       "True"
      ]
     },
     "execution_count": 56,
     "metadata": {},
     "output_type": "execute_result"
    }
   ],
   "source": [
    "liste = [1,2,3,4,5]\n",
    "hepsi(liste)"
   ]
  },
  {
   "cell_type": "code",
   "execution_count": 57,
   "metadata": {},
   "outputs": [
    {
     "data": {
      "text/plain": [
       "False"
      ]
     },
     "execution_count": 57,
     "metadata": {},
     "output_type": "execute_result"
    }
   ],
   "source": [
    "liste = [0,2,3,4,5]\n",
    "hepsi(liste)"
   ]
  },
  {
   "cell_type": "code",
   "execution_count": 62,
   "metadata": {},
   "outputs": [
    {
     "data": {
      "text/plain": [
       "True"
      ]
     },
     "execution_count": 62,
     "metadata": {},
     "output_type": "execute_result"
    }
   ],
   "source": [
    "# Herhangi bir değer True ise True, Hepsi False ise False döndürmek istiyoruz.\n",
    "def hepsi(liste):\n",
    "    for i in liste:\n",
    "        if i == True:\n",
    "            return True\n",
    "     \n",
    "    else:\n",
    "        return False\n",
    "hepsi(liste)"
   ]
  },
  {
   "cell_type": "code",
   "execution_count": 67,
   "metadata": {},
   "outputs": [
    {
     "data": {
      "text/plain": [
       "False"
      ]
     },
     "execution_count": 67,
     "metadata": {},
     "output_type": "execute_result"
    }
   ],
   "source": [
    "liste = [False,False,False,False,False]\n",
    "hepsi(liste)"
   ]
  },
  {
   "cell_type": "code",
   "execution_count": 68,
   "metadata": {},
   "outputs": [
    {
     "data": {
      "text/plain": [
       "False"
      ]
     },
     "execution_count": 68,
     "metadata": {},
     "output_type": "execute_result"
    }
   ],
   "source": [
    "liste = [0,0,0,0,0,0,0] # Bütün değerler False , 0 = False\n",
    "hepsi(liste)"
   ]
  },
  {
   "cell_type": "code",
   "execution_count": 69,
   "metadata": {},
   "outputs": [],
   "source": [
    "##***all() fonksiyonu*** bütün değerler True ise True, en az bir değer False ise False sonuç döndürür."
   ]
  },
  {
   "cell_type": "code",
   "execution_count": 70,
   "metadata": {},
   "outputs": [
    {
     "data": {
      "text/plain": [
       "True"
      ]
     },
     "execution_count": 70,
     "metadata": {},
     "output_type": "execute_result"
    }
   ],
   "source": [
    "liste = [True,True,True,True,True]\n",
    "all(liste)"
   ]
  },
  {
   "cell_type": "code",
   "execution_count": 71,
   "metadata": {},
   "outputs": [
    {
     "data": {
      "text/plain": [
       "False"
      ]
     },
     "execution_count": 71,
     "metadata": {},
     "output_type": "execute_result"
    }
   ],
   "source": [
    "liste = [True,False,True,True,True]\n",
    "all(liste)"
   ]
  },
  {
   "cell_type": "code",
   "execution_count": 72,
   "metadata": {},
   "outputs": [
    {
     "data": {
      "text/plain": [
       "True"
      ]
     },
     "execution_count": 72,
     "metadata": {},
     "output_type": "execute_result"
    }
   ],
   "source": [
    "liste = [True,False,True,True,True]\n",
    "any(liste)"
   ]
  },
  {
   "cell_type": "code",
   "execution_count": 73,
   "metadata": {},
   "outputs": [
    {
     "data": {
      "text/plain": [
       "False"
      ]
     },
     "execution_count": 73,
     "metadata": {},
     "output_type": "execute_result"
    }
   ],
   "source": [
    "liste = [False,False,False,False,False]\n",
    "any(liste)"
   ]
  },
  {
   "cell_type": "code",
   "execution_count": 74,
   "metadata": {},
   "outputs": [
    {
     "data": {
      "text/plain": [
       "False"
      ]
     },
     "execution_count": 74,
     "metadata": {},
     "output_type": "execute_result"
    }
   ],
   "source": [
    "liste = [0,0,0,0,0,0,0] \n",
    "any(liste)"
   ]
  },
  {
   "cell_type": "code",
   "execution_count": 75,
   "metadata": {},
   "outputs": [
    {
     "data": {
      "text/plain": [
       "True"
      ]
     },
     "execution_count": 75,
     "metadata": {},
     "output_type": "execute_result"
    }
   ],
   "source": [
    "liste = [1,0,0,0,0,0,0] \n",
    "any(liste)"
   ]
  },
  {
   "cell_type": "code",
   "execution_count": 77,
   "metadata": {},
   "outputs": [
    {
     "data": {
      "text/plain": [
       "True"
      ]
     },
     "execution_count": 77,
     "metadata": {},
     "output_type": "execute_result"
    }
   ],
   "source": [
    "liste = [1,1,2,3,4,5,5] \n",
    "all(liste)"
   ]
  },
  {
   "cell_type": "markdown",
   "metadata": {},
   "source": [
    "## Problem 1\n",
    "Elinizde bir dikdörtgenin kenarlarını ifade eden sayı çiftlerinin bulunduğu bir liste olsun.\n",
    "\n",
    "         [(3,4),(10,3),(5,6),(1,9)]\n",
    "\n",
    "Şimdi kenar uzunluklarına göre dikdörtgenin alanını hesaplayan bir fonksiyon yazın ve bu listenin her bir elemanına bu fonksiyonu uygulayarak ekrana şöyle bir liste yazdırın.\n",
    "\n",
    "         [12, 30, 30, 9]\n",
    "\n",
    "Not : map() fonksiyonunu kullanmaya çalışın."
   ]
  },
  {
   "cell_type": "code",
   "execution_count": 1,
   "metadata": {},
   "outputs": [
    {
     "name": "stdout",
     "output_type": "stream",
     "text": [
      "[12, 30, 30, 9]\n"
     ]
    }
   ],
   "source": [
    "def alan_hesapla(demet):\n",
    "    return demet[0] * demet[1]\n",
    "\n",
    "\n",
    "liste = [(3,4),(10,3),(5,6),(1,9)]\n",
    "\n",
    "print(list(map(alan_hesapla,liste)))"
   ]
  },
  {
   "cell_type": "code",
   "execution_count": 86,
   "metadata": {},
   "outputs": [
    {
     "data": {
      "text/plain": [
       "[12, 30, 30, 9]"
      ]
     },
     "execution_count": 86,
     "metadata": {},
     "output_type": "execute_result"
    }
   ],
   "source": [
    "[i*j for i,j in  [(3,4),(10,3),(5,6),(1,9)] ]"
   ]
  },
  {
   "cell_type": "markdown",
   "metadata": {},
   "source": [
    "## Problem 2\n",
    "Elinizden her bir elemanı 3'lü bir demet olan bir liste olsun.\n",
    "\n",
    "     [(3,4,5),(6,8,10),(3,10,7)]\n",
    "\n",
    "Şimdi kenar uzunluklarına göre bu kenarların bir üçgen olup olmadığını dönen bir fonksiyon yazın ve sadece üçgen belirten kenarları bulunduran listeyi ekrana yazdırın.\n",
    "\n",
    "     [(3, 4, 5), (6, 8, 10)]\n",
    "\n",
    "Not: filter() fonksiyonunu kullanmaya çalışın."
   ]
  },
  {
   "cell_type": "code",
   "execution_count": 4,
   "metadata": {},
   "outputs": [
    {
     "name": "stdout",
     "output_type": "stream",
     "text": [
      "[(3, 4, 5), (6, 8, 10)]\n"
     ]
    }
   ],
   "source": [
    "def istriangle(demet):\n",
    "    if (demet[0] < demet[1] + demet[2]) and (demet[1] < demet[0] + demet[2]) and (demet[2] < demet[1] + demet[0]):\n",
    "        return demet\n",
    "\n",
    "print(list(filter(istriangle,[(3,4,5),(6,8,10),(3,10,7)])))\n",
    "    "
   ]
  },
  {
   "cell_type": "code",
   "execution_count": 3,
   "metadata": {},
   "outputs": [],
   "source": [
    "def istriangle(demet):\n",
    "    if (demet[0] < demet[1] + demet[2]) and (demet[1] < demet[0] + demet[2]) and (demet[2] < demet[1] + demet[0]):\n",
    "        return demet"
   ]
  },
  {
   "cell_type": "markdown",
   "metadata": {},
   "source": [
    "## Problem 3\n",
    "Elinizde şöyle bir liste bulunsun.\n",
    "\n",
    "    [1,2,3,4,5,6,7,8,9,10]\n",
    "\n",
    "Bu listenin içindeki çift sayıların toplamını ekrana yazdıran bir fonksiyon yazın.\n",
    "\n",
    "Not: İlk önce filter() fonksiyonu ile çift sayıları ayıklayın. Daha sonra reduce() fonksiyonunu kullanın."
   ]
  },
  {
   "cell_type": "code",
   "execution_count": 8,
   "metadata": {},
   "outputs": [],
   "source": [
    "a = list(filter(lambda x: x % 2 == 0,[1,2,3,4,5,6,7,8,9,10] ))"
   ]
  },
  {
   "cell_type": "code",
   "execution_count": 9,
   "metadata": {},
   "outputs": [
    {
     "data": {
      "text/plain": [
       "30"
      ]
     },
     "execution_count": 9,
     "metadata": {},
     "output_type": "execute_result"
    }
   ],
   "source": [
    "from functools import reduce\n",
    "reduce(lambda x,y: x + y,a)"
   ]
  },
  {
   "cell_type": "markdown",
   "metadata": {},
   "source": [
    "## Problem 4\n",
    "Elinizde isimlerin ve soyisimlerin bulunduğu iki tane liste olsun.\n",
    "\n",
    "        isimler -----> [\"Kerim\",\"Tarık\",\"Ezgi\",\"Kemal\",\"İlkay\",\"Şükran\",\"Merve\"]\n",
    "\n",
    "        soyisimler -----> [\"Yılmaz\",\"Öztürk\",\"Dağdeviren\",\"Atatürk\",\"Dikmen\",\"Kaya\",\"Polat\"]\n",
    "\n",
    "Bu isimleri ve soyisimleri sırasıyla eşleştirin ve ekrana alt alta isimleri ve soyisimleri yazdırın.\n",
    "\n",
    "Not: zip() fonksiyonunu kullanmaya çalışın."
   ]
  },
  {
   "cell_type": "code",
   "execution_count": 14,
   "metadata": {},
   "outputs": [
    {
     "name": "stdout",
     "output_type": "stream",
     "text": [
      "Kerim Yılmaz\n",
      "Tarık Öztürk\n",
      "Ezgi Dağdeviren\n",
      "Kemal Atatürk\n",
      "İlkay Dikmen\n",
      "Şükran Kaya\n",
      "Merve Polat\n"
     ]
    }
   ],
   "source": [
    "isimler =  [\"Kerim\",\"Tarık\",\"Ezgi\",\"Kemal\",\"İlkay\",\"Şükran\",\"Merve\"]\n",
    "soyisimler = [\"Yılmaz\",\"Öztürk\",\"Dağdeviren\",\"Atatürk\",\"Dikmen\",\"Kaya\",\"Polat\"]\n",
    "\n",
    "for i,j in list(zip(isimler,soyisimler)):\n",
    "    print(i,j)"
   ]
  },
  {
   "cell_type": "markdown",
   "metadata": {},
   "source": [
    "## İLERİ SEVİYE SAYILAR"
   ]
  },
  {
   "cell_type": "code",
   "execution_count": 15,
   "metadata": {},
   "outputs": [
    {
     "data": {
      "text/plain": [
       "'0b110010'"
      ]
     },
     "execution_count": 15,
     "metadata": {},
     "output_type": "execute_result"
    }
   ],
   "source": [
    "bin(50)"
   ]
  },
  {
   "cell_type": "code",
   "execution_count": 16,
   "metadata": {},
   "outputs": [
    {
     "data": {
      "text/plain": [
       "'0b100'"
      ]
     },
     "execution_count": 16,
     "metadata": {},
     "output_type": "execute_result"
    }
   ],
   "source": [
    "bin(4)"
   ]
  },
  {
   "cell_type": "code",
   "execution_count": 17,
   "metadata": {},
   "outputs": [
    {
     "data": {
      "text/plain": [
       "'0b1100'"
      ]
     },
     "execution_count": 17,
     "metadata": {},
     "output_type": "execute_result"
    }
   ],
   "source": [
    "bin(12)"
   ]
  },
  {
   "cell_type": "code",
   "execution_count": 18,
   "metadata": {},
   "outputs": [
    {
     "data": {
      "text/plain": [
       "'0b110111101'"
      ]
     },
     "execution_count": 18,
     "metadata": {},
     "output_type": "execute_result"
    }
   ],
   "source": [
    "bin(445)"
   ]
  },
  {
   "cell_type": "code",
   "execution_count": 19,
   "metadata": {},
   "outputs": [
    {
     "data": {
      "text/plain": [
       "'0x14'"
      ]
     },
     "execution_count": 19,
     "metadata": {},
     "output_type": "execute_result"
    }
   ],
   "source": [
    "hex(20)"
   ]
  },
  {
   "cell_type": "code",
   "execution_count": 20,
   "metadata": {},
   "outputs": [
    {
     "data": {
      "text/plain": [
       "'0x200'"
      ]
     },
     "execution_count": 20,
     "metadata": {},
     "output_type": "execute_result"
    }
   ],
   "source": [
    "hex(512)"
   ]
  },
  {
   "cell_type": "code",
   "execution_count": 21,
   "metadata": {},
   "outputs": [
    {
     "data": {
      "text/plain": [
       "'0x12c'"
      ]
     },
     "execution_count": 21,
     "metadata": {},
     "output_type": "execute_result"
    }
   ],
   "source": [
    "hex(300)"
   ]
  },
  {
   "cell_type": "code",
   "execution_count": 22,
   "metadata": {},
   "outputs": [
    {
     "data": {
      "text/plain": [
       "'0xb'"
      ]
     },
     "execution_count": 22,
     "metadata": {},
     "output_type": "execute_result"
    }
   ],
   "source": [
    "hex(11)"
   ]
  },
  {
   "cell_type": "code",
   "execution_count": 23,
   "metadata": {},
   "outputs": [
    {
     "data": {
      "text/plain": [
       "'0x1b'"
      ]
     },
     "execution_count": 23,
     "metadata": {},
     "output_type": "execute_result"
    }
   ],
   "source": [
    "hex(27)"
   ]
  },
  {
   "cell_type": "code",
   "execution_count": 24,
   "metadata": {},
   "outputs": [
    {
     "data": {
      "text/plain": [
       "4"
      ]
     },
     "execution_count": 24,
     "metadata": {},
     "output_type": "execute_result"
    }
   ],
   "source": [
    "abs(-4)"
   ]
  },
  {
   "cell_type": "code",
   "execution_count": 25,
   "metadata": {},
   "outputs": [
    {
     "data": {
      "text/plain": [
       "2.5"
      ]
     },
     "execution_count": 25,
     "metadata": {},
     "output_type": "execute_result"
    }
   ],
   "source": [
    "abs(-2.5)"
   ]
  },
  {
   "cell_type": "code",
   "execution_count": 26,
   "metadata": {},
   "outputs": [
    {
     "data": {
      "text/plain": [
       "5"
      ]
     },
     "execution_count": 26,
     "metadata": {},
     "output_type": "execute_result"
    }
   ],
   "source": [
    "round(4.8)"
   ]
  },
  {
   "cell_type": "code",
   "execution_count": 27,
   "metadata": {},
   "outputs": [
    {
     "data": {
      "text/plain": [
       "4"
      ]
     },
     "execution_count": 27,
     "metadata": {},
     "output_type": "execute_result"
    }
   ],
   "source": [
    "round(4.3)"
   ]
  },
  {
   "cell_type": "code",
   "execution_count": 28,
   "metadata": {},
   "outputs": [
    {
     "data": {
      "text/plain": [
       "2"
      ]
     },
     "execution_count": 28,
     "metadata": {},
     "output_type": "execute_result"
    }
   ],
   "source": [
    "round(2.22295)"
   ]
  },
  {
   "cell_type": "code",
   "execution_count": 29,
   "metadata": {},
   "outputs": [
    {
     "data": {
      "text/plain": [
       "2.223"
      ]
     },
     "execution_count": 29,
     "metadata": {},
     "output_type": "execute_result"
    }
   ],
   "source": [
    "round(2.22295,3)"
   ]
  },
  {
   "cell_type": "code",
   "execution_count": 30,
   "metadata": {},
   "outputs": [
    {
     "data": {
      "text/plain": [
       "15"
      ]
     },
     "execution_count": 30,
     "metadata": {},
     "output_type": "execute_result"
    }
   ],
   "source": [
    "max(5,2,8,15,-9)"
   ]
  },
  {
   "cell_type": "code",
   "execution_count": 31,
   "metadata": {},
   "outputs": [
    {
     "data": {
      "text/plain": [
       "-9"
      ]
     },
     "execution_count": 31,
     "metadata": {},
     "output_type": "execute_result"
    }
   ],
   "source": [
    "min(5,2,8,15,-9)"
   ]
  },
  {
   "cell_type": "code",
   "execution_count": 37,
   "metadata": {},
   "outputs": [
    {
     "data": {
      "text/plain": [
       "55"
      ]
     },
     "execution_count": 37,
     "metadata": {},
     "output_type": "execute_result"
    }
   ],
   "source": [
    "max(range(1,56))"
   ]
  },
  {
   "cell_type": "code",
   "execution_count": 38,
   "metadata": {},
   "outputs": [
    {
     "data": {
      "text/plain": [
       "1"
      ]
     },
     "execution_count": 38,
     "metadata": {},
     "output_type": "execute_result"
    }
   ],
   "source": [
    "min(range(1,58))"
   ]
  },
  {
   "cell_type": "code",
   "execution_count": 39,
   "metadata": {},
   "outputs": [
    {
     "data": {
      "text/plain": [
       "[range(1, 56)]"
      ]
     },
     "execution_count": 39,
     "metadata": {},
     "output_type": "execute_result"
    }
   ],
   "source": [
    "[range(1,56)]"
   ]
  },
  {
   "cell_type": "code",
   "execution_count": 40,
   "metadata": {},
   "outputs": [
    {
     "data": {
      "text/plain": [
       "6"
      ]
     },
     "execution_count": 40,
     "metadata": {},
     "output_type": "execute_result"
    }
   ],
   "source": [
    "max([1,2,2,5,5,6])"
   ]
  },
  {
   "cell_type": "code",
   "execution_count": 41,
   "metadata": {},
   "outputs": [
    {
     "ename": "TypeError",
     "evalue": "'int' object is not iterable",
     "output_type": "error",
     "traceback": [
      "\u001b[1;31m---------------------------------------------------------------------------\u001b[0m",
      "\u001b[1;31mTypeError\u001b[0m                                 Traceback (most recent call last)",
      "\u001b[1;32mC:\\Users\\ADMCN_~1\\AppData\\Local\\Temp/ipykernel_1280/637119828.py\u001b[0m in \u001b[0;36m<module>\u001b[1;34m\u001b[0m\n\u001b[1;32m----> 1\u001b[1;33m \u001b[0msum\u001b[0m\u001b[1;33m(\u001b[0m\u001b[1;36m2\u001b[0m\u001b[1;33m,\u001b[0m\u001b[1;36m3\u001b[0m\u001b[1;33m)\u001b[0m\u001b[1;33m\u001b[0m\u001b[1;33m\u001b[0m\u001b[0m\n\u001b[0m",
      "\u001b[1;31mTypeError\u001b[0m: 'int' object is not iterable"
     ]
    }
   ],
   "source": [
    "sum(2,3)"
   ]
  },
  {
   "cell_type": "code",
   "execution_count": 42,
   "metadata": {},
   "outputs": [
    {
     "data": {
      "text/plain": [
       "5"
      ]
     },
     "execution_count": 42,
     "metadata": {},
     "output_type": "execute_result"
    }
   ],
   "source": [
    "sum((2,3))"
   ]
  },
  {
   "cell_type": "code",
   "execution_count": 43,
   "metadata": {},
   "outputs": [
    {
     "data": {
      "text/plain": [
       "5"
      ]
     },
     "execution_count": 43,
     "metadata": {},
     "output_type": "execute_result"
    }
   ],
   "source": [
    "sum([2,3])"
   ]
  },
  {
   "cell_type": "code",
   "execution_count": 44,
   "metadata": {},
   "outputs": [
    {
     "data": {
      "text/plain": [
       "300"
      ]
     },
     "execution_count": 44,
     "metadata": {},
     "output_type": "execute_result"
    }
   ],
   "source": [
    "sum(range(1,25))"
   ]
  },
  {
   "cell_type": "code",
   "execution_count": 45,
   "metadata": {},
   "outputs": [
    {
     "data": {
      "text/plain": [
       "16"
      ]
     },
     "execution_count": 45,
     "metadata": {},
     "output_type": "execute_result"
    }
   ],
   "source": [
    "pow(2,4)"
   ]
  },
  {
   "cell_type": "code",
   "execution_count": 46,
   "metadata": {},
   "outputs": [
    {
     "data": {
      "text/plain": [
       "256"
      ]
     },
     "execution_count": 46,
     "metadata": {},
     "output_type": "execute_result"
    }
   ],
   "source": [
    "pow(2,8)"
   ]
  },
  {
   "cell_type": "code",
   "execution_count": 50,
   "metadata": {},
   "outputs": [],
   "source": [
    "a = \"Python\""
   ]
  },
  {
   "cell_type": "code",
   "execution_count": 51,
   "metadata": {},
   "outputs": [
    {
     "data": {
      "text/plain": [
       "'PYTHON'"
      ]
     },
     "execution_count": 51,
     "metadata": {},
     "output_type": "execute_result"
    }
   ],
   "source": [
    "a.upper()"
   ]
  },
  {
   "cell_type": "code",
   "execution_count": 52,
   "metadata": {},
   "outputs": [
    {
     "data": {
      "text/plain": [
       "'python'"
      ]
     },
     "execution_count": 52,
     "metadata": {},
     "output_type": "execute_result"
    }
   ],
   "source": [
    "a.lower()"
   ]
  },
  {
   "cell_type": "code",
   "execution_count": 53,
   "metadata": {},
   "outputs": [
    {
     "data": {
      "text/plain": [
       "'Python'"
      ]
     },
     "execution_count": 53,
     "metadata": {},
     "output_type": "execute_result"
    }
   ],
   "source": [
    "a.capitalize()"
   ]
  },
  {
   "cell_type": "code",
   "execution_count": 54,
   "metadata": {},
   "outputs": [],
   "source": [
    "a = \"herkes ana baba bacı gardaş\""
   ]
  },
  {
   "cell_type": "code",
   "execution_count": 55,
   "metadata": {},
   "outputs": [
    {
     "data": {
      "text/plain": [
       "'herkes ono bobo bocı gordoş'"
      ]
     },
     "execution_count": 55,
     "metadata": {},
     "output_type": "execute_result"
    }
   ],
   "source": [
    "a.replace(\"a\",\"o\")"
   ]
  },
  {
   "cell_type": "code",
   "execution_count": 56,
   "metadata": {},
   "outputs": [
    {
     "data": {
      "text/plain": [
       "'herkes-ana-baba-bacı-gardaş'"
      ]
     },
     "execution_count": 56,
     "metadata": {},
     "output_type": "execute_result"
    }
   ],
   "source": [
    "a = \"herkes ana baba bacı gardaş\"\n",
    "a.replace(\" \",\"-\")"
   ]
  },
  {
   "cell_type": "code",
   "execution_count": 57,
   "metadata": {},
   "outputs": [
    {
     "data": {
      "text/plain": [
       "'kuntar'"
      ]
     },
     "execution_count": 57,
     "metadata": {},
     "output_type": "execute_result"
    }
   ],
   "source": [
    "\"kunduz\".replace(\"duz\",\"tar\")"
   ]
  },
  {
   "cell_type": "code",
   "execution_count": 59,
   "metadata": {},
   "outputs": [
    {
     "data": {
      "text/plain": [
       "True"
      ]
     },
     "execution_count": 59,
     "metadata": {},
     "output_type": "execute_result"
    }
   ],
   "source": [
    "\"kunduz\".startswith(\"k\")"
   ]
  },
  {
   "cell_type": "code",
   "execution_count": 60,
   "metadata": {},
   "outputs": [
    {
     "data": {
      "text/plain": [
       "False"
      ]
     },
     "execution_count": 60,
     "metadata": {},
     "output_type": "execute_result"
    }
   ],
   "source": [
    "\"kunduz\".startswith(\"K\")"
   ]
  },
  {
   "cell_type": "code",
   "execution_count": 61,
   "metadata": {},
   "outputs": [
    {
     "data": {
      "text/plain": [
       "False"
      ]
     },
     "execution_count": 61,
     "metadata": {},
     "output_type": "execute_result"
    }
   ],
   "source": [
    "\"kunduz\".startswith(\"s\")"
   ]
  },
  {
   "cell_type": "code",
   "execution_count": 62,
   "metadata": {},
   "outputs": [
    {
     "data": {
      "text/plain": [
       "True"
      ]
     },
     "execution_count": 62,
     "metadata": {},
     "output_type": "execute_result"
    }
   ],
   "source": [
    "\"kunduz\".startswith(\"ku\")"
   ]
  },
  {
   "cell_type": "code",
   "execution_count": 63,
   "metadata": {},
   "outputs": [
    {
     "data": {
      "text/plain": [
       "True"
      ]
     },
     "execution_count": 63,
     "metadata": {},
     "output_type": "execute_result"
    }
   ],
   "source": [
    "\"kunduz\".startswith(\"kund\")"
   ]
  },
  {
   "cell_type": "code",
   "execution_count": 64,
   "metadata": {},
   "outputs": [
    {
     "data": {
      "text/plain": [
       "True"
      ]
     },
     "execution_count": 64,
     "metadata": {},
     "output_type": "execute_result"
    }
   ],
   "source": [
    "\"kunduz\".endswith(\"z\")"
   ]
  },
  {
   "cell_type": "code",
   "execution_count": 65,
   "metadata": {},
   "outputs": [
    {
     "data": {
      "text/plain": [
       "True"
      ]
     },
     "execution_count": 65,
     "metadata": {},
     "output_type": "execute_result"
    }
   ],
   "source": [
    "\"kunduz\".endswith(\"duz\")"
   ]
  },
  {
   "cell_type": "code",
   "execution_count": 66,
   "metadata": {},
   "outputs": [
    {
     "data": {
      "text/plain": [
       "False"
      ]
     },
     "execution_count": 66,
     "metadata": {},
     "output_type": "execute_result"
    }
   ],
   "source": [
    "\"kunduz\".endswith(\"ez\")"
   ]
  },
  {
   "cell_type": "code",
   "execution_count": 67,
   "metadata": {},
   "outputs": [],
   "source": [
    "liste = \"Python Programlama Dili\""
   ]
  },
  {
   "cell_type": "code",
   "execution_count": 69,
   "metadata": {},
   "outputs": [
    {
     "data": {
      "text/plain": [
       "['Python', 'Programlama', 'Dili']"
      ]
     },
     "execution_count": 69,
     "metadata": {},
     "output_type": "execute_result"
    }
   ],
   "source": [
    "liste.split(\" \")"
   ]
  },
  {
   "cell_type": "code",
   "execution_count": 70,
   "metadata": {},
   "outputs": [
    {
     "data": {
      "text/plain": [
       "['Python', 'Programlama', 'Dili']"
      ]
     },
     "execution_count": 70,
     "metadata": {},
     "output_type": "execute_result"
    }
   ],
   "source": [
    "liste = \"Python,Programlama,Dili\"\n",
    "liste.split(\",\")\n"
   ]
  },
  {
   "cell_type": "code",
   "execution_count": 71,
   "metadata": {},
   "outputs": [
    {
     "data": {
      "text/plain": [
       "['Pyth', 'n,Pr', 'gramlama,Dili']"
      ]
     },
     "execution_count": 71,
     "metadata": {},
     "output_type": "execute_result"
    }
   ],
   "source": [
    "liste = \"Python,Programlama,Dili\"\n",
    "liste.split(\"o\")\n"
   ]
  },
  {
   "cell_type": "code",
   "execution_count": 72,
   "metadata": {},
   "outputs": [
    {
     "data": {
      "text/plain": [
       "'python***********'"
      ]
     },
     "execution_count": 72,
     "metadata": {},
     "output_type": "execute_result"
    }
   ],
   "source": [
    "\"            python***********\".strip()"
   ]
  },
  {
   "cell_type": "code",
   "execution_count": 73,
   "metadata": {},
   "outputs": [
    {
     "data": {
      "text/plain": [
       "'python***********'"
      ]
     },
     "execution_count": 73,
     "metadata": {},
     "output_type": "execute_result"
    }
   ],
   "source": [
    "\"            python***********\".lstrip()"
   ]
  },
  {
   "cell_type": "code",
   "execution_count": 74,
   "metadata": {},
   "outputs": [
    {
     "data": {
      "text/plain": [
       "'            python***********'"
      ]
     },
     "execution_count": 74,
     "metadata": {},
     "output_type": "execute_result"
    }
   ],
   "source": [
    "\"            python***********\".rstrip()"
   ]
  },
  {
   "cell_type": "code",
   "execution_count": 75,
   "metadata": {},
   "outputs": [
    {
     "data": {
      "text/plain": [
       "'            python'"
      ]
     },
     "execution_count": 75,
     "metadata": {},
     "output_type": "execute_result"
    }
   ],
   "source": [
    "\"            python***********\".rstrip(\"*\")"
   ]
  },
  {
   "cell_type": "code",
   "execution_count": 76,
   "metadata": {},
   "outputs": [
    {
     "data": {
      "text/plain": [
       "'            python'"
      ]
     },
     "execution_count": 76,
     "metadata": {},
     "output_type": "execute_result"
    }
   ],
   "source": [
    "\"            python***********\".strip(\"*\")"
   ]
  },
  {
   "cell_type": "code",
   "execution_count": 78,
   "metadata": {},
   "outputs": [
    {
     "data": {
      "text/plain": [
       "'python***********'"
      ]
     },
     "execution_count": 78,
     "metadata": {},
     "output_type": "execute_result"
    }
   ],
   "source": [
    "\"            python***********\".lstrip(\" \")"
   ]
  },
  {
   "cell_type": "code",
   "execution_count": 79,
   "metadata": {},
   "outputs": [
    {
     "data": {
      "text/plain": [
       "['21', '02', '2020']"
      ]
     },
     "execution_count": 79,
     "metadata": {},
     "output_type": "execute_result"
    }
   ],
   "source": [
    "liste = [\"21\",\"02\",\"2020\"]\n",
    "liste\n"
   ]
  },
  {
   "cell_type": "code",
   "execution_count": 80,
   "metadata": {},
   "outputs": [
    {
     "data": {
      "text/plain": [
       "'21/02/2020'"
      ]
     },
     "execution_count": 80,
     "metadata": {},
     "output_type": "execute_result"
    }
   ],
   "source": [
    "\"/\".join(liste)"
   ]
  },
  {
   "cell_type": "code",
   "execution_count": 81,
   "metadata": {},
   "outputs": [
    {
     "data": {
      "text/plain": [
       "['T', 'B', 'M', 'M']"
      ]
     },
     "execution_count": 81,
     "metadata": {},
     "output_type": "execute_result"
    }
   ],
   "source": [
    "liste = [\"T\",\"B\",\"M\",\"M\"]\n",
    "liste"
   ]
  },
  {
   "cell_type": "code",
   "execution_count": 82,
   "metadata": {},
   "outputs": [
    {
     "data": {
      "text/plain": [
       "'T.B.M.M'"
      ]
     },
     "execution_count": 82,
     "metadata": {},
     "output_type": "execute_result"
    }
   ],
   "source": [
    "\".\".join(liste)"
   ]
  },
  {
   "cell_type": "code",
   "execution_count": 85,
   "metadata": {},
   "outputs": [
    {
     "data": {
      "text/plain": [
       "6"
      ]
     },
     "execution_count": 85,
     "metadata": {},
     "output_type": "execute_result"
    }
   ],
   "source": [
    "\"ada kapısı yandan çarklı\".count(\"a\")"
   ]
  },
  {
   "cell_type": "code",
   "execution_count": 87,
   "metadata": {},
   "outputs": [
    {
     "data": {
      "text/plain": [
       "3"
      ]
     },
     "execution_count": 87,
     "metadata": {},
     "output_type": "execute_result"
    }
   ],
   "source": [
    "\"ada kapısı yandan çarklı\".count(\" \")"
   ]
  },
  {
   "cell_type": "code",
   "execution_count": 88,
   "metadata": {},
   "outputs": [
    {
     "data": {
      "text/plain": [
       "5"
      ]
     },
     "execution_count": 88,
     "metadata": {},
     "output_type": "execute_result"
    }
   ],
   "source": [
    "\"ada kapısı yandan çarklı\".count(\"a\",2)"
   ]
  },
  {
   "cell_type": "code",
   "execution_count": 89,
   "metadata": {},
   "outputs": [
    {
     "data": {
      "text/plain": [
       "0"
      ]
     },
     "execution_count": 89,
     "metadata": {},
     "output_type": "execute_result"
    }
   ],
   "source": [
    "\"ada kapısı yandan çarklı\".find(\"a\")"
   ]
  },
  {
   "cell_type": "code",
   "execution_count": 90,
   "metadata": {},
   "outputs": [
    {
     "data": {
      "text/plain": [
       "19"
      ]
     },
     "execution_count": 90,
     "metadata": {},
     "output_type": "execute_result"
    }
   ],
   "source": [
    "\"ada kapısı yandan çarklı\".rfind(\"a\")"
   ]
  },
  {
   "cell_type": "code",
   "execution_count": 91,
   "metadata": {},
   "outputs": [
    {
     "data": {
      "text/plain": [
       "-1"
      ]
     },
     "execution_count": 91,
     "metadata": {},
     "output_type": "execute_result"
    }
   ],
   "source": [
    "\"ada kapısı yandan çarklı\".find(\"e\")"
   ]
  },
  {
   "cell_type": "markdown",
   "metadata": {},
   "source": [
    "## SET "
   ]
  },
  {
   "cell_type": "code",
   "execution_count": 92,
   "metadata": {},
   "outputs": [],
   "source": [
    "x = {1,2,3}"
   ]
  },
  {
   "cell_type": "code",
   "execution_count": 93,
   "metadata": {},
   "outputs": [
    {
     "data": {
      "text/plain": [
       "set"
      ]
     },
     "execution_count": 93,
     "metadata": {},
     "output_type": "execute_result"
    }
   ],
   "source": [
    "type(x)"
   ]
  },
  {
   "cell_type": "code",
   "execution_count": 94,
   "metadata": {},
   "outputs": [],
   "source": [
    "liste = [1,2,3,3,1,1,2,2,2] # Aynı elemanı birçok defa  barındıran bir liste"
   ]
  },
  {
   "cell_type": "code",
   "execution_count": 95,
   "metadata": {},
   "outputs": [],
   "source": [
    "x = set(liste)"
   ]
  },
  {
   "cell_type": "code",
   "execution_count": 96,
   "metadata": {},
   "outputs": [
    {
     "data": {
      "text/plain": [
       "{1, 2, 3}"
      ]
     },
     "execution_count": 96,
     "metadata": {},
     "output_type": "execute_result"
    }
   ],
   "source": [
    "x"
   ]
  },
  {
   "cell_type": "code",
   "execution_count": 98,
   "metadata": {},
   "outputs": [],
   "source": [
    "x = \"ada kapısı yandan çarklı\""
   ]
  },
  {
   "cell_type": "code",
   "execution_count": 99,
   "metadata": {},
   "outputs": [
    {
     "data": {
      "text/plain": [
       "{' ', 'a', 'd', 'k', 'l', 'n', 'p', 'r', 's', 'y', 'ç', 'ı'}"
      ]
     },
     "execution_count": 99,
     "metadata": {},
     "output_type": "execute_result"
    }
   ],
   "source": [
    "y = set(x)\n",
    "y"
   ]
  },
  {
   "cell_type": "code",
   "execution_count": 100,
   "metadata": {},
   "outputs": [],
   "source": [
    "x = [\"ada kapısı yandan çarklı\"]\n",
    "y = set(x)"
   ]
  },
  {
   "cell_type": "code",
   "execution_count": 101,
   "metadata": {},
   "outputs": [
    {
     "data": {
      "text/plain": [
       "{'ada kapısı yandan çarklı'}"
      ]
     },
     "execution_count": 101,
     "metadata": {},
     "output_type": "execute_result"
    }
   ],
   "source": [
    "y"
   ]
  },
  {
   "cell_type": "code",
   "execution_count": 102,
   "metadata": {},
   "outputs": [],
   "source": [
    "x = {\"Python\",\"Php\",\"Python\"}"
   ]
  },
  {
   "cell_type": "code",
   "execution_count": 103,
   "metadata": {},
   "outputs": [
    {
     "data": {
      "text/plain": [
       "{'Php', 'Python'}"
      ]
     },
     "execution_count": 103,
     "metadata": {},
     "output_type": "execute_result"
    }
   ],
   "source": [
    "x = set(x)\n",
    "x"
   ]
  },
  {
   "cell_type": "code",
   "execution_count": 104,
   "metadata": {},
   "outputs": [
    {
     "name": "stdout",
     "output_type": "stream",
     "text": [
      "C\n",
      "Php\n",
      "Python\n",
      "Javascript\n",
      "Java\n"
     ]
    }
   ],
   "source": [
    "x = {\"Python\",\"Php\",\"Java\",\"C\",\"Javascript\"}\n",
    "for i in x:\n",
    "    print(i)"
   ]
  },
  {
   "cell_type": "code",
   "execution_count": 105,
   "metadata": {},
   "outputs": [
    {
     "ename": "TypeError",
     "evalue": "'set' object is not subscriptable",
     "output_type": "error",
     "traceback": [
      "\u001b[1;31m---------------------------------------------------------------------------\u001b[0m",
      "\u001b[1;31mTypeError\u001b[0m                                 Traceback (most recent call last)",
      "\u001b[1;32mC:\\Users\\ADMCN_~1\\AppData\\Local\\Temp/ipykernel_1280/3629782281.py\u001b[0m in \u001b[0;36m<module>\u001b[1;34m\u001b[0m\n\u001b[1;32m----> 1\u001b[1;33m \u001b[0mx\u001b[0m\u001b[1;33m[\u001b[0m\u001b[1;36m0\u001b[0m\u001b[1;33m]\u001b[0m\u001b[1;33m\u001b[0m\u001b[1;33m\u001b[0m\u001b[0m\n\u001b[0m",
      "\u001b[1;31mTypeError\u001b[0m: 'set' object is not subscriptable"
     ]
    }
   ],
   "source": [
    "x[0]"
   ]
  },
  {
   "cell_type": "code",
   "execution_count": 106,
   "metadata": {},
   "outputs": [
    {
     "data": {
      "text/plain": [
       "{1, 2, 3, 4}"
      ]
     },
     "execution_count": 106,
     "metadata": {},
     "output_type": "execute_result"
    }
   ],
   "source": [
    "x = {1,2,3}\n",
    "x.add(4)\n",
    "x"
   ]
  },
  {
   "cell_type": "code",
   "execution_count": 107,
   "metadata": {},
   "outputs": [],
   "source": [
    "x.add(4)"
   ]
  },
  {
   "cell_type": "code",
   "execution_count": 108,
   "metadata": {},
   "outputs": [
    {
     "data": {
      "text/plain": [
       "{1, 2, 3, 4}"
      ]
     },
     "execution_count": 108,
     "metadata": {},
     "output_type": "execute_result"
    }
   ],
   "source": [
    "x"
   ]
  },
  {
   "cell_type": "code",
   "execution_count": 1,
   "metadata": {},
   "outputs": [],
   "source": [
    "küme1 = {1,2,3,10,34,100,-2}\n",
    "küme2 = {1,2,23,34,-1}"
   ]
  },
  {
   "cell_type": "code",
   "execution_count": 2,
   "metadata": {},
   "outputs": [
    {
     "data": {
      "text/plain": [
       "{-2, 3, 10, 100}"
      ]
     },
     "execution_count": 2,
     "metadata": {},
     "output_type": "execute_result"
    }
   ],
   "source": [
    "küme1.difference(küme2)"
   ]
  },
  {
   "cell_type": "code",
   "execution_count": 3,
   "metadata": {},
   "outputs": [
    {
     "data": {
      "text/plain": [
       "{-2, 1, 2, 3, 10, 34, 100}"
      ]
     },
     "execution_count": 3,
     "metadata": {},
     "output_type": "execute_result"
    }
   ],
   "source": [
    "küme1"
   ]
  },
  {
   "cell_type": "code",
   "execution_count": 111,
   "metadata": {},
   "outputs": [
    {
     "data": {
      "text/plain": [
       "{-1, 23}"
      ]
     },
     "execution_count": 111,
     "metadata": {},
     "output_type": "execute_result"
    }
   ],
   "source": [
    "küme2.difference(küme1)"
   ]
  },
  {
   "cell_type": "code",
   "execution_count": 4,
   "metadata": {},
   "outputs": [],
   "source": [
    "küme1.difference_update(küme2)"
   ]
  },
  {
   "cell_type": "code",
   "execution_count": 5,
   "metadata": {},
   "outputs": [
    {
     "data": {
      "text/plain": [
       "{-2, 3, 10, 100}"
      ]
     },
     "execution_count": 5,
     "metadata": {},
     "output_type": "execute_result"
    }
   ],
   "source": [
    "küme1"
   ]
  },
  {
   "cell_type": "code",
   "execution_count": 6,
   "metadata": {},
   "outputs": [],
   "source": [
    "x = {1,2,3,4,5,6}"
   ]
  },
  {
   "cell_type": "code",
   "execution_count": 7,
   "metadata": {},
   "outputs": [],
   "source": [
    "x.discard(6)"
   ]
  },
  {
   "cell_type": "code",
   "execution_count": 8,
   "metadata": {},
   "outputs": [
    {
     "data": {
      "text/plain": [
       "{1, 2, 3, 4, 5}"
      ]
     },
     "execution_count": 8,
     "metadata": {},
     "output_type": "execute_result"
    }
   ],
   "source": [
    "x"
   ]
  },
  {
   "cell_type": "code",
   "execution_count": 9,
   "metadata": {},
   "outputs": [],
   "source": [
    "x.discard(6)"
   ]
  },
  {
   "cell_type": "code",
   "execution_count": 10,
   "metadata": {},
   "outputs": [
    {
     "data": {
      "text/plain": [
       "{1, 2, 3, 4, 5}"
      ]
     },
     "execution_count": 10,
     "metadata": {},
     "output_type": "execute_result"
    }
   ],
   "source": [
    "x"
   ]
  },
  {
   "cell_type": "code",
   "execution_count": 11,
   "metadata": {},
   "outputs": [],
   "source": [
    "küme1 = {1,2,3,10,34,100,-2}\n",
    "küme2 = {1,2,23,34,-1}"
   ]
  },
  {
   "cell_type": "code",
   "execution_count": 12,
   "metadata": {},
   "outputs": [
    {
     "data": {
      "text/plain": [
       "{1, 2, 34}"
      ]
     },
     "execution_count": 12,
     "metadata": {},
     "output_type": "execute_result"
    }
   ],
   "source": [
    "küme1.intersection(küme2)küme1.intersection(küme2)"
   ]
  },
  {
   "cell_type": "code",
   "execution_count": 13,
   "metadata": {},
   "outputs": [
    {
     "data": {
      "text/plain": [
       "{1, 2, 34}"
      ]
     },
     "execution_count": 13,
     "metadata": {},
     "output_type": "execute_result"
    }
   ],
   "source": [
    "küme2.intersection(küme1)"
   ]
  },
  {
   "cell_type": "code",
   "execution_count": 14,
   "metadata": {},
   "outputs": [],
   "source": [
    "küme1.intersection_update(küme2)"
   ]
  },
  {
   "cell_type": "code",
   "execution_count": 15,
   "metadata": {},
   "outputs": [
    {
     "data": {
      "text/plain": [
       "{1, 2, 34}"
      ]
     },
     "execution_count": 15,
     "metadata": {},
     "output_type": "execute_result"
    }
   ],
   "source": [
    "küme1"
   ]
  },
  {
   "cell_type": "code",
   "execution_count": 16,
   "metadata": {},
   "outputs": [],
   "source": [
    "küme1 = {1,2,3,10,34,100,-2}\n",
    "küme2 = {1,2,23,34,-1}\n",
    "küme3 = {30,40,50}"
   ]
  },
  {
   "cell_type": "code",
   "execution_count": 17,
   "metadata": {},
   "outputs": [
    {
     "data": {
      "text/plain": [
       "False"
      ]
     },
     "execution_count": 17,
     "metadata": {},
     "output_type": "execute_result"
    }
   ],
   "source": [
    "küme1.isdisjoint(küme2)"
   ]
  },
  {
   "cell_type": "code",
   "execution_count": 18,
   "metadata": {},
   "outputs": [
    {
     "data": {
      "text/plain": [
       "True"
      ]
     },
     "execution_count": 18,
     "metadata": {},
     "output_type": "execute_result"
    }
   ],
   "source": [
    "küme1.isdisjoint(küme3)"
   ]
  },
  {
   "cell_type": "code",
   "execution_count": 19,
   "metadata": {},
   "outputs": [
    {
     "data": {
      "text/plain": [
       "True"
      ]
     },
     "execution_count": 19,
     "metadata": {},
     "output_type": "execute_result"
    }
   ],
   "source": [
    "küme2.isdisjoint(küme3)"
   ]
  },
  {
   "cell_type": "code",
   "execution_count": 20,
   "metadata": {},
   "outputs": [],
   "source": [
    "küme1 = {1,2,3}\n",
    "küme2 = {1,2,3,4}\n",
    "küme3 = {5,6,7}"
   ]
  },
  {
   "cell_type": "code",
   "execution_count": 21,
   "metadata": {},
   "outputs": [
    {
     "data": {
      "text/plain": [
       "False"
      ]
     },
     "execution_count": 21,
     "metadata": {},
     "output_type": "execute_result"
    }
   ],
   "source": [
    "küme2.issubset(küme3)"
   ]
  },
  {
   "cell_type": "code",
   "execution_count": 22,
   "metadata": {},
   "outputs": [
    {
     "data": {
      "text/plain": [
       "True"
      ]
     },
     "execution_count": 22,
     "metadata": {},
     "output_type": "execute_result"
    }
   ],
   "source": [
    "küme1.issubset(küme2)"
   ]
  },
  {
   "cell_type": "code",
   "execution_count": 23,
   "metadata": {},
   "outputs": [
    {
     "data": {
      "text/plain": [
       "False"
      ]
     },
     "execution_count": 23,
     "metadata": {},
     "output_type": "execute_result"
    }
   ],
   "source": [
    "küme1.issubset(küme3)"
   ]
  },
  {
   "cell_type": "code",
   "execution_count": 24,
   "metadata": {},
   "outputs": [],
   "source": [
    "küme1 = {1,2,3,10,34,100,-2}\n",
    "küme2 = {1,2,23,34,-1}"
   ]
  },
  {
   "cell_type": "code",
   "execution_count": 25,
   "metadata": {},
   "outputs": [
    {
     "data": {
      "text/plain": [
       "{-2, 1, 2, 3, 5, 6, 7, 10, 34, 100}"
      ]
     },
     "execution_count": 25,
     "metadata": {},
     "output_type": "execute_result"
    }
   ],
   "source": [
    "küme1.union(küme3)"
   ]
  },
  {
   "cell_type": "code",
   "execution_count": 26,
   "metadata": {},
   "outputs": [
    {
     "data": {
      "text/plain": [
       "False"
      ]
     },
     "execution_count": 26,
     "metadata": {},
     "output_type": "execute_result"
    }
   ],
   "source": [
    "küme1.issubset(küme3)"
   ]
  },
  {
   "cell_type": "code",
   "execution_count": 31,
   "metadata": {},
   "outputs": [
    {
     "data": {
      "text/plain": [
       "False"
      ]
     },
     "execution_count": 31,
     "metadata": {},
     "output_type": "execute_result"
    }
   ],
   "source": [
    "küme1.isdisjoint(küme2)\n"
   ]
  },
  {
   "cell_type": "code",
   "execution_count": 32,
   "metadata": {},
   "outputs": [
    {
     "ename": "AttributeError",
     "evalue": "'set' object has no attribute 'union_update'",
     "output_type": "error",
     "traceback": [
      "\u001b[1;31m---------------------------------------------------------------------------\u001b[0m",
      "\u001b[1;31mAttributeError\u001b[0m                            Traceback (most recent call last)",
      "\u001b[1;32mC:\\Users\\ADMCN_~1\\AppData\\Local\\Temp/ipykernel_6464/2331345801.py\u001b[0m in \u001b[0;36m<module>\u001b[1;34m\u001b[0m\n\u001b[1;32m----> 1\u001b[1;33m \u001b[0mküme1\u001b[0m\u001b[1;33m.\u001b[0m\u001b[0munion_update\u001b[0m\u001b[1;33m(\u001b[0m\u001b[0mküme3\u001b[0m\u001b[1;33m)\u001b[0m\u001b[1;33m\u001b[0m\u001b[1;33m\u001b[0m\u001b[0m\n\u001b[0m",
      "\u001b[1;31mAttributeError\u001b[0m: 'set' object has no attribute 'union_update'"
     ]
    }
   ],
   "source": [
    "küme1.union_update(küme3)"
   ]
  },
  {
   "cell_type": "code",
   "execution_count": 33,
   "metadata": {},
   "outputs": [],
   "source": [
    "küme1.update(küme3)"
   ]
  },
  {
   "cell_type": "code",
   "execution_count": 34,
   "metadata": {},
   "outputs": [
    {
     "data": {
      "text/plain": [
       "{-2, 1, 2, 3, 5, 6, 7, 10, 34, 100}"
      ]
     },
     "execution_count": 34,
     "metadata": {},
     "output_type": "execute_result"
    }
   ],
   "source": [
    "küme1"
   ]
  },
  {
   "cell_type": "code",
   "execution_count": 35,
   "metadata": {},
   "outputs": [],
   "source": [
    "liste = [1,2,3,4,5,6,7]\n",
    "liste.append(8)\n"
   ]
  },
  {
   "cell_type": "code",
   "execution_count": 36,
   "metadata": {},
   "outputs": [
    {
     "data": {
      "text/plain": [
       "[1, 2, 3, 4, 5, 6, 7, 8]"
      ]
     },
     "execution_count": 36,
     "metadata": {},
     "output_type": "execute_result"
    }
   ],
   "source": [
    "liste"
   ]
  },
  {
   "cell_type": "code",
   "execution_count": 37,
   "metadata": {},
   "outputs": [],
   "source": [
    "liste.append(\"python\")"
   ]
  },
  {
   "cell_type": "code",
   "execution_count": 38,
   "metadata": {},
   "outputs": [
    {
     "data": {
      "text/plain": [
       "[1, 2, 3, 4, 5, 6, 7, 8, 'python']"
      ]
     },
     "execution_count": 38,
     "metadata": {},
     "output_type": "execute_result"
    }
   ],
   "source": [
    "liste"
   ]
  },
  {
   "cell_type": "code",
   "execution_count": 39,
   "metadata": {},
   "outputs": [
    {
     "ename": "TypeError",
     "evalue": "list.append() takes exactly one argument (2 given)",
     "output_type": "error",
     "traceback": [
      "\u001b[1;31m---------------------------------------------------------------------------\u001b[0m",
      "\u001b[1;31mTypeError\u001b[0m                                 Traceback (most recent call last)",
      "\u001b[1;32mC:\\Users\\ADMCN_~1\\AppData\\Local\\Temp/ipykernel_6464/3683627377.py\u001b[0m in \u001b[0;36m<module>\u001b[1;34m\u001b[0m\n\u001b[1;32m----> 1\u001b[1;33m \u001b[0mliste\u001b[0m\u001b[1;33m.\u001b[0m\u001b[0mappend\u001b[0m\u001b[1;33m(\u001b[0m\u001b[1;34m\"c#\"\u001b[0m\u001b[1;33m,\u001b[0m\u001b[1;36m2\u001b[0m\u001b[1;33m)\u001b[0m\u001b[1;33m\u001b[0m\u001b[1;33m\u001b[0m\u001b[0m\n\u001b[0m",
      "\u001b[1;31mTypeError\u001b[0m: list.append() takes exactly one argument (2 given)"
     ]
    }
   ],
   "source": [
    "liste.append(\"c#\",2)"
   ]
  },
  {
   "cell_type": "code",
   "execution_count": 40,
   "metadata": {},
   "outputs": [
    {
     "ename": "TypeError",
     "evalue": "list.extend() takes exactly one argument (2 given)",
     "output_type": "error",
     "traceback": [
      "\u001b[1;31m---------------------------------------------------------------------------\u001b[0m",
      "\u001b[1;31mTypeError\u001b[0m                                 Traceback (most recent call last)",
      "\u001b[1;32mC:\\Users\\ADMCN_~1\\AppData\\Local\\Temp/ipykernel_6464/432041466.py\u001b[0m in \u001b[0;36m<module>\u001b[1;34m\u001b[0m\n\u001b[1;32m----> 1\u001b[1;33m \u001b[0mliste\u001b[0m\u001b[1;33m.\u001b[0m\u001b[0mextend\u001b[0m\u001b[1;33m(\u001b[0m\u001b[1;34m\"c#\"\u001b[0m\u001b[1;33m,\u001b[0m\u001b[1;36m2\u001b[0m\u001b[1;33m)\u001b[0m\u001b[1;33m\u001b[0m\u001b[1;33m\u001b[0m\u001b[0m\n\u001b[0m",
      "\u001b[1;31mTypeError\u001b[0m: list.extend() takes exactly one argument (2 given)"
     ]
    }
   ],
   "source": [
    "liste.extend(\"c#\",2)"
   ]
  },
  {
   "cell_type": "code",
   "execution_count": 41,
   "metadata": {},
   "outputs": [],
   "source": [
    "liste2 = [\"c#\",2,3]\n",
    "liste.extend(liste2)"
   ]
  },
  {
   "cell_type": "code",
   "execution_count": 42,
   "metadata": {},
   "outputs": [
    {
     "data": {
      "text/plain": [
       "[1, 2, 3, 4, 5, 6, 7, 8, 'python', 'c#', 2, 3]"
      ]
     },
     "execution_count": 42,
     "metadata": {},
     "output_type": "execute_result"
    }
   ],
   "source": [
    "liste"
   ]
  },
  {
   "cell_type": "code",
   "execution_count": 43,
   "metadata": {},
   "outputs": [],
   "source": [
    "liste.append(liste2)"
   ]
  },
  {
   "cell_type": "code",
   "execution_count": 44,
   "metadata": {},
   "outputs": [
    {
     "data": {
      "text/plain": [
       "[1, 2, 3, 4, 5, 6, 7, 8, 'python', 'c#', 2, 3, ['c#', 2, 3]]"
      ]
     },
     "execution_count": 44,
     "metadata": {},
     "output_type": "execute_result"
    }
   ],
   "source": [
    "liste"
   ]
  },
  {
   "cell_type": "code",
   "execution_count": 46,
   "metadata": {},
   "outputs": [],
   "source": [
    "liste = [1,2,3,4,5,6,7,8,9]\n",
    "liste.insert(2,\"python\")"
   ]
  },
  {
   "cell_type": "code",
   "execution_count": 47,
   "metadata": {},
   "outputs": [
    {
     "data": {
      "text/plain": [
       "[1, 2, 'python', 3, 4, 5, 6, 7, 8, 9]"
      ]
     },
     "execution_count": 47,
     "metadata": {},
     "output_type": "execute_result"
    }
   ],
   "source": [
    "liste"
   ]
  },
  {
   "cell_type": "code",
   "execution_count": 48,
   "metadata": {},
   "outputs": [
    {
     "data": {
      "text/plain": [
       "[1, 'java', 2, 'python', 3, 4, 5, 6, 7, 8, 9]"
      ]
     },
     "execution_count": 48,
     "metadata": {},
     "output_type": "execute_result"
    }
   ],
   "source": [
    "liste.insert(1,\"java\")\n",
    "liste"
   ]
  },
  {
   "cell_type": "code",
   "execution_count": 49,
   "metadata": {},
   "outputs": [
    {
     "data": {
      "text/plain": [
       "'java'"
      ]
     },
     "execution_count": 49,
     "metadata": {},
     "output_type": "execute_result"
    }
   ],
   "source": [
    "liste.pop(1)"
   ]
  },
  {
   "cell_type": "code",
   "execution_count": 50,
   "metadata": {},
   "outputs": [
    {
     "data": {
      "text/plain": [
       "[1, 2, 'python', 3, 4, 5, 6, 7, 8, 9]"
      ]
     },
     "execution_count": 50,
     "metadata": {},
     "output_type": "execute_result"
    }
   ],
   "source": [
    "liste"
   ]
  },
  {
   "cell_type": "code",
   "execution_count": 51,
   "metadata": {},
   "outputs": [
    {
     "data": {
      "text/plain": [
       "[1, 2, 3, 4, 5, 6, 7, 8, 9]"
      ]
     },
     "execution_count": 51,
     "metadata": {},
     "output_type": "execute_result"
    }
   ],
   "source": [
    "liste.pop(2)\n",
    "liste"
   ]
  },
  {
   "cell_type": "code",
   "execution_count": 52,
   "metadata": {},
   "outputs": [],
   "source": [
    "liste.remove(2)"
   ]
  },
  {
   "cell_type": "code",
   "execution_count": 53,
   "metadata": {},
   "outputs": [
    {
     "data": {
      "text/plain": [
       "[1, 3, 4, 5, 6, 7, 8, 9]"
      ]
     },
     "execution_count": 53,
     "metadata": {},
     "output_type": "execute_result"
    }
   ],
   "source": [
    "liste"
   ]
  },
  {
   "cell_type": "code",
   "execution_count": 54,
   "metadata": {},
   "outputs": [
    {
     "ename": "ValueError",
     "evalue": "list.remove(x): x not in list",
     "output_type": "error",
     "traceback": [
      "\u001b[1;31m---------------------------------------------------------------------------\u001b[0m",
      "\u001b[1;31mValueError\u001b[0m                                Traceback (most recent call last)",
      "\u001b[1;32mC:\\Users\\ADMCN_~1\\AppData\\Local\\Temp/ipykernel_6464/3563144457.py\u001b[0m in \u001b[0;36m<module>\u001b[1;34m\u001b[0m\n\u001b[1;32m----> 1\u001b[1;33m \u001b[0mliste\u001b[0m\u001b[1;33m.\u001b[0m\u001b[0mremove\u001b[0m\u001b[1;33m(\u001b[0m\u001b[1;34m\"java\"\u001b[0m\u001b[1;33m)\u001b[0m\u001b[1;33m\u001b[0m\u001b[1;33m\u001b[0m\u001b[0m\n\u001b[0m",
      "\u001b[1;31mValueError\u001b[0m: list.remove(x): x not in list"
     ]
    }
   ],
   "source": [
    "liste.remove(\"java\")"
   ]
  },
  {
   "cell_type": "code",
   "execution_count": 58,
   "metadata": {},
   "outputs": [
    {
     "data": {
      "text/plain": [
       "3"
      ]
     },
     "execution_count": 58,
     "metadata": {},
     "output_type": "execute_result"
    }
   ],
   "source": [
    "liste = [1,2,3,4,3,3,5,6,7]\n",
    "liste.index(4)"
   ]
  },
  {
   "cell_type": "code",
   "execution_count": 57,
   "metadata": {},
   "outputs": [
    {
     "data": {
      "text/plain": [
       "6"
      ]
     },
     "execution_count": 57,
     "metadata": {},
     "output_type": "execute_result"
    }
   ],
   "source": [
    "liste.index(7)"
   ]
  },
  {
   "cell_type": "code",
   "execution_count": 61,
   "metadata": {},
   "outputs": [
    {
     "data": {
      "text/plain": [
       "5"
      ]
     },
     "execution_count": 61,
     "metadata": {},
     "output_type": "execute_result"
    }
   ],
   "source": [
    "liste.index(3,5)"
   ]
  },
  {
   "cell_type": "code",
   "execution_count": 62,
   "metadata": {},
   "outputs": [
    {
     "data": {
      "text/plain": [
       "9"
      ]
     },
     "execution_count": 62,
     "metadata": {},
     "output_type": "execute_result"
    }
   ],
   "source": [
    "liste = [1,2,3,4,5,6,1,1,1,1,1,1,1,1,8]\n",
    "liste.count(1)"
   ]
  },
  {
   "cell_type": "code",
   "execution_count": 63,
   "metadata": {},
   "outputs": [
    {
     "data": {
      "text/plain": [
       "1"
      ]
     },
     "execution_count": 63,
     "metadata": {},
     "output_type": "execute_result"
    }
   ],
   "source": [
    "liste.count(2)"
   ]
  },
  {
   "cell_type": "code",
   "execution_count": 64,
   "metadata": {},
   "outputs": [
    {
     "data": {
      "text/plain": [
       "0"
      ]
     },
     "execution_count": 64,
     "metadata": {},
     "output_type": "execute_result"
    }
   ],
   "source": [
    "liste.count(0)"
   ]
  },
  {
   "cell_type": "code",
   "execution_count": 65,
   "metadata": {},
   "outputs": [],
   "source": [
    "liste.sort()"
   ]
  },
  {
   "cell_type": "code",
   "execution_count": 66,
   "metadata": {},
   "outputs": [
    {
     "data": {
      "text/plain": [
       "[1, 1, 1, 1, 1, 1, 1, 1, 1, 2, 3, 4, 5, 6, 8]"
      ]
     },
     "execution_count": 66,
     "metadata": {},
     "output_type": "execute_result"
    }
   ],
   "source": [
    "liste"
   ]
  },
  {
   "cell_type": "code",
   "execution_count": 69,
   "metadata": {},
   "outputs": [],
   "source": [
    "liste = [12,-2,3,1,34,100]\n",
    "liste.sort()"
   ]
  },
  {
   "cell_type": "code",
   "execution_count": 70,
   "metadata": {},
   "outputs": [
    {
     "data": {
      "text/plain": [
       "[-2, 1, 3, 12, 34, 100]"
      ]
     },
     "execution_count": 70,
     "metadata": {},
     "output_type": "execute_result"
    }
   ],
   "source": [
    "liste"
   ]
  },
  {
   "cell_type": "code",
   "execution_count": 71,
   "metadata": {},
   "outputs": [
    {
     "data": {
      "text/plain": [
       "[100, 34, 12, 3, 1, -2]"
      ]
     },
     "execution_count": 71,
     "metadata": {},
     "output_type": "execute_result"
    }
   ],
   "source": [
    "liste.sort(reverse=True)\n",
    "liste"
   ]
  },
  {
   "cell_type": "code",
   "execution_count": 72,
   "metadata": {},
   "outputs": [],
   "source": [
    "liste = [12,-2,3,1,34,100]\n",
    "liste.sort(reverse = True)\n"
   ]
  },
  {
   "cell_type": "code",
   "execution_count": 73,
   "metadata": {},
   "outputs": [
    {
     "data": {
      "text/plain": [
       "[100, 34, 12, 3, 1, -2]"
      ]
     },
     "execution_count": 73,
     "metadata": {},
     "output_type": "execute_result"
    }
   ],
   "source": [
    "liste"
   ]
  },
  {
   "cell_type": "code",
   "execution_count": 74,
   "metadata": {},
   "outputs": [],
   "source": [
    "liste2 = [\"Python\",\"Php\",\"C\",\"Java\"]\n",
    "liste2.sort()"
   ]
  },
  {
   "cell_type": "code",
   "execution_count": 75,
   "metadata": {},
   "outputs": [
    {
     "data": {
      "text/plain": [
       "['C', 'Java', 'Php', 'Python']"
      ]
     },
     "execution_count": 75,
     "metadata": {},
     "output_type": "execute_result"
    }
   ],
   "source": [
    "liste2"
   ]
  },
  {
   "cell_type": "code",
   "execution_count": 76,
   "metadata": {},
   "outputs": [
    {
     "data": {
      "text/plain": [
       "['Python', 'Php', 'Java', 'C']"
      ]
     },
     "execution_count": 76,
     "metadata": {},
     "output_type": "execute_result"
    }
   ],
   "source": [
    "liste2.sort(reverse = True)\n",
    "liste2"
   ]
  },
  {
   "cell_type": "code",
   "execution_count": 86,
   "metadata": {},
   "outputs": [
    {
     "name": "stdout",
     "output_type": "stream",
     "text": [
      "Dostoyevski kelimesi 1 defa geçiyor....\n",
      "--------------------------------------------------\n",
      "Rusya’da kelimesi 1 defa geçiyor....\n",
      "--------------------------------------------------\n",
      "yaşanan kelimesi 1 defa geçiyor....\n",
      "--------------------------------------------------\n",
      "siyasi kelimesi 1 defa geçiyor....\n",
      "--------------------------------------------------\n",
      "ve kelimesi 15 defa geçiyor....\n",
      "--------------------------------------------------\n",
      "ekonomik kelimesi 1 defa geçiyor....\n",
      "--------------------------------------------------\n",
      "olaylar kelimesi 1 defa geçiyor....\n",
      "--------------------------------------------------\n",
      "sonrasında kelimesi 1 defa geçiyor....\n",
      "--------------------------------------------------\n",
      "gözlemlediği kelimesi 1 defa geçiyor....\n",
      "--------------------------------------------------\n",
      "hayatlardan kelimesi 1 defa geçiyor....\n",
      "--------------------------------------------------\n",
      "esinlenerek kelimesi 1 defa geçiyor....\n",
      "--------------------------------------------------\n",
      "1866 kelimesi 1 defa geçiyor....\n",
      "--------------------------------------------------\n",
      "yılında kelimesi 1 defa geçiyor....\n",
      "--------------------------------------------------\n",
      "yazdığı kelimesi 1 defa geçiyor....\n",
      "--------------------------------------------------\n",
      "eser kelimesi 2 defa geçiyor....\n",
      "--------------------------------------------------\n",
      "ilk kelimesi 1 defa geçiyor....\n",
      "--------------------------------------------------\n",
      "olarak kelimesi 1 defa geçiyor....\n",
      "--------------------------------------------------\n",
      "Rus kelimesi 1 defa geçiyor....\n",
      "--------------------------------------------------\n",
      "Habercisi kelimesi 1 defa geçiyor....\n",
      "--------------------------------------------------\n",
      "isimli kelimesi 1 defa geçiyor....\n",
      "--------------------------------------------------\n",
      "edebiyat kelimesi 1 defa geçiyor....\n",
      "--------------------------------------------------\n",
      "dergisinde kelimesi 1 defa geçiyor....\n",
      "--------------------------------------------------\n",
      "yayınlanmıştır kelimesi 1 defa geçiyor....\n",
      "--------------------------------------------------\n",
      "Büyük kelimesi 1 defa geçiyor....\n",
      "--------------------------------------------------\n",
      "beğeni kelimesi 1 defa geçiyor....\n",
      "--------------------------------------------------\n",
      "toplayan kelimesi 1 defa geçiyor....\n",
      "--------------------------------------------------\n",
      "daha kelimesi 7 defa geçiyor....\n",
      "--------------------------------------------------\n",
      "sonra kelimesi 1 defa geçiyor....\n",
      "--------------------------------------------------\n",
      "kitap kelimesi 2 defa geçiyor....\n",
      "--------------------------------------------------\n",
      "haline kelimesi 1 defa geçiyor....\n",
      "--------------------------------------------------\n",
      "getirilmiş kelimesi 1 defa geçiyor....\n",
      "--------------------------------------------------\n",
      "o kelimesi 2 defa geçiyor....\n",
      "--------------------------------------------------\n",
      "günden kelimesi 1 defa geçiyor....\n",
      "--------------------------------------------------\n",
      "beri kelimesi 1 defa geçiyor....\n",
      "--------------------------------------------------\n",
      "birçok kelimesi 2 defa geçiyor....\n",
      "--------------------------------------------------\n",
      "sinema kelimesi 1 defa geçiyor....\n",
      "--------------------------------------------------\n",
      "filmine kelimesi 1 defa geçiyor....\n",
      "--------------------------------------------------\n",
      "konu kelimesi 1 defa geçiyor....\n",
      "--------------------------------------------------\n",
      "olmuştur kelimesi 1 defa geçiyor....\n",
      "--------------------------------------------------\n",
      "Suç kelimesi 1 defa geçiyor....\n",
      "--------------------------------------------------\n",
      "Ceza kelimesi 1 defa geçiyor....\n",
      "--------------------------------------------------\n",
      "Dostoyevski’nin kelimesi 1 defa geçiyor....\n",
      "--------------------------------------------------\n",
      "başyapıtı kelimesi 1 defa geçiyor....\n",
      "--------------------------------------------------\n",
      "sayılır kelimesi 1 defa geçiyor....\n",
      "--------------------------------------------------\n",
      "Kitabın kelimesi 1 defa geçiyor....\n",
      "--------------------------------------------------\n",
      "başkahramanı kelimesi 1 defa geçiyor....\n",
      "--------------------------------------------------\n",
      "olan kelimesi 4 defa geçiyor....\n",
      "--------------------------------------------------\n",
      "Raskolnikov kelimesi 5 defa geçiyor....\n",
      "--------------------------------------------------\n",
      "Rusya’nın kelimesi 1 defa geçiyor....\n",
      "--------------------------------------------------\n",
      "St kelimesi 2 defa geçiyor....\n",
      "--------------------------------------------------\n",
      "Petersburg kelimesi 2 defa geçiyor....\n",
      "--------------------------------------------------\n",
      "şehrinde kelimesi 2 defa geçiyor....\n",
      "--------------------------------------------------\n",
      "hukuk kelimesi 2 defa geçiyor....\n",
      "--------------------------------------------------\n",
      "fakültesinde kelimesi 1 defa geçiyor....\n",
      "--------------------------------------------------\n",
      "okuyan kelimesi 1 defa geçiyor....\n",
      "--------------------------------------------------\n",
      "başarılı kelimesi 1 defa geçiyor....\n",
      "--------------------------------------------------\n",
      "bir kelimesi 5 defa geçiyor....\n",
      "--------------------------------------------------\n",
      "öğrencidir kelimesi 1 defa geçiyor....\n",
      "--------------------------------------------------\n",
      "Fakir kelimesi 1 defa geçiyor....\n",
      "--------------------------------------------------\n",
      "olduğu kelimesi 1 defa geçiyor....\n",
      "--------------------------------------------------\n",
      "için kelimesi 2 defa geçiyor....\n",
      "--------------------------------------------------\n",
      "hayatını kelimesi 1 defa geçiyor....\n",
      "--------------------------------------------------\n",
      "öğretimini kelimesi 1 defa geçiyor....\n",
      "--------------------------------------------------\n",
      "devam kelimesi 1 defa geçiyor....\n",
      "--------------------------------------------------\n",
      "ettirmekte kelimesi 1 defa geçiyor....\n",
      "--------------------------------------------------\n",
      "oldukça kelimesi 1 defa geçiyor....\n",
      "--------------------------------------------------\n",
      "zorlanır kelimesi 1 defa geçiyor....\n",
      "--------------------------------------------------\n",
      "fakültesini kelimesi 1 defa geçiyor....\n",
      "--------------------------------------------------\n",
      "bırakmak kelimesi 1 defa geçiyor....\n",
      "--------------------------------------------------\n",
      "zorunda kelimesi 1 defa geçiyor....\n",
      "--------------------------------------------------\n",
      "kalır kelimesi 1 defa geçiyor....\n",
      "--------------------------------------------------\n",
      "Yaşadığı kelimesi 1 defa geçiyor....\n",
      "--------------------------------------------------\n",
      "hayat kelimesi 1 defa geçiyor....\n",
      "--------------------------------------------------\n",
      "iç kelimesi 3 defa geçiyor....\n",
      "--------------------------------------------------\n",
      "dünyasında kelimesi 1 defa geçiyor....\n",
      "--------------------------------------------------\n",
      "kalıcı kelimesi 1 defa geçiyor....\n",
      "--------------------------------------------------\n",
      "zararlar kelimesi 1 defa geçiyor....\n",
      "--------------------------------------------------\n",
      "vermeye kelimesi 1 defa geçiyor....\n",
      "--------------------------------------------------\n",
      "başlar kelimesi 2 defa geçiyor....\n",
      "--------------------------------------------------\n",
      "kendi kelimesi 1 defa geçiyor....\n",
      "--------------------------------------------------\n",
      "içinde kelimesi 1 defa geçiyor....\n",
      "--------------------------------------------------\n",
      "çelişkiye kelimesi 1 defa geçiyor....\n",
      "--------------------------------------------------\n",
      "düşmeye kelimesi 1 defa geçiyor....\n",
      "--------------------------------------------------\n",
      "Okumak kelimesi 1 defa geçiyor....\n",
      "--------------------------------------------------\n",
      "geldiği kelimesi 1 defa geçiyor....\n",
      "--------------------------------------------------\n",
      "kirasını kelimesi 1 defa geçiyor....\n",
      "--------------------------------------------------\n",
      "ödeyemez kelimesi 1 defa geçiyor....\n",
      "--------------------------------------------------\n",
      "Yakınlarda kelimesi 1 defa geçiyor....\n",
      "--------------------------------------------------\n",
      "bulunan kelimesi 1 defa geçiyor....\n",
      "--------------------------------------------------\n",
      "hiç kelimesi 1 defa geçiyor....\n",
      "--------------------------------------------------\n",
      "kimsenin kelimesi 1 defa geçiyor....\n",
      "--------------------------------------------------\n",
      "sevmediği kelimesi 1 defa geçiyor....\n",
      "--------------------------------------------------\n",
      "tefeci kelimesi 2 defa geçiyor....\n",
      "--------------------------------------------------\n",
      "kadına kelimesi 1 defa geçiyor....\n",
      "--------------------------------------------------\n",
      "giderek kelimesi 1 defa geçiyor....\n",
      "--------------------------------------------------\n",
      "saatini kelimesi 1 defa geçiyor....\n",
      "--------------------------------------------------\n",
      "satar kelimesi 1 defa geçiyor....\n",
      "--------------------------------------------------\n",
      "Karşılığında kelimesi 1 defa geçiyor....\n",
      "--------------------------------------------------\n",
      "aldığı kelimesi 1 defa geçiyor....\n",
      "--------------------------------------------------\n",
      "para kelimesi 1 defa geçiyor....\n",
      "--------------------------------------------------\n",
      "ile kelimesi 2 defa geçiyor....\n",
      "--------------------------------------------------\n",
      "de kelimesi 2 defa geçiyor....\n",
      "--------------------------------------------------\n",
      "meyhaneye kelimesi 1 defa geçiyor....\n",
      "--------------------------------------------------\n",
      "gider kelimesi 3 defa geçiyor....\n",
      "--------------------------------------------------\n",
      "Bir kelimesi 2 defa geçiyor....\n",
      "--------------------------------------------------\n",
      "taraftan kelimesi 2 defa geçiyor....\n",
      "--------------------------------------------------\n",
      "içerken kelimesi 1 defa geçiyor....\n",
      "--------------------------------------------------\n",
      "diğer kelimesi 1 defa geçiyor....\n",
      "--------------------------------------------------\n",
      "meyhanedeki kelimesi 1 defa geçiyor....\n",
      "--------------------------------------------------\n",
      "insanların kelimesi 1 defa geçiyor....\n",
      "--------------------------------------------------\n",
      "hayatları kelimesi 1 defa geçiyor....\n",
      "--------------------------------------------------\n",
      "içini kelimesi 1 defa geçiyor....\n",
      "--------------------------------------------------\n",
      "da kelimesi 5 defa geçiyor....\n",
      "--------------------------------------------------\n",
      "karartır kelimesi 1 defa geçiyor....\n",
      "--------------------------------------------------\n",
      "Fakirler kelimesi 1 defa geçiyor....\n",
      "--------------------------------------------------\n",
      "zenginler kelimesi 1 defa geçiyor....\n",
      "--------------------------------------------------\n",
      "arasında kelimesi 1 defa geçiyor....\n",
      "--------------------------------------------------\n",
      "acımasız kelimesi 1 defa geçiyor....\n",
      "--------------------------------------------------\n",
      "ayrıma kelimesi 1 defa geçiyor....\n",
      "--------------------------------------------------\n",
      "anlam kelimesi 1 defa geçiyor....\n",
      "--------------------------------------------------\n",
      "veremez kelimesi 1 defa geçiyor....\n",
      "--------------------------------------------------\n",
      "içindeki kelimesi 2 defa geçiyor....\n",
      "--------------------------------------------------\n",
      "çatışmalara kelimesi 1 defa geçiyor....\n",
      "--------------------------------------------------\n",
      "fazla kelimesi 2 defa geçiyor....\n",
      "--------------------------------------------------\n",
      "dayanamaz kelimesi 2 defa geçiyor....\n",
      "--------------------------------------------------\n",
      "şeytana kelimesi 1 defa geçiyor....\n",
      "--------------------------------------------------\n",
      "kulak kelimesi 1 defa geçiyor....\n",
      "--------------------------------------------------\n",
      "verek kelimesi 1 defa geçiyor....\n",
      "--------------------------------------------------\n",
      "eline kelimesi 1 defa geçiyor....\n",
      "--------------------------------------------------\n",
      "balta kelimesi 1 defa geçiyor....\n",
      "--------------------------------------------------\n",
      "alarak kelimesi 2 defa geçiyor....\n",
      "--------------------------------------------------\n",
      "kadının kelimesi 4 defa geçiyor....\n",
      "--------------------------------------------------\n",
      "evine kelimesi 1 defa geçiyor....\n",
      "--------------------------------------------------\n",
      "Baltayı kelimesi 1 defa geçiyor....\n",
      "--------------------------------------------------\n",
      "kafasına kelimesi 1 defa geçiyor....\n",
      "--------------------------------------------------\n",
      "indirerek kelimesi 1 defa geçiyor....\n",
      "--------------------------------------------------\n",
      "onu kelimesi 3 defa geçiyor....\n",
      "--------------------------------------------------\n",
      "orada kelimesi 1 defa geçiyor....\n",
      "--------------------------------------------------\n",
      "öldürür kelimesi 2 defa geçiyor....\n",
      "--------------------------------------------------\n",
      "Tam kelimesi 1 defa geçiyor....\n",
      "--------------------------------------------------\n",
      "bu kelimesi 2 defa geçiyor....\n",
      "--------------------------------------------------\n",
      "sırada kelimesi 1 defa geçiyor....\n",
      "--------------------------------------------------\n",
      "yaşlı kelimesi 1 defa geçiyor....\n",
      "--------------------------------------------------\n",
      "kız kelimesi 1 defa geçiyor....\n",
      "--------------------------------------------------\n",
      "kardeşi kelimesi 1 defa geçiyor....\n",
      "--------------------------------------------------\n",
      "gelir kelimesi 1 defa geçiyor....\n",
      "--------------------------------------------------\n",
      "anda kelimesi 1 defa geçiyor....\n",
      "--------------------------------------------------\n",
      "Tefeci kelimesi 1 defa geçiyor....\n",
      "--------------------------------------------------\n",
      "kötülüğünün kelimesi 1 defa geçiyor....\n",
      "--------------------------------------------------\n",
      "yanında kelimesi 1 defa geçiyor....\n",
      "--------------------------------------------------\n",
      "masumun kelimesi 1 defa geçiyor....\n",
      "--------------------------------------------------\n",
      "ölmesi kelimesi 1 defa geçiyor....\n",
      "--------------------------------------------------\n",
      "pek kelimesi 1 defa geçiyor....\n",
      "--------------------------------------------------\n",
      "önemli kelimesi 1 defa geçiyor....\n",
      "--------------------------------------------------\n",
      "değildir kelimesi 1 defa geçiyor....\n",
      "--------------------------------------------------\n",
      "Ne kelimesi 1 defa geçiyor....\n",
      "--------------------------------------------------\n",
      "yapacağını kelimesi 1 defa geçiyor....\n",
      "--------------------------------------------------\n",
      "bilmeden kelimesi 1 defa geçiyor....\n",
      "--------------------------------------------------\n",
      "birkaç kelimesi 1 defa geçiyor....\n",
      "--------------------------------------------------\n",
      "altını kelimesi 1 defa geçiyor....\n",
      "--------------------------------------------------\n",
      "oradan kelimesi 1 defa geçiyor....\n",
      "--------------------------------------------------\n",
      "uzaklaştı kelimesi 1 defa geçiyor....\n",
      "--------------------------------------------------\n",
      "İşlediği kelimesi 1 defa geçiyor....\n",
      "--------------------------------------------------\n",
      "cinayet kelimesi 1 defa geçiyor....\n",
      "--------------------------------------------------\n",
      "sonrası kelimesi 1 defa geçiyor....\n",
      "--------------------------------------------------\n",
      "Raskolnikov’un kelimesi 2 defa geçiyor....\n",
      "--------------------------------------------------\n",
      "durumu kelimesi 1 defa geçiyor....\n",
      "--------------------------------------------------\n",
      "kötüye kelimesi 3 defa geçiyor....\n",
      "--------------------------------------------------\n",
      "zamanlar kelimesi 1 defa geçiyor....\n",
      "--------------------------------------------------\n",
      "çelişkiler kelimesi 1 defa geçiyor....\n",
      "--------------------------------------------------\n",
      "yaşamasına kelimesi 1 defa geçiyor....\n",
      "--------------------------------------------------\n",
      "neden kelimesi 1 defa geçiyor....\n",
      "--------------------------------------------------\n",
      "şeytan kelimesi 1 defa geçiyor....\n",
      "--------------------------------------------------\n",
      "ortadan kelimesi 1 defa geçiyor....\n",
      "--------------------------------------------------\n",
      "kaybolmuş kelimesi 1 defa geçiyor....\n",
      "--------------------------------------------------\n",
      "fakat kelimesi 1 defa geçiyor....\n",
      "--------------------------------------------------\n",
      "ondan kelimesi 1 defa geçiyor....\n",
      "--------------------------------------------------\n",
      "kötü kelimesi 1 defa geçiyor....\n",
      "--------------------------------------------------\n",
      "vicdan kelimesi 1 defa geçiyor....\n",
      "--------------------------------------------------\n",
      "azabı kelimesi 1 defa geçiyor....\n",
      "--------------------------------------------------\n",
      "gelmiştir kelimesi 1 defa geçiyor....\n",
      "--------------------------------------------------\n",
      "Duyduğu kelimesi 1 defa geçiyor....\n",
      "--------------------------------------------------\n",
      "pişmanlıklar kelimesi 1 defa geçiyor....\n",
      "--------------------------------------------------\n",
      "çekişmeler kelimesi 1 defa geçiyor....\n",
      "--------------------------------------------------\n",
      "Raskolnikov’u kelimesi 1 defa geçiyor....\n",
      "--------------------------------------------------\n",
      "iyice kelimesi 1 defa geçiyor....\n",
      "--------------------------------------------------\n",
      "bitkin kelimesi 1 defa geçiyor....\n",
      "--------------------------------------------------\n",
      "düşürür kelimesi 1 defa geçiyor....\n",
      "--------------------------------------------------\n",
      "hastalanır kelimesi 1 defa geçiyor....\n",
      "--------------------------------------------------\n",
      "İmdadına kelimesi 1 defa geçiyor....\n",
      "--------------------------------------------------\n",
      "en kelimesi 2 defa geçiyor....\n",
      "--------------------------------------------------\n",
      "yakın kelimesi 1 defa geçiyor....\n",
      "--------------------------------------------------\n",
      "arkadaşı kelimesi 1 defa geçiyor....\n",
      "--------------------------------------------------\n",
      "Razumikin kelimesi 1 defa geçiyor....\n",
      "--------------------------------------------------\n",
      "yetişir kelimesi 1 defa geçiyor....\n",
      "--------------------------------------------------\n",
      "Ona kelimesi 1 defa geçiyor....\n",
      "--------------------------------------------------\n",
      "destek kelimesi 1 defa geçiyor....\n",
      "--------------------------------------------------\n",
      "olur kelimesi 2 defa geçiyor....\n",
      "--------------------------------------------------\n",
      "doktor kelimesi 1 defa geçiyor....\n",
      "--------------------------------------------------\n",
      "bulur kelimesi 1 defa geçiyor....\n",
      "--------------------------------------------------\n",
      "elinden kelimesi 1 defa geçiyor....\n",
      "--------------------------------------------------\n",
      "gelen kelimesi 1 defa geçiyor....\n",
      "--------------------------------------------------\n",
      "her kelimesi 1 defa geçiyor....\n",
      "--------------------------------------------------\n",
      "şeyi kelimesi 1 defa geçiyor....\n",
      "--------------------------------------------------\n",
      "yapar kelimesi 1 defa geçiyor....\n",
      "--------------------------------------------------\n",
      "giden kelimesi 1 defa geçiyor....\n",
      "--------------------------------------------------\n",
      "durumuna kelimesi 1 defa geçiyor....\n",
      "--------------------------------------------------\n",
      "şüphecilik kelimesi 1 defa geçiyor....\n",
      "--------------------------------------------------\n",
      "korku kelimesi 1 defa geçiyor....\n",
      "--------------------------------------------------\n",
      "eklenir kelimesi 1 defa geçiyor....\n",
      "--------------------------------------------------\n",
      "Sürekli kelimesi 1 defa geçiyor....\n",
      "--------------------------------------------------\n",
      "birilerinin kelimesi 2 defa geçiyor....\n",
      "--------------------------------------------------\n",
      "izlediğini kelimesi 1 defa geçiyor....\n",
      "--------------------------------------------------\n",
      "düşünür kelimesi 2 defa geçiyor....\n",
      "--------------------------------------------------\n",
      "Cinayeti kelimesi 1 defa geçiyor....\n",
      "--------------------------------------------------\n",
      "gördüğü kelimesi 1 defa geçiyor....\n",
      "--------------------------------------------------\n",
      "yada kelimesi 1 defa geçiyor....\n",
      "--------------------------------------------------\n",
      "azından kelimesi 1 defa geçiyor....\n",
      "--------------------------------------------------\n",
      "onun kelimesi 2 defa geçiyor....\n",
      "--------------------------------------------------\n",
      "yaptığını kelimesi 1 defa geçiyor....\n",
      "--------------------------------------------------\n",
      "bildiğini kelimesi 1 defa geçiyor....\n",
      "--------------------------------------------------\n",
      "Bu kelimesi 1 defa geçiyor....\n",
      "--------------------------------------------------\n",
      "tedirginlik kelimesi 1 defa geçiyor....\n",
      "--------------------------------------------------\n",
      "durumunu kelimesi 1 defa geçiyor....\n",
      "--------------------------------------------------\n",
      "sürükler kelimesi 1 defa geçiyor....\n",
      "--------------------------------------------------\n",
      "duruma kelimesi 1 defa geçiyor....\n",
      "--------------------------------------------------\n",
      "işlediği kelimesi 1 defa geçiyor....\n",
      "--------------------------------------------------\n",
      "cinayeti kelimesi 1 defa geçiyor....\n",
      "--------------------------------------------------\n",
      "Sonya’ya kelimesi 1 defa geçiyor....\n",
      "--------------------------------------------------\n",
      "anlatır kelimesi 1 defa geçiyor....\n",
      "--------------------------------------------------\n",
      "Ardından kelimesi 1 defa geçiyor....\n",
      "--------------------------------------------------\n",
      "polise kelimesi 1 defa geçiyor....\n",
      "--------------------------------------------------\n",
      "teslim kelimesi 1 defa geçiyor....\n",
      "--------------------------------------------------\n",
      "cezasını kelimesi 1 defa geçiyor....\n",
      "--------------------------------------------------\n",
      "çekmek kelimesi 1 defa geçiyor....\n",
      "--------------------------------------------------\n",
      "üzere kelimesi 1 defa geçiyor....\n",
      "--------------------------------------------------\n",
      "hapse kelimesi 1 defa geçiyor....\n",
      "--------------------------------------------------\n",
      "gönderilir kelimesi 1 defa geçiyor....\n",
      "--------------------------------------------------\n"
     ]
    }
   ],
   "source": [
    "\n",
    "class Dosya():\n",
    "\n",
    "    def __init__(self):\n",
    "\n",
    "        with open(\"metin.txt\",\"r\",encoding=\"utf-8\") as file:\n",
    "\n",
    "            dosya_icerigi = file.read()\n",
    "\n",
    "            kelimeler = dosya_icerigi.split()\n",
    "            self.sade_kelimeler = list()\n",
    "\n",
    "            for i in kelimeler:\n",
    "                i = i.strip(\"\\n\")\n",
    "\n",
    "                i = i.strip(\" \")\n",
    "                i = i.strip(\".\")\n",
    "                i = i.strip(\",\")\n",
    "\n",
    "                self.sade_kelimeler.append(i)\n",
    "    def tum_kelimeler(self):\n",
    "\n",
    "        kelimeler_kümesi = set()\n",
    "\n",
    "        for i in self.sade_kelimeler:\n",
    "            kelimeler_kümesi.add(i)\n",
    "\n",
    "        print(\"Tüm kelimeler........\")\n",
    "\n",
    "        for i in kelimeler_kümesi:\n",
    "\n",
    "            print(i)\n",
    "\n",
    "            print(\"********************************\")\n",
    "\n",
    "\n",
    "    def kelime_frekansı(self):\n",
    "\n",
    "        kelime_sözlük = dict()\n",
    "\n",
    "\n",
    "        for i in self.sade_kelimeler:\n",
    "\n",
    "            if (i in kelime_sözlük):\n",
    "                kelime_sözlük[i] += 1\n",
    "\n",
    "            else:\n",
    "                kelime_sözlük[i] = 1\n",
    "\n",
    "        for kelime,sayı in kelime_sözlük.items():\n",
    "\n",
    "            print(\"{} kelimesi {} defa geçiyor....\".format(kelime,sayı))\n",
    "\n",
    "            print(\"--------------------------------------------------\")\n",
    "\n",
    "\n",
    "\n",
    "\n",
    "\n",
    "\n",
    "dosya = Dosya()\n",
    "\n",
    "dosya.kelime_frekansı()\n",
    "\n"
   ]
  },
  {
   "cell_type": "markdown",
   "metadata": {},
   "source": [
    "## Problem 1\n",
    "Elinizde uzunca bir string olsun.\n",
    "\n",
    "            \"ProgramlamaÖdeviİleriSeviyeVeriYapılarıveObjeleripynb\"\n",
    "\n",
    "\n",
    "Bu string içindeki harflerin frekansını (bir harfin kaç defa geçtiği) bulmaya çalışın.\n",
    "\n",
    "İpucu : Kodlama egzersizimizde buna çok benzer bir şey yapmıştık."
   ]
  },
  {
   "cell_type": "code",
   "execution_count": 99,
   "metadata": {},
   "outputs": [
    {
     "name": "stdout",
     "output_type": "stream",
     "text": [
      "P : 1\n",
      "r : 6\n",
      "o : 1\n",
      "g : 1\n",
      "a : 5\n",
      "m : 2\n",
      "l : 4\n",
      "Ö : 1\n",
      "d : 1\n",
      "e : 8\n",
      "v : 3\n",
      "i : 5\n",
      "İ : 1\n",
      "S : 1\n",
      "y : 2\n",
      "V : 1\n",
      "Y : 1\n",
      "p : 2\n",
      "ı : 2\n",
      "O : 1\n",
      "b : 2\n",
      "j : 1\n",
      "n : 1\n"
     ]
    }
   ],
   "source": [
    "s =  \"ProgramlamaÖdeviİleriSeviyeVeriYapılarıveObjeleripynb\"\n",
    "\n",
    "frekans = {}\n",
    "\n",
    "for harf in s:\n",
    "    if harf in frekans:\n",
    "        frekans[harf] += 1\n",
    "    else:\n",
    "        frekans[harf] = 1\n",
    "for i,j in frekans.items():\n",
    "    print(i,\":\",j)\n",
    "    "
   ]
  },
  {
   "cell_type": "markdown",
   "metadata": {},
   "source": [
    "## Problem 2\n",
    "\"şiir.txt\" şeklinde bir dosya oluşturun ve içinde şu satırlar yer alsın.\n",
    "\n",
    "                    Memlekete sis çökmüş bir gece \n",
    "                    Usulca yanağıma sen düşüyorsun\n",
    "                    Sabah saat dokuzu beş geçe\n",
    "                    Terk edip bizleri gidiyorsun\n",
    "                    Ayrılık bu kadar yakmamıştı içimizi\n",
    "                    Farkında mısın bilmiyorum\n",
    "                    Aldın beraberinde cumhuriyetimizi\n",
    "                    Korkunç bir veda, sararmıştı her yer\n",
    "                    Ellerini uzat tutmak istiyoruz\n",
    "                    Masmavi gözleri kaybetmiş çocuk\n",
    "                    Aldı bir sabah ruhumuzu\n",
    "                    Lakin nasıl bölmesin yokluğun uykumuzu\n",
    "\n",
    "Bu dosyanın herbir satırını okuyun. Satırların baş harflerini birbirine ekleyerek bir string oluşturun ve bu string'i ekrana yazdırın."
   ]
  },
  {
   "cell_type": "code",
   "execution_count": 103,
   "metadata": {},
   "outputs": [],
   "source": [
    "file = open(\"şiir.txt\",\"w\",encoding = \"utf-8\")\n",
    "file.write(\"Memlekete sis çökmüş bir gece\\nUsulca yanağıma sen düşüyorsun\\nSabah saat dokuzu beş geçe\\nTerk edip bizleri gidiyorsun\\nAyrılık bu kadar yakmamıştı içimizi\\nFarkında mısın bilmiyorum\\nAldın beraberinde cumhuriyetimizi\\nKorkunç bir veda, sararmıştı her yer\\nEllerini uzat tutmak istiyoruz\\nMasmavi gözleri kaybetmiş çocuk\\nAldı bir sabah ruhumuzu\\nLakin nasıl bölmesin yokluğun uykumuzu\") \n",
    "file.close()           \n",
    "            \n",
    "            \n",
    "            \n",
    "            \n",
    "            \n",
    "            \n",
    "            \n",
    "            \n",
    "            \n",
    "            \n"
   ]
  },
  {
   "cell_type": "code",
   "execution_count": 121,
   "metadata": {},
   "outputs": [
    {
     "name": "stdout",
     "output_type": "stream",
     "text": [
      " MUSTAFAKEMAL\n"
     ]
    }
   ],
   "source": [
    "with open(\"şiir.txt\",\"r\",encoding = \"utf-8\") as file:\n",
    "    satır = file.readlines()\n",
    "    satır1 = []\n",
    "    ns = \" \"\n",
    "    for i in satır:\n",
    "        i = i.strip(\"\\n\")\n",
    "        satır1.append(i)\n",
    "    for i in satır1:\n",
    "        ns += i[0]\n",
    "    print(ns)"
   ]
  },
  {
   "cell_type": "markdown",
   "metadata": {},
   "source": [
    "## Problem 3\n",
    "Elinizde \"mailler.txt\" adında , maillerin ve bazı yazıların bulunduğu bir dosya olsun. Bu dosyanın her bir satırını okuyun ve sadece mail formatına uygun olanları ekrana yazdırın.\n",
    "\n",
    "                    coskun.m.murat@gmail.com\n",
    "                    example@xyz.com\n",
    "                    mustafa.com\n",
    "                    mustafa@gmail\n",
    "                    kerim@yahoo.com\n",
    "\n",
    "                           //\n",
    "                           //\n",
    "                           //\n",
    "\n",
    "\n",
    "İpucu: Stringlerde bulunan endswith ve find metodlarını kullanabilirsiniz."
   ]
  },
  {
   "cell_type": "code",
   "execution_count": 122,
   "metadata": {},
   "outputs": [
    {
     "name": "stdout",
     "output_type": "stream",
     "text": [
      "coskun.m.murat@gmail.com\n",
      "example@xyz.com\n",
      "mustafa.com\n",
      "mustafa@gmail\n",
      "kerim@yahoo.com\n",
      "\n"
     ]
    }
   ],
   "source": [
    "with open(\"mailler.txt\",\"r\",encoding = \"utf-8\") as file:\n",
    "    print(file.read())\n"
   ]
  },
  {
   "cell_type": "code",
   "execution_count": 6,
   "metadata": {},
   "outputs": [
    {
     "name": "stdout",
     "output_type": "stream",
     "text": [
      "coskun.m.murat@gmail.com\n",
      "example@xyz.com\n",
      "kerim@yahoo.com\n"
     ]
    }
   ],
   "source": [
    "with open(\"mailler.txt\",\"r\",encoding = \"utf-8\") as file:\n",
    "    content = file.readlines()\n",
    "    \n",
    "    for i in content:\n",
    "        i = i.strip(\"\\n\")\n",
    "        \n",
    "        if i.endswith(\".com\") and \"@\" in i:\n",
    "            print(i)\n",
    "        "
   ]
  },
  {
   "cell_type": "code",
   "execution_count": 7,
   "metadata": {},
   "outputs": [
    {
     "name": "stdout",
     "output_type": "stream",
     "text": [
      "coskun.m.murat@gmail.com\n",
      "example@xyz.com\n",
      "kerim@yahoo.com\n"
     ]
    }
   ],
   "source": [
    "with open(\"mailler.txt\",\"r\",encoding = \"utf-8\") as file:\n",
    "    content = file.readlines()\n",
    "    \n",
    "    for i in content:\n",
    "        i = i.strip(\"\\n\")\n",
    "        \n",
    "        if i.endswith(\".com\") and i.find(\"@\") != -1:\n",
    "            print(i)"
   ]
  },
  {
   "cell_type": "code",
   "execution_count": 8,
   "metadata": {},
   "outputs": [
    {
     "name": "stdout",
     "output_type": "stream",
     "text": [
      "coskun.m.murat@gmail.com\n",
      "example@xyz.com\n",
      "kerim@yahoo.com\n"
     ]
    }
   ],
   "source": [
    "with open(\"mailler.txt\",\"r\",encoding = \"utf-8\") as file:\n",
    "    content = file.readlines()\n",
    "    \n",
    "    for i in content:\n",
    "        i = i[:-1]\n",
    "        \n",
    "        if i.endswith(\".com\") and i.find(\"@\") != -1:\n",
    "            print(i)"
   ]
  },
  {
   "cell_type": "markdown",
   "metadata": {},
   "source": [
    "## Problem 4\n",
    "Elinizde 2 tane liste bulunsun. Bu listelerden isim ve soyisimleri birleştirerek , ekrana isim ve soyisimleri isimlere göre sıralı bir şekilde yazdırmaya çalışın.\n",
    "\n",
    "        isim -----> [\"Kerim\",\"Tarık\",\"Ezgi\",\"Kemal\",\"İlkay\",\"Şükran\",\"Merve\"]\n",
    "\n",
    "        soyisim ------> [\"Yılmaz\",\"Öztürk\",\"Dağdeviren\",\"Atatürk\",\"Dikmen\",\"Kaya\",\"Polat\"]"
   ]
  },
  {
   "cell_type": "code",
   "execution_count": 9,
   "metadata": {},
   "outputs": [],
   "source": [
    "isim = [\"Kerim\",\"Tarık\",\"Ezgi\",\"Kemal\",\"İlkay\",\"Şükran\",\"Merve\"]\n",
    "soyisim = [\"Yılmaz\",\"Öztürk\",\"Dağdeviren\",\"Atatürk\",\"Dikmen\",\"Kaya\",\"Polat\"]\n",
    "\n"
   ]
  },
  {
   "cell_type": "code",
   "execution_count": 26,
   "metadata": {},
   "outputs": [
    {
     "name": "stdout",
     "output_type": "stream",
     "text": [
      "Ezgi Dağdeviren\n",
      "Kemal Atatürk\n",
      "Kerim Yılmaz\n",
      "Merve Polat\n",
      "Tarık Öztürk\n",
      "İlkay Dikmen\n",
      "Şükran Kaya\n"
     ]
    }
   ],
   "source": [
    "liste = list(zip(isim,soyisim))\n",
    "liste.sort()\n",
    "for i,j in liste:\n",
    "    print(i,j)\n",
    "        \n",
    "   "
   ]
  },
  {
   "cell_type": "code",
   "execution_count": 22,
   "metadata": {},
   "outputs": [],
   "source": [
    "x = 0.2"
   ]
  },
  {
   "cell_type": "code",
   "execution_count": 23,
   "metadata": {},
   "outputs": [
    {
     "data": {
      "text/plain": [
       "float"
      ]
     },
     "execution_count": 23,
     "metadata": {},
     "output_type": "execute_result"
    }
   ],
   "source": [
    "type(x)"
   ]
  },
  {
   "cell_type": "code",
   "execution_count": 25,
   "metadata": {},
   "outputs": [
    {
     "name": "stdout",
     "output_type": "stream",
     "text": [
      "0\n",
      "1\n",
      "2\n",
      "3\n",
      "4\n"
     ]
    }
   ],
   "source": [
    "for i in range(5):\n",
    "    print(i)"
   ]
  },
  {
   "cell_type": "code",
   "execution_count": 26,
   "metadata": {},
   "outputs": [
    {
     "ename": "SyntaxError",
     "evalue": "cannot assign to operator (Temp/ipykernel_9140/4193070393.py, line 1)",
     "output_type": "error",
     "traceback": [
      "\u001b[1;36m  File \u001b[1;32m\"C:\\Users\\ADMCN_~1\\AppData\\Local\\Temp/ipykernel_9140/4193070393.py\"\u001b[1;36m, line \u001b[1;32m1\u001b[0m\n\u001b[1;33m    my-file = 5\u001b[0m\n\u001b[1;37m    ^\u001b[0m\n\u001b[1;31mSyntaxError\u001b[0m\u001b[1;31m:\u001b[0m cannot assign to operator\n"
     ]
    }
   ],
   "source": [
    "my-file = 5"
   ]
  },
  {
   "cell_type": "code",
   "execution_count": null,
   "metadata": {},
   "outputs": [],
   "source": []
  }
 ],
 "metadata": {
  "kernelspec": {
   "display_name": "Python 3 (ipykernel)",
   "language": "python",
   "name": "python3"
  },
  "language_info": {
   "codemirror_mode": {
    "name": "ipython",
    "version": 3
   },
   "file_extension": ".py",
   "mimetype": "text/x-python",
   "name": "python",
   "nbconvert_exporter": "python",
   "pygments_lexer": "ipython3",
   "version": "3.9.7"
  }
 },
 "nbformat": 4,
 "nbformat_minor": 4
}
