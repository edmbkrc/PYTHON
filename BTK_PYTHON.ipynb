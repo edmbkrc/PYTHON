{
 "cells": [
  {
   "cell_type": "code",
   "execution_count": 26,
   "id": "e5c190f3",
   "metadata": {},
   "outputs": [
    {
     "name": "stdout",
     "output_type": "stream",
     "text": [
      "enter the radius: 4\n",
      "circle's area: 50.24\n",
      "circle's perimeter: 25.12 \n"
     ]
    }
   ],
   "source": [
    "p = 3.14\n",
    "r = float(input(\"enter the radius: \"))\n",
    "\n",
    "area = p * (r**2)\n",
    "perimeter = 2 * p * r\n",
    "\n",
    "\n",
    "print (\"circle's area: {}\\ncircle's perimeter: {} \".format(area,perimeter))\n",
    "#print (\"circle's area:\"+str(area)+\" \"+\"circle's perimeter:\"+str(perimeter))\n"
   ]
  },
  {
   "cell_type": "code",
   "execution_count": 55,
   "id": "7cc1cf9c",
   "metadata": {},
   "outputs": [
    {
     "name": "stdout",
     "output_type": "stream",
     "text": [
      "my name is adem bakırcı and\n",
      "I am 31 years old.\n"
     ]
    }
   ],
   "source": [
    "name = \"adem\"\n",
    "surname = \"bakırcı\"\n",
    "age = \"31\"\n",
    "\n",
    "#print(\"my name is \"+ name +\"\\nmy surname is \"+ surname+\"\\nI am \"+age+\" years old\")\n",
    "#print(\"my name is\",name,\"my surname is\",surname,\"I am\",age,\"years old\")\n",
    "#print(\"my name is\",name,\"\\nmy surname is\",surname,\"\\nI am\",age,\"years old\")\n",
    "#print(\"my name is {} {} and I am {} years old.\".format(name,surname,age))\n",
    "#greeting = \"my name is {} {} and I am {} years old.\".format(name,surname,age)\n",
    "#print(greeting)\n",
    "#print(f\"my name is {name} {surname} and I am {age} years old.\")\n",
    "print(f\"my name is {name} {surname} and\\nI am {age} years old.\")"
   ]
  },
  {
   "cell_type": "code",
   "execution_count": 52,
   "id": "db255095",
   "metadata": {},
   "outputs": [
    {
     "name": "stdout",
     "output_type": "stream",
     "text": [
      "the result is: 0.2857\n"
     ]
    }
   ],
   "source": [
    "result = 200 / 700\n",
    "print(\"the result is: {r:1.4}\".format(r = result))"
   ]
  },
  {
   "cell_type": "code",
   "execution_count": 53,
   "id": "25da623c",
   "metadata": {},
   "outputs": [
    {
     "name": "stdout",
     "output_type": "stream",
     "text": [
      "the result is:     0.2857\n"
     ]
    }
   ],
   "source": [
    "result = 200 / 700\n",
    "print(\"the result is: {r:10.4}\".format(r = result))"
   ]
  },
  {
   "cell_type": "code",
   "execution_count": 58,
   "id": "dc4e390a",
   "metadata": {},
   "outputs": [
    {
     "data": {
      "text/plain": [
       "'12345'"
      ]
     },
     "execution_count": 58,
     "metadata": {},
     "output_type": "execute_result"
    }
   ],
   "source": [
    "x = \"12345\"\n",
    "x[::]"
   ]
  },
  {
   "cell_type": "code",
   "execution_count": 59,
   "id": "d8944444",
   "metadata": {},
   "outputs": [
    {
     "data": {
      "text/plain": [
       "'12345'"
      ]
     },
     "execution_count": 59,
     "metadata": {},
     "output_type": "execute_result"
    }
   ],
   "source": [
    "x = \"12345\"\n",
    "x[::1]"
   ]
  },
  {
   "cell_type": "code",
   "execution_count": 60,
   "id": "0c71568e",
   "metadata": {},
   "outputs": [
    {
     "data": {
      "text/plain": [
       "'1'"
      ]
     },
     "execution_count": 60,
     "metadata": {},
     "output_type": "execute_result"
    }
   ],
   "source": [
    "x = \"12345\"\n",
    "x[::5]"
   ]
  },
  {
   "cell_type": "code",
   "execution_count": 64,
   "id": "8a805c8d",
   "metadata": {},
   "outputs": [
    {
     "data": {
      "text/plain": [
       "'hello World'"
      ]
     },
     "execution_count": 64,
     "metadata": {},
     "output_type": "execute_result"
    }
   ],
   "source": [
    "s= \"hello world\"# küçük olan w harfini büyükle değiştirelim.\n",
    "#s[6] = \"W\" strings can not change \n",
    "s = s[:6]+\"W\"+s[-4:]\n",
    "s"
   ]
  },
  {
   "cell_type": "code",
   "execution_count": 65,
   "id": "919c3464",
   "metadata": {},
   "outputs": [
    {
     "data": {
      "text/plain": [
       "'hello World'"
      ]
     },
     "execution_count": 65,
     "metadata": {},
     "output_type": "execute_result"
    }
   ],
   "source": [
    "# YA DA\n",
    "s= \"hello world\"\n",
    "s.replace(\"w\",\"W\")"
   ]
  },
  {
   "cell_type": "code",
   "execution_count": 66,
   "id": "43f58d5c",
   "metadata": {},
   "outputs": [
    {
     "data": {
      "text/plain": [
       "'HELLO DEAR, MY NAME IS ADEM'"
      ]
     },
     "execution_count": 66,
     "metadata": {},
     "output_type": "execute_result"
    }
   ],
   "source": [
    "message = \"hello dear, my name is Adem\"\n",
    "message.upper()"
   ]
  },
  {
   "cell_type": "code",
   "execution_count": 69,
   "id": "7eb3abb0",
   "metadata": {},
   "outputs": [
    {
     "data": {
      "text/plain": [
       "'hello dear, my name is Adem'"
      ]
     },
     "execution_count": 69,
     "metadata": {},
     "output_type": "execute_result"
    }
   ],
   "source": [
    "message"
   ]
  },
  {
   "cell_type": "code",
   "execution_count": 68,
   "id": "f0a95b99",
   "metadata": {},
   "outputs": [
    {
     "name": "stdout",
     "output_type": "stream",
     "text": [
      "HELLO DEAR, MY NAME IS ADEM\n"
     ]
    }
   ],
   "source": [
    "print(message.upper())"
   ]
  },
  {
   "cell_type": "code",
   "execution_count": 70,
   "id": "332bf310",
   "metadata": {},
   "outputs": [],
   "source": [
    "message = message.upper()"
   ]
  },
  {
   "cell_type": "code",
   "execution_count": 71,
   "id": "aba65e5f",
   "metadata": {},
   "outputs": [
    {
     "data": {
      "text/plain": [
       "'HELLO DEAR, MY NAME IS ADEM'"
      ]
     },
     "execution_count": 71,
     "metadata": {},
     "output_type": "execute_result"
    }
   ],
   "source": [
    "message"
   ]
  },
  {
   "cell_type": "code",
   "execution_count": 72,
   "id": "0cd771e7",
   "metadata": {},
   "outputs": [
    {
     "data": {
      "text/plain": [
       "'hello dear, my name is adem'"
      ]
     },
     "execution_count": 72,
     "metadata": {},
     "output_type": "execute_result"
    }
   ],
   "source": [
    "message = message.lower()\n",
    "message"
   ]
  },
  {
   "cell_type": "code",
   "execution_count": 73,
   "id": "4e10abe0",
   "metadata": {},
   "outputs": [
    {
     "data": {
      "text/plain": [
       "'Hello Dear, My Name Is Adem'"
      ]
     },
     "execution_count": 73,
     "metadata": {},
     "output_type": "execute_result"
    }
   ],
   "source": [
    "message = message.title()\n",
    "message"
   ]
  },
  {
   "cell_type": "code",
   "execution_count": 74,
   "id": "6fcebd97",
   "metadata": {},
   "outputs": [
    {
     "data": {
      "text/plain": [
       "'Hello dear, my name is adem'"
      ]
     },
     "execution_count": 74,
     "metadata": {},
     "output_type": "execute_result"
    }
   ],
   "source": [
    "message = message.capitalize()\n",
    "message"
   ]
  },
  {
   "cell_type": "code",
   "execution_count": 75,
   "id": "4f1e9c12",
   "metadata": {},
   "outputs": [
    {
     "data": {
      "text/plain": [
       "'Hello dear, my name is adem'"
      ]
     },
     "execution_count": 75,
     "metadata": {},
     "output_type": "execute_result"
    }
   ],
   "source": [
    "message = message.strip()\n",
    "message"
   ]
  },
  {
   "cell_type": "code",
   "execution_count": 76,
   "id": "33c2ae24",
   "metadata": {},
   "outputs": [],
   "source": [
    "message = \"         hello dear, my name is Adem\""
   ]
  },
  {
   "cell_type": "code",
   "execution_count": 77,
   "id": "3a6b80a9",
   "metadata": {},
   "outputs": [
    {
     "data": {
      "text/plain": [
       "'hello dear, my name is Adem'"
      ]
     },
     "execution_count": 77,
     "metadata": {},
     "output_type": "execute_result"
    }
   ],
   "source": [
    "message = message.strip()\n",
    "message"
   ]
  },
  {
   "cell_type": "code",
   "execution_count": 78,
   "id": "7f247cc9",
   "metadata": {},
   "outputs": [
    {
     "data": {
      "text/plain": [
       "['hello', 'dear,', 'my', 'name', 'is', 'Adem']"
      ]
     },
     "execution_count": 78,
     "metadata": {},
     "output_type": "execute_result"
    }
   ],
   "source": [
    "message = message.split()\n",
    "message"
   ]
  },
  {
   "cell_type": "code",
   "execution_count": 82,
   "id": "7d4e2f09",
   "metadata": {},
   "outputs": [
    {
     "data": {
      "text/plain": [
       "'hello dear. my name is Adem'"
      ]
     },
     "execution_count": 82,
     "metadata": {},
     "output_type": "execute_result"
    }
   ],
   "source": [
    "message = \"hello dear. my name is Adem\"\n",
    "message"
   ]
  },
  {
   "cell_type": "code",
   "execution_count": 83,
   "id": "a98f64d9",
   "metadata": {},
   "outputs": [
    {
     "data": {
      "text/plain": [
       "['hello dear', ' my name is Adem']"
      ]
     },
     "execution_count": 83,
     "metadata": {},
     "output_type": "execute_result"
    }
   ],
   "source": [
    "message = message.split(\".\")\n",
    "message"
   ]
  },
  {
   "cell_type": "code",
   "execution_count": 87,
   "id": "27773b46",
   "metadata": {},
   "outputs": [
    {
     "data": {
      "text/plain": [
       "'hello dear. my name is Adem'"
      ]
     },
     "execution_count": 87,
     "metadata": {},
     "output_type": "execute_result"
    }
   ],
   "source": [
    "message = \"hello dear. my name is Adem\"\n",
    "message"
   ]
  },
  {
   "cell_type": "code",
   "execution_count": 88,
   "id": "e409776e",
   "metadata": {},
   "outputs": [
    {
     "data": {
      "text/plain": [
       "['hello', 'dear.', 'my', 'name', 'is', 'Adem']"
      ]
     },
     "execution_count": 88,
     "metadata": {},
     "output_type": "execute_result"
    }
   ],
   "source": [
    "message = message.split()\n",
    "message"
   ]
  },
  {
   "cell_type": "code",
   "execution_count": 91,
   "id": "2bec098f",
   "metadata": {},
   "outputs": [],
   "source": [
    "message = \" \".join(message)\n"
   ]
  },
  {
   "cell_type": "code",
   "execution_count": 92,
   "id": "94a6af82",
   "metadata": {},
   "outputs": [
    {
     "data": {
      "text/plain": [
       "'hello dear. my name is Adem'"
      ]
     },
     "execution_count": 92,
     "metadata": {},
     "output_type": "execute_result"
    }
   ],
   "source": [
    "message"
   ]
  },
  {
   "cell_type": "code",
   "execution_count": 93,
   "id": "8c1906d2",
   "metadata": {},
   "outputs": [
    {
     "data": {
      "text/plain": [
       "['hello', 'dear.', 'my', 'name', 'is', 'Adem']"
      ]
     },
     "execution_count": 93,
     "metadata": {},
     "output_type": "execute_result"
    }
   ],
   "source": [
    "message = message.split()\n",
    "message"
   ]
  },
  {
   "cell_type": "code",
   "execution_count": 94,
   "id": "6107c15e",
   "metadata": {},
   "outputs": [
    {
     "data": {
      "text/plain": [
       "'hello* dear.* my* name* is* Adem'"
      ]
     },
     "execution_count": 94,
     "metadata": {},
     "output_type": "execute_result"
    }
   ],
   "source": [
    "message = \"* \".join(message)\n",
    "message"
   ]
  },
  {
   "cell_type": "code",
   "execution_count": 96,
   "id": "570c37cc",
   "metadata": {},
   "outputs": [
    {
     "data": {
      "text/plain": [
       "'hello dear. my name is Adem'"
      ]
     },
     "execution_count": 96,
     "metadata": {},
     "output_type": "execute_result"
    }
   ],
   "source": [
    "message = \"hello dear. my name is Adem\"\n",
    "message"
   ]
  },
  {
   "cell_type": "code",
   "execution_count": 97,
   "id": "4b1e3de8",
   "metadata": {},
   "outputs": [],
   "source": [
    "message = message.split(\".\")"
   ]
  },
  {
   "cell_type": "code",
   "execution_count": 98,
   "id": "33e630c0",
   "metadata": {},
   "outputs": [
    {
     "data": {
      "text/plain": [
       "['hello dear', ' my name is Adem']"
      ]
     },
     "execution_count": 98,
     "metadata": {},
     "output_type": "execute_result"
    }
   ],
   "source": [
    "message"
   ]
  },
  {
   "cell_type": "code",
   "execution_count": 99,
   "id": "5041bdee",
   "metadata": {},
   "outputs": [
    {
     "data": {
      "text/plain": [
       "'hello dear* my name is Adem'"
      ]
     },
     "execution_count": 99,
     "metadata": {},
     "output_type": "execute_result"
    }
   ],
   "source": [
    "message = \"*\".join(message)\n",
    "message"
   ]
  },
  {
   "cell_type": "code",
   "execution_count": 100,
   "id": "baf633f8",
   "metadata": {},
   "outputs": [
    {
     "data": {
      "text/plain": [
       "23"
      ]
     },
     "execution_count": 100,
     "metadata": {},
     "output_type": "execute_result"
    }
   ],
   "source": [
    "message.find(\"Adem\")"
   ]
  },
  {
   "cell_type": "code",
   "execution_count": 102,
   "id": "fd98a770",
   "metadata": {},
   "outputs": [
    {
     "data": {
      "text/plain": [
       "-1"
      ]
     },
     "execution_count": 102,
     "metadata": {},
     "output_type": "execute_result"
    }
   ],
   "source": [
    "message.find(\"adem\")# -1 kelimenin olmadığını gösterir."
   ]
  },
  {
   "cell_type": "code",
   "execution_count": 104,
   "id": "12dd40a5",
   "metadata": {},
   "outputs": [
    {
     "data": {
      "text/plain": [
       "True"
      ]
     },
     "execution_count": 104,
     "metadata": {},
     "output_type": "execute_result"
    }
   ],
   "source": [
    "message.startswith(\"h\")"
   ]
  },
  {
   "cell_type": "code",
   "execution_count": 105,
   "id": "d659eda4",
   "metadata": {},
   "outputs": [
    {
     "data": {
      "text/plain": [
       "False"
      ]
     },
     "execution_count": 105,
     "metadata": {},
     "output_type": "execute_result"
    }
   ],
   "source": [
    "message.startswith(\"H\")"
   ]
  },
  {
   "cell_type": "code",
   "execution_count": 106,
   "id": "8f26ee57",
   "metadata": {},
   "outputs": [
    {
     "data": {
      "text/plain": [
       "True"
      ]
     },
     "execution_count": 106,
     "metadata": {},
     "output_type": "execute_result"
    }
   ],
   "source": [
    "message.endswith(\"m\")"
   ]
  },
  {
   "cell_type": "code",
   "execution_count": 107,
   "id": "98816f18",
   "metadata": {},
   "outputs": [
    {
     "data": {
      "text/plain": [
       "'hello dear* my name is Adem'"
      ]
     },
     "execution_count": 107,
     "metadata": {},
     "output_type": "execute_result"
    }
   ],
   "source": [
    "message"
   ]
  },
  {
   "cell_type": "code",
   "execution_count": 108,
   "id": "88eaca02",
   "metadata": {},
   "outputs": [
    {
     "data": {
      "text/plain": [
       "'hello_dear._my_name_is_Edm'"
      ]
     },
     "execution_count": 108,
     "metadata": {},
     "output_type": "execute_result"
    }
   ],
   "source": [
    "message.replace(\"*\",\".\").replace(\"Adem\",\"Edm\").replace(\" \",\"_\")"
   ]
  },
  {
   "cell_type": "code",
   "execution_count": 109,
   "id": "80ff544d",
   "metadata": {},
   "outputs": [
    {
     "data": {
      "text/plain": [
       "'hello dear* my name is Adem'"
      ]
     },
     "execution_count": 109,
     "metadata": {},
     "output_type": "execute_result"
    }
   ],
   "source": [
    "message"
   ]
  },
  {
   "cell_type": "code",
   "execution_count": 112,
   "id": "ea3808da",
   "metadata": {},
   "outputs": [
    {
     "data": {
      "text/plain": [
       "'                                    hello dear* my name is Adem                                     '"
      ]
     },
     "execution_count": 112,
     "metadata": {},
     "output_type": "execute_result"
    }
   ],
   "source": [
    "message.center(100)"
   ]
  },
  {
   "cell_type": "code",
   "execution_count": 113,
   "id": "0a67fa1b",
   "metadata": {},
   "outputs": [
    {
     "data": {
      "text/plain": [
       "'           hello dear* my name is Adem            '"
      ]
     },
     "execution_count": 113,
     "metadata": {},
     "output_type": "execute_result"
    }
   ],
   "source": [
    "message.center(50)"
   ]
  },
  {
   "cell_type": "code",
   "execution_count": 114,
   "id": "fd0b447a",
   "metadata": {},
   "outputs": [
    {
     "data": {
      "text/plain": [
       "'***********hello dear* my name is Adem************'"
      ]
     },
     "execution_count": 114,
     "metadata": {},
     "output_type": "execute_result"
    }
   ],
   "source": [
    "message.center(50,\"*\")"
   ]
  },
  {
   "cell_type": "code",
   "execution_count": 115,
   "id": "4abdae04",
   "metadata": {},
   "outputs": [
    {
     "data": {
      "text/plain": [
       "'####################################hello dear* my name is Adem#####################################'"
      ]
     },
     "execution_count": 115,
     "metadata": {},
     "output_type": "execute_result"
    }
   ],
   "source": [
    "message.center(100,\"#\")"
   ]
  },
  {
   "cell_type": "code",
   "execution_count": 116,
   "id": "bd4e228f",
   "metadata": {},
   "outputs": [
    {
     "data": {
      "text/plain": [
       "' Hello World '"
      ]
     },
     "execution_count": 116,
     "metadata": {},
     "output_type": "execute_result"
    }
   ],
   "source": [
    "a = \" Hello World \"\n",
    "a"
   ]
  },
  {
   "cell_type": "code",
   "execution_count": 117,
   "id": "94f2b3d3",
   "metadata": {},
   "outputs": [
    {
     "data": {
      "text/plain": [
       "'Hello World'"
      ]
     },
     "execution_count": 117,
     "metadata": {},
     "output_type": "execute_result"
    }
   ],
   "source": [
    "a.strip()"
   ]
  },
  {
   "cell_type": "code",
   "execution_count": 118,
   "id": "6daf105b",
   "metadata": {},
   "outputs": [
    {
     "data": {
      "text/plain": [
       "' Hello World '"
      ]
     },
     "execution_count": 118,
     "metadata": {},
     "output_type": "execute_result"
    }
   ],
   "source": [
    "a = \" Hello World \"\n",
    "a"
   ]
  },
  {
   "cell_type": "code",
   "execution_count": 119,
   "id": "5aecb86d",
   "metadata": {},
   "outputs": [
    {
     "data": {
      "text/plain": [
       "'Hello World '"
      ]
     },
     "execution_count": 119,
     "metadata": {},
     "output_type": "execute_result"
    }
   ],
   "source": [
    "a.lstrip()"
   ]
  },
  {
   "cell_type": "code",
   "execution_count": 120,
   "id": "dd6b37c2",
   "metadata": {},
   "outputs": [
    {
     "data": {
      "text/plain": [
       "' Hello World'"
      ]
     },
     "execution_count": 120,
     "metadata": {},
     "output_type": "execute_result"
    }
   ],
   "source": [
    "a.rstrip()"
   ]
  },
  {
   "cell_type": "code",
   "execution_count": 122,
   "id": "8d37bf98",
   "metadata": {},
   "outputs": [
    {
     "data": {
      "text/plain": [
       "'o World '"
      ]
     },
     "execution_count": 122,
     "metadata": {},
     "output_type": "execute_result"
    }
   ],
   "source": [
    "a.lstrip(\" Hell\")"
   ]
  },
  {
   "cell_type": "code",
   "execution_count": 123,
   "id": "1624bca3",
   "metadata": {},
   "outputs": [
    {
     "data": {
      "text/plain": [
       "' Hello Wo'"
      ]
     },
     "execution_count": 123,
     "metadata": {},
     "output_type": "execute_result"
    }
   ],
   "source": [
    "a.rstrip(\"rld \")"
   ]
  },
  {
   "cell_type": "code",
   "execution_count": 126,
   "id": "715b6064",
   "metadata": {},
   "outputs": [],
   "source": [
    "website = \"http://www.sadıkturan.com\"\n",
    "course = \"Python kursu: Baştan sona python programlama rehberiniz \"\n"
   ]
  },
  {
   "cell_type": "code",
   "execution_count": 127,
   "id": "2a88dbe9",
   "metadata": {},
   "outputs": [
    {
     "data": {
      "text/plain": [
       "'http://www.sadıkturan.com'"
      ]
     },
     "execution_count": 127,
     "metadata": {},
     "output_type": "execute_result"
    }
   ],
   "source": [
    "website.strip()"
   ]
  },
  {
   "cell_type": "code",
   "execution_count": 128,
   "id": "1094f251",
   "metadata": {},
   "outputs": [
    {
     "data": {
      "text/plain": [
       "'sadıkturan.com'"
      ]
     },
     "execution_count": 128,
     "metadata": {},
     "output_type": "execute_result"
    }
   ],
   "source": [
    "website.lstrip(\"http://www.\")"
   ]
  },
  {
   "cell_type": "code",
   "execution_count": 132,
   "id": "48a73775",
   "metadata": {},
   "outputs": [
    {
     "data": {
      "text/plain": [
       "'http://www.sadıkturan'"
      ]
     },
     "execution_count": 132,
     "metadata": {},
     "output_type": "execute_result"
    }
   ],
   "source": [
    "'http://www.sadıkturan.com'.strip('w.moc')"
   ]
  },
  {
   "cell_type": "code",
   "execution_count": 133,
   "id": "02b2ec22",
   "metadata": {},
   "outputs": [
    {
     "data": {
      "text/plain": [
       "'python kursu: baştan sona python programlama rehberiniz '"
      ]
     },
     "execution_count": 133,
     "metadata": {},
     "output_type": "execute_result"
    }
   ],
   "source": [
    "course.lower()"
   ]
  },
  {
   "cell_type": "code",
   "execution_count": 134,
   "id": "8203f7cc",
   "metadata": {},
   "outputs": [
    {
     "data": {
      "text/plain": [
       "'PYTHON KURSU: BAŞTAN SONA PYTHON PROGRAMLAMA REHBERINIZ '"
      ]
     },
     "execution_count": 134,
     "metadata": {},
     "output_type": "execute_result"
    }
   ],
   "source": [
    "course.upper()"
   ]
  },
  {
   "cell_type": "code",
   "execution_count": 135,
   "id": "540d06ff",
   "metadata": {},
   "outputs": [
    {
     "data": {
      "text/plain": [
       "'Python Kursu: Baştan Sona Python Programlama Rehberiniz '"
      ]
     },
     "execution_count": 135,
     "metadata": {},
     "output_type": "execute_result"
    }
   ],
   "source": [
    "course.title()"
   ]
  },
  {
   "cell_type": "code",
   "execution_count": 136,
   "id": "64492888",
   "metadata": {},
   "outputs": [
    {
     "data": {
      "text/plain": [
       "'Python kursu: baştan sona python programlama rehberiniz '"
      ]
     },
     "execution_count": 136,
     "metadata": {},
     "output_type": "execute_result"
    }
   ],
   "source": [
    "course.capitalize()"
   ]
  },
  {
   "cell_type": "code",
   "execution_count": 137,
   "id": "0016c267",
   "metadata": {},
   "outputs": [
    {
     "data": {
      "text/plain": [
       "2"
      ]
     },
     "execution_count": 137,
     "metadata": {},
     "output_type": "execute_result"
    }
   ],
   "source": [
    "website.count(\"a\")"
   ]
  },
  {
   "cell_type": "code",
   "execution_count": 138,
   "id": "9125d17b",
   "metadata": {},
   "outputs": [
    {
     "data": {
      "text/plain": [
       "1"
      ]
     },
     "execution_count": 138,
     "metadata": {},
     "output_type": "execute_result"
    }
   ],
   "source": [
    "website.count(\"www\",0,10)"
   ]
  },
  {
   "cell_type": "code",
   "execution_count": 151,
   "id": "0c532fd3",
   "metadata": {},
   "outputs": [],
   "source": [
    "website = \"http://www.sadıkturan.com\"\n",
    "course = \"python kursu: Baştan sona python programlama rehberiniz \""
   ]
  },
  {
   "cell_type": "code",
   "execution_count": 140,
   "id": "6be85693",
   "metadata": {},
   "outputs": [
    {
     "data": {
      "text/plain": [
       "0"
      ]
     },
     "execution_count": 140,
     "metadata": {},
     "output_type": "execute_result"
    }
   ],
   "source": [
    "website.count(\"co\",0,5)"
   ]
  },
  {
   "cell_type": "code",
   "execution_count": 141,
   "id": "fc9d3df5",
   "metadata": {},
   "outputs": [
    {
     "data": {
      "text/plain": [
       "False"
      ]
     },
     "execution_count": 141,
     "metadata": {},
     "output_type": "execute_result"
    }
   ],
   "source": [
    "website.startswith(\"www\")"
   ]
  },
  {
   "cell_type": "code",
   "execution_count": 143,
   "id": "ee2de2f2",
   "metadata": {},
   "outputs": [
    {
     "data": {
      "text/plain": [
       "True"
      ]
     },
     "execution_count": 143,
     "metadata": {},
     "output_type": "execute_result"
    }
   ],
   "source": [
    "website.endswith(\"com\")"
   ]
  },
  {
   "cell_type": "code",
   "execution_count": 144,
   "id": "b40a04c8",
   "metadata": {},
   "outputs": [
    {
     "data": {
      "text/plain": [
       "True"
      ]
     },
     "execution_count": 144,
     "metadata": {},
     "output_type": "execute_result"
    }
   ],
   "source": [
    "\".com\" in website"
   ]
  },
  {
   "cell_type": "code",
   "execution_count": 145,
   "id": "04471821",
   "metadata": {},
   "outputs": [
    {
     "data": {
      "text/plain": [
       "21"
      ]
     },
     "execution_count": 145,
     "metadata": {},
     "output_type": "execute_result"
    }
   ],
   "source": [
    "website.find(\".com\")"
   ]
  },
  {
   "cell_type": "code",
   "execution_count": 146,
   "id": "5d8b7b9c",
   "metadata": {},
   "outputs": [
    {
     "data": {
      "text/plain": [
       "-1"
      ]
     },
     "execution_count": 146,
     "metadata": {},
     "output_type": "execute_result"
    }
   ],
   "source": [
    "website.find(\".com\",0,10)"
   ]
  },
  {
   "cell_type": "code",
   "execution_count": 147,
   "id": "f9cbe34c",
   "metadata": {},
   "outputs": [
    {
     "data": {
      "text/plain": [
       "7"
      ]
     },
     "execution_count": 147,
     "metadata": {},
     "output_type": "execute_result"
    }
   ],
   "source": [
    "website.find(\"www\",0,10)"
   ]
  },
  {
   "cell_type": "code",
   "execution_count": 152,
   "id": "3fbe0028",
   "metadata": {},
   "outputs": [
    {
     "data": {
      "text/plain": [
       "0"
      ]
     },
     "execution_count": 152,
     "metadata": {},
     "output_type": "execute_result"
    }
   ],
   "source": [
    "course.find(\"python\")"
   ]
  },
  {
   "cell_type": "code",
   "execution_count": 153,
   "id": "4f12170f",
   "metadata": {},
   "outputs": [
    {
     "data": {
      "text/plain": [
       "26"
      ]
     },
     "execution_count": 153,
     "metadata": {},
     "output_type": "execute_result"
    }
   ],
   "source": [
    "course.rfind(\"python\")"
   ]
  },
  {
   "cell_type": "code",
   "execution_count": 154,
   "id": "2d1b3dce",
   "metadata": {},
   "outputs": [
    {
     "data": {
      "text/plain": [
       "0"
      ]
     },
     "execution_count": 154,
     "metadata": {},
     "output_type": "execute_result"
    }
   ],
   "source": [
    "course.index(\"python\")"
   ]
  },
  {
   "cell_type": "code",
   "execution_count": 155,
   "id": "85aaf315",
   "metadata": {},
   "outputs": [
    {
     "data": {
      "text/plain": [
       "26"
      ]
     },
     "execution_count": 155,
     "metadata": {},
     "output_type": "execute_result"
    }
   ],
   "source": [
    "course.rindex(\"python\")"
   ]
  },
  {
   "cell_type": "code",
   "execution_count": 156,
   "id": "ae231744",
   "metadata": {},
   "outputs": [
    {
     "data": {
      "text/plain": [
       "False"
      ]
     },
     "execution_count": 156,
     "metadata": {},
     "output_type": "execute_result"
    }
   ],
   "source": [
    "course.isalpha()"
   ]
  },
  {
   "cell_type": "code",
   "execution_count": 157,
   "id": "d90b5b98",
   "metadata": {},
   "outputs": [
    {
     "data": {
      "text/plain": [
       "True"
      ]
     },
     "execution_count": 157,
     "metadata": {},
     "output_type": "execute_result"
    }
   ],
   "source": [
    "\"hello\".isalpha()"
   ]
  },
  {
   "cell_type": "code",
   "execution_count": 158,
   "id": "ab04325f",
   "metadata": {},
   "outputs": [
    {
     "data": {
      "text/plain": [
       "False"
      ]
     },
     "execution_count": 158,
     "metadata": {},
     "output_type": "execute_result"
    }
   ],
   "source": [
    "course.isdigit()"
   ]
  },
  {
   "cell_type": "code",
   "execution_count": 160,
   "id": "f1c5d790",
   "metadata": {},
   "outputs": [
    {
     "data": {
      "text/plain": [
       "True"
      ]
     },
     "execution_count": 160,
     "metadata": {},
     "output_type": "execute_result"
    }
   ],
   "source": [
    "\"123\".isdigit()"
   ]
  },
  {
   "cell_type": "code",
   "execution_count": 161,
   "id": "126fa0f2",
   "metadata": {},
   "outputs": [
    {
     "data": {
      "text/plain": [
       "'*********************contents*********************'"
      ]
     },
     "execution_count": 161,
     "metadata": {},
     "output_type": "execute_result"
    }
   ],
   "source": [
    "\"contents\".center(50,\"*\")"
   ]
  },
  {
   "cell_type": "code",
   "execution_count": 162,
   "id": "db8dddfe",
   "metadata": {},
   "outputs": [
    {
     "data": {
      "text/plain": [
       "'contents******************************************'"
      ]
     },
     "execution_count": 162,
     "metadata": {},
     "output_type": "execute_result"
    }
   ],
   "source": [
    "\"contents\".ljust(50,\"*\")"
   ]
  },
  {
   "cell_type": "code",
   "execution_count": 163,
   "id": "6a4b2543",
   "metadata": {},
   "outputs": [
    {
     "data": {
      "text/plain": [
       "'******************************************contents'"
      ]
     },
     "execution_count": 163,
     "metadata": {},
     "output_type": "execute_result"
    }
   ],
   "source": [
    "\"contents\".rjust(50,\"*\")"
   ]
  },
  {
   "cell_type": "code",
   "execution_count": 164,
   "id": "42c40e87",
   "metadata": {},
   "outputs": [
    {
     "data": {
      "text/plain": [
       "'python_kursu:_Baştan_sona_python_programlama_rehberiniz_'"
      ]
     },
     "execution_count": 164,
     "metadata": {},
     "output_type": "execute_result"
    }
   ],
   "source": [
    "course.replace(\" \",\"_\")"
   ]
  },
  {
   "cell_type": "code",
   "execution_count": 166,
   "id": "7519afa5",
   "metadata": {},
   "outputs": [
    {
     "data": {
      "text/plain": [
       "'python_kursu:_Baştan_sona_python_programlama_rehberiniz '"
      ]
     },
     "execution_count": 166,
     "metadata": {},
     "output_type": "execute_result"
    }
   ],
   "source": [
    "course.replace(\" \",\"_\",6)"
   ]
  },
  {
   "cell_type": "code",
   "execution_count": 167,
   "id": "2aa504b7",
   "metadata": {},
   "outputs": [
    {
     "data": {
      "text/plain": [
       "'pythonkursu:Baştansonapythonprogramlamarehberiniz'"
      ]
     },
     "execution_count": 167,
     "metadata": {},
     "output_type": "execute_result"
    }
   ],
   "source": [
    "course.replace(\" \",\"\")"
   ]
  },
  {
   "cell_type": "code",
   "execution_count": 168,
   "id": "4f392f1f",
   "metadata": {},
   "outputs": [
    {
     "data": {
      "text/plain": [
       "'hello there'"
      ]
     },
     "execution_count": 168,
     "metadata": {},
     "output_type": "execute_result"
    }
   ],
   "source": [
    "\"hello world\".replace(\"world\",\"there\")"
   ]
  },
  {
   "cell_type": "code",
   "execution_count": 169,
   "id": "d72339e9",
   "metadata": {},
   "outputs": [
    {
     "data": {
      "text/plain": [
       "['python',\n",
       " 'kursu:',\n",
       " 'Baştan',\n",
       " 'sona',\n",
       " 'python',\n",
       " 'programlama',\n",
       " 'rehberiniz',\n",
       " '']"
      ]
     },
     "execution_count": 169,
     "metadata": {},
     "output_type": "execute_result"
    }
   ],
   "source": [
    "course.split(\" \")"
   ]
  },
  {
   "cell_type": "code",
   "execution_count": 170,
   "id": "d744c023",
   "metadata": {},
   "outputs": [
    {
     "data": {
      "text/plain": [
       "'o'"
      ]
     },
     "execution_count": 170,
     "metadata": {},
     "output_type": "execute_result"
    }
   ],
   "source": [
    "course[4]"
   ]
  },
  {
   "cell_type": "code",
   "execution_count": 171,
   "id": "5baa5714",
   "metadata": {},
   "outputs": [],
   "source": [
    "r = course.split(\" \")"
   ]
  },
  {
   "cell_type": "code",
   "execution_count": 172,
   "id": "9ca05ca2",
   "metadata": {},
   "outputs": [
    {
     "data": {
      "text/plain": [
       "'python'"
      ]
     },
     "execution_count": 172,
     "metadata": {},
     "output_type": "execute_result"
    }
   ],
   "source": [
    "r[4]"
   ]
  },
  {
   "cell_type": "code",
   "execution_count": 1,
   "id": "cd940dfa",
   "metadata": {},
   "outputs": [
    {
     "data": {
      "text/plain": [
       "['BMV', 'Mercedes', 'Audi', 'Opel', 'Mazda']"
      ]
     },
     "execution_count": 1,
     "metadata": {},
     "output_type": "execute_result"
    }
   ],
   "source": [
    "l = [\"BMV\",\"Mercedes\",\"Audi\",\"Opel\",\"Mazda\"]\n",
    "l"
   ]
  },
  {
   "cell_type": "code",
   "execution_count": 2,
   "id": "43e63462",
   "metadata": {},
   "outputs": [
    {
     "data": {
      "text/plain": [
       "5"
      ]
     },
     "execution_count": 2,
     "metadata": {},
     "output_type": "execute_result"
    }
   ],
   "source": [
    "len(l)"
   ]
  },
  {
   "cell_type": "code",
   "execution_count": 3,
   "id": "48e40c8a",
   "metadata": {},
   "outputs": [
    {
     "data": {
      "text/plain": [
       "'BMV'"
      ]
     },
     "execution_count": 3,
     "metadata": {},
     "output_type": "execute_result"
    }
   ],
   "source": [
    "l[0]"
   ]
  },
  {
   "cell_type": "code",
   "execution_count": 4,
   "id": "67919fc5",
   "metadata": {},
   "outputs": [
    {
     "data": {
      "text/plain": [
       "'Mazda'"
      ]
     },
     "execution_count": 4,
     "metadata": {},
     "output_type": "execute_result"
    }
   ],
   "source": [
    "l[4]"
   ]
  },
  {
   "cell_type": "code",
   "execution_count": 5,
   "id": "1d19b680",
   "metadata": {},
   "outputs": [
    {
     "data": {
      "text/plain": [
       "['BMV', 'Mercedes', 'Audi', 'Opel', 'toyota']"
      ]
     },
     "execution_count": 5,
     "metadata": {},
     "output_type": "execute_result"
    }
   ],
   "source": [
    "l[-1] = \"toyota\"\n",
    "l\n"
   ]
  },
  {
   "cell_type": "code",
   "execution_count": 6,
   "id": "5b7b5490",
   "metadata": {},
   "outputs": [
    {
     "data": {
      "text/plain": [
       "True"
      ]
     },
     "execution_count": 6,
     "metadata": {},
     "output_type": "execute_result"
    }
   ],
   "source": [
    "\"Mercedes\" in l"
   ]
  },
  {
   "cell_type": "code",
   "execution_count": 7,
   "id": "c41c2343",
   "metadata": {},
   "outputs": [
    {
     "ename": "AttributeError",
     "evalue": "'list' object has no attribute 'find'",
     "output_type": "error",
     "traceback": [
      "\u001b[1;31m---------------------------------------------------------------------------\u001b[0m",
      "\u001b[1;31mAttributeError\u001b[0m                            Traceback (most recent call last)",
      "\u001b[1;32mC:\\Users\\ADMCN_~1\\AppData\\Local\\Temp/ipykernel_6128/3176407604.py\u001b[0m in \u001b[0;36m<module>\u001b[1;34m\u001b[0m\n\u001b[1;32m----> 1\u001b[1;33m \u001b[0ml\u001b[0m\u001b[1;33m.\u001b[0m\u001b[0mfind\u001b[0m\u001b[1;33m(\u001b[0m\u001b[1;34m\"Mercedes\"\u001b[0m\u001b[1;33m)\u001b[0m\u001b[1;33m\u001b[0m\u001b[1;33m\u001b[0m\u001b[0m\n\u001b[0m",
      "\u001b[1;31mAttributeError\u001b[0m: 'list' object has no attribute 'find'"
     ]
    }
   ],
   "source": [
    "l.find(\"Mercedes\")"
   ]
  },
  {
   "cell_type": "code",
   "execution_count": 8,
   "id": "b1a6f0e7",
   "metadata": {},
   "outputs": [
    {
     "data": {
      "text/plain": [
       "'Opel'"
      ]
     },
     "execution_count": 8,
     "metadata": {},
     "output_type": "execute_result"
    }
   ],
   "source": [
    "l[-2]"
   ]
  },
  {
   "cell_type": "code",
   "execution_count": 9,
   "id": "76b48412",
   "metadata": {},
   "outputs": [
    {
     "data": {
      "text/plain": [
       "['BMV', 'Mercedes', 'Audi']"
      ]
     },
     "execution_count": 9,
     "metadata": {},
     "output_type": "execute_result"
    }
   ],
   "source": [
    "l[:3]"
   ]
  },
  {
   "cell_type": "code",
   "execution_count": 11,
   "id": "bab53959",
   "metadata": {},
   "outputs": [
    {
     "data": {
      "text/plain": [
       "['BMV', 'Mercedes', 'Audi']"
      ]
     },
     "execution_count": 11,
     "metadata": {},
     "output_type": "execute_result"
    }
   ],
   "source": [
    "l[:-2]"
   ]
  },
  {
   "cell_type": "code",
   "execution_count": 12,
   "id": "0f096638",
   "metadata": {},
   "outputs": [
    {
     "data": {
      "text/plain": [
       "['BMV', 'Mercedes', 'Audi', 'Opel', 'toyota']"
      ]
     },
     "execution_count": 12,
     "metadata": {},
     "output_type": "execute_result"
    }
   ],
   "source": [
    "l"
   ]
  },
  {
   "cell_type": "code",
   "execution_count": 13,
   "id": "c3e05460",
   "metadata": {},
   "outputs": [
    {
     "data": {
      "text/plain": [
       "['Opel', 'toyota']"
      ]
     },
     "execution_count": 13,
     "metadata": {},
     "output_type": "execute_result"
    }
   ],
   "source": [
    "l[-2:]"
   ]
  },
  {
   "cell_type": "code",
   "execution_count": 14,
   "id": "da872ad9",
   "metadata": {},
   "outputs": [
    {
     "data": {
      "text/plain": [
       "['BMV', 'Mercedes', 'Audi', 'toyota', 'renault']"
      ]
     },
     "execution_count": 14,
     "metadata": {},
     "output_type": "execute_result"
    }
   ],
   "source": [
    "l[-2:] = [\"toyota\",\"renault\"]\n",
    "l"
   ]
  },
  {
   "cell_type": "code",
   "execution_count": 16,
   "id": "b02c02bd",
   "metadata": {},
   "outputs": [
    {
     "data": {
      "text/plain": [
       "['BMV', 'Mercedes', 'Audi', 'toyota', 'renault', 'Nissan', 'Opel']"
      ]
     },
     "execution_count": 16,
     "metadata": {},
     "output_type": "execute_result"
    }
   ],
   "source": [
    "l =l+[\"Nissan\",\"Opel\"]\n",
    "l"
   ]
  },
  {
   "cell_type": "code",
   "execution_count": 19,
   "id": "798bc685",
   "metadata": {},
   "outputs": [
    {
     "data": {
      "text/plain": [
       "['BMV',\n",
       " 'Mercedes',\n",
       " 'Audi',\n",
       " 'toyota',\n",
       " 'renault',\n",
       " 'Nissan',\n",
       " 'Opel',\n",
       " 'Sahin',\n",
       " 'Sahin']"
      ]
     },
     "execution_count": 19,
     "metadata": {},
     "output_type": "execute_result"
    }
   ],
   "source": [
    "l.append(\"Sahin\")\n",
    "l"
   ]
  },
  {
   "cell_type": "code",
   "execution_count": 20,
   "id": "d61479aa",
   "metadata": {},
   "outputs": [
    {
     "data": {
      "text/plain": [
       "['BMV', 'Mercedes', 'Audi', 'toyota', 'renault', 'Nissan', 'Opel', 'Sahin']"
      ]
     },
     "execution_count": 20,
     "metadata": {},
     "output_type": "execute_result"
    }
   ],
   "source": [
    "del l[-1]\n",
    "l"
   ]
  },
  {
   "cell_type": "code",
   "execution_count": 21,
   "id": "6477867f",
   "metadata": {},
   "outputs": [],
   "source": [
    "del l[-1]"
   ]
  },
  {
   "cell_type": "code",
   "execution_count": 22,
   "id": "6fe69ce7",
   "metadata": {},
   "outputs": [
    {
     "data": {
      "text/plain": [
       "['BMV', 'Mercedes', 'Audi', 'toyota', 'renault', 'Nissan', 'Opel']"
      ]
     },
     "execution_count": 22,
     "metadata": {},
     "output_type": "execute_result"
    }
   ],
   "source": [
    "l"
   ]
  },
  {
   "cell_type": "code",
   "execution_count": 23,
   "id": "31dd0db0",
   "metadata": {},
   "outputs": [
    {
     "data": {
      "text/plain": [
       "['Opel', 'Nissan', 'renault', 'toyota', 'Audi', 'Mercedes', 'BMV']"
      ]
     },
     "execution_count": 23,
     "metadata": {},
     "output_type": "execute_result"
    }
   ],
   "source": [
    "l[::-1]"
   ]
  },
  {
   "cell_type": "code",
   "execution_count": 36,
   "id": "462d0200",
   "metadata": {},
   "outputs": [
    {
     "name": "stdout",
     "output_type": "stream",
     "text": [
      "Yiğit Bilgi 12 yaşında ve not ortalaması 66.6667 dır.\n"
     ]
    }
   ],
   "source": [
    "studentA= [\"Yiğit\",\"Bilgi\",\"2010\",[70,60,70]]\n",
    "studentB= [\"Sena\",\"Turan\",\"1999\",[80,80,70]]\n",
    "studentC= [\"Ahmet\",\"Turan\",\"1998\",[80,70,90]]\n",
    "\n",
    "r = (studentA[3][0]+studentA[3][1]+studentA[3][2])/3\n",
    "print(f\"{studentA[0]} {studentA[1]} {2022-int(studentA[2])} yaşında ve not ortalaması {r:1.6} dır.\")\n",
    "\n"
   ]
  },
  {
   "cell_type": "code",
   "execution_count": 38,
   "id": "b132d850",
   "metadata": {},
   "outputs": [],
   "source": [
    "numbers = [1,14,2,56,25]\n",
    "letters = [\"a\",\"v\",\"s\",\"r\",\"w\",\"o\",\"p\"]"
   ]
  },
  {
   "cell_type": "code",
   "execution_count": 39,
   "id": "ff4776a6",
   "metadata": {},
   "outputs": [
    {
     "data": {
      "text/plain": [
       "1"
      ]
     },
     "execution_count": 39,
     "metadata": {},
     "output_type": "execute_result"
    }
   ],
   "source": [
    "min(numbers)"
   ]
  },
  {
   "cell_type": "code",
   "execution_count": 40,
   "id": "64029651",
   "metadata": {},
   "outputs": [
    {
     "data": {
      "text/plain": [
       "56"
      ]
     },
     "execution_count": 40,
     "metadata": {},
     "output_type": "execute_result"
    }
   ],
   "source": [
    "max(numbers)"
   ]
  },
  {
   "cell_type": "code",
   "execution_count": 42,
   "id": "11647e32",
   "metadata": {},
   "outputs": [
    {
     "data": {
      "text/plain": [
       "'a'"
      ]
     },
     "execution_count": 42,
     "metadata": {},
     "output_type": "execute_result"
    }
   ],
   "source": [
    "min(letters)\n"
   ]
  },
  {
   "cell_type": "code",
   "execution_count": 43,
   "id": "db194b82",
   "metadata": {},
   "outputs": [
    {
     "data": {
      "text/plain": [
       "'w'"
      ]
     },
     "execution_count": 43,
     "metadata": {},
     "output_type": "execute_result"
    }
   ],
   "source": [
    "max(letters)"
   ]
  },
  {
   "cell_type": "code",
   "execution_count": 44,
   "id": "451008d4",
   "metadata": {},
   "outputs": [],
   "source": [
    "numbers.append(49)"
   ]
  },
  {
   "cell_type": "code",
   "execution_count": 45,
   "id": "b7170b32",
   "metadata": {},
   "outputs": [
    {
     "data": {
      "text/plain": [
       "[1, 14, 2, 56, 25, 49]"
      ]
     },
     "execution_count": 45,
     "metadata": {},
     "output_type": "execute_result"
    }
   ],
   "source": [
    "numbers"
   ]
  },
  {
   "cell_type": "code",
   "execution_count": 46,
   "id": "bb1526a6",
   "metadata": {},
   "outputs": [],
   "source": [
    "numbers.insert(3,46)#3. indekse yerleştirir fakat yerine geldiği silinmez"
   ]
  },
  {
   "cell_type": "code",
   "execution_count": 47,
   "id": "ddd19918",
   "metadata": {},
   "outputs": [
    {
     "data": {
      "text/plain": [
       "[1, 14, 2, 46, 56, 25, 49]"
      ]
     },
     "execution_count": 47,
     "metadata": {},
     "output_type": "execute_result"
    }
   ],
   "source": [
    "numbers"
   ]
  },
  {
   "cell_type": "code",
   "execution_count": 48,
   "id": "6ffa22e8",
   "metadata": {},
   "outputs": [],
   "source": [
    "numbers.insert(6,59)"
   ]
  },
  {
   "cell_type": "code",
   "execution_count": 49,
   "id": "40fb686d",
   "metadata": {},
   "outputs": [
    {
     "data": {
      "text/plain": [
       "[1, 14, 2, 46, 56, 25, 59, 49]"
      ]
     },
     "execution_count": 49,
     "metadata": {},
     "output_type": "execute_result"
    }
   ],
   "source": [
    "numbers"
   ]
  },
  {
   "cell_type": "code",
   "execution_count": 50,
   "id": "dd54818a",
   "metadata": {},
   "outputs": [],
   "source": [
    "numbers.insert(-1,52)"
   ]
  },
  {
   "cell_type": "code",
   "execution_count": 51,
   "id": "3911656e",
   "metadata": {},
   "outputs": [
    {
     "data": {
      "text/plain": [
       "[1, 14, 2, 46, 56, 25, 59, 52, 49]"
      ]
     },
     "execution_count": 51,
     "metadata": {},
     "output_type": "execute_result"
    }
   ],
   "source": [
    "numbers"
   ]
  },
  {
   "cell_type": "code",
   "execution_count": 52,
   "id": "97b528f4",
   "metadata": {},
   "outputs": [
    {
     "data": {
      "text/plain": [
       "49"
      ]
     },
     "execution_count": 52,
     "metadata": {},
     "output_type": "execute_result"
    }
   ],
   "source": [
    "numbers.pop()"
   ]
  },
  {
   "cell_type": "code",
   "execution_count": 53,
   "id": "3e841112",
   "metadata": {},
   "outputs": [
    {
     "data": {
      "text/plain": [
       "[1, 14, 2, 46, 56, 25, 59, 52]"
      ]
     },
     "execution_count": 53,
     "metadata": {},
     "output_type": "execute_result"
    }
   ],
   "source": [
    "numbers"
   ]
  },
  {
   "cell_type": "code",
   "execution_count": 54,
   "id": "0da8d23c",
   "metadata": {},
   "outputs": [
    {
     "data": {
      "text/plain": [
       "59"
      ]
     },
     "execution_count": 54,
     "metadata": {},
     "output_type": "execute_result"
    }
   ],
   "source": [
    "numbers.pop(-2)#pop ta indeks belirtilir\n",
    "               #remove da direkt silinecek liste elemenı belirtilir"
   ]
  },
  {
   "cell_type": "code",
   "execution_count": 55,
   "id": "90a50996",
   "metadata": {},
   "outputs": [
    {
     "data": {
      "text/plain": [
       "[1, 14, 2, 46, 56, 25, 52]"
      ]
     },
     "execution_count": 55,
     "metadata": {},
     "output_type": "execute_result"
    }
   ],
   "source": [
    "numbers"
   ]
  },
  {
   "cell_type": "code",
   "execution_count": 56,
   "id": "c92bdfda",
   "metadata": {},
   "outputs": [],
   "source": [
    "numbers.remove(46)"
   ]
  },
  {
   "cell_type": "code",
   "execution_count": 57,
   "id": "9b1c7fd6",
   "metadata": {},
   "outputs": [
    {
     "data": {
      "text/plain": [
       "[1, 14, 2, 56, 25, 52]"
      ]
     },
     "execution_count": 57,
     "metadata": {},
     "output_type": "execute_result"
    }
   ],
   "source": [
    "numbers"
   ]
  },
  {
   "cell_type": "code",
   "execution_count": 58,
   "id": "ceffc8e4",
   "metadata": {},
   "outputs": [],
   "source": [
    "numbers.sort()"
   ]
  },
  {
   "cell_type": "code",
   "execution_count": 59,
   "id": "15f213de",
   "metadata": {},
   "outputs": [
    {
     "data": {
      "text/plain": [
       "[1, 2, 14, 25, 52, 56]"
      ]
     },
     "execution_count": 59,
     "metadata": {},
     "output_type": "execute_result"
    }
   ],
   "source": [
    "numbers"
   ]
  },
  {
   "cell_type": "code",
   "execution_count": 60,
   "id": "b4fca770",
   "metadata": {},
   "outputs": [],
   "source": [
    "letters.sort()"
   ]
  },
  {
   "cell_type": "code",
   "execution_count": 61,
   "id": "876afd64",
   "metadata": {},
   "outputs": [
    {
     "data": {
      "text/plain": [
       "['a', 'o', 'p', 'r', 's', 'v', 'w']"
      ]
     },
     "execution_count": 61,
     "metadata": {},
     "output_type": "execute_result"
    }
   ],
   "source": [
    "letters"
   ]
  },
  {
   "cell_type": "code",
   "execution_count": 62,
   "id": "9ccc6cd3",
   "metadata": {},
   "outputs": [],
   "source": [
    "numbers.reverse()"
   ]
  },
  {
   "cell_type": "code",
   "execution_count": 63,
   "id": "39eb2bc6",
   "metadata": {},
   "outputs": [
    {
     "data": {
      "text/plain": [
       "[56, 52, 25, 14, 2, 1]"
      ]
     },
     "execution_count": 63,
     "metadata": {},
     "output_type": "execute_result"
    }
   ],
   "source": [
    "numbers"
   ]
  },
  {
   "cell_type": "code",
   "execution_count": 64,
   "id": "7c5cb573",
   "metadata": {},
   "outputs": [],
   "source": [
    "letters.reverse()"
   ]
  },
  {
   "cell_type": "code",
   "execution_count": 65,
   "id": "fede0e44",
   "metadata": {},
   "outputs": [
    {
     "data": {
      "text/plain": [
       "['w', 'v', 's', 'r', 'p', 'o', 'a']"
      ]
     },
     "execution_count": 65,
     "metadata": {},
     "output_type": "execute_result"
    }
   ],
   "source": [
    "letters"
   ]
  },
  {
   "cell_type": "code",
   "execution_count": 66,
   "id": "584f698e",
   "metadata": {},
   "outputs": [
    {
     "data": {
      "text/plain": [
       "6"
      ]
     },
     "execution_count": 66,
     "metadata": {},
     "output_type": "execute_result"
    }
   ],
   "source": [
    "len(numbers)"
   ]
  },
  {
   "cell_type": "code",
   "execution_count": 68,
   "id": "3da98c61",
   "metadata": {},
   "outputs": [
    {
     "data": {
      "text/plain": [
       "1"
      ]
     },
     "execution_count": 68,
     "metadata": {},
     "output_type": "execute_result"
    }
   ],
   "source": [
    "numbers.count(52)"
   ]
  },
  {
   "cell_type": "code",
   "execution_count": 69,
   "id": "de2a8b00",
   "metadata": {},
   "outputs": [
    {
     "data": {
      "text/plain": [
       "7"
      ]
     },
     "execution_count": 69,
     "metadata": {},
     "output_type": "execute_result"
    }
   ],
   "source": [
    "len(letters)"
   ]
  },
  {
   "cell_type": "code",
   "execution_count": 71,
   "id": "1dd06695",
   "metadata": {},
   "outputs": [
    {
     "data": {
      "text/plain": [
       "1"
      ]
     },
     "execution_count": 71,
     "metadata": {},
     "output_type": "execute_result"
    }
   ],
   "source": [
    "letters.count(\"s\")"
   ]
  },
  {
   "cell_type": "code",
   "execution_count": 73,
   "id": "76c5751b",
   "metadata": {},
   "outputs": [
    {
     "data": {
      "text/plain": [
       "0"
      ]
     },
     "execution_count": 73,
     "metadata": {},
     "output_type": "execute_result"
    }
   ],
   "source": [
    "letters.count(\"e\")"
   ]
  },
  {
   "cell_type": "code",
   "execution_count": 74,
   "id": "9dc5ef1f",
   "metadata": {},
   "outputs": [],
   "source": [
    "numbers.clear()"
   ]
  },
  {
   "cell_type": "code",
   "execution_count": 75,
   "id": "500d7916",
   "metadata": {},
   "outputs": [
    {
     "data": {
      "text/plain": [
       "[]"
      ]
     },
     "execution_count": 75,
     "metadata": {},
     "output_type": "execute_result"
    }
   ],
   "source": [
    "numbers"
   ]
  },
  {
   "cell_type": "code",
   "execution_count": 76,
   "id": "4a1155fa",
   "metadata": {},
   "outputs": [],
   "source": [
    "names = [\"ali\",\"yağmur\",\"hakan\",\"deniz\"]\n",
    "years = [1998,2000,1998,1987]"
   ]
  },
  {
   "cell_type": "code",
   "execution_count": 77,
   "id": "89807933",
   "metadata": {},
   "outputs": [],
   "source": [
    "names.append(\"cenk\")"
   ]
  },
  {
   "cell_type": "code",
   "execution_count": 78,
   "id": "d84905ec",
   "metadata": {},
   "outputs": [
    {
     "data": {
      "text/plain": [
       "['ali', 'yağmur', 'hakan', 'deniz', 'cenk']"
      ]
     },
     "execution_count": 78,
     "metadata": {},
     "output_type": "execute_result"
    }
   ],
   "source": [
    "names"
   ]
  },
  {
   "cell_type": "code",
   "execution_count": 79,
   "id": "0d46ed9b",
   "metadata": {},
   "outputs": [],
   "source": [
    "names.insert(0,\"sena\")"
   ]
  },
  {
   "cell_type": "code",
   "execution_count": 80,
   "id": "5a77daef",
   "metadata": {},
   "outputs": [
    {
     "data": {
      "text/plain": [
       "['sena', 'ali', 'yağmur', 'hakan', 'deniz', 'cenk']"
      ]
     },
     "execution_count": 80,
     "metadata": {},
     "output_type": "execute_result"
    }
   ],
   "source": [
    "names"
   ]
  },
  {
   "cell_type": "code",
   "execution_count": 81,
   "id": "730816be",
   "metadata": {},
   "outputs": [],
   "source": [
    "names.remove(\"deniz\")"
   ]
  },
  {
   "cell_type": "code",
   "execution_count": 82,
   "id": "2f6af6b4",
   "metadata": {},
   "outputs": [
    {
     "data": {
      "text/plain": [
       "['sena', 'ali', 'yağmur', 'hakan', 'cenk']"
      ]
     },
     "execution_count": 82,
     "metadata": {},
     "output_type": "execute_result"
    }
   ],
   "source": [
    "names"
   ]
  },
  {
   "cell_type": "code",
   "execution_count": 83,
   "id": "513569ec",
   "metadata": {},
   "outputs": [],
   "source": [
    "names.insert(4,\"deniz\")"
   ]
  },
  {
   "cell_type": "code",
   "execution_count": 84,
   "id": "fabdda12",
   "metadata": {},
   "outputs": [
    {
     "data": {
      "text/plain": [
       "['sena', 'ali', 'yağmur', 'hakan', 'cenk']"
      ]
     },
     "execution_count": 84,
     "metadata": {},
     "output_type": "execute_result"
    }
   ],
   "source": [
    "names.pop(4)\n",
    "names"
   ]
  },
  {
   "cell_type": "code",
   "execution_count": 85,
   "id": "15f5da9f",
   "metadata": {},
   "outputs": [
    {
     "data": {
      "text/plain": [
       "['sena', 'ali', 'yağmur', 'hakan', 'cenk', 'mehmet']"
      ]
     },
     "execution_count": 85,
     "metadata": {},
     "output_type": "execute_result"
    }
   ],
   "source": [
    "names.insert(len(names),\"mehmet\")\n",
    "names"
   ]
  },
  {
   "cell_type": "code",
   "execution_count": 86,
   "id": "eec910b5",
   "metadata": {},
   "outputs": [
    {
     "data": {
      "text/plain": [
       "6"
      ]
     },
     "execution_count": 86,
     "metadata": {},
     "output_type": "execute_result"
    }
   ],
   "source": [
    "len(names)"
   ]
  },
  {
   "cell_type": "code",
   "execution_count": 88,
   "id": "73d35538",
   "metadata": {},
   "outputs": [
    {
     "data": {
      "text/plain": [
       "['sena', 'ali', 'yağmur', 'hakan', 'cenk', 'adem', 'adem', 'mehmet']"
      ]
     },
     "execution_count": 88,
     "metadata": {},
     "output_type": "execute_result"
    }
   ],
   "source": [
    "names.insert(5,\"adem\")\n",
    "names"
   ]
  },
  {
   "cell_type": "code",
   "execution_count": 89,
   "id": "24e8eed4",
   "metadata": {},
   "outputs": [
    {
     "data": {
      "text/plain": [
       "['sena', 'ali', 'yağmur', 'hakan', 'cenk', 'adem', 'adem', 'adem', 'mehmet']"
      ]
     },
     "execution_count": 89,
     "metadata": {},
     "output_type": "execute_result"
    }
   ],
   "source": [
    "names.insert(6,\"adem\")\n",
    "names"
   ]
  },
  {
   "cell_type": "code",
   "execution_count": 90,
   "id": "2195b5ab",
   "metadata": {},
   "outputs": [
    {
     "data": {
      "text/plain": [
       "['sena',\n",
       " 'ali',\n",
       " 'yağmur',\n",
       " 'hakan',\n",
       " 'cenk',\n",
       " 'adem',\n",
       " 'adem',\n",
       " 'adem',\n",
       " 'mehmet',\n",
       " 'adem']"
      ]
     },
     "execution_count": 90,
     "metadata": {},
     "output_type": "execute_result"
    }
   ],
   "source": [
    "names.insert(len(names),\"adem\")\n",
    "names"
   ]
  },
  {
   "cell_type": "code",
   "execution_count": 94,
   "id": "0c8b8c50",
   "metadata": {},
   "outputs": [
    {
     "data": {
      "text/plain": [
       "['sena', 'ali', 'yağmur', 'hakan', 'cenk', 'mehmet']"
      ]
     },
     "execution_count": 94,
     "metadata": {},
     "output_type": "execute_result"
    }
   ],
   "source": [
    "names.remove(\"adem\")\n",
    "names"
   ]
  },
  {
   "cell_type": "code",
   "execution_count": 102,
   "id": "46a93121",
   "metadata": {},
   "outputs": [],
   "source": [
    "names.insert(len(names),\"deniz\")"
   ]
  },
  {
   "cell_type": "code",
   "execution_count": 100,
   "id": "c4c14d0f",
   "metadata": {},
   "outputs": [
    {
     "data": {
      "text/plain": [
       "['sena', 'ali', 'yağmur', 'hakan', 'cenk', 'mehmet', 'deniz']"
      ]
     },
     "execution_count": 100,
     "metadata": {},
     "output_type": "execute_result"
    }
   ],
   "source": [
    "names"
   ]
  },
  {
   "cell_type": "code",
   "execution_count": 97,
   "id": "a37f3d2b",
   "metadata": {},
   "outputs": [],
   "source": [
    "names.remove(\"deniz\")"
   ]
  },
  {
   "cell_type": "code",
   "execution_count": 98,
   "id": "5720bfe1",
   "metadata": {},
   "outputs": [
    {
     "data": {
      "text/plain": [
       "['sena', 'ali', 'yağmur', 'hakan', 'cenk', 'mehmet']"
      ]
     },
     "execution_count": 98,
     "metadata": {},
     "output_type": "execute_result"
    }
   ],
   "source": [
    "names"
   ]
  },
  {
   "cell_type": "code",
   "execution_count": 101,
   "id": "bd37279f",
   "metadata": {},
   "outputs": [
    {
     "data": {
      "text/plain": [
       "['sena', 'ali', 'yağmur', 'hakan', 'cenk', 'mehmet']"
      ]
     },
     "execution_count": 101,
     "metadata": {},
     "output_type": "execute_result"
    }
   ],
   "source": [
    "names.pop(-1)\n",
    "names"
   ]
  },
  {
   "cell_type": "code",
   "execution_count": 103,
   "id": "94311378",
   "metadata": {},
   "outputs": [
    {
     "data": {
      "text/plain": [
       "['sena', 'ali', 'yağmur', 'hakan', 'cenk', 'mehmet']"
      ]
     },
     "execution_count": 103,
     "metadata": {},
     "output_type": "execute_result"
    }
   ],
   "source": [
    "names.pop()\n",
    "names"
   ]
  },
  {
   "cell_type": "code",
   "execution_count": 105,
   "id": "1f11b5ec",
   "metadata": {},
   "outputs": [
    {
     "data": {
      "text/plain": [
       "4"
      ]
     },
     "execution_count": 105,
     "metadata": {},
     "output_type": "execute_result"
    }
   ],
   "source": [
    "names.index(\"cenk\")\n"
   ]
  },
  {
   "cell_type": "code",
   "execution_count": 106,
   "id": "fbf222f3",
   "metadata": {},
   "outputs": [
    {
     "data": {
      "text/plain": [
       "True"
      ]
     },
     "execution_count": 106,
     "metadata": {},
     "output_type": "execute_result"
    }
   ],
   "source": [
    "\"ali\" in names"
   ]
  },
  {
   "cell_type": "code",
   "execution_count": 107,
   "id": "c268ed22",
   "metadata": {},
   "outputs": [],
   "source": [
    "names.reverse()"
   ]
  },
  {
   "cell_type": "code",
   "execution_count": 108,
   "id": "c526e46a",
   "metadata": {},
   "outputs": [
    {
     "data": {
      "text/plain": [
       "['mehmet', 'cenk', 'hakan', 'yağmur', 'ali', 'sena']"
      ]
     },
     "execution_count": 108,
     "metadata": {},
     "output_type": "execute_result"
    }
   ],
   "source": [
    "names"
   ]
  },
  {
   "cell_type": "code",
   "execution_count": 109,
   "id": "a539f44d",
   "metadata": {},
   "outputs": [],
   "source": [
    "names.sort()"
   ]
  },
  {
   "cell_type": "code",
   "execution_count": 110,
   "id": "61ac3d29",
   "metadata": {},
   "outputs": [
    {
     "data": {
      "text/plain": [
       "['ali', 'cenk', 'hakan', 'mehmet', 'sena', 'yağmur']"
      ]
     },
     "execution_count": 110,
     "metadata": {},
     "output_type": "execute_result"
    }
   ],
   "source": [
    "names"
   ]
  },
  {
   "cell_type": "code",
   "execution_count": 111,
   "id": "d44cf061",
   "metadata": {},
   "outputs": [],
   "source": [
    "years.sort()"
   ]
  },
  {
   "cell_type": "code",
   "execution_count": 112,
   "id": "0fa129cd",
   "metadata": {},
   "outputs": [
    {
     "data": {
      "text/plain": [
       "[1987, 1998, 1998, 2000]"
      ]
     },
     "execution_count": 112,
     "metadata": {},
     "output_type": "execute_result"
    }
   ],
   "source": [
    "years"
   ]
  },
  {
   "cell_type": "code",
   "execution_count": 113,
   "id": "a2e83e6f",
   "metadata": {},
   "outputs": [
    {
     "data": {
      "text/plain": [
       "str"
      ]
     },
     "execution_count": 113,
     "metadata": {},
     "output_type": "execute_result"
    }
   ],
   "source": [
    "str = \"chevrolet,dacia\"\n",
    "type(str)"
   ]
  },
  {
   "cell_type": "code",
   "execution_count": 114,
   "id": "4d527429",
   "metadata": {},
   "outputs": [
    {
     "name": "stdout",
     "output_type": "stream",
     "text": [
      "<class 'list'>\n"
     ]
    },
    {
     "data": {
      "text/plain": [
       "['c', 'h', 'e', 'v', 'r', 'o', 'l', 'e', 't', ',', 'd', 'a', 'c', 'i', 'a']"
      ]
     },
     "execution_count": 114,
     "metadata": {},
     "output_type": "execute_result"
    }
   ],
   "source": [
    "l = list(str)\n",
    "print(type(l))\n",
    "l"
   ]
  },
  {
   "cell_type": "code",
   "execution_count": 116,
   "id": "76beaea6",
   "metadata": {},
   "outputs": [],
   "source": [
    "str = str.split()"
   ]
  },
  {
   "cell_type": "code",
   "execution_count": 117,
   "id": "6ec8d528",
   "metadata": {},
   "outputs": [
    {
     "data": {
      "text/plain": [
       "['chevrolet,dacia']"
      ]
     },
     "execution_count": 117,
     "metadata": {},
     "output_type": "execute_result"
    }
   ],
   "source": [
    "str"
   ]
  },
  {
   "cell_type": "code",
   "execution_count": 118,
   "id": "d6687d88",
   "metadata": {},
   "outputs": [
    {
     "data": {
      "text/plain": [
       "['chevrolet,dacia']"
      ]
     },
     "execution_count": 118,
     "metadata": {},
     "output_type": "execute_result"
    }
   ],
   "source": [
    "l = list(str)\n",
    "l"
   ]
  },
  {
   "cell_type": "code",
   "execution_count": 120,
   "id": "e46030a2",
   "metadata": {},
   "outputs": [
    {
     "data": {
      "text/plain": [
       "[1987, 1998, 1998, 2000]"
      ]
     },
     "execution_count": 120,
     "metadata": {},
     "output_type": "execute_result"
    }
   ],
   "source": [
    "years"
   ]
  },
  {
   "cell_type": "code",
   "execution_count": 121,
   "id": "d9ec966b",
   "metadata": {},
   "outputs": [
    {
     "data": {
      "text/plain": [
       "1987"
      ]
     },
     "execution_count": 121,
     "metadata": {},
     "output_type": "execute_result"
    }
   ],
   "source": [
    "min(years)"
   ]
  },
  {
   "cell_type": "code",
   "execution_count": 122,
   "id": "2c5e6cf6",
   "metadata": {},
   "outputs": [
    {
     "data": {
      "text/plain": [
       "2000"
      ]
     },
     "execution_count": 122,
     "metadata": {},
     "output_type": "execute_result"
    }
   ],
   "source": [
    "max(years)"
   ]
  },
  {
   "cell_type": "code",
   "execution_count": 123,
   "id": "bbe3dad8",
   "metadata": {},
   "outputs": [
    {
     "ename": "AttributeError",
     "evalue": "'list' object has no attribute 'max'",
     "output_type": "error",
     "traceback": [
      "\u001b[1;31m---------------------------------------------------------------------------\u001b[0m",
      "\u001b[1;31mAttributeError\u001b[0m                            Traceback (most recent call last)",
      "\u001b[1;32mC:\\Users\\ADMCN_~1\\AppData\\Local\\Temp/ipykernel_6128/2775968813.py\u001b[0m in \u001b[0;36m<module>\u001b[1;34m\u001b[0m\n\u001b[1;32m----> 1\u001b[1;33m \u001b[0myears\u001b[0m\u001b[1;33m.\u001b[0m\u001b[0mmax\u001b[0m\u001b[1;33m(\u001b[0m\u001b[1;33m)\u001b[0m\u001b[1;33m\u001b[0m\u001b[1;33m\u001b[0m\u001b[0m\n\u001b[0m",
      "\u001b[1;31mAttributeError\u001b[0m: 'list' object has no attribute 'max'"
     ]
    }
   ],
   "source": [
    "years.max()"
   ]
  },
  {
   "cell_type": "code",
   "execution_count": 124,
   "id": "25923aef",
   "metadata": {},
   "outputs": [
    {
     "data": {
      "text/plain": [
       "2"
      ]
     },
     "execution_count": 124,
     "metadata": {},
     "output_type": "execute_result"
    }
   ],
   "source": [
    "years.count(1998)"
   ]
  },
  {
   "cell_type": "code",
   "execution_count": 125,
   "id": "ecf50e31",
   "metadata": {},
   "outputs": [],
   "source": [
    "years.clear()"
   ]
  },
  {
   "cell_type": "code",
   "execution_count": 126,
   "id": "ea24d429",
   "metadata": {},
   "outputs": [
    {
     "data": {
      "text/plain": [
       "[]"
      ]
     },
     "execution_count": 126,
     "metadata": {},
     "output_type": "execute_result"
    }
   ],
   "source": [
    "years"
   ]
  },
  {
   "cell_type": "code",
   "execution_count": 128,
   "id": "ba3483f8",
   "metadata": {},
   "outputs": [
    {
     "name": "stdout",
     "output_type": "stream",
     "text": [
      "marka_1:ford\n",
      "marka_2:opel\n",
      "marka_3:audi\n"
     ]
    }
   ],
   "source": [
    "markalar = []\n",
    "\n",
    "marka1 = input(\"marka_1:\")\n",
    "marka2 = input(\"marka_2:\")\n",
    "marka3 = input(\"marka_3:\")\n",
    "\n",
    "markalar.append(marka1)\n",
    "markalar.append(marka2)\n",
    "markalar.append(marka3)"
   ]
  },
  {
   "cell_type": "code",
   "execution_count": 129,
   "id": "886c73e3",
   "metadata": {},
   "outputs": [
    {
     "data": {
      "text/plain": [
       "['ford', 'opel', 'audi']"
      ]
     },
     "execution_count": 129,
     "metadata": {},
     "output_type": "execute_result"
    }
   ],
   "source": [
    "markalar"
   ]
  },
  {
   "cell_type": "code",
   "execution_count": 135,
   "id": "34905d1d",
   "metadata": {},
   "outputs": [
    {
     "name": "stdout",
     "output_type": "stream",
     "text": [
      "marka: audi\n",
      "['audi']\n",
      "marka: ford\n",
      "['ford']\n",
      "marka: opel\n",
      "['opel']\n"
     ]
    }
   ],
   "source": [
    "\n",
    "   \n"
   ]
  },
  {
   "cell_type": "code",
   "execution_count": 136,
   "id": "4ec4fbd3",
   "metadata": {},
   "outputs": [
    {
     "data": {
      "text/plain": [
       "['opel']"
      ]
     },
     "execution_count": 136,
     "metadata": {},
     "output_type": "execute_result"
    }
   ],
   "source": [
    "markalar"
   ]
  },
  {
   "cell_type": "code",
   "execution_count": 137,
   "id": "b8542d29",
   "metadata": {},
   "outputs": [
    {
     "name": "stdout",
     "output_type": "stream",
     "text": [
      "44\n"
     ]
    }
   ],
   "source": [
    "ş = [\"malatya\",\"samsun\"]\n",
    "p = [44,55]\n",
    "print(p[ş.index(\"malatya\")])"
   ]
  },
  {
   "cell_type": "code",
   "execution_count": 140,
   "id": "0fa5bdb8",
   "metadata": {},
   "outputs": [],
   "source": [
    "students = {\n",
    "            \"120\":{\"ad\":\"ali\",\n",
    "                   \"soyadı\":\"yılmaz\",\n",
    "                   \"telefon\":\"5336485798\"\n",
    "                  },\n",
    "            \"125\":{\"ad\":\"can\",\n",
    "                   \"soyadı\":\"korkmaz\",\n",
    "                   \"telefon\":\"5264589887\"\n",
    "                  },\n",
    "            \"128\":{\"ad\":\"volkan\",\n",
    "                   \"soyadı\":\"yükselen\",\n",
    "                   \"telefon\":\"5265689854\"\n",
    "                  } \n",
    "           \n",
    "           }  "
   ]
  },
  {
   "cell_type": "code",
   "execution_count": 145,
   "id": "db771dfe",
   "metadata": {},
   "outputs": [
    {
     "name": "stdout",
     "output_type": "stream",
     "text": [
      "number: 120\n",
      "name: ali\n",
      "surname: yılmaz\n",
      "phone: 5336485798\n",
      "{'120': {'ad': 'ali', 'soyadı': 'yılmaz', 'telefon': '5336485798'}}\n"
     ]
    }
   ],
   "source": [
    "students = {}\n",
    "\n",
    "number = input(\"number: \")\n",
    "name = input(\"name: \")\n",
    "surname = input(\"surname: \")\n",
    "phone = input(\"phone: \")\n",
    "\n",
    "students[number] = {\"ad\": name,\n",
    "                    \"soyadı\":surname,\n",
    "                    \"telefon\":phone}\n",
    "print(students)\n",
    "\n"
   ]
  },
  {
   "cell_type": "code",
   "execution_count": 150,
   "id": "4a25cf9d",
   "metadata": {},
   "outputs": [
    {
     "name": "stdout",
     "output_type": "stream",
     "text": [
      "number: 120\n",
      "name: ali\n",
      "surname: yılmaz\n",
      "phone: 255689625\n",
      "{'120': {'ad': 'ali', 'soyad': 'yılmaz', 'tel': '255689625'}}\n",
      "number: 125\n",
      "name: cem\n",
      "surname: yılmaz\n",
      "phone: 2524589622\n",
      "{'120': {'ad': 'ali', 'soyad': 'yılmaz', 'tel': '255689625'}, '125': {'ad': 'cem', 'soyad': 'yılmaz', 'tel': '2524589622'}}\n",
      "number: 130\n",
      "name: adem\n",
      "surname: bskırcı\n",
      "phone: 2589512\n",
      "{'120': {'ad': 'ali', 'soyad': 'yılmaz', 'tel': '255689625'}, '125': {'ad': 'cem', 'soyad': 'yılmaz', 'tel': '2524589622'}, '130': {'ad': 'adem', 'soyad': 'bskırcı', 'tel': '2589512'}}\n"
     ]
    }
   ],
   "source": [
    "students = {}\n",
    "\n",
    "number = input(\"number: \")\n",
    "name = input(\"name: \")\n",
    "surname = input(\"surname: \")\n",
    "phone = input(\"phone: \")\n",
    "\n",
    "students.update({number:{\"ad\":name,\n",
    "                         \"soyad\":surname,\n",
    "                         \"tel\":phone}}\n",
    "                )\n",
    "print(students)\n",
    "\n",
    "number = input(\"number: \")\n",
    "name = input(\"name: \")\n",
    "surname = input(\"surname: \")\n",
    "phone = input(\"phone: \")\n",
    "\n",
    "students.update({number:{\"ad\":name,\n",
    "                         \"soyad\":surname,\n",
    "                         \"tel\":phone}}\n",
    "                )\n",
    "print(students)\n",
    "\n",
    "number = input(\"number: \")\n",
    "name = input(\"name: \")\n",
    "surname = input(\"surname: \")\n",
    "phone = input(\"phone: \")\n",
    "\n",
    "students.update({number:{\"ad\":name,\n",
    "                         \"soyad\":surname,\n",
    "                         \"tel\":phone}}\n",
    "                )\n",
    "print(students)\n",
    "\n"
   ]
  },
  {
   "cell_type": "code",
   "execution_count": 151,
   "id": "f7fee417",
   "metadata": {},
   "outputs": [
    {
     "data": {
      "text/plain": [
       "{'120': {'ad': 'ali', 'soyad': 'yılmaz', 'tel': '255689625'},\n",
       " '125': {'ad': 'cem', 'soyad': 'yılmaz', 'tel': '2524589622'},\n",
       " '130': {'ad': 'adem', 'soyad': 'bskırcı', 'tel': '2589512'}}"
      ]
     },
     "execution_count": 151,
     "metadata": {},
     "output_type": "execute_result"
    }
   ],
   "source": [
    "students"
   ]
  },
  {
   "cell_type": "code",
   "execution_count": 152,
   "id": "91152a36",
   "metadata": {},
   "outputs": [
    {
     "name": "stdout",
     "output_type": "stream",
     "text": [
      "öğrenci no: 120\n",
      "{'ad': 'ali', 'soyad': 'yılmaz', 'tel': '255689625'}\n"
     ]
    }
   ],
   "source": [
    "stdNm= input(\"öğrenci no: \")\n",
    "print(students[stdNm])"
   ]
  },
  {
   "cell_type": "code",
   "execution_count": 163,
   "id": "35387bc6",
   "metadata": {
    "scrolled": true
   },
   "outputs": [
    {
     "name": "stdout",
     "output_type": "stream",
     "text": [
      "number: 1\n",
      "name: 1\n",
      "surname: 1\n",
      "phone: 1\n",
      "{'1': {'ad': '1', 'soyad': '1', 'tel': '1'}}\n",
      "number: 1\n",
      "name: 1\n",
      "surname: 1\n",
      "phone: 1\n",
      "{'1': {'ad': '1', 'soyad': '1', 'tel': '1'}}\n",
      "number: 1\n",
      "name: 1\n",
      "surname: 1\n",
      "phone: 1\n",
      "{'1': {'ad': '1', 'soyad': '1', 'tel': '1'}}\n"
     ]
    }
   ],
   "source": [
    "i = 0\n",
    "while (i<3):\n",
    "    \n",
    "\n",
    "    students = {}\n",
    "\n",
    "    number = input(\"number: \")\n",
    "    name = input(\"name: \")\n",
    "    surname = input(\"surname: \")\n",
    "    phone = input(\"phone: \")\n",
    "\n",
    "    students.update({number:{\"ad\":name,\n",
    "                         \"soyad\":surname,\n",
    "                         \"tel\":phone}}\n",
    "                   )\n",
    "    print(students)\n",
    "    i += 1\n",
    "   \n",
    "\n"
   ]
  },
  {
   "cell_type": "code",
   "execution_count": 164,
   "id": "2fbd9eb7",
   "metadata": {},
   "outputs": [
    {
     "data": {
      "text/plain": [
       "{'1': {'ad': '1', 'soyad': '1', 'tel': '1'}}"
      ]
     },
     "execution_count": 164,
     "metadata": {},
     "output_type": "execute_result"
    }
   ],
   "source": [
    "students"
   ]
  },
  {
   "cell_type": "code",
   "execution_count": 165,
   "id": "7418ef87",
   "metadata": {},
   "outputs": [],
   "source": [
    "x = 5\n",
    "y = 25\n"
   ]
  },
  {
   "cell_type": "code",
   "execution_count": 166,
   "id": "bd150324",
   "metadata": {},
   "outputs": [],
   "source": [
    "x = y"
   ]
  },
  {
   "cell_type": "code",
   "execution_count": 167,
   "id": "faa256a3",
   "metadata": {},
   "outputs": [
    {
     "data": {
      "text/plain": [
       "25"
      ]
     },
     "execution_count": 167,
     "metadata": {},
     "output_type": "execute_result"
    }
   ],
   "source": [
    "x"
   ]
  },
  {
   "cell_type": "code",
   "execution_count": 168,
   "id": "7bda4a18",
   "metadata": {},
   "outputs": [
    {
     "data": {
      "text/plain": [
       "25"
      ]
     },
     "execution_count": 168,
     "metadata": {},
     "output_type": "execute_result"
    }
   ],
   "source": [
    "y"
   ]
  },
  {
   "cell_type": "code",
   "execution_count": 169,
   "id": "dd9984c1",
   "metadata": {},
   "outputs": [],
   "source": [
    "y = 10"
   ]
  },
  {
   "cell_type": "code",
   "execution_count": 170,
   "id": "f706e914",
   "metadata": {},
   "outputs": [
    {
     "data": {
      "text/plain": [
       "25"
      ]
     },
     "execution_count": 170,
     "metadata": {},
     "output_type": "execute_result"
    }
   ],
   "source": [
    "x"
   ]
  },
  {
   "cell_type": "code",
   "execution_count": 171,
   "id": "eca86605",
   "metadata": {},
   "outputs": [
    {
     "data": {
      "text/plain": [
       "10"
      ]
     },
     "execution_count": 171,
     "metadata": {},
     "output_type": "execute_result"
    }
   ],
   "source": [
    "y"
   ]
  },
  {
   "cell_type": "code",
   "execution_count": 172,
   "id": "9beaa6cc",
   "metadata": {},
   "outputs": [],
   "source": [
    "x = 5\n",
    "y = 25"
   ]
  },
  {
   "cell_type": "code",
   "execution_count": 173,
   "id": "08a1bf97",
   "metadata": {},
   "outputs": [],
   "source": [
    "y = x"
   ]
  },
  {
   "cell_type": "code",
   "execution_count": 174,
   "id": "26913dcb",
   "metadata": {},
   "outputs": [
    {
     "name": "stdout",
     "output_type": "stream",
     "text": [
      "5 5\n"
     ]
    }
   ],
   "source": [
    "print(x,y)"
   ]
  },
  {
   "cell_type": "code",
   "execution_count": 175,
   "id": "abcd05f8",
   "metadata": {},
   "outputs": [],
   "source": [
    "a = [\"apple\",\"banana\"]\n",
    "b = [\"apple\",\"banana\"]\n"
   ]
  },
  {
   "cell_type": "code",
   "execution_count": 176,
   "id": "0eca0929",
   "metadata": {},
   "outputs": [],
   "source": [
    "a = b"
   ]
  },
  {
   "cell_type": "code",
   "execution_count": 177,
   "id": "d155c992",
   "metadata": {},
   "outputs": [
    {
     "data": {
      "text/plain": [
       "['apple', 'banana']"
      ]
     },
     "execution_count": 177,
     "metadata": {},
     "output_type": "execute_result"
    }
   ],
   "source": [
    "a"
   ]
  },
  {
   "cell_type": "code",
   "execution_count": 178,
   "id": "cc8648f6",
   "metadata": {},
   "outputs": [
    {
     "data": {
      "text/plain": [
       "['apple', 'banana']"
      ]
     },
     "execution_count": 178,
     "metadata": {},
     "output_type": "execute_result"
    }
   ],
   "source": [
    "b"
   ]
  },
  {
   "cell_type": "code",
   "execution_count": 179,
   "id": "6dfa7a09",
   "metadata": {},
   "outputs": [],
   "source": [
    "b[0] = \"grape\""
   ]
  },
  {
   "cell_type": "code",
   "execution_count": 180,
   "id": "fca62b89",
   "metadata": {},
   "outputs": [
    {
     "data": {
      "text/plain": [
       "['grape', 'banana']"
      ]
     },
     "execution_count": 180,
     "metadata": {},
     "output_type": "execute_result"
    }
   ],
   "source": [
    "a"
   ]
  },
  {
   "cell_type": "code",
   "execution_count": 181,
   "id": "ef6308f7",
   "metadata": {},
   "outputs": [
    {
     "data": {
      "text/plain": [
       "['grape', 'banana']"
      ]
     },
     "execution_count": 181,
     "metadata": {},
     "output_type": "execute_result"
    }
   ],
   "source": [
    "b"
   ]
  },
  {
   "cell_type": "code",
   "execution_count": 182,
   "id": "52e7eb39",
   "metadata": {},
   "outputs": [
    {
     "name": "stdout",
     "output_type": "stream",
     "text": [
      "5 10 15\n"
     ]
    }
   ],
   "source": [
    "x,y,z = 5,10,15\n",
    "print(x,y,z)"
   ]
  },
  {
   "cell_type": "code",
   "execution_count": 183,
   "id": "f984a7b8",
   "metadata": {},
   "outputs": [
    {
     "name": "stdout",
     "output_type": "stream",
     "text": [
      "10 5 15\n"
     ]
    }
   ],
   "source": [
    "x,y = y,x\n",
    "print(x,y,z)"
   ]
  },
  {
   "cell_type": "code",
   "execution_count": 184,
   "id": "439ca4f3",
   "metadata": {},
   "outputs": [
    {
     "name": "stdout",
     "output_type": "stream",
     "text": [
      "15 5 15\n"
     ]
    }
   ],
   "source": [
    "x += 5# x = x+5\n",
    "print(x,y,z)"
   ]
  },
  {
   "cell_type": "code",
   "execution_count": 185,
   "id": "b101801b",
   "metadata": {},
   "outputs": [
    {
     "name": "stdout",
     "output_type": "stream",
     "text": [
      "75 5 15\n"
     ]
    }
   ],
   "source": [
    "x *= 5\n",
    "print(x,y,z)"
   ]
  },
  {
   "cell_type": "code",
   "execution_count": 186,
   "id": "c6a495de",
   "metadata": {},
   "outputs": [
    {
     "name": "stdout",
     "output_type": "stream",
     "text": [
      "<class 'tuple'>\n"
     ]
    }
   ],
   "source": [
    "values = 1,2,3\n",
    "print(type(values))"
   ]
  },
  {
   "cell_type": "code",
   "execution_count": 187,
   "id": "7c4276c5",
   "metadata": {},
   "outputs": [
    {
     "name": "stdout",
     "output_type": "stream",
     "text": [
      "1 2 3\n"
     ]
    }
   ],
   "source": [
    "x,y,z = values\n",
    "print(x,y,z)"
   ]
  },
  {
   "cell_type": "code",
   "execution_count": 200,
   "id": "a0522b6c",
   "metadata": {},
   "outputs": [],
   "source": [
    "x,y,z = 2,5,10\n",
    "numbers = {1,5,7,10,6}\n"
   ]
  },
  {
   "cell_type": "code",
   "execution_count": 201,
   "id": "98815857",
   "metadata": {},
   "outputs": [
    {
     "data": {
      "text/plain": [
       "set"
      ]
     },
     "execution_count": 201,
     "metadata": {},
     "output_type": "execute_result"
    }
   ],
   "source": [
    "type(numbers)"
   ]
  },
  {
   "cell_type": "code",
   "execution_count": 199,
   "id": "960ed103",
   "metadata": {},
   "outputs": [
    {
     "data": {
      "text/plain": [
       "{1, 5, 6, 7, 10}"
      ]
     },
     "execution_count": 199,
     "metadata": {},
     "output_type": "execute_result"
    }
   ],
   "source": [
    "numbers"
   ]
  },
  {
   "cell_type": "code",
   "execution_count": 202,
   "id": "151207b3",
   "metadata": {},
   "outputs": [],
   "source": [
    "x,y,z = 2,5,10\n",
    "numbers = 1,5,7,10,6"
   ]
  },
  {
   "cell_type": "code",
   "execution_count": 204,
   "id": "4690a67b",
   "metadata": {},
   "outputs": [
    {
     "name": "stdout",
     "output_type": "stream",
     "text": [
      "birinci sayıyı girin: 12\n",
      "ikinci sayıyı girin: 15\n",
      "163\n"
     ]
    }
   ],
   "source": [
    "a = int(input(\"birinci sayıyı girin: \"))\n",
    "b = int(input(\"ikinci sayıyı girin: \"))\n",
    "\n",
    "print((a * b)-(x+y+z))"
   ]
  },
  {
   "cell_type": "code",
   "execution_count": 207,
   "id": "52ff9af6",
   "metadata": {},
   "outputs": [
    {
     "name": "stdout",
     "output_type": "stream",
     "text": [
      "-2\n"
     ]
    }
   ],
   "source": [
    "print((2-y)//(x))"
   ]
  },
  {
   "cell_type": "code",
   "execution_count": 208,
   "id": "f9c95b88",
   "metadata": {},
   "outputs": [
    {
     "name": "stdout",
     "output_type": "stream",
     "text": [
      "2\n"
     ]
    }
   ],
   "source": [
    "print((x + y + z) % 3)"
   ]
  },
  {
   "cell_type": "code",
   "execution_count": 209,
   "id": "5a8b5845",
   "metadata": {},
   "outputs": [
    {
     "name": "stdout",
     "output_type": "stream",
     "text": [
      "1\n"
     ]
    }
   ],
   "source": [
    "print((4-y) ** x)"
   ]
  },
  {
   "cell_type": "code",
   "execution_count": 222,
   "id": "d62f58d1",
   "metadata": {},
   "outputs": [],
   "source": [
    "x, *y, z= numbers"
   ]
  },
  {
   "cell_type": "code",
   "execution_count": 223,
   "id": "43d09088",
   "metadata": {},
   "outputs": [
    {
     "data": {
      "text/plain": [
       "(1, 5, 7, 10, 6)"
      ]
     },
     "execution_count": 223,
     "metadata": {},
     "output_type": "execute_result"
    }
   ],
   "source": [
    "numbers"
   ]
  },
  {
   "cell_type": "code",
   "execution_count": 224,
   "id": "9ae43cb4",
   "metadata": {},
   "outputs": [
    {
     "data": {
      "text/plain": [
       "1"
      ]
     },
     "execution_count": 224,
     "metadata": {},
     "output_type": "execute_result"
    }
   ],
   "source": [
    "x"
   ]
  },
  {
   "cell_type": "code",
   "execution_count": 225,
   "id": "3eb46ba0",
   "metadata": {},
   "outputs": [
    {
     "data": {
      "text/plain": [
       "[5, 7, 10]"
      ]
     },
     "execution_count": 225,
     "metadata": {},
     "output_type": "execute_result"
    }
   ],
   "source": [
    "y"
   ]
  },
  {
   "cell_type": "code",
   "execution_count": 226,
   "id": "c48c076a",
   "metadata": {},
   "outputs": [
    {
     "data": {
      "text/plain": [
       "6"
      ]
     },
     "execution_count": 226,
     "metadata": {},
     "output_type": "execute_result"
    }
   ],
   "source": [
    "z"
   ]
  },
  {
   "cell_type": "code",
   "execution_count": 227,
   "id": "f3c4043f",
   "metadata": {},
   "outputs": [
    {
     "name": "stdout",
     "output_type": "stream",
     "text": [
      "216\n"
     ]
    }
   ],
   "source": [
    "print(z**3)"
   ]
  },
  {
   "cell_type": "code",
   "execution_count": 228,
   "id": "afc6f32a",
   "metadata": {},
   "outputs": [],
   "source": [
    "result = y[0]+y[1]+y[2]"
   ]
  },
  {
   "cell_type": "code",
   "execution_count": 229,
   "id": "9e2fabe4",
   "metadata": {},
   "outputs": [
    {
     "data": {
      "text/plain": [
       "22"
      ]
     },
     "execution_count": 229,
     "metadata": {},
     "output_type": "execute_result"
    }
   ],
   "source": [
    "result"
   ]
  },
  {
   "cell_type": "code",
   "execution_count": 232,
   "id": "0db430e1",
   "metadata": {},
   "outputs": [
    {
     "name": "stdout",
     "output_type": "stream",
     "text": [
      "True\n"
     ]
    }
   ],
   "source": [
    "x = 6\n",
    "result = 5 < x < 10\n",
    "\n",
    "print(result)"
   ]
  },
  {
   "cell_type": "code",
   "execution_count": 233,
   "id": "ed51f346",
   "metadata": {},
   "outputs": [
    {
     "data": {
      "text/plain": [
       "True"
      ]
     },
     "execution_count": 233,
     "metadata": {},
     "output_type": "execute_result"
    }
   ],
   "source": [
    "result = x > 5 and x < 10"
   ]
  },
  {
   "cell_type": "code",
   "execution_count": 234,
   "id": "35c289e6",
   "metadata": {},
   "outputs": [
    {
     "name": "stdout",
     "output_type": "stream",
     "text": [
      "True\n"
     ]
    }
   ],
   "source": [
    "print(result)"
   ]
  },
  {
   "cell_type": "code",
   "execution_count": 237,
   "id": "9d9777f2",
   "metadata": {},
   "outputs": [
    {
     "name": "stdout",
     "output_type": "stream",
     "text": [
      "bir sayı girin: 0\n",
      "Girdiğiniz sayının 0 ila 100 arasında olma durumu: False\n"
     ]
    }
   ],
   "source": [
    "sayı = float(input(\"bir sayı girin: \"))\n",
    "\n",
    "r = (sayı > 0) and (sayı < 100)\n",
    "print(f\"Girdiğiniz sayının 0 ila 100 arasında olma durumu: {r}\")"
   ]
  },
  {
   "cell_type": "code",
   "execution_count": 239,
   "id": "a02904de",
   "metadata": {},
   "outputs": [
    {
     "name": "stdout",
     "output_type": "stream",
     "text": [
      "bir sayı girin: 56\n"
     ]
    },
    {
     "data": {
      "text/plain": [
       "True"
      ]
     },
     "execution_count": 239,
     "metadata": {},
     "output_type": "execute_result"
    }
   ],
   "source": [
    "sayı = float(input(\"bir sayı girin: \"))\n",
    "\n",
    "(sayı > 0) and (sayı % 2 == 0)"
   ]
  },
  {
   "cell_type": "code",
   "execution_count": 242,
   "id": "0f72101e",
   "metadata": {},
   "outputs": [
    {
     "name": "stdout",
     "output_type": "stream",
     "text": [
      "1. sayı: 89\n",
      "2. sayı: 85.5\n",
      "3. sayı: 85.9\n",
      "a en büyük sayı mı : True\n"
     ]
    }
   ],
   "source": [
    "a = float(input(\"1. sayı: \"))\n",
    "b = float(input(\"2. sayı: \"))\n",
    "c = float(input(\"3. sayı: \"))\n",
    "\n",
    "r = (a > b) and (a > c)\n",
    "\n",
    "print(f\"a en büyük sayı mı : {r}\")"
   ]
  },
  {
   "cell_type": "code",
   "execution_count": 249,
   "id": "36c6fd3f",
   "metadata": {},
   "outputs": [
    {
     "name": "stdout",
     "output_type": "stream",
     "text": [
      "vize1: 100\n",
      "vize2: 9\n",
      "f: 99\n",
      "geçti mi: True\n",
      "ortalama: 81.2\n"
     ]
    }
   ],
   "source": [
    "v1 = float(input(\"vize1: \"))\n",
    "v2 = float(input(\"vize2: \"))\n",
    "f = float(input(\"f: \"))\n",
    "\n",
    "ort = ((v1 + v2) / 2) * 0.4 + (f * 0.6)\n",
    "\n",
    "r = (ort >= 50) and (f >= 50)\n",
    "\n",
    "print(f\"geçti mi: {r}\\nortalama: {ort:1.6}\")"
   ]
  },
  {
   "cell_type": "code",
   "execution_count": 250,
   "id": "c3f9e136",
   "metadata": {},
   "outputs": [
    {
     "name": "stdout",
     "output_type": "stream",
     "text": [
      "vize1: 10\n",
      "vize2: 10\n",
      "f: 70\n",
      "geçti mi: True\n",
      "ortalama: 46.0\n"
     ]
    }
   ],
   "source": [
    "v1 = float(input(\"vize1: \"))\n",
    "v2 = float(input(\"vize2: \"))\n",
    "f = float(input(\"f: \"))\n",
    "\n",
    "ort = ((v1 + v2) / 2) * 0.4 + (f * 0.6)\n",
    "\n",
    "r = (ort >= 50) or (f >= 70)\n",
    "\n",
    "print(f\"geçti mi: {r}\\nortalama: {ort:1.6}\")"
   ]
  },
  {
   "cell_type": "code",
   "execution_count": 251,
   "id": "9e691820",
   "metadata": {},
   "outputs": [],
   "source": [
    "x = [1,2,3]\n",
    "y = [2,4]\n",
    "\n",
    "del x[2]\n",
    "y[1] = 1\n",
    "y.reverse()\n"
   ]
  },
  {
   "cell_type": "code",
   "execution_count": 252,
   "id": "fa6bfc6a",
   "metadata": {},
   "outputs": [
    {
     "data": {
      "text/plain": [
       "[1, 2]"
      ]
     },
     "execution_count": 252,
     "metadata": {},
     "output_type": "execute_result"
    }
   ],
   "source": [
    "x"
   ]
  },
  {
   "cell_type": "code",
   "execution_count": 253,
   "id": "d10a183f",
   "metadata": {},
   "outputs": [
    {
     "data": {
      "text/plain": [
       "[1, 2]"
      ]
     },
     "execution_count": 253,
     "metadata": {},
     "output_type": "execute_result"
    }
   ],
   "source": [
    "y"
   ]
  },
  {
   "cell_type": "code",
   "execution_count": 254,
   "id": "d62fcd40",
   "metadata": {},
   "outputs": [
    {
     "name": "stdout",
     "output_type": "stream",
     "text": [
      "True\n"
     ]
    }
   ],
   "source": [
    "print(x == y)"
   ]
  },
  {
   "cell_type": "code",
   "execution_count": 255,
   "id": "fdd2383b",
   "metadata": {},
   "outputs": [
    {
     "name": "stdout",
     "output_type": "stream",
     "text": [
      "False\n"
     ]
    }
   ],
   "source": [
    "print(x is y)"
   ]
  },
  {
   "cell_type": "code",
   "execution_count": 256,
   "id": "e7c69bc6",
   "metadata": {},
   "outputs": [
    {
     "name": "stdout",
     "output_type": "stream",
     "text": [
      "True\n"
     ]
    }
   ],
   "source": [
    "print( x is not y)"
   ]
  },
  {
   "cell_type": "code",
   "execution_count": 257,
   "id": "d0f1677d",
   "metadata": {},
   "outputs": [
    {
     "name": "stdout",
     "output_type": "stream",
     "text": [
      "True\n"
     ]
    }
   ],
   "source": [
    "print(2 in y)"
   ]
  },
  {
   "cell_type": "code",
   "execution_count": 259,
   "id": "d7a862b2",
   "metadata": {},
   "outputs": [
    {
     "name": "stdout",
     "output_type": "stream",
     "text": [
      "False\n"
     ]
    }
   ],
   "source": [
    "print(2 not in  y)"
   ]
  },
  {
   "cell_type": "code",
   "execution_count": 268,
   "id": "f2fd53f7",
   "metadata": {},
   "outputs": [
    {
     "name": "stdout",
     "output_type": "stream",
     "text": [
      "UN: ass\n",
      "P: 455\n",
      "kullanıcı bilgisi ya da parola yanlış...\n"
     ]
    }
   ],
   "source": [
    "userName = \"edm\"\n",
    "password = \"123\"\n",
    "\n",
    "UN = input(\"UN: \")\n",
    "P = input(\"P: \")\n",
    "if (userName == UN):\n",
    "    if (password == P):\n",
    "        print(\"WELCOME...\")\n",
    "    else:\n",
    "        print(\"parola yanlış...\")\n",
    "else:\n",
    "    print(\"kullanıcı bilgisi  yanlış...\")"
   ]
  },
  {
   "cell_type": "code",
   "execution_count": 276,
   "id": "b7d1be77",
   "metadata": {},
   "outputs": [
    {
     "name": "stdout",
     "output_type": "stream",
     "text": [
      "name: adem\n",
      "age: 19\n",
      "education: university\n",
      "Sayın adem ehliyet almaya hakkınız bulunmaktadır...\n"
     ]
    }
   ],
   "source": [
    "name = input(\"name: \")\n",
    "age = input(\"age: \")\n",
    "education = input(\"education: \")\n",
    "\n",
    "if (age >= \"18\"):\n",
    "    if (education == \"highschool\") or (education == \"university\"):\n",
    "        print(f\"Sayın {name} ehliyet almaya hakkınız bulunmaktadır...\")\n",
    "    else:\n",
    "        print(\"ehliyet için öğrenim durumunuz yetersiz...\")\n",
    "else:\n",
    "    print(f\"Sayın {name} ehliyet almak için yaşınız yetersiz....\")"
   ]
  },
  {
   "cell_type": "code",
   "execution_count": 270,
   "id": "b77bffbc",
   "metadata": {},
   "outputs": [
    {
     "data": {
      "text/plain": [
       "str"
      ]
     },
     "execution_count": 270,
     "metadata": {},
     "output_type": "execute_result"
    }
   ],
   "source": [
    "type(age)"
   ]
  },
  {
   "cell_type": "code",
   "execution_count": 279,
   "id": "fd46dcff",
   "metadata": {},
   "outputs": [
    {
     "name": "stdout",
     "output_type": "stream",
     "text": [
      "yazılı1: 102\n",
      "yazılı2: 148\n",
      "sözlü: 478\n",
      "YANLIŞ BİLGİ GİRDİNİZ\n"
     ]
    }
   ],
   "source": [
    "y1 = float(input(\"yazılı1: \"))\n",
    "y2 = float(input(\"yazılı2: \"))\n",
    "s = float(input(\"sözlü: \"))\n",
    "\n",
    "ort = (y1 + y2 +  s)/3\n",
    "\n",
    "if (ort <= 24):\n",
    "    print(\"NOT=0\")\n",
    "elif (ort > 24) and (ort <= 44):\n",
    "    print(\"NOT=1\")\n",
    "elif (ort > 44) and (ort <= 54):\n",
    "    print(\"NOT=2\")\n",
    "elif (ort > 54) and (ort <= 69):\n",
    "    print(\"NOT=3\")\n",
    "elif (ort > 69) and (ort <= 84):\n",
    "    print(\"NOT=4\")\n",
    "elif (ort > 84) and (ort <= 100):\n",
    "    print(\"NOT=5\")\n",
    "else:\n",
    "    print(\"YANLIŞ BİLGİ GİRDİNİZ\")\n",
    "\n",
    "    \n",
    "    "
   ]
  },
  {
   "cell_type": "code",
   "execution_count": 280,
   "id": "cb0b0f98",
   "metadata": {},
   "outputs": [
    {
     "name": "stdout",
     "output_type": "stream",
     "text": [
      "aracınızın trafiğe çıkış gününü yazın: 895\n",
      "3. servis aralığı...\n"
     ]
    }
   ],
   "source": [
    "day= int(input(\"aracınızın trafiğe çıkış gününü yazın: \"))\n",
    "\n",
    "if day <= 365:\n",
    "    print(\"1. servis aralığı...\")\n",
    "elif (day > 365) and (day <= 365*2):\n",
    "    print(\"2. servis aralığı...\")\n",
    "elif (day > 365*2) and (day <= 365*3):\n",
    "    print(\"3. servis aralığı...\")\n",
    "else:\n",
    "    print(\"hatalı giriş...\")\n",
    "    "
   ]
  },
  {
   "cell_type": "code",
   "execution_count": 303,
   "id": "586393ca",
   "metadata": {},
   "outputs": [],
   "source": [
    "import datetime\n",
    "from datetime import date"
   ]
  },
  {
   "cell_type": "code",
   "execution_count": 284,
   "id": "0a8b30c1",
   "metadata": {},
   "outputs": [
    {
     "data": {
      "text/plain": [
       "datetime.datetime(2022, 5, 26, 14, 35, 28, 432568)"
      ]
     },
     "execution_count": 284,
     "metadata": {},
     "output_type": "execute_result"
    }
   ],
   "source": [
    "x = datetime.datetime.now()"
   ]
  },
  {
   "cell_type": "code",
   "execution_count": 286,
   "id": "e7c2b2a1",
   "metadata": {},
   "outputs": [
    {
     "data": {
      "text/plain": [
       "float"
      ]
     },
     "execution_count": 286,
     "metadata": {},
     "output_type": "execute_result"
    }
   ],
   "source": [
    "y = 22/5/2021\n",
    "type(y)"
   ]
  },
  {
   "cell_type": "code",
   "execution_count": 297,
   "id": "d5fd9044",
   "metadata": {},
   "outputs": [],
   "source": [
    "x = datetime.date.today()"
   ]
  },
  {
   "cell_type": "code",
   "execution_count": 298,
   "id": "aad168f7",
   "metadata": {},
   "outputs": [
    {
     "data": {
      "text/plain": [
       "datetime.date"
      ]
     },
     "execution_count": 298,
     "metadata": {},
     "output_type": "execute_result"
    }
   ],
   "source": [
    "type(x)"
   ]
  },
  {
   "cell_type": "code",
   "execution_count": 328,
   "id": "173a2076",
   "metadata": {},
   "outputs": [
    {
     "name": "stdout",
     "output_type": "stream",
     "text": [
      "aracınızın trafiğe çıkış gününü(yıl/ay/gün) şeklinde yazın: 2019/8/29\n",
      "3. bakım için son 94 gününüz...\n"
     ]
    }
   ],
   "source": [
    "tarih = input(\"aracınızın trafiğe çıkış gününü(yıl/ay/gün) şeklinde yazın: \")\n",
    "tarih = tarih.split(\"/\")\n",
    "\n",
    "şimdi = datetime.datetime.now()\n",
    "trafigeÇıkış = datetime.datetime(int(tarih[0]),int(tarih[1]),int(tarih[2]))\n",
    "fark = şimdi - trafigeÇıkış\n",
    "day = fark.days\n",
    "\n",
    "if day <= 365:\n",
    "    print(f\"1. bakım için son {365-day} gününüz...\")\n",
    "elif (day > 365) and (day <= 365*2):\n",
    "    print(f\"2. bakım için son {(365*2)-day} gününüz...\")\n",
    "elif (day > 365*2) and (day <= 365*3):\n",
    "    print(f\"3. bakım için son {(365*3)-day} gününüz...\")\n",
    "else:\n",
    "    print(\"hatalı giriş...\")\n",
    "\n",
    "\n"
   ]
  },
  {
   "cell_type": "code",
   "execution_count": 333,
   "id": "aaf46744",
   "metadata": {},
   "outputs": [
    {
     "name": "stdout",
     "output_type": "stream",
     "text": [
      "sayı: -5\n",
      "girdiğiniz -5 sayısı 0 ın altındadır.\n"
     ]
    }
   ],
   "source": [
    "sayı = int(input(\"sayı: \"))\n",
    "\n",
    "if sayı >= 0 and sayı <= 100:\n",
    "    print(f\"girdiğiniz {sayı} sayısı 0 ila 100 arasındadır.\")\n",
    "elif sayı < 0:\n",
    "    print(f\"girdiğiniz {sayı} sayısı 0 ın altındadır.\")\n",
    "elif sayı > 100:\n",
    "    print(f\"girdiğiniz {sayı} sayısı 100 den büyüktür.\")      "
   ]
  },
  {
   "cell_type": "code",
   "execution_count": 344,
   "id": "699f348d",
   "metadata": {},
   "outputs": [
    {
     "name": "stdout",
     "output_type": "stream",
     "text": [
      "sayı: -9\n",
      "NEGATİF...\n"
     ]
    }
   ],
   "source": [
    "sayı = float(input(\"sayı: \"))\n",
    "\n",
    "if sayı >= 0:\n",
    "    if sayı == 0:\n",
    "        print(\"SIFIRDIR...\")\n",
    "    \n",
    "    elif sayı % 2 == 0:\n",
    "        print(\"POZİTİF ÇİFT SAYI...\")\n",
    "    else:\n",
    "        print(\"TEKTİR...\")\n",
    "        \n",
    "else:\n",
    "    print(\"NEGATİF...\")\n",
    "\n",
    "    "
   ]
  },
  {
   "cell_type": "code",
   "execution_count": 352,
   "id": "6292ab88",
   "metadata": {},
   "outputs": [
    {
     "name": "stdout",
     "output_type": "stream",
     "text": [
      "kullanıcı adı: edm\n",
      "şifre: 145\n",
      "Parola yanlış...\n"
     ]
    }
   ],
   "source": [
    "kullancıAdı = \"edm\"\n",
    "parola = \"123\"\n",
    "\n",
    "user = input(\"kullanıcı adı: \")\n",
    "password = input(\"şifre: \")\n",
    "\n",
    "if kullancıAdı == user and password == parola:\n",
    "    print(\"hoşgeldiniz...\")\n",
    "elif parola != password and kullancıAdı == user:\n",
    "    print(\"Parola yanlış...\")\n",
    "elif kullancıAdı != user and parola == password:\n",
    "        print(\"Kullanıcı adı yanlış...\")\n",
    "else:\n",
    "    print(\"hatalı kullanıcı adı ve hatalı parola...\")"
   ]
  },
  {
   "cell_type": "code",
   "execution_count": 354,
   "id": "e296b10f",
   "metadata": {},
   "outputs": [
    {
     "name": "stdout",
     "output_type": "stream",
     "text": [
      "kullanıcı adı: esd\n",
      "şifre: 145\n",
      "kullanıcı adı yanlış\n"
     ]
    }
   ],
   "source": [
    "kullancıAdı = \"edm\"\n",
    "parola = \"123\"\n",
    "\n",
    "user = input(\"kullanıcı adı: \")\n",
    "password = input(\"şifre: \")\n",
    "\n",
    "if kullancıAdı == user:\n",
    "    if parola != password:\n",
    "        print(\"parola yanlış\")\n",
    "    else:\n",
    "        print(\"hoşgeldiniz...\")\n",
    "else:\n",
    "    print(\"kullanıcı adı yanlış\")"
   ]
  },
  {
   "cell_type": "code",
   "execution_count": null,
   "id": "80615f0b",
   "metadata": {},
   "outputs": [],
   "source": [
    "a = float(input(\"1. sayı: \"))\n",
    "b = float(input(\"2. sayı: \"))\n",
    "c = float(input(\"3. sayı: \"))\n",
    "\n",
    "if a == b and b == c:\n",
    "    print(\"a=b=c\")\n",
    "elif a > b and a > c:\n",
    "    if b > c:\n",
    "        print(\"a>b>c\")\n",
    "    else:\n",
    "        print(\"a>c>b\")\n",
    "elif b > a and b > c:\n",
    "    if a > c:\n",
    "        print(\"b>a>c\")\n",
    "    else:\n",
    "        print(\"b>c>a\") \n",
    "elif c > b and c > a:\n",
    "    if b > a:\n",
    "        print(\"c>b>a\")\n",
    "    else:\n",
    "        print(\"c>a>b\")\n"
   ]
  },
  {
   "cell_type": "code",
   "execution_count": 356,
   "id": "7b781ce8",
   "metadata": {},
   "outputs": [
    {
     "name": "stdout",
     "output_type": "stream",
     "text": [
      "my name is adem\n",
      "my name is cansu\n",
      "my name is ömer\n"
     ]
    }
   ],
   "source": [
    "names = [\"adem\",\"cansu\",\"ömer\"]\n",
    "\n",
    "for i in names:\n",
    "    print(f\"my name is {i}\")"
   ]
  },
  {
   "cell_type": "code",
   "execution_count": 357,
   "id": "53307d64",
   "metadata": {},
   "outputs": [
    {
     "name": "stdout",
     "output_type": "stream",
     "text": [
      "[1, 2]\n",
      "[3, 4]\n",
      "[5, 6]\n"
     ]
    }
   ],
   "source": [
    "tuple = ([1,2],[3,4],[5,6])\n",
    "\n",
    "for i in tuple:\n",
    "    print(i)"
   ]
  },
  {
   "cell_type": "code",
   "execution_count": 361,
   "id": "dd78e87e",
   "metadata": {},
   "outputs": [
    {
     "name": "stdout",
     "output_type": "stream",
     "text": [
      "1 2\n",
      "3 4\n",
      "5 6\n"
     ]
    }
   ],
   "source": [
    "tuple = ([1,2],[3,4],[5,6])\n",
    "\n",
    "for i,j in tuple:\n",
    "    print(i,j)"
   ]
  },
  {
   "cell_type": "code",
   "execution_count": 368,
   "id": "81683c2a",
   "metadata": {},
   "outputs": [
    {
     "name": "stdout",
     "output_type": "stream",
     "text": [
      "k1\n",
      "k2\n",
      "k3\n"
     ]
    }
   ],
   "source": [
    "d = {\"k1\":1,\"k2\":2,\"k3\":3}\n",
    "for i in d:\n",
    "    print(i)"
   ]
  },
  {
   "cell_type": "code",
   "execution_count": 372,
   "id": "3f758fd1",
   "metadata": {},
   "outputs": [
    {
     "name": "stdout",
     "output_type": "stream",
     "text": [
      "('k1', 1)\n",
      "('k2', 2)\n",
      "('k3', 3)\n"
     ]
    }
   ],
   "source": [
    "d = {\"k1\":1,\"k2\":2,\"k3\":3}\n",
    "\n",
    "for i in d.items():\n",
    "    print(i)"
   ]
  },
  {
   "cell_type": "code",
   "execution_count": 373,
   "id": "2bcca818",
   "metadata": {},
   "outputs": [
    {
     "name": "stdout",
     "output_type": "stream",
     "text": [
      "1\n",
      "2\n",
      "3\n"
     ]
    }
   ],
   "source": [
    "d = {\"k1\":1,\"k2\":2,\"k3\":3}\n",
    "\n",
    "for i in d.values():\n",
    "    print(i)"
   ]
  },
  {
   "cell_type": "code",
   "execution_count": 374,
   "id": "062bf28d",
   "metadata": {},
   "outputs": [
    {
     "name": "stdout",
     "output_type": "stream",
     "text": [
      "k1\n",
      "k2\n",
      "k3\n"
     ]
    }
   ],
   "source": [
    "d = {\"k1\":1,\"k2\":2,\"k3\":3}\n",
    "\n",
    "for i in d.keys():\n",
    "    print(i)"
   ]
  },
  {
   "cell_type": "code",
   "execution_count": 375,
   "id": "b8a7afa8",
   "metadata": {},
   "outputs": [
    {
     "name": "stdout",
     "output_type": "stream",
     "text": [
      "k1 1\n",
      "k2 2\n",
      "k3 3\n"
     ]
    }
   ],
   "source": [
    "d = {\"k1\":1,\"k2\":2,\"k3\":3}\n",
    "\n",
    "for i,j in d.items():\n",
    "    print(i,j)"
   ]
  },
  {
   "cell_type": "code",
   "execution_count": 379,
   "id": "a567b2a2",
   "metadata": {},
   "outputs": [
    {
     "name": "stdout",
     "output_type": "stream",
     "text": [
      "3\n",
      "9\n",
      "12\n",
      "21\n"
     ]
    }
   ],
   "source": [
    "sayılar = [1,3,5,7,9,12,19,21]\n",
    "\n",
    "for i in sayılar:\n",
    "    if (i % 3) == 0:\n",
    "        print(i)"
   ]
  },
  {
   "cell_type": "code",
   "execution_count": 388,
   "id": "f1ed8c4d",
   "metadata": {},
   "outputs": [
    {
     "name": "stdout",
     "output_type": "stream",
     "text": [
      "1\n",
      "4\n",
      "9\n",
      "16\n",
      "25\n",
      "37\n",
      "56\n",
      "77\n"
     ]
    }
   ],
   "source": [
    "toplam = 0\n",
    "for i in sayılar:\n",
    "    toplam = toplam+i\n",
    "    print(toplam)"
   ]
  },
  {
   "cell_type": "code",
   "execution_count": 389,
   "id": "8697f123",
   "metadata": {},
   "outputs": [
    {
     "name": "stdout",
     "output_type": "stream",
     "text": [
      "1\n",
      "4\n",
      "9\n",
      "16\n",
      "25\n",
      "37\n",
      "56\n",
      "77\n"
     ]
    }
   ],
   "source": [
    "toplam = 0\n",
    "for i in sayılar:\n",
    "    toplam += i\n",
    "    print(toplam)"
   ]
  },
  {
   "cell_type": "code",
   "execution_count": 390,
   "id": "4dd75e00",
   "metadata": {},
   "outputs": [
    {
     "data": {
      "text/plain": [
       "[1, 3, 5, 7, 9, 12, 19, 21]"
      ]
     },
     "execution_count": 390,
     "metadata": {},
     "output_type": "execute_result"
    }
   ],
   "source": [
    "sayılar"
   ]
  },
  {
   "cell_type": "code",
   "execution_count": 392,
   "id": "de2aec81",
   "metadata": {},
   "outputs": [
    {
     "name": "stdout",
     "output_type": "stream",
     "text": [
      "1\n",
      "9\n",
      "25\n",
      "49\n",
      "81\n",
      "361\n",
      "441\n"
     ]
    }
   ],
   "source": [
    "for i in sayılar:\n",
    "    if not (i % 2) == 0:\n",
    "        print(i**2)"
   ]
  },
  {
   "cell_type": "code",
   "execution_count": 393,
   "id": "66e76b1d",
   "metadata": {},
   "outputs": [
    {
     "name": "stdout",
     "output_type": "stream",
     "text": [
      "muş\n",
      "afyon\n",
      "izmir\n",
      "rize\n"
     ]
    }
   ],
   "source": [
    "city = [\"kocaeli\",\"ankara\",\"muş\",\"afyon\",\"izmir\",\"rize\"]\n",
    "\n",
    "for i in city:\n",
    "    if len(i) <= 5:\n",
    "        print(i)"
   ]
  },
  {
   "cell_type": "code",
   "execution_count": 418,
   "id": "3a9d5986",
   "metadata": {},
   "outputs": [
    {
     "name": "stdout",
     "output_type": "stream",
     "text": [
      "3000\n",
      "7000\n",
      "12000\n",
      "18000\n",
      "25000\n"
     ]
    }
   ],
   "source": [
    "product = [{\"name\": \"samsungS6\",\"price\":\"3000\"},\n",
    "           {\"name\": \"samsungS7\",\"price\":\"4000\"},\n",
    "           {\"name\": \"samsungS8\",\"price\":\"5000\"},\n",
    "           {\"name\": \"samsungS9\",\"price\":\"6000\"},\n",
    "           {\"name\": \"samsungS6\",\"price\":\"7000\"}]\n",
    "\n",
    "total = 0\n",
    "\n",
    "for i in product:\n",
    "    total += int(i[\"price\"])\n",
    "    print(total)\n",
    "    \n",
    "    "
   ]
  },
  {
   "cell_type": "code",
   "execution_count": 420,
   "id": "ae8b4d0e",
   "metadata": {},
   "outputs": [
    {
     "name": "stdout",
     "output_type": "stream",
     "text": [
      "{'name': 'samsungS6', 'price': '3000'}\n",
      "{'name': 'samsungS7', 'price': '4000'}\n",
      "{'name': 'samsungS8', 'price': '5000'}\n"
     ]
    }
   ],
   "source": [
    "product = [{\"name\": \"samsungS6\",\"price\":\"3000\"},\n",
    "           {\"name\": \"samsungS7\",\"price\":\"4000\"},\n",
    "           {\"name\": \"samsungS8\",\"price\":\"5000\"},\n",
    "           {\"name\": \"samsungS9\",\"price\":\"6000\"},\n",
    "           {\"name\": \"samsungS6\",\"price\":\"7000\"}]\n",
    "\n",
    "for i in product:\n",
    "    if int(i[\"price\"]) <= 5000:\n",
    "        print(i)\n",
    "    "
   ]
  },
  {
   "cell_type": "code",
   "execution_count": 423,
   "id": "e64def8b",
   "metadata": {},
   "outputs": [
    {
     "name": "stdout",
     "output_type": "stream",
     "text": [
      "samsungS6\n",
      "samsungS7\n",
      "samsungS8\n"
     ]
    }
   ],
   "source": [
    "product = [{\"name\": \"samsungS6\",\"price\":\"3000\"},\n",
    "           {\"name\": \"samsungS7\",\"price\":\"4000\"},\n",
    "           {\"name\": \"samsungS8\",\"price\":\"5000\"},\n",
    "           {\"name\": \"samsungS9\",\"price\":\"6000\"},\n",
    "           {\"name\": \"samsungS6\",\"price\":\"7000\"}]\n",
    "\n",
    "for i in product:\n",
    "    if int(i[\"price\"]) <= 5000:\n",
    "        print(i[\"name\"])"
   ]
  },
  {
   "cell_type": "code",
   "execution_count": 13,
   "id": "37b5df5a",
   "metadata": {},
   "outputs": [
    {
     "name": "stdout",
     "output_type": "stream",
     "text": [
      "0\n",
      "1\n",
      "2\n",
      "3\n",
      "4\n",
      "5\n",
      "6\n",
      "7\n",
      "8\n",
      "9\n",
      "bitti\n"
     ]
    }
   ],
   "source": [
    "i = 0\n",
    "\n",
    "while (i < 10):\n",
    "    print(i)\n",
    "    i += 1\n",
    "print(\"bitti\")"
   ]
  },
  {
   "cell_type": "code",
   "execution_count": 9,
   "id": "35758343",
   "metadata": {},
   "outputs": [
    {
     "data": {
      "text/plain": [
       "range(0, 10)"
      ]
     },
     "execution_count": 9,
     "metadata": {},
     "output_type": "execute_result"
    }
   ],
   "source": [
    "range(0,10)"
   ]
  },
  {
   "cell_type": "code",
   "execution_count": 17,
   "id": "6b03b3c7",
   "metadata": {},
   "outputs": [
    {
     "name": "stdout",
     "output_type": "stream",
     "text": [
      "0\n",
      "2\n",
      "4\n",
      "6\n",
      "8\n",
      "bitti\n"
     ]
    }
   ],
   "source": [
    "i = 0\n",
    "\n",
    "while (i < 10):\n",
    "    if i % 2 == 0:\n",
    "        print(i)\n",
    "    i += 1\n",
    "print(\"bitti\")"
   ]
  },
  {
   "cell_type": "code",
   "execution_count": 19,
   "id": "e4a3f4f5",
   "metadata": {
    "collapsed": true
   },
   "outputs": [
    {
     "name": "stdout",
     "output_type": "stream",
     "text": [
      "1 tektir... \n",
      "2 çifttir...\n",
      "3 tektir... \n",
      "4 çifttir...\n",
      "5 tektir... \n",
      "6 çifttir...\n",
      "7 tektir... \n",
      "8 çifttir...\n",
      "9 tektir... \n",
      "10 çifttir...\n",
      "11 tektir... \n",
      "12 çifttir...\n",
      "13 tektir... \n",
      "14 çifttir...\n",
      "15 tektir... \n",
      "16 çifttir...\n",
      "17 tektir... \n",
      "18 çifttir...\n",
      "19 tektir... \n",
      "20 çifttir...\n",
      "21 tektir... \n",
      "22 çifttir...\n",
      "23 tektir... \n",
      "24 çifttir...\n",
      "25 tektir... \n",
      "26 çifttir...\n",
      "27 tektir... \n",
      "28 çifttir...\n",
      "29 tektir... \n",
      "30 çifttir...\n",
      "31 tektir... \n",
      "32 çifttir...\n",
      "33 tektir... \n",
      "34 çifttir...\n",
      "35 tektir... \n",
      "36 çifttir...\n",
      "37 tektir... \n",
      "38 çifttir...\n",
      "39 tektir... \n",
      "40 çifttir...\n",
      "41 tektir... \n",
      "42 çifttir...\n",
      "43 tektir... \n",
      "44 çifttir...\n",
      "45 tektir... \n",
      "46 çifttir...\n",
      "47 tektir... \n",
      "48 çifttir...\n",
      "49 tektir... \n",
      "50 çifttir...\n",
      "51 tektir... \n",
      "52 çifttir...\n",
      "53 tektir... \n",
      "54 çifttir...\n",
      "55 tektir... \n",
      "56 çifttir...\n",
      "57 tektir... \n",
      "58 çifttir...\n",
      "59 tektir... \n",
      "60 çifttir...\n",
      "61 tektir... \n",
      "62 çifttir...\n",
      "63 tektir... \n",
      "64 çifttir...\n",
      "65 tektir... \n",
      "66 çifttir...\n",
      "67 tektir... \n",
      "68 çifttir...\n",
      "69 tektir... \n",
      "70 çifttir...\n",
      "71 tektir... \n",
      "72 çifttir...\n",
      "73 tektir... \n",
      "74 çifttir...\n",
      "75 tektir... \n",
      "76 çifttir...\n",
      "77 tektir... \n",
      "78 çifttir...\n",
      "79 tektir... \n",
      "80 çifttir...\n",
      "81 tektir... \n",
      "82 çifttir...\n",
      "83 tektir... \n",
      "84 çifttir...\n",
      "85 tektir... \n",
      "86 çifttir...\n",
      "87 tektir... \n",
      "88 çifttir...\n",
      "89 tektir... \n",
      "90 çifttir...\n",
      "91 tektir... \n",
      "92 çifttir...\n",
      "93 tektir... \n",
      "94 çifttir...\n",
      "95 tektir... \n",
      "96 çifttir...\n",
      "97 tektir... \n",
      "98 çifttir...\n",
      "99 tektir... \n",
      "100 çifttir...\n"
     ]
    }
   ],
   "source": [
    "i = 1\n",
    "\n",
    "while (i <= 100):\n",
    "    if i % 2 == 0:\n",
    "        print(f\"{i} çifttir...\")\n",
    "    else:\n",
    "        print(f\"{i} tektir... \")\n",
    "    i += 1\n"
   ]
  },
  {
   "cell_type": "code",
   "execution_count": 29,
   "id": "3938be32",
   "metadata": {},
   "outputs": [
    {
     "name": "stdout",
     "output_type": "stream",
     "text": [
      "isminizi girin: \n",
      "isminizi girin: \n",
      "isminizi girin: \n",
      "isminizi girin: \n",
      "isminizi girin: \n",
      "isminizi girin: \n",
      "isminizi girin: \n",
      "isminizi girin: adem\n",
      "adem merhaba\n"
     ]
    }
   ],
   "source": [
    "name = \"\"#False\n",
    "\n",
    "while not name:# True\n",
    "    name = input(\"isminizi girin: \")\n",
    "\n",
    "print(f\"{name} merhaba\")\n"
   ]
  },
  {
   "cell_type": "code",
   "execution_count": 27,
   "id": "c7c1dec3",
   "metadata": {},
   "outputs": [
    {
     "name": "stdout",
     "output_type": "stream",
     "text": [
      "adem\n"
     ]
    }
   ],
   "source": [
    "print(name)"
   ]
  },
  {
   "cell_type": "code",
   "execution_count": 28,
   "id": "9439e2b1",
   "metadata": {},
   "outputs": [
    {
     "data": {
      "text/plain": [
       "str"
      ]
     },
     "execution_count": 28,
     "metadata": {},
     "output_type": "execute_result"
    }
   ],
   "source": [
    "type(name)"
   ]
  },
  {
   "cell_type": "code",
   "execution_count": 30,
   "id": "7bd572ab",
   "metadata": {},
   "outputs": [
    {
     "name": "stdout",
     "output_type": "stream",
     "text": [
      "isminizi girin: adem\n",
      "isminizi girin: adem\n"
     ]
    },
    {
     "ename": "KeyboardInterrupt",
     "evalue": "Interrupted by user",
     "output_type": "error",
     "traceback": [
      "\u001b[1;31m---------------------------------------------------------------------------\u001b[0m",
      "\u001b[1;31mKeyboardInterrupt\u001b[0m                         Traceback (most recent call last)",
      "\u001b[1;32mC:\\Users\\ADMCN_~1\\AppData\\Local\\Temp/ipykernel_3124/1509351555.py\u001b[0m in \u001b[0;36m<module>\u001b[1;34m\u001b[0m\n\u001b[0;32m      1\u001b[0m \u001b[1;32mwhile\u001b[0m \u001b[1;32mTrue\u001b[0m\u001b[1;33m:\u001b[0m\u001b[1;31m# True\u001b[0m\u001b[1;33m\u001b[0m\u001b[1;33m\u001b[0m\u001b[0m\n\u001b[1;32m----> 2\u001b[1;33m     \u001b[0mname\u001b[0m \u001b[1;33m=\u001b[0m \u001b[0minput\u001b[0m\u001b[1;33m(\u001b[0m\u001b[1;34m\"isminizi girin: \"\u001b[0m\u001b[1;33m)\u001b[0m\u001b[1;33m\u001b[0m\u001b[1;33m\u001b[0m\u001b[0m\n\u001b[0m\u001b[0;32m      3\u001b[0m \u001b[1;33m\u001b[0m\u001b[0m\n\u001b[0;32m      4\u001b[0m \u001b[0mprint\u001b[0m\u001b[1;33m(\u001b[0m\u001b[1;34mf\"{name} merhaba\"\u001b[0m\u001b[1;33m)\u001b[0m\u001b[1;33m\u001b[0m\u001b[1;33m\u001b[0m\u001b[0m\n",
      "\u001b[1;32m~\\anaconda3\\lib\\site-packages\\ipykernel\\kernelbase.py\u001b[0m in \u001b[0;36mraw_input\u001b[1;34m(self, prompt)\u001b[0m\n\u001b[0;32m   1004\u001b[0m                 \u001b[1;34m\"raw_input was called, but this frontend does not support input requests.\"\u001b[0m\u001b[1;33m\u001b[0m\u001b[1;33m\u001b[0m\u001b[0m\n\u001b[0;32m   1005\u001b[0m             )\n\u001b[1;32m-> 1006\u001b[1;33m         return self._input_request(\n\u001b[0m\u001b[0;32m   1007\u001b[0m             \u001b[0mstr\u001b[0m\u001b[1;33m(\u001b[0m\u001b[0mprompt\u001b[0m\u001b[1;33m)\u001b[0m\u001b[1;33m,\u001b[0m\u001b[1;33m\u001b[0m\u001b[1;33m\u001b[0m\u001b[0m\n\u001b[0;32m   1008\u001b[0m             \u001b[0mself\u001b[0m\u001b[1;33m.\u001b[0m\u001b[0m_parent_ident\u001b[0m\u001b[1;33m[\u001b[0m\u001b[1;34m\"shell\"\u001b[0m\u001b[1;33m]\u001b[0m\u001b[1;33m,\u001b[0m\u001b[1;33m\u001b[0m\u001b[1;33m\u001b[0m\u001b[0m\n",
      "\u001b[1;32m~\\anaconda3\\lib\\site-packages\\ipykernel\\kernelbase.py\u001b[0m in \u001b[0;36m_input_request\u001b[1;34m(self, prompt, ident, parent, password)\u001b[0m\n\u001b[0;32m   1049\u001b[0m             \u001b[1;32mexcept\u001b[0m \u001b[0mKeyboardInterrupt\u001b[0m\u001b[1;33m:\u001b[0m\u001b[1;33m\u001b[0m\u001b[1;33m\u001b[0m\u001b[0m\n\u001b[0;32m   1050\u001b[0m                 \u001b[1;31m# re-raise KeyboardInterrupt, to truncate traceback\u001b[0m\u001b[1;33m\u001b[0m\u001b[1;33m\u001b[0m\u001b[0m\n\u001b[1;32m-> 1051\u001b[1;33m                 \u001b[1;32mraise\u001b[0m \u001b[0mKeyboardInterrupt\u001b[0m\u001b[1;33m(\u001b[0m\u001b[1;34m\"Interrupted by user\"\u001b[0m\u001b[1;33m)\u001b[0m \u001b[1;32mfrom\u001b[0m \u001b[1;32mNone\u001b[0m\u001b[1;33m\u001b[0m\u001b[1;33m\u001b[0m\u001b[0m\n\u001b[0m\u001b[0;32m   1052\u001b[0m             \u001b[1;32mexcept\u001b[0m \u001b[0mException\u001b[0m\u001b[1;33m:\u001b[0m\u001b[1;33m\u001b[0m\u001b[1;33m\u001b[0m\u001b[0m\n\u001b[0;32m   1053\u001b[0m                 \u001b[0mself\u001b[0m\u001b[1;33m.\u001b[0m\u001b[0mlog\u001b[0m\u001b[1;33m.\u001b[0m\u001b[0mwarning\u001b[0m\u001b[1;33m(\u001b[0m\u001b[1;34m\"Invalid Message:\"\u001b[0m\u001b[1;33m,\u001b[0m \u001b[0mexc_info\u001b[0m\u001b[1;33m=\u001b[0m\u001b[1;32mTrue\u001b[0m\u001b[1;33m)\u001b[0m\u001b[1;33m\u001b[0m\u001b[1;33m\u001b[0m\u001b[0m\n",
      "\u001b[1;31mKeyboardInterrupt\u001b[0m: Interrupted by user"
     ]
    }
   ],
   "source": []
  },
  {
   "cell_type": "code",
   "execution_count": 31,
   "id": "9361bbe2",
   "metadata": {},
   "outputs": [],
   "source": [
    "sayılar = [1,3,5,7,9,12,19,21]"
   ]
  },
  {
   "cell_type": "code",
   "execution_count": 32,
   "id": "6c962334",
   "metadata": {},
   "outputs": [
    {
     "name": "stdout",
     "output_type": "stream",
     "text": [
      "1\n",
      "3\n",
      "5\n",
      "7\n",
      "9\n",
      "12\n",
      "19\n",
      "21\n"
     ]
    }
   ],
   "source": [
    "for i in sayılar:\n",
    "    print(i)"
   ]
  },
  {
   "cell_type": "code",
   "execution_count": 35,
   "id": "c0160efe",
   "metadata": {},
   "outputs": [
    {
     "name": "stdout",
     "output_type": "stream",
     "text": [
      "1\n",
      "3\n",
      "5\n",
      "7\n",
      "9\n",
      "12\n",
      "19\n",
      "21\n"
     ]
    }
   ],
   "source": [
    "i = 0\n",
    "\n",
    "while (i < len(sayılar)):\n",
    "    print(sayılar[i])\n",
    "    i += 1"
   ]
  },
  {
   "cell_type": "code",
   "execution_count": 37,
   "id": "a98770b8",
   "metadata": {},
   "outputs": [
    {
     "name": "stdout",
     "output_type": "stream",
     "text": [
      "bir sayı girin: 12\n",
      "bir sayı girin: 79\n",
      "13.0\n",
      "15.0\n",
      "17.0\n",
      "19.0\n",
      "21.0\n",
      "23.0\n",
      "25.0\n",
      "27.0\n",
      "29.0\n",
      "31.0\n",
      "33.0\n",
      "35.0\n",
      "37.0\n",
      "39.0\n",
      "41.0\n",
      "43.0\n",
      "45.0\n",
      "47.0\n",
      "49.0\n",
      "51.0\n",
      "53.0\n",
      "55.0\n",
      "57.0\n",
      "59.0\n",
      "61.0\n",
      "63.0\n",
      "65.0\n",
      "67.0\n",
      "69.0\n",
      "71.0\n",
      "73.0\n",
      "75.0\n",
      "77.0\n"
     ]
    }
   ],
   "source": [
    "a = float(input(\"bir sayı girin: \"))\n",
    "b = float(input(\"bir sayı girin: \"))\n",
    "    \n",
    "\n",
    "while a < b:\n",
    "    if a % 2 == 1:\n",
    "        \n",
    "        print(a)\n",
    "    a += 1\n",
    "\n",
    "    \n",
    "    "
   ]
  },
  {
   "cell_type": "code",
   "execution_count": 40,
   "id": "cc66dc67",
   "metadata": {
    "collapsed": true
   },
   "outputs": [
    {
     "name": "stdout",
     "output_type": "stream",
     "text": [
      "bir sayı girin: 14\n",
      "bir sayı girin: 78\n",
      "15.0\n",
      "17.0\n",
      "19.0\n",
      "21.0\n",
      "23.0\n",
      "25.0\n",
      "27.0\n",
      "29.0\n",
      "31.0\n",
      "33.0\n",
      "35.0\n",
      "37.0\n",
      "39.0\n",
      "41.0\n",
      "43.0\n",
      "45.0\n",
      "47.0\n",
      "49.0\n",
      "51.0\n",
      "53.0\n",
      "55.0\n",
      "57.0\n",
      "59.0\n",
      "61.0\n",
      "63.0\n",
      "65.0\n",
      "67.0\n",
      "69.0\n",
      "71.0\n",
      "73.0\n",
      "75.0\n",
      "77.0\n"
     ]
    }
   ],
   "source": [
    "a = float(input(\"bir sayı girin: \"))\n",
    "b = float(input(\"bir sayı girin: \"))\n",
    "    \n",
    "i = a\n",
    "while i < b:\n",
    "    if i % 2 == 1:\n",
    "        \n",
    "        print(i)\n",
    "    i += 1\n"
   ]
  },
  {
   "cell_type": "code",
   "execution_count": 42,
   "id": "02543a8a",
   "metadata": {},
   "outputs": [
    {
     "name": "stdout",
     "output_type": "stream",
     "text": [
      "99\n",
      "98\n",
      "97\n",
      "96\n",
      "95\n",
      "94\n",
      "93\n",
      "92\n",
      "91\n",
      "90\n",
      "89\n",
      "88\n",
      "87\n",
      "86\n",
      "85\n",
      "84\n",
      "83\n",
      "82\n",
      "81\n",
      "80\n",
      "79\n",
      "78\n",
      "77\n",
      "76\n",
      "75\n",
      "74\n",
      "73\n",
      "72\n",
      "71\n",
      "70\n",
      "69\n",
      "68\n",
      "67\n",
      "66\n",
      "65\n",
      "64\n",
      "63\n",
      "62\n",
      "61\n",
      "60\n",
      "59\n",
      "58\n",
      "57\n",
      "56\n",
      "55\n",
      "54\n",
      "53\n",
      "52\n",
      "51\n",
      "50\n",
      "49\n",
      "48\n",
      "47\n",
      "46\n",
      "45\n",
      "44\n",
      "43\n",
      "42\n",
      "41\n",
      "40\n",
      "39\n",
      "38\n",
      "37\n",
      "36\n",
      "35\n",
      "34\n",
      "33\n",
      "32\n",
      "31\n",
      "30\n",
      "29\n",
      "28\n",
      "27\n",
      "26\n",
      "25\n",
      "24\n",
      "23\n",
      "22\n",
      "21\n",
      "20\n",
      "19\n",
      "18\n",
      "17\n",
      "16\n",
      "15\n",
      "14\n",
      "13\n",
      "12\n",
      "11\n",
      "10\n",
      "9\n",
      "8\n",
      "7\n",
      "6\n",
      "5\n",
      "4\n",
      "3\n",
      "2\n",
      "1\n",
      "0\n"
     ]
    }
   ],
   "source": [
    "i = 100\n",
    "\n",
    "while(i > 0):\n",
    "    i -= 1\n",
    "    print(i)"
   ]
  },
  {
   "cell_type": "code",
   "execution_count": 43,
   "id": "efa374dd",
   "metadata": {
    "scrolled": true
   },
   "outputs": [
    {
     "name": "stdout",
     "output_type": "stream",
     "text": [
      "100\n",
      "99\n",
      "98\n",
      "97\n",
      "96\n",
      "95\n",
      "94\n",
      "93\n",
      "92\n",
      "91\n",
      "90\n",
      "89\n",
      "88\n",
      "87\n",
      "86\n",
      "85\n",
      "84\n",
      "83\n",
      "82\n",
      "81\n",
      "80\n",
      "79\n",
      "78\n",
      "77\n",
      "76\n",
      "75\n",
      "74\n",
      "73\n",
      "72\n",
      "71\n",
      "70\n",
      "69\n",
      "68\n",
      "67\n",
      "66\n",
      "65\n",
      "64\n",
      "63\n",
      "62\n",
      "61\n",
      "60\n",
      "59\n",
      "58\n",
      "57\n",
      "56\n",
      "55\n",
      "54\n",
      "53\n",
      "52\n",
      "51\n",
      "50\n",
      "49\n",
      "48\n",
      "47\n",
      "46\n",
      "45\n",
      "44\n",
      "43\n",
      "42\n",
      "41\n",
      "40\n",
      "39\n",
      "38\n",
      "37\n",
      "36\n",
      "35\n",
      "34\n",
      "33\n",
      "32\n",
      "31\n",
      "30\n",
      "29\n",
      "28\n",
      "27\n",
      "26\n",
      "25\n",
      "24\n",
      "23\n",
      "22\n",
      "21\n",
      "20\n",
      "19\n",
      "18\n",
      "17\n",
      "16\n",
      "15\n",
      "14\n",
      "13\n",
      "12\n",
      "11\n",
      "10\n",
      "9\n",
      "8\n",
      "7\n",
      "6\n",
      "5\n",
      "4\n",
      "3\n",
      "2\n",
      "1\n"
     ]
    }
   ],
   "source": [
    "i = 100\n",
    "\n",
    "while(i > 0):\n",
    "    print(i)\n",
    "    i -= 1\n"
   ]
  },
  {
   "cell_type": "code",
   "execution_count": 53,
   "id": "36d23c73",
   "metadata": {},
   "outputs": [
    {
     "name": "stdout",
     "output_type": "stream",
     "text": [
      "sayı: 12\n",
      "sayı: 78\n",
      "sayı: 3\n",
      "sayı: 56\n",
      "sayı: 23\n",
      "[3.0, 12.0, 23.0, 56.0, 78.0]\n"
     ]
    }
   ],
   "source": [
    "number = []\n",
    "\n",
    "i = 0\n",
    "\n",
    "while (i < 5):\n",
    "    sayı = float(input(\"sayı: \"))\n",
    "    number.append(sayı)\n",
    "    i+=1\n",
    "number.sort()\n",
    "print(number)\n"
   ]
  },
  {
   "cell_type": "code",
   "execution_count": 70,
   "id": "8cc5fb07",
   "metadata": {},
   "outputs": [
    {
     "ename": "IndentationError",
     "evalue": "expected an indented block (Temp/ipykernel_3124/3306113631.py, line 13)",
     "output_type": "error",
     "traceback": [
      "\u001b[1;36m  File \u001b[1;32m\"C:\\Users\\ADMCN_~1\\AppData\\Local\\Temp/ipykernel_3124/3306113631.py\"\u001b[1;36m, line \u001b[1;32m13\u001b[0m\n\u001b[1;33m    print(f\"isim: {name} fiyat: {price}\")\u001b[0m\n\u001b[1;37m    ^\u001b[0m\n\u001b[1;31mIndentationError\u001b[0m\u001b[1;31m:\u001b[0m expected an indented block\n"
     ]
    }
   ],
   "source": [
    "sayı = int(input(\"ürün sayısı: \"))\n",
    "\n",
    "ürün = []\n",
    "\n",
    "i = 0\n",
    "\n",
    "while (i < sayı):\n",
    "    name = input(\"ürün ismi: \")\n",
    "    price = input(\"ürün fiyatı: \")\n",
    "    ürün.append({\"name\":name,\"price\":price})\n",
    "    i += 1\n",
    "for i in ürün:\n",
    "    print(f\"isim: {name} fiyat: {price}\")\n",
    "\n",
    "    \n",
    "    "
   ]
  },
  {
   "cell_type": "code",
   "execution_count": 65,
   "id": "c7995b6e",
   "metadata": {},
   "outputs": [
    {
     "name": "stdout",
     "output_type": "stream",
     "text": [
      "ürün sayısı: 2\n",
      "ürün ismi: s1\n",
      "ürün fiyatı: 12\n",
      "ürün ismi: s2\n",
      "ürün fiyatı: 13\n",
      "[{'name': 's1', 'price': '12'}, {'name': 's2', 'price': '13'}]\n"
     ]
    }
   ],
   "source": [
    "sayı = int(input(\"ürün sayısı: \"))\n",
    "\n",
    "ürün = []\n",
    "\n",
    "i = 0\n",
    "\n",
    "while (i < sayı):\n",
    "    name = input(\"ürün ismi: \")\n",
    "    price = input(\"ürün fiyatı: \")\n",
    "    ürün.append({\"name\":name,\"price\":price})\n",
    "    i += 1\n",
    "print(ürün)"
   ]
  },
  {
   "cell_type": "code",
   "execution_count": 69,
   "id": "95aa5d7d",
   "metadata": {},
   "outputs": [
    {
     "name": "stdout",
     "output_type": "stream",
     "text": [
      "vereceğiniz ilaç sayısını giriniz: 2\n",
      "ilaç ismini giriniz: asd\n",
      "ilaç adedini girin: 12\n",
      "ilaç ismini giriniz: asd\n",
      "ilaç adedini girin: 15\n",
      "ilaç ismi: asd,ilaç adedi: 15\n",
      "ilaç ismi: asd,ilaç adedi: 15\n"
     ]
    }
   ],
   "source": [
    "sayı = int(input(\"vereceğiniz ilaç sayısını giriniz: \"))\n",
    "\n",
    "medicine = []\n",
    "\n",
    "i = 0\n",
    "\n",
    "while (i < sayı) :\n",
    "    name = input(\"ilaç ismini giriniz: \")\n",
    "    adet = int(input(\"ilaç adedini girin: \"))\n",
    "    medicine.append({\"isim\": name,\"adet\": adet } )\n",
    "    i += 1\n",
    "for i in medicine:\n",
    "    print(f\"ilaç ismi: {name},ilaç adedi: {adet}\")\n",
    "    "
   ]
  },
  {
   "cell_type": "code",
   "execution_count": 76,
   "id": "3740f8ee",
   "metadata": {},
   "outputs": [
    {
     "name": "stdout",
     "output_type": "stream",
     "text": [
      "a\n",
      "d\n"
     ]
    }
   ],
   "source": [
    "name = \"adem\"\n",
    "\n",
    "for i in name:\n",
    "    if (i == \"e\"):\n",
    "        break\n",
    "    print(i)"
   ]
  },
  {
   "cell_type": "code",
   "execution_count": 81,
   "id": "f138b614",
   "metadata": {},
   "outputs": [
    {
     "name": "stdout",
     "output_type": "stream",
     "text": [
      "a\n",
      "d\n",
      "m\n"
     ]
    }
   ],
   "source": [
    "name = \"adem\"\n",
    "\n",
    "for i in name:\n",
    "    if (i == \"e\"):\n",
    "        continue\n",
    "    print(i)"
   ]
  },
  {
   "cell_type": "code",
   "execution_count": 87,
   "id": "5311159f",
   "metadata": {},
   "outputs": [
    {
     "name": "stdout",
     "output_type": "stream",
     "text": [
      "1\n",
      "2\n",
      "4\n",
      "5\n"
     ]
    }
   ],
   "source": [
    "i = 0\n",
    "while (i < 5) :\n",
    "    i += 1\n",
    "    if (i == 3):\n",
    "        continue\n",
    "    \n",
    "    print(i)"
   ]
  },
  {
   "cell_type": "code",
   "execution_count": 100,
   "id": "1c38408e",
   "metadata": {},
   "outputs": [
    {
     "name": "stdout",
     "output_type": "stream",
     "text": [
      "2499\n"
     ]
    }
   ],
   "source": [
    "i = 1\n",
    "toplam = 0\n",
    "while (i < 100):\n",
    "    i += 1\n",
    "    if i % 2 == 0:\n",
    "        continue\n",
    "    toplam += i\n",
    "    \n",
    "        \n",
    "        \n",
    "print(toplam)\n",
    "        "
   ]
  },
  {
   "cell_type": "code",
   "execution_count": 102,
   "id": "191be0ef",
   "metadata": {},
   "outputs": [
    {
     "name": "stdout",
     "output_type": "stream",
     "text": [
      "0\n",
      "1\n",
      "2\n",
      "3\n",
      "4\n",
      "5\n",
      "6\n",
      "7\n",
      "8\n",
      "9\n"
     ]
    }
   ],
   "source": [
    "for i in range(10):\n",
    "    print(i)"
   ]
  },
  {
   "cell_type": "code",
   "execution_count": 104,
   "id": "73112a6a",
   "metadata": {},
   "outputs": [
    {
     "name": "stdout",
     "output_type": "stream",
     "text": [
      "3\n",
      "6\n",
      "9\n",
      "12\n",
      "15\n",
      "18\n",
      "21\n",
      "24\n",
      "27\n",
      "30\n",
      "33\n",
      "36\n",
      "39\n",
      "42\n",
      "45\n",
      "48\n",
      "51\n",
      "54\n",
      "57\n",
      "60\n",
      "63\n",
      "66\n",
      "69\n",
      "72\n",
      "75\n",
      "78\n",
      "81\n",
      "84\n",
      "87\n",
      "90\n",
      "93\n",
      "96\n",
      "99\n"
     ]
    }
   ],
   "source": [
    "for i in range(3,100,3):\n",
    "    print(i)"
   ]
  },
  {
   "cell_type": "code",
   "execution_count": 107,
   "id": "40cc3dbd",
   "metadata": {},
   "outputs": [
    {
     "name": "stdout",
     "output_type": "stream",
     "text": [
      "1\n",
      "16\n",
      "81\n",
      "256\n",
      "625\n",
      "1296\n",
      "2401\n",
      "4096\n",
      "6561\n",
      "10000\n",
      "14641\n",
      "20736\n",
      "28561\n",
      "38416\n",
      "50625\n",
      "65536\n",
      "83521\n",
      "104976\n",
      "130321\n",
      "160000\n",
      "194481\n",
      "234256\n",
      "279841\n",
      "331776\n",
      "390625\n",
      "456976\n",
      "531441\n",
      "614656\n",
      "707281\n",
      "810000\n",
      "923521\n",
      "1048576\n",
      "1185921\n",
      "1336336\n",
      "1500625\n",
      "1679616\n",
      "1874161\n",
      "2085136\n",
      "2313441\n",
      "2560000\n",
      "2825761\n",
      "3111696\n",
      "3418801\n",
      "3748096\n",
      "4100625\n",
      "4477456\n",
      "4879681\n",
      "5308416\n",
      "5764801\n",
      "6250000\n"
     ]
    }
   ],
   "source": [
    "top=0\n",
    "for i in range(1,100,2):\n",
    "    top+=i\n",
    "    print(top**2)"
   ]
  },
  {
   "cell_type": "code",
   "execution_count": 110,
   "id": "b158351b",
   "metadata": {},
   "outputs": [
    {
     "name": "stdout",
     "output_type": "stream",
     "text": [
      "[50, 60, 70, 80, 90]\n"
     ]
    }
   ],
   "source": [
    "print(list(range(50,100,10)))"
   ]
  },
  {
   "cell_type": "code",
   "execution_count": 113,
   "id": "1a13df88",
   "metadata": {},
   "outputs": [
    {
     "name": "stdout",
     "output_type": "stream",
     "text": [
      "index: 1, letter: h \n",
      "index: 2, letter: e \n",
      "index: 3, letter: l \n",
      "index: 4, letter: l \n",
      "index: 5, letter: o \n",
      "index: 6, letter:   \n",
      "index: 7, letter: t \n",
      "index: 8, letter: h \n",
      "index: 9, letter: e \n",
      "index: 10, letter: r \n",
      "index: 11, letter: e \n"
     ]
    }
   ],
   "source": [
    "greeting = \"hello there\"\n",
    "index = 0\n",
    "for i in greeting:\n",
    "    index += 1\n",
    "    print(f\"index: {index}, letter: {i} \")"
   ]
  },
  {
   "cell_type": "code",
   "execution_count": 114,
   "id": "d482c0dd",
   "metadata": {},
   "outputs": [
    {
     "name": "stdout",
     "output_type": "stream",
     "text": [
      "index: 0, letter: h \n",
      "index: 1, letter: e \n",
      "index: 2, letter: l \n",
      "index: 3, letter: l \n",
      "index: 4, letter: o \n",
      "index: 5, letter:   \n",
      "index: 6, letter: t \n",
      "index: 7, letter: h \n",
      "index: 8, letter: e \n",
      "index: 9, letter: r \n",
      "index: 10, letter: e \n"
     ]
    }
   ],
   "source": [
    "greeting = \"hello there\"\n",
    "index = 0\n",
    "for i in greeting:\n",
    "    \n",
    "    print(f\"index: {index}, letter: {i} \")\n",
    "    index += 1"
   ]
  },
  {
   "cell_type": "code",
   "execution_count": 116,
   "id": "1768ab8c",
   "metadata": {},
   "outputs": [
    {
     "name": "stdout",
     "output_type": "stream",
     "text": [
      "index: 0, letter: h \n",
      "index: 1, letter: e \n",
      "index: 2, letter: l \n",
      "index: 3, letter: l \n",
      "index: 4, letter: o \n",
      "index: 5, letter:   \n",
      "index: 6, letter: t \n",
      "index: 7, letter: h \n",
      "index: 8, letter: e \n",
      "index: 9, letter: r \n",
      "index: 10, letter: e \n"
     ]
    }
   ],
   "source": [
    "greeting = \"hello there\"\n",
    "\n",
    "for i,index in enumerate(greeting):\n",
    "    \n",
    "    print(f\"index: {i}, letter: {index} \")\n",
    "    "
   ]
  },
  {
   "cell_type": "code",
   "execution_count": 117,
   "id": "2210f61d",
   "metadata": {},
   "outputs": [
    {
     "name": "stdout",
     "output_type": "stream",
     "text": [
      "(0, 'h')\n",
      "(1, 'e')\n",
      "(2, 'l')\n",
      "(3, 'l')\n",
      "(4, 'o')\n",
      "(5, ' ')\n",
      "(6, 't')\n",
      "(7, 'h')\n",
      "(8, 'e')\n",
      "(9, 'r')\n",
      "(10, 'e')\n"
     ]
    }
   ],
   "source": [
    "greeting = \"hello there\"\n",
    "\n",
    "for i in enumerate(greeting):\n",
    "    \n",
    "    print(i)"
   ]
  },
  {
   "cell_type": "code",
   "execution_count": 120,
   "id": "dba6c294",
   "metadata": {
    "scrolled": true
   },
   "outputs": [
    {
     "data": {
      "text/plain": [
       "[(1, 'a'), (2, 'b'), (3, 'c'), (4, 'd'), (5, 'e')]"
      ]
     },
     "execution_count": 120,
     "metadata": {},
     "output_type": "execute_result"
    }
   ],
   "source": [
    "list1 = [1,2,3,4,5]\n",
    "list2 = [\"a\",\"b\",\"c\",\"d\",\"e\"]\n",
    "\n",
    "list(zip(list1,list2))"
   ]
  },
  {
   "cell_type": "code",
   "execution_count": 123,
   "id": "39d41992",
   "metadata": {},
   "outputs": [
    {
     "data": {
      "text/plain": [
       "[(1, 'a', 100), (2, 'b', 200), (3, 'c', 300), (4, 'd', 400), (5, 'e', 500)]"
      ]
     },
     "execution_count": 123,
     "metadata": {},
     "output_type": "execute_result"
    }
   ],
   "source": [
    "list1 = [1,2,3,4,5]\n",
    "list2 = [\"a\",\"b\",\"c\",\"d\",\"e\"]\n",
    "liste3 = [100,200,300,400,500]\n",
    "list(zip(list1,list2,liste3))"
   ]
  },
  {
   "cell_type": "code",
   "execution_count": 124,
   "id": "10c7fe2e",
   "metadata": {},
   "outputs": [
    {
     "name": "stdout",
     "output_type": "stream",
     "text": [
      "(1, 'a', 100)\n",
      "(2, 'b', 200)\n",
      "(3, 'c', 300)\n",
      "(4, 'd', 400)\n",
      "(5, 'e', 500)\n"
     ]
    }
   ],
   "source": [
    "list1 = [1,2,3,4,5]\n",
    "list2 = [\"a\",\"b\",\"c\",\"d\",\"e\"]\n",
    "liste3 = [100,200,300,400,500]\n",
    "liste = list(zip(list1,list2,liste3))\n",
    "\n",
    "for i in liste:\n",
    "    print(i)\n"
   ]
  },
  {
   "cell_type": "code",
   "execution_count": 125,
   "id": "d7ff83b8",
   "metadata": {},
   "outputs": [
    {
     "name": "stdout",
     "output_type": "stream",
     "text": [
      "1\n",
      "2\n",
      "3\n",
      "4\n",
      "5\n"
     ]
    }
   ],
   "source": [
    "list1 = [1,2,3,4,5]\n",
    "list2 = [\"a\",\"b\",\"c\",\"d\",\"e\"]\n",
    "liste3 = [100,200,300,400,500]\n",
    "liste = list(zip(list1,list2,liste3))\n",
    "\n",
    "for i,j,k in liste:\n",
    "    print(i)"
   ]
  },
  {
   "cell_type": "code",
   "execution_count": 128,
   "id": "fdbb801d",
   "metadata": {},
   "outputs": [
    {
     "name": "stdout",
     "output_type": "stream",
     "text": [
      "1 a 100\n",
      "2 b 200\n",
      "3 c 300\n",
      "4 d 400\n",
      "5 e 500\n"
     ]
    }
   ],
   "source": [
    "list1 = [1,2,3,4,5]\n",
    "list2 = [\"a\",\"b\",\"c\",\"d\",\"e\"]\n",
    "liste3 = [100,200,300,400,500]\n",
    "liste = list(zip(list1,list2,liste3))\n",
    "\n",
    "for i,j,k in liste:\n",
    "    print(i,j,k)"
   ]
  },
  {
   "cell_type": "code",
   "execution_count": 129,
   "id": "df45b361",
   "metadata": {},
   "outputs": [
    {
     "name": "stdout",
     "output_type": "stream",
     "text": [
      "0\n",
      "1\n",
      "2\n",
      "3\n",
      "4\n",
      "5\n",
      "6\n",
      "7\n",
      "8\n",
      "9\n"
     ]
    }
   ],
   "source": [
    "for i in range(10):\n",
    "    \n",
    "    print(i)\n"
   ]
  },
  {
   "cell_type": "code",
   "execution_count": 130,
   "id": "9ea71b42",
   "metadata": {},
   "outputs": [
    {
     "data": {
      "text/plain": [
       "[0, 1, 2, 3, 4, 5, 6, 7, 8, 9]"
      ]
     },
     "execution_count": 130,
     "metadata": {},
     "output_type": "execute_result"
    }
   ],
   "source": [
    "[i for i in range(10)]"
   ]
  },
  {
   "cell_type": "code",
   "execution_count": 131,
   "id": "c625802f",
   "metadata": {},
   "outputs": [
    {
     "name": "stdout",
     "output_type": "stream",
     "text": [
      "[0, 1, 2, 3, 4, 5, 6, 7, 8, 9]\n"
     ]
    }
   ],
   "source": [
    "print([i for i in range(10)])"
   ]
  },
  {
   "cell_type": "code",
   "execution_count": 132,
   "id": "0beacedc",
   "metadata": {},
   "outputs": [
    {
     "name": "stdout",
     "output_type": "stream",
     "text": [
      "[0, 1, 2, 3, 4, 5, 6, 7, 8, 9]\n"
     ]
    }
   ],
   "source": [
    "numbers = [i for i in range(10)]\n",
    "print(numbers)"
   ]
  },
  {
   "cell_type": "code",
   "execution_count": 133,
   "id": "73f5a3c7",
   "metadata": {},
   "outputs": [
    {
     "name": "stdout",
     "output_type": "stream",
     "text": [
      "0\n",
      "1\n",
      "4\n",
      "9\n",
      "16\n",
      "25\n",
      "36\n",
      "49\n",
      "64\n",
      "81\n"
     ]
    }
   ],
   "source": [
    "for i in range(10):\n",
    "    print(i**2)"
   ]
  },
  {
   "cell_type": "code",
   "execution_count": 134,
   "id": "492cb7a0",
   "metadata": {},
   "outputs": [
    {
     "name": "stdout",
     "output_type": "stream",
     "text": [
      "[0, 1, 4, 9, 16, 25, 36, 49, 64, 81]\n"
     ]
    }
   ],
   "source": [
    "numbers = [ x**2 for x in range(10)]\n",
    "print(numbers)"
   ]
  },
  {
   "cell_type": "code",
   "execution_count": 142,
   "id": "b6377afc",
   "metadata": {},
   "outputs": [
    {
     "name": "stdout",
     "output_type": "stream",
     "text": [
      "[0, 4, 16, 36, 64]\n"
     ]
    }
   ],
   "source": [
    "numbers = [x**2 for x in range(10) if (x % 2 == 0)]\n",
    "print(numbers)"
   ]
  },
  {
   "cell_type": "code",
   "execution_count": 148,
   "id": "5f5322fa",
   "metadata": {},
   "outputs": [
    {
     "name": "stdout",
     "output_type": "stream",
     "text": [
      "['h', 'e', 'l', 'l', 'o']\n"
     ]
    }
   ],
   "source": [
    "myString = \"hello\"\n",
    "myList = []\n",
    "\n",
    "for i in myString:\n",
    "    myList.append(i)\n",
    "print(myList)"
   ]
  },
  {
   "cell_type": "code",
   "execution_count": 149,
   "id": "c40cdfaa",
   "metadata": {},
   "outputs": [
    {
     "name": "stdout",
     "output_type": "stream",
     "text": [
      "['h', 'e', 'l', 'l', 'o']\n"
     ]
    }
   ],
   "source": [
    "myList = [x for x in myString]\n",
    "print(myList)"
   ]
  },
  {
   "cell_type": "code",
   "execution_count": 151,
   "id": "e69ac559",
   "metadata": {},
   "outputs": [
    {
     "name": "stdout",
     "output_type": "stream",
     "text": [
      "[24, 22, 20, 12, 7]\n"
     ]
    }
   ],
   "source": [
    "years = [1998,2000,2002,2010,2015]\n",
    "ages = [2022-x for x in years]\n",
    "print(ages)"
   ]
  },
  {
   "cell_type": "code",
   "execution_count": 156,
   "id": "9266a26e",
   "metadata": {},
   "outputs": [
    {
     "name": "stdout",
     "output_type": "stream",
     "text": [
      "[0, 2, 4, 6, 8, 10, 12, 14, 16, 18]\n"
     ]
    }
   ],
   "source": [
    "numbers = [x for x in range(20) if (x % 2 == 0)]\n",
    "print(numbers)\n"
   ]
  },
  {
   "cell_type": "code",
   "execution_count": 159,
   "id": "1b738f02",
   "metadata": {},
   "outputs": [
    {
     "name": "stdout",
     "output_type": "stream",
     "text": [
      "[0, 'TEK', 2, 'TEK', 4, 'TEK', 6, 'TEK', 8, 'TEK', 10, 'TEK', 12, 'TEK', 14, 'TEK', 16, 'TEK', 18, 'TEK']\n"
     ]
    }
   ],
   "source": [
    "numbers = [x if (x % 2 == 0) else \"TEK\"  for x in range(20) ]\n",
    "print(numbers)\n"
   ]
  },
  {
   "cell_type": "code",
   "execution_count": 161,
   "id": "baaf49ce",
   "metadata": {},
   "outputs": [
    {
     "name": "stdout",
     "output_type": "stream",
     "text": [
      "[0, 2, 4, 6, 8, 10, 12, 14, 16, 18]\n"
     ]
    }
   ],
   "source": [
    "numbers = [x  for x in range(20) if (x % 2 == 0) ]\n",
    "print(numbers)"
   ]
  },
  {
   "cell_type": "code",
   "execution_count": 167,
   "id": "e5c94add",
   "metadata": {},
   "outputs": [
    {
     "name": "stdout",
     "output_type": "stream",
     "text": [
      "[(0, 0), (0, 1), (0, 2), (1, 0), (1, 1), (1, 2), (2, 0), (2, 1), (2, 2)]\n"
     ]
    }
   ],
   "source": [
    "result = []\n",
    "\n",
    "for i in range(3):\n",
    "    for x in range(3):\n",
    "        result.append((i,x))\n",
    "print(result)\n",
    "        "
   ]
  },
  {
   "cell_type": "code",
   "execution_count": 178,
   "id": "1773efed",
   "metadata": {},
   "outputs": [
    {
     "name": "stdout",
     "output_type": "stream",
     "text": [
      "[(0, 0), (0, 1), (0, 2), (1, 0), (1, 1), (1, 2), (2, 0), (2, 1), (2, 2)]\n"
     ]
    }
   ],
   "source": [
    "numbers = [(x,i) for x in range(3) for i in range(3)]\n",
    "print(numbers)"
   ]
  },
  {
   "cell_type": "code",
   "execution_count": 179,
   "id": "eca409ab",
   "metadata": {},
   "outputs": [
    {
     "name": "stdout",
     "output_type": "stream",
     "text": [
      "[(0, 0, 0), (0, 0, 1), (0, 0, 2), (0, 1, 0), (0, 1, 1), (0, 1, 2), (0, 2, 0), (0, 2, 1), (0, 2, 2), (1, 0, 0), (1, 0, 1), (1, 0, 2), (1, 1, 0), (1, 1, 1), (1, 1, 2), (1, 2, 0), (1, 2, 1), (1, 2, 2), (2, 0, 0), (2, 0, 1), (2, 0, 2), (2, 1, 0), (2, 1, 1), (2, 1, 2), (2, 2, 0), (2, 2, 1), (2, 2, 2)]\n"
     ]
    }
   ],
   "source": [
    "numbers = [(x,i,z) for x in range(3) for i in range(3) for z in range(3)]\n",
    "print(numbers)"
   ]
  },
  {
   "cell_type": "code",
   "execution_count": 1,
   "id": "bb827954",
   "metadata": {},
   "outputs": [],
   "source": [
    "import random"
   ]
  },
  {
   "cell_type": "code",
   "execution_count": 45,
   "id": "4521c2d8",
   "metadata": {},
   "outputs": [
    {
     "name": "stdout",
     "output_type": "stream",
     "text": [
      "kaç hak kullanmak istersiniz: 4\n",
      "Tahmini bir sayı girin: 5\n",
      "yukarı...\n",
      "Tahmini bir sayı girin: 8\n",
      "yukarı...\n",
      "Tahmini bir sayı girin: 9\n",
      "yukarı...\n",
      "Tahmini bir sayı girin: 10\n",
      "4. HAKKINIZDA BİLDİNİZ TEBRİKLER... TOPLAM PUANINIZ: 25.0\n"
     ]
    }
   ],
   "source": [
    "sayi = random.randint(1,10)\n",
    "sayac = 0\n",
    "can = int(input(\"kaç hak kullanmak istersiniz: \"))\n",
    "hak = can\n",
    "\n",
    "while (hak > 0):\n",
    "    hak -= 1\n",
    "    sayac += 1\n",
    "    puan -= 20\n",
    "    tahmin = float(input(\"Tahmini bir sayı girin: \"))\n",
    "    \n",
    "    if tahmin == sayi:\n",
    "        print(f\"{sayac}. HAKKINIZDA BİLDİNİZ TEBRİKLER... TOPLAM PUANINIZ: {100-(100/can)*(sayac-1)}\")\n",
    "        \n",
    "        break\n",
    "    elif sayi > tahmin:\n",
    "        print(\"yukarı...\")\n",
    "    else:\n",
    "        print(\"Aşağı: \")\n",
    "   \n",
    "    if hak == 0:\n",
    "        print(f\"hakkınız bitmiştir... tutulan sayı: {sayi}\")\n",
    "        \n"
   ]
  },
  {
   "cell_type": "code",
   "execution_count": 19,
   "id": "6fbd3e03",
   "metadata": {},
   "outputs": [
    {
     "data": {
      "text/plain": [
       "0.8971497942410546"
      ]
     },
     "execution_count": 19,
     "metadata": {},
     "output_type": "execute_result"
    }
   ],
   "source": [
    "random.random()"
   ]
  },
  {
   "cell_type": "code",
   "execution_count": 79,
   "id": "c42887da",
   "metadata": {},
   "outputs": [
    {
     "name": "stdout",
     "output_type": "stream",
     "text": [
      "sayı: 57\n",
      "ASAL DEĞİLDİR...\n"
     ]
    }
   ],
   "source": [
    "sayi = int(input(\"sayı: \"))\n",
    "asalmi = True\n",
    "\n",
    "if sayi == 1:\n",
    "    asalmi = False\n",
    "    \n",
    "\n",
    "for i in range(2,sayi):\n",
    "    if (sayi % i == 0):\n",
    "        asalmi = False\n",
    "        break\n",
    "\n",
    "if  asalmi:\n",
    "    print(\"ASALDIR\")\n",
    "else:\n",
    "    print(\"ASAL DEĞİLDİR...\")\n"
   ]
  },
  {
   "cell_type": "markdown",
   "id": "d0626f1b",
   "metadata": {},
   "source": [
    "## FUNCTIONS"
   ]
  },
  {
   "cell_type": "code",
   "execution_count": 83,
   "id": "766f19c3",
   "metadata": {},
   "outputs": [
    {
     "name": "stdout",
     "output_type": "stream",
     "text": [
      "hello\n"
     ]
    }
   ],
   "source": [
    "def sayHello ():\n",
    "    print(\"hello\")\n",
    "sayHello()"
   ]
  },
  {
   "cell_type": "code",
   "execution_count": 88,
   "id": "bd146fe8",
   "metadata": {},
   "outputs": [
    {
     "name": "stdout",
     "output_type": "stream",
     "text": [
      "hello adem\n"
     ]
    }
   ],
   "source": [
    "def sayHello (name):\n",
    "    print(\"hello\"+\" \"+name)\n",
    "sayHello(\"adem\")\n",
    "    "
   ]
  },
  {
   "cell_type": "code",
   "execution_count": 89,
   "id": "abc101f9",
   "metadata": {},
   "outputs": [
    {
     "name": "stdout",
     "output_type": "stream",
     "text": [
      "hello cansu\n"
     ]
    }
   ],
   "source": [
    "def sayHello (name):\n",
    "    print(\"hello\"+\" \"+name)\n",
    "sayHello(\"cansu\")"
   ]
  },
  {
   "cell_type": "code",
   "execution_count": 91,
   "id": "eaa64d59",
   "metadata": {},
   "outputs": [
    {
     "name": "stdout",
     "output_type": "stream",
     "text": [
      "hello user\n"
     ]
    }
   ],
   "source": [
    "def sayHello (name = \"user\"):\n",
    "    print(\"hello\"+\" \"+name)\n",
    "sayHello()"
   ]
  },
  {
   "cell_type": "code",
   "execution_count": 92,
   "id": "9623d696",
   "metadata": {},
   "outputs": [
    {
     "data": {
      "text/plain": [
       "57"
      ]
     },
     "execution_count": 92,
     "metadata": {},
     "output_type": "execute_result"
    }
   ],
   "source": [
    "def total(num1,num2):\n",
    "    return num1 + num2\n",
    "total(12,45)"
   ]
  },
  {
   "cell_type": "code",
   "execution_count": 93,
   "id": "bf6b92da",
   "metadata": {},
   "outputs": [
    {
     "data": {
      "text/plain": [
       "466093734"
      ]
     },
     "execution_count": 93,
     "metadata": {},
     "output_type": "execute_result"
    }
   ],
   "source": [
    "total(12547889,453545845)"
   ]
  },
  {
   "cell_type": "code",
   "execution_count": 94,
   "id": "dc7c8370",
   "metadata": {},
   "outputs": [
    {
     "data": {
      "text/plain": [
       "80"
      ]
     },
     "execution_count": 94,
     "metadata": {},
     "output_type": "execute_result"
    }
   ],
   "source": [
    "def times(num1,num2, num3):\n",
    "    return num1 * num2 * num3\n",
    "times(2,5,8)"
   ]
  },
  {
   "cell_type": "code",
   "execution_count": 95,
   "id": "b8ee3abd",
   "metadata": {},
   "outputs": [
    {
     "data": {
      "text/plain": [
       "374868"
      ]
     },
     "execution_count": 95,
     "metadata": {},
     "output_type": "execute_result"
    }
   ],
   "source": [
    "times(54,89,78)"
   ]
  },
  {
   "cell_type": "code",
   "execution_count": 98,
   "id": "5f2fa970",
   "metadata": {},
   "outputs": [
    {
     "data": {
      "text/plain": [
       "31"
      ]
     },
     "execution_count": 98,
     "metadata": {},
     "output_type": "execute_result"
    }
   ],
   "source": [
    "def yasHesapla(doğumYılı):\n",
    "    return (2022-doğumYılı)\n",
    "yasHesapla(1991)\n",
    "    \n",
    "    "
   ]
  },
  {
   "cell_type": "code",
   "execution_count": 99,
   "id": "2338511b",
   "metadata": {},
   "outputs": [
    {
     "name": "stdout",
     "output_type": "stream",
     "text": [
      "yiğit\n"
     ]
    }
   ],
   "source": [
    "def changeName(n):\n",
    "    n = \"ada\"\n",
    "name = \"yiğit\"\n",
    "changeName(name)\n",
    "print(name)\n"
   ]
  },
  {
   "cell_type": "code",
   "execution_count": 100,
   "id": "70468866",
   "metadata": {},
   "outputs": [
    {
     "name": "stdout",
     "output_type": "stream",
     "text": [
      "['istanbul', 'izmir']\n"
     ]
    }
   ],
   "source": [
    "def change(n):\n",
    "    n[0] = \"istanbul\"\n",
    "sehirler = [\"ankara\",\"izmir\"]\n",
    "\n",
    "change(sehirler)\n",
    "print(sehirler)\n",
    "    "
   ]
  },
  {
   "cell_type": "code",
   "execution_count": 101,
   "id": "ca48520d",
   "metadata": {},
   "outputs": [
    {
     "name": "stdout",
     "output_type": "stream",
     "text": [
      "30\n"
     ]
    }
   ],
   "source": [
    "def add(a,b):\n",
    "    return sum((a,b))\n",
    "print(add(10,20))"
   ]
  },
  {
   "cell_type": "code",
   "execution_count": 105,
   "id": "7195211d",
   "metadata": {},
   "outputs": [
    {
     "name": "stdout",
     "output_type": "stream",
     "text": [
      "30\n",
      "70\n",
      "190\n"
     ]
    }
   ],
   "source": [
    "def add(*params):\n",
    "    return sum((params))\n",
    "print(add(10,20))\n",
    "print(add(10,20,40))\n",
    "print(add(10,20,40,50,70))"
   ]
  },
  {
   "cell_type": "code",
   "execution_count": 106,
   "id": "b7df0b9f",
   "metadata": {},
   "outputs": [
    {
     "name": "stdout",
     "output_type": "stream",
     "text": [
      "10\n",
      "20\n",
      "30\n",
      "10\n",
      "20\n",
      "70\n",
      "10\n",
      "20\n",
      "190\n"
     ]
    }
   ],
   "source": [
    "def add(*params):\n",
    "    print(params[0])\n",
    "    print(params[1])\n",
    "    return sum((params))\n",
    "print(add(10,20))\n",
    "print(add(10,20,40))\n",
    "print(add(10,20,40,50,70))"
   ]
  },
  {
   "cell_type": "code",
   "execution_count": 1,
   "id": "a1dc0eb1",
   "metadata": {},
   "outputs": [
    {
     "name": "stdout",
     "output_type": "stream",
     "text": [
      "hello\n",
      "hello\n",
      "hello\n",
      "hello\n",
      "hello\n",
      "hello\n",
      "hello\n",
      "hello\n",
      "hello\n",
      "hello\n",
      "\n"
     ]
    }
   ],
   "source": [
    "def yazdir(kelime,adet):\n",
    "    print(kelime*10)\n",
    "\n",
    "yazdir(\"hello\\n\",10)"
   ]
  },
  {
   "cell_type": "code",
   "execution_count": 4,
   "id": "1d674524",
   "metadata": {},
   "outputs": [
    {
     "name": "stdout",
     "output_type": "stream",
     "text": [
      "[10, 20, 30, 40, 'hello']\n"
     ]
    }
   ],
   "source": [
    "def listeyeCevir(*args):# args yerine params da kullanılır.\n",
    "    liste = []\n",
    "    \n",
    "    for param in args:\n",
    "        liste.append(param)\n",
    "    \n",
    "    return liste\n",
    "\n",
    "result = listeyeCevir(10,20,30,40,\"hello\")\n",
    "print(result)"
   ]
  },
  {
   "cell_type": "code",
   "execution_count": 26,
   "id": "fffa6cca",
   "metadata": {},
   "outputs": [
    {
     "name": "stdout",
     "output_type": "stream",
     "text": [
      "sayı1: 0\n",
      "sayı2: 20\n"
     ]
    }
   ],
   "source": [
    "\n",
    "\n",
    "def asalSayıBul(sayi1,sayi2):\n",
    "    for i in range(sayi1,sayi2+1):\n",
    "        if sayi1 <= 1:\n",
    "            continue\n",
    "        elif sayi2 % i == 0:\n",
    "                continue\n",
    "        else:\n",
    "            print(i)\n",
    "    \n",
    "sayi1 = int(input(\"sayı1: \"))\n",
    "sayi2 = int(input(\"sayı2: \"))\n",
    "\n",
    "asalSayıBul(sayi1,sayi2)"
   ]
  },
  {
   "cell_type": "code",
   "execution_count": 43,
   "id": "cdfa0ca5",
   "metadata": {
    "scrolled": true
   },
   "outputs": [
    {
     "name": "stdout",
     "output_type": "stream",
     "text": [
      "sayı1: 1\n",
      "sayı2: 20\n",
      "2\n",
      "3\n",
      "5\n",
      "7\n",
      "11\n",
      "13\n",
      "17\n",
      "19\n"
     ]
    }
   ],
   "source": [
    "def asalSayıBul(sayi1,sayi2):\n",
    "    for i in range(sayi1,sayi2+1):\n",
    "        \n",
    "        if i > 1:\n",
    "            for x in  range(2,i):\n",
    "                if i % x == 0:\n",
    "                    \n",
    "                    break\n",
    "            else:\n",
    "                print(i)\n",
    "    \n",
    "               \n",
    "sayi1 = int(input(\"sayı1: \"))\n",
    "sayi2 = int(input(\"sayı2: \"))\n",
    "\n",
    "asalSayıBul(sayi1,sayi2)\n"
   ]
  },
  {
   "cell_type": "code",
   "execution_count": 34,
   "id": "b6c2ca04",
   "metadata": {},
   "outputs": [
    {
     "name": "stdout",
     "output_type": "stream",
     "text": [
      "sayı: 19\n",
      "ASALDIR\n"
     ]
    }
   ],
   "source": [
    "\n",
    "\n",
    "sayi = int(input(\"sayı: \"))\n",
    "asalmi = True\n",
    "\n",
    "if sayi == 1:\n",
    "    asalmi = False\n",
    "    \n",
    "\n",
    "for i in range(2,sayi):\n",
    "    if (sayi % i == 0):\n",
    "        asalmi = False\n",
    "        break\n",
    "\n",
    "if  asalmi:\n",
    "    print(\"ASALDIR\")\n",
    "else:\n",
    "    print(\"ASAL DEĞİLDİR...\")"
   ]
  },
  {
   "cell_type": "code",
   "execution_count": 59,
   "id": "601f2ed9",
   "metadata": {},
   "outputs": [
    {
     "name": "stdout",
     "output_type": "stream",
     "text": [
      "sayı: 12\n",
      "[1, 2, 3, 4, 6, 12]\n"
     ]
    }
   ],
   "source": [
    "sayi = int(input(\"sayı: \"))    \n",
    "liste = []\n",
    "for i in range(1,sayi+1):\n",
    "    if sayi % i == 0:\n",
    "        liste.append(i)\n",
    "print(liste)"
   ]
  },
  {
   "cell_type": "code",
   "execution_count": 87,
   "id": "1294774f",
   "metadata": {},
   "outputs": [
    {
     "data": {
      "text/plain": [
       "[1, 2, 3, 4, 6, 8, 12, 24]"
      ]
     },
     "execution_count": 87,
     "metadata": {},
     "output_type": "execute_result"
    }
   ],
   "source": [
    "\n",
    "def bolenSayılarıBulma(sayi):\n",
    "    liste = []\n",
    "    for i in range(1,sayi+1):\n",
    "        if (sayi % i == 0): \n",
    "            liste.append(i)\n",
    "    return liste\n",
    "\n",
    "bolenSayılarıBulma(24)\n"
   ]
  },
  {
   "cell_type": "code",
   "execution_count": 88,
   "id": "34d1e1f0",
   "metadata": {},
   "outputs": [
    {
     "data": {
      "text/plain": [
       "[1, 2, 4, 5, 10, 20]"
      ]
     },
     "execution_count": 88,
     "metadata": {},
     "output_type": "execute_result"
    }
   ],
   "source": [
    "bolenSayılarıBulma(20)"
   ]
  },
  {
   "cell_type": "code",
   "execution_count": 90,
   "id": "daa4768d",
   "metadata": {},
   "outputs": [
    {
     "name": "stdout",
     "output_type": "stream",
     "text": [
      "144\n"
     ]
    }
   ],
   "source": [
    "def square(num):\n",
    "    return num**2\n",
    "print(square(12))"
   ]
  },
  {
   "cell_type": "code",
   "execution_count": 91,
   "id": "c6cd6e4c",
   "metadata": {},
   "outputs": [
    {
     "name": "stdout",
     "output_type": "stream",
     "text": [
      "196\n"
     ]
    }
   ],
   "source": [
    "def square(num): return num**2\n",
    "result = square(14)\n",
    "print(result)"
   ]
  },
  {
   "cell_type": "code",
   "execution_count": 94,
   "id": "fe505fe5",
   "metadata": {},
   "outputs": [
    {
     "name": "stdout",
     "output_type": "stream",
     "text": [
      "1\n",
      "9\n",
      "25\n",
      "81\n"
     ]
    }
   ],
   "source": [
    "numbers = [1,3,5,9]\n",
    "\n",
    "for i in numbers:\n",
    "    print(square(i))\n"
   ]
  },
  {
   "cell_type": "code",
   "execution_count": 99,
   "id": "f7be6105",
   "metadata": {},
   "outputs": [
    {
     "name": "stdout",
     "output_type": "stream",
     "text": [
      "Help on class map in module builtins:\n",
      "\n",
      "class map(object)\n",
      " |  map(func, *iterables) --> map object\n",
      " |  \n",
      " |  Make an iterator that computes the function using arguments from\n",
      " |  each of the iterables.  Stops when the shortest iterable is exhausted.\n",
      " |  \n",
      " |  Methods defined here:\n",
      " |  \n",
      " |  __getattribute__(self, name, /)\n",
      " |      Return getattr(self, name).\n",
      " |  \n",
      " |  __iter__(self, /)\n",
      " |      Implement iter(self).\n",
      " |  \n",
      " |  __next__(self, /)\n",
      " |      Implement next(self).\n",
      " |  \n",
      " |  __reduce__(...)\n",
      " |      Return state information for pickling.\n",
      " |  \n",
      " |  ----------------------------------------------------------------------\n",
      " |  Static methods defined here:\n",
      " |  \n",
      " |  __new__(*args, **kwargs) from builtins.type\n",
      " |      Create and return a new object.  See help(type) for accurate signature.\n",
      "\n",
      "None\n"
     ]
    }
   ],
   "source": [
    "print(help(map))"
   ]
  },
  {
   "cell_type": "code",
   "execution_count": 100,
   "id": "056ff178",
   "metadata": {},
   "outputs": [],
   "source": [
    "map?"
   ]
  },
  {
   "cell_type": "code",
   "execution_count": 96,
   "id": "79cf3b03",
   "metadata": {},
   "outputs": [
    {
     "data": {
      "text/plain": [
       "[1, 9, 25, 81]"
      ]
     },
     "execution_count": 96,
     "metadata": {},
     "output_type": "execute_result"
    }
   ],
   "source": [
    "list(map(square,numbers))"
   ]
  },
  {
   "cell_type": "code",
   "execution_count": 97,
   "id": "cdfe2a84",
   "metadata": {},
   "outputs": [
    {
     "name": "stdout",
     "output_type": "stream",
     "text": [
      "[1, 9, 25, 81]\n"
     ]
    }
   ],
   "source": [
    "a = list(map(square,numbers))\n",
    "print(a)"
   ]
  },
  {
   "cell_type": "code",
   "execution_count": 98,
   "id": "b92c8897",
   "metadata": {},
   "outputs": [
    {
     "name": "stdout",
     "output_type": "stream",
     "text": [
      "1\n",
      "9\n",
      "25\n",
      "81\n"
     ]
    }
   ],
   "source": [
    "for i in map(square,numbers):\n",
    "    print(i)"
   ]
  },
  {
   "cell_type": "code",
   "execution_count": 102,
   "id": "d7595d5b",
   "metadata": {},
   "outputs": [
    {
     "name": "stdout",
     "output_type": "stream",
     "text": [
      "[1, 9, 25, 81]\n"
     ]
    }
   ],
   "source": [
    "numbers = [1,3,5,9]\n",
    "result = list(map(lambda num : num ** 2 ,numbers))\n",
    "print(result)"
   ]
  },
  {
   "cell_type": "code",
   "execution_count": 104,
   "id": "3fe9b184",
   "metadata": {},
   "outputs": [
    {
     "name": "stdout",
     "output_type": "stream",
     "text": [
      "[1, 9, 25, 81]\n"
     ]
    }
   ],
   "source": [
    "numbers = [1,3,5,9]\n",
    "square = lambda num : num ** 2\n",
    "r = list(map(square,numbers))\n",
    "print(r)"
   ]
  },
  {
   "cell_type": "code",
   "execution_count": 105,
   "id": "70f31a0b",
   "metadata": {},
   "outputs": [
    {
     "data": {
      "text/plain": [
       "9"
      ]
     },
     "execution_count": 105,
     "metadata": {},
     "output_type": "execute_result"
    }
   ],
   "source": [
    "square(3)"
   ]
  },
  {
   "cell_type": "code",
   "execution_count": 109,
   "id": "dbe07314",
   "metadata": {},
   "outputs": [
    {
     "name": "stdout",
     "output_type": "stream",
     "text": [
      "[10, 12]\n"
     ]
    }
   ],
   "source": [
    "numbers = [1,3,5,9,10,12]\n",
    "def check_even(num):\n",
    "    return num % 2 == 0\n",
    "print(list(filter(check_even,numbers)))"
   ]
  },
  {
   "cell_type": "code",
   "execution_count": 110,
   "id": "c11d4f2f",
   "metadata": {},
   "outputs": [
    {
     "data": {
      "text/plain": [
       "[10, 12]"
      ]
     },
     "execution_count": 110,
     "metadata": {},
     "output_type": "execute_result"
    }
   ],
   "source": [
    "numbers = [1,3,5,9,10,12]\n",
    "\n",
    "list(filter(lambda num : num % 2 == 0,numbers))"
   ]
  },
  {
   "cell_type": "markdown",
   "id": "16ba5a67",
   "metadata": {},
   "source": [
    "## BANKAMATİK UYGULAMAS"
   ]
  },
  {
   "cell_type": "code",
   "execution_count": 128,
   "id": "53d64f42",
   "metadata": {},
   "outputs": [
    {
     "name": "stdout",
     "output_type": "stream",
     "text": [
      "merhaba adem BAKIRCI\n",
      "paranızı alabilirsiniz...\n",
      "123456 nolu hesabınızda 1000 TL bulunmakta ve yedek hesabınızda 2000 TL bulunmaktadır\n",
      "merhaba ali BAKIRCI\n",
      "paranızı alabilirsiniz...\n",
      "123456 nolu hesabınızda 0 TL bulunmakta ve yedek hesabınızda 1000 TL bulunmaktadır\n"
     ]
    }
   ],
   "source": [
    "edmHesap = {\"ad\":\"adem BAKIRCI\",\n",
    "            \"hesap no\":123456,\n",
    "            \"bakiye\":3000,\n",
    "            \"ekHesap\":2000}\n",
    "\n",
    "aliHesap = {\"ad\":\"ali BAKIRCI\",\n",
    "            \"hesap no\":123456,\n",
    "            \"bakiye\":2000,\n",
    "            \"ekHesap\":1000}\n",
    "def paraCek(hesap,miktar):\n",
    "    print(f\"merhaba {hesap['ad']}\")\n",
    "    \n",
    "    if hesap[\"bakiye\"] >= miktar:\n",
    "        hesap[\"bakiye\"] -= miktar\n",
    "        print(\"paranızı alabilirsiniz...\")\n",
    "        bakiyeSorgula(hesap)\n",
    "    else:\n",
    "        top = hesap[\"bakiye\"] + hesap[\"ekHesap\"]\n",
    "        if top >= miktar:\n",
    "            ekHesapKullanımı = input(\"ek hesap kullanmak istiyor musunuz(evet/hayır): \")\n",
    "            if ekHesapKullanımı == \"evet\":\n",
    "                ekHesapKullanılacakMiktar = miktar - hesap[\"bakiye\"]\n",
    "                hesap[\"bakiye\"] = 0\n",
    "                hesap[\"ekHesap\"] -= ekHesapKullanılacakMiktar\n",
    "                print(\"paranızı alabilirsiniz...\")\n",
    "                bakiyeSorgula(hesap)\n",
    "            else:\n",
    "                print(f\"ek hesaptan hesabınıza {miktar-hesap['bakiye']} TL transfer etmeniz grekir...\")\n",
    "        else:\n",
    "            print(\"yetersiz bakiye...\")\n",
    "            bakiyeSorgula(hesap)\n",
    "def bakiyeSorgula(hesap):\n",
    "    print(f'{hesap[\"hesap no\"]} nolu hesabınızda {hesap[\"bakiye\"]} TL bulunmakta ve yedek hesabınızda {hesap[\"ekHesap\"]} TL bulunmaktadır')\n",
    "\n",
    "    \n",
    "\n",
    "\n",
    "paraCek(edmHesap,2000)\n",
    "\n",
    "\n",
    "paraCek(aliHesap,2000)\n",
    "\n"
   ]
  },
  {
   "cell_type": "code",
   "execution_count": 114,
   "id": "bdfecbe8",
   "metadata": {},
   "outputs": [
    {
     "name": "stdout",
     "output_type": "stream",
     "text": [
      "merhaba adem BAKIRCI\n",
      "ek hesap kullanmak istiyor musunuz(evet/hayır): evet\n",
      "paranızı alabilirsiniz...\n"
     ]
    }
   ],
   "source": [
    "paraCek(edmHesap,5000)"
   ]
  },
  {
   "cell_type": "code",
   "execution_count": 115,
   "id": "62963eb9",
   "metadata": {},
   "outputs": [
    {
     "name": "stdout",
     "output_type": "stream",
     "text": [
      "merhaba adem BAKIRCI\n",
      "ek hesap kullanmak istiyor musunuz(evet/hayır): hayır\n",
      "ek hesaptan hesabınıza 2000 TL transfer etmeniz grekir...\n"
     ]
    }
   ],
   "source": [
    "paraCek(edmHesap,5000)\n"
   ]
  },
  {
   "cell_type": "code",
   "execution_count": 116,
   "id": "e64f6b4e",
   "metadata": {},
   "outputs": [
    {
     "name": "stdout",
     "output_type": "stream",
     "text": [
      "merhaba adem BAKIRCI\n",
      "yetersiz bakiye...\n"
     ]
    }
   ],
   "source": [
    "paraCek(edmHesap,7000)"
   ]
  },
  {
   "cell_type": "code",
   "execution_count": 117,
   "id": "24b70536",
   "metadata": {},
   "outputs": [
    {
     "name": "stdout",
     "output_type": "stream",
     "text": [
      "merhaba ali BAKIRCI\n",
      "yetersiz bakiye...\n"
     ]
    }
   ],
   "source": [
    "paraCek(aliHesap,5000)"
   ]
  },
  {
   "cell_type": "code",
   "execution_count": 118,
   "id": "19b36015",
   "metadata": {},
   "outputs": [
    {
     "name": "stdout",
     "output_type": "stream",
     "text": [
      "merhaba ali BAKIRCI\n",
      "ek hesap kullanmak istiyor musunuz(evet/hayır): evet\n",
      "paranızı alabilirsiniz...\n"
     ]
    }
   ],
   "source": [
    "paraCek(aliHesap,3000)"
   ]
  },
  {
   "cell_type": "code",
   "execution_count": 119,
   "id": "e8c9a1c9",
   "metadata": {},
   "outputs": [
    {
     "name": "stdout",
     "output_type": "stream",
     "text": [
      "merhaba ali BAKIRCI\n",
      "ek hesap kullanmak istiyor musunuz(evet/hayır): evet\n",
      "paranızı alabilirsiniz...\n"
     ]
    }
   ],
   "source": [
    "paraCek(aliHesap,3000)"
   ]
  },
  {
   "cell_type": "markdown",
   "id": "1b7a8dff",
   "metadata": {},
   "source": [
    "## OOP"
   ]
  },
  {
   "cell_type": "code",
   "execution_count": 1,
   "id": "4d51c6cf",
   "metadata": {},
   "outputs": [
    {
     "name": "stdout",
     "output_type": "stream",
     "text": [
      "init metodu çalıştı...\n",
      "init metodu çalıştı...\n",
      "person1: name : ali year: 1991 address: no information\n",
      "person2: name : cansu year: 1994 address: no information\n"
     ]
    }
   ],
   "source": [
    "#class\n",
    "class Person():\n",
    "    #class attributes\n",
    "    address = \"no information\"\n",
    "    #constructor \n",
    "    def __init__(self,name,year):\n",
    "        #object attributes\n",
    "        print(\"init metodu çalıştı...\")\n",
    "        self.name = name\n",
    "        self.year = year\n",
    "        \n",
    "        # methods\n",
    "        \n",
    "#object(instance)\n",
    "person1 = Person(\"adem\",1991)\n",
    "person2 = Person(\"cansu\",1993)\n",
    "\n",
    "# updating\n",
    "person1.name = \"ali\"\n",
    "person2.year = 1994\n",
    "\n",
    "#accessing onject attributes\n",
    "\n",
    "print(f\"person1: name : {person1.name} year: {person1.year} address: {person1.address}\")\n",
    "print(f\"person2: name : {person2.name} year: {person2.year} address: {person2.address}\")"
   ]
  },
  {
   "cell_type": "code",
   "execution_count": 16,
   "id": "bb5d8ca1",
   "metadata": {},
   "outputs": [
    {
     "name": "stdout",
     "output_type": "stream",
     "text": [
      "init metodu çalıştı...\n",
      "init metodu çalıştı...\n",
      "person1: name : ali year: 1991 address: no information\n",
      "person2: name : cansu year: 1994 address: no information\n",
      "hello there. I am ali\n",
      "hello there. I am cansu\n",
      "yaşınız: 31\n",
      "yaşınız: 28\n"
     ]
    }
   ],
   "source": [
    "#class\n",
    "class Person():\n",
    "    #class attributes   \n",
    "    address = \"no information\"\n",
    "    #constructor \n",
    "    def __init__(self,name,year):\n",
    "        #object attributes\n",
    "        print(\"init metodu çalıştı...\")\n",
    "        self.name = name\n",
    "        self.year = year\n",
    "        \n",
    "        # methods\n",
    "    def intro(self):\n",
    "        print(f\"hello there. I am {self.name}\")\n",
    "    \n",
    "    def calculateAge(self):\n",
    "        return f\"yaşınız: {2022 - self.year}\"\n",
    "#object(instance)\n",
    "person1 = Person(\"adem\",1991)\n",
    "person2 = Person(\"cansu\",1993)\n",
    "\n",
    "# updating\n",
    "person1.name = \"ali\"\n",
    "person2.year = 1994\n",
    "\n",
    "#accessing onject attributes\n",
    "\n",
    "print(f\"person1: name : {person1.name} year: {person1.year} address: {person1.address}\")\n",
    "print(f\"person2: name : {person2.name} year: {person2.year} address: {person2.address}\")\n",
    "\n",
    "person1.intro()\n",
    "person2.intro()\n",
    "\n",
    "print(person1.calculateAge())\n",
    "print(person2.calculateAge())"
   ]
  },
  {
   "cell_type": "code",
   "execution_count": 15,
   "id": "a68004d9",
   "metadata": {},
   "outputs": [
    {
     "data": {
      "text/plain": [
       "'yaşınız: 31'"
      ]
     },
     "execution_count": 15,
     "metadata": {},
     "output_type": "execute_result"
    }
   ],
   "source": [
    "person1.calculateAge()\n"
   ]
  },
  {
   "cell_type": "raw",
   "id": "bfa476f9",
   "metadata": {},
   "source": [
    "class Circle():\n",
    "    pi = 3.14\n",
    "    \n",
    "    def __init__(self,yaricap = 1):\n",
    "        self.yaricap = yaricap\n",
    "        \n",
    "    def cevreHesapla(self):\n",
    "        return 2 * self.yaricap * self.pi\n",
    "    \n",
    "    def alanHesapla(self):\n",
    "        return self.pi * (self.yaricap**2)\n",
    "    \n",
    "c1 = Circle()\n",
    "c2 = Circle(5)\n",
    "print(f\"c1: alan: {c1.alanHesapla()} çevre: {c1.cevreHesapla()} \")\n",
    "print(f\"c2: alan: {c2.alanHesapla()} çevre: {c2.cevreHesapla()} \")\n"
   ]
  },
  {
   "cell_type": "code",
   "execution_count": 18,
   "id": "04e3a5ce",
   "metadata": {},
   "outputs": [
    {
     "name": "stdout",
     "output_type": "stream",
     "text": [
      "c1: alan: 3.14 çevre: 6.28 \n",
      "c2: alan: 78.5 çevre: 31.400000000000002 \n"
     ]
    }
   ],
   "source": [
    "class Circle():\n",
    "    pi = 3.14\n",
    "    \n",
    "    def __init__(self,yaricap = 1):\n",
    "        self.yaricap = yaricap\n",
    "        \n",
    "    def cevreHesapla(self):\n",
    "        return 2 * self.yaricap * self.pi\n",
    "    \n",
    "    def alanHesapla(self):\n",
    "        return self.pi * (self.yaricap**2)\n",
    "    \n",
    "c1 = Circle()\n",
    "c2 = Circle(5)\n",
    "print(f\"c1: alan: {c1.alanHesapla()} çevre: {c1.cevreHesapla()} \")\n",
    "print(f\"c2: alan: {c2.alanHesapla()} çevre: {c2.cevreHesapla()} \")"
   ]
  },
  {
   "cell_type": "markdown",
   "id": "af51c203",
   "metadata": {},
   "source": [
    "## INHERITANCE"
   ]
  },
  {
   "cell_type": "code",
   "execution_count": 33,
   "id": "7a444006",
   "metadata": {},
   "outputs": [
    {
     "name": "stdout",
     "output_type": "stream",
     "text": [
      "Person is created\n",
      "Person is created\n",
      "Student created\n",
      "Person is created\n",
      "adem Bakırcı\n",
      "cansu bakırcı 4353\n",
      "yılmaz yıldırım music\n",
      "I am a person\n",
      "I am a student\n",
      "I am a music teacher\n",
      "hello I am a student\n",
      "I am eating\n",
      "I am eating\n"
     ]
    }
   ],
   "source": [
    "class Person():\n",
    "    def __init__(self,fName,lName):\n",
    "        print(\"Person is created\")\n",
    "        self.fName = fName\n",
    "        self.lName = lName\n",
    "    def who_am_I(self):\n",
    "        print(\"I am a person\")\n",
    "    def eat(self):\n",
    "        print(\"I am eating\")\n",
    "class Student(Person):\n",
    "    def __init__(self,fName,lName,studentNumber):\n",
    "        Person.__init__(self,fName,lName)\n",
    "        self.studentNumber = studentNumber\n",
    "        print(\"Student created\")\n",
    "        \n",
    "    def who_am_I(self):\n",
    "        print(\"I am a student\")\n",
    "        \n",
    "    def sayHello(self):\n",
    "        print(\"hello I am a student\")\n",
    "\n",
    "class Teacher(Person):\n",
    "    def __init__(self,fName,lName,branch):\n",
    "        super().__init__(fName,lName)#Person.__init__(self,fName,lName)\n",
    "        self.branch = branch\n",
    "    \n",
    "    def who_am_I(self):\n",
    "        print(f\"I am a {self.branch} teacher\")\n",
    "        \n",
    "        \n",
    "p1 = Person(\"adem\",\"Bakırcı\")\n",
    "s1 = Student(\"cansu\",\"bakırcı\",4353)\n",
    "t1 = Teacher(\"yılmaz\",\"yıldırım\",\"music\")\n",
    "print(p1.fName+\" \" + p1.lName)\n",
    "print(s1.fName+\" \" + s1.lName + \" \" + str(s1.studentNumber))\n",
    "print(t1.fName+\" \" + t1.lName + \" \" + t1.branch)\n",
    "p1.who_am_I()\n",
    "s1.who_am_I()\n",
    "t1.who_am_I()\n",
    "s1.sayHello()  \n",
    "p1.eat()\n",
    "s1.eat()"
   ]
  },
  {
   "cell_type": "code",
   "execution_count": 43,
   "id": "4bb8fe98",
   "metadata": {},
   "outputs": [
    {
     "name": "stdout",
     "output_type": "stream",
     "text": [
      "True\n",
      "False\n"
     ]
    }
   ],
   "source": [
    "class Question:\n",
    "    \n",
    "    \n",
    "    def __init__(self,text,choices,answer):\n",
    "        self.text = text\n",
    "        self.choices = choices\n",
    "        self.answer = answer\n",
    "\n",
    "    def checkAnswer(self,answer):\n",
    "        return self.answer == answer\n",
    "    \n",
    "q1 = Question(\"En iyi programlama dili hangisidir?\",[\"C\",\"Python\",\"java\",\"C#\"],\"python\")\n",
    "q2 = Question(\"En çok kazandıran program dili hangisidir?\",[\"Python\",\"C\",\"java\",\"C#\"],\"python\")\n",
    "q3 = Question(\"En popüler programlama dili hangisidir?\",[\"C\",\"C#\",\"java\",\"Python\"],\"python\")\n",
    "    \n",
    "print(q1.checkAnswer(\"python\"))\n",
    "print(q2.checkAnswer(\"C#\"))"
   ]
  },
  {
   "cell_type": "code",
   "execution_count": 56,
   "id": "62ad150f",
   "metadata": {},
   "outputs": [
    {
     "name": "stdout",
     "output_type": "stream",
     "text": [
      "soru 1: En iyi programlama dili hangisidir?\n",
      "-C\n",
      "-Python\n",
      "-java\n",
      "-C#\n",
      "cevap: python\n",
      "soru 2: En çok kazandıran program dili hangisidir?\n",
      "-Python\n",
      "-C\n",
      "-java\n",
      "-C#\n",
      "cevap: c\n",
      "soru 2: En çok kazandıran program dili hangisidir?\n",
      "-Python\n",
      "-C\n",
      "-java\n",
      "-C#\n",
      "cevap: python\n",
      "soru 3: En popüler programlama dili hangisidir?\n",
      "-C\n",
      "-C#\n",
      "-java\n",
      "-Python\n",
      "cevap: c#\n",
      "soru 3: En popüler programlama dili hangisidir?\n",
      "-C\n",
      "-C#\n",
      "-java\n",
      "-Python\n",
      "cevap: python\n",
      "score:  3\n"
     ]
    }
   ],
   "source": [
    "class Question:\n",
    "    \n",
    "    \n",
    "    def __init__(self,text,choices,answer):\n",
    "        self.text = text\n",
    "        self.choices = choices\n",
    "        self.answer = answer\n",
    "\n",
    "    def checkAnswer(self,answer):\n",
    "        return self.answer == answer\n",
    "    \n",
    "\n",
    "class Quiz:\n",
    "    def __init__(self,questions):\n",
    "        self.questions = questions\n",
    "        self.score = 0\n",
    "        self.questionIndex = 0\n",
    "        \n",
    "    def getQuestion(self):\n",
    "        return self.questions[self.questionIndex]\n",
    "    \n",
    "    def displayQuestion(self):\n",
    "        question = self.getQuestion()\n",
    "        print(f\"soru {self.questionIndex + 1}: {question.text}\")\n",
    "\n",
    "        for q in question.choices:\n",
    "            print(\"-\" + q)\n",
    "        \n",
    "        answer = input(\"cevap: \")\n",
    "        self.guess(answer)\n",
    "        self.loadQuestion()\n",
    "    \n",
    "    def guess(self,answer):\n",
    "        question = self.getQuestion()\n",
    "        \n",
    "        if question.checkAnswer(answer):\n",
    "            self.score += 1\n",
    "            self.questionIndex += 1\n",
    "            \n",
    "       \n",
    "            \n",
    "            \n",
    "    def loadQuestion(self):\n",
    "        if len(self.questions) == self.questionIndex:\n",
    "            self.showScore()\n",
    "        else:\n",
    "            self.displayQuestion() \n",
    "            \n",
    "            \n",
    "    def showScore(self):\n",
    "        print(\"score: \", self.score)\n",
    "\n",
    "q1 = Question(\"En iyi programlama dili hangisidir?\",[\"C\",\"Python\",\"java\",\"C#\"],\"python\")\n",
    "q2 = Question(\"En çok kazandıran program dili hangisidir?\",[\"Python\",\"C\",\"java\",\"C#\"],\"python\")\n",
    "q3 = Question(\"En popüler programlama dili hangisidir?\",[\"C\",\"C#\",\"java\",\"Python\"],\"python\")\n",
    "\n",
    "questions = [q1,q2,q3]\n",
    "\n",
    "quiz = Quiz(questions)\n",
    "quiz.displayQuestion()\n",
    "\n"
   ]
  },
  {
   "cell_type": "code",
   "execution_count": 57,
   "id": "fec40ed9",
   "metadata": {},
   "outputs": [],
   "source": [
    "from random import*"
   ]
  },
  {
   "cell_type": "code",
   "execution_count": 62,
   "id": "70e5247b",
   "metadata": {},
   "outputs": [
    {
     "data": {
      "text/plain": [
       "5"
      ]
     },
     "execution_count": 62,
     "metadata": {},
     "output_type": "execute_result"
    }
   ],
   "source": [
    "randint(1,10)"
   ]
  },
  {
   "cell_type": "markdown",
   "id": "bdf01d7a",
   "metadata": {},
   "source": [
    "## HATA AYIKLAMA"
   ]
  },
  {
   "cell_type": "code",
   "execution_count": 11,
   "id": "faa832db",
   "metadata": {},
   "outputs": [
    {
     "name": "stdout",
     "output_type": "stream",
     "text": [
      "1\n",
      "2\n",
      "10\n",
      "50\n"
     ]
    }
   ],
   "source": [
    "liste = [\"1\",\"2\",\"5a\",\"10b\",\"abc\",\"10\",\"50\"]\n",
    "\n",
    "\n",
    "    \n",
    "for i in liste:\n",
    "    \n",
    "    try:\n",
    "        i = int(i)\n",
    "        print(i)\n",
    "    except ValueError:\n",
    "        continue"
   ]
  },
  {
   "cell_type": "code",
   "execution_count": 12,
   "id": "1891118b",
   "metadata": {},
   "outputs": [
    {
     "name": "stdout",
     "output_type": "stream",
     "text": [
      "1\n",
      "2\n",
      "10\n",
      "50\n"
     ]
    }
   ],
   "source": [
    "liste = [\"1\",\"2\",\"5a\",\"10b\",\"abc\",\"10\",\"50\"]\n",
    "\n",
    "\n",
    "    \n",
    "for i in liste:\n",
    "    \n",
    "    try:\n",
    "        i = int(i)\n",
    "        print(i)\n",
    "    except ValueError:\n",
    "        pass"
   ]
  },
  {
   "cell_type": "code",
   "execution_count": 29,
   "id": "9ae48f33",
   "metadata": {},
   "outputs": [
    {
     "name": "stdout",
     "output_type": "stream",
     "text": [
      "sayı: 11\n",
      "sayı: 45\n",
      "sayı: q\n"
     ]
    },
    {
     "ename": "ValueError",
     "evalue": "invalid literal for int() with base 10: 'q'",
     "output_type": "error",
     "traceback": [
      "\u001b[1;31m---------------------------------------------------------------------------\u001b[0m",
      "\u001b[1;31mValueError\u001b[0m                                Traceback (most recent call last)",
      "\u001b[1;32mC:\\Users\\ADMCN_~1\\AppData\\Local\\Temp/ipykernel_3512/2058185700.py\u001b[0m in \u001b[0;36m<module>\u001b[1;34m\u001b[0m\n\u001b[0;32m      1\u001b[0m \u001b[1;32mwhile\u001b[0m \u001b[1;32mTrue\u001b[0m\u001b[1;33m:\u001b[0m\u001b[1;33m\u001b[0m\u001b[1;33m\u001b[0m\u001b[0m\n\u001b[1;32m----> 2\u001b[1;33m     \u001b[0msayi\u001b[0m \u001b[1;33m=\u001b[0m \u001b[0mint\u001b[0m\u001b[1;33m(\u001b[0m\u001b[0minput\u001b[0m\u001b[1;33m(\u001b[0m\u001b[1;34m\"sayı: \"\u001b[0m\u001b[1;33m)\u001b[0m\u001b[1;33m)\u001b[0m\u001b[1;33m\u001b[0m\u001b[1;33m\u001b[0m\u001b[0m\n\u001b[0m\u001b[0;32m      3\u001b[0m     \u001b[0msayi\u001b[0m \u001b[1;33m=\u001b[0m \u001b[0mstr\u001b[0m\u001b[1;33m(\u001b[0m\u001b[1;34m\"sayi\"\u001b[0m\u001b[1;33m)\u001b[0m\u001b[1;33m\u001b[0m\u001b[1;33m\u001b[0m\u001b[0m\n\u001b[0;32m      4\u001b[0m     \u001b[1;32mif\u001b[0m \u001b[0msayi\u001b[0m \u001b[1;33m==\u001b[0m \u001b[1;34m\"q\"\u001b[0m\u001b[1;33m:\u001b[0m\u001b[1;33m\u001b[0m\u001b[1;33m\u001b[0m\u001b[0m\n\u001b[0;32m      5\u001b[0m \u001b[1;33m\u001b[0m\u001b[0m\n",
      "\u001b[1;31mValueError\u001b[0m: invalid literal for int() with base 10: 'q'"
     ]
    }
   ],
   "source": [
    "while True:\n",
    "    sayi = int(input(\"sayı: \"))\n",
    "    sayi = str(\"sayi\")\n",
    "    if sayi == \"q\":\n",
    "        \n",
    "        break\n",
    "    "
   ]
  },
  {
   "cell_type": "code",
   "execution_count": 32,
   "id": "c39727d3",
   "metadata": {},
   "outputs": [
    {
     "name": "stdout",
     "output_type": "stream",
     "text": [
      "sayı: 12\n",
      "girdiğiniz sayı:  12.0\n",
      "sayı: 42şl\n",
      "lütfen geçerli sayı girin...\n",
      "sayı: q\n"
     ]
    }
   ],
   "source": [
    "\n",
    "    \n",
    "while True:\n",
    "    sayi = input(\"sayı: \")\n",
    "    if sayi == \"q\":\n",
    "            \n",
    "        break\n",
    "        \n",
    "    try:\n",
    "        sayi = float(sayi)\n",
    "        print(\"girdiğiniz sayı: \",sayi)\n",
    "        \n",
    "    except ValueError:\n",
    "        print(\"lütfen geçerli sayı girin...\")"
   ]
  },
  {
   "cell_type": "code",
   "execution_count": 43,
   "id": "8b343586",
   "metadata": {},
   "outputs": [
    {
     "name": "stdout",
     "output_type": "stream",
     "text": [
      "parola: adembakırıcı\n",
      "parola türkçe karakter içeremez...\n"
     ]
    }
   ],
   "source": [
    "\n",
    "\n",
    "def checkPassword(parola):\n",
    "    \n",
    "\n",
    "    turkce_karakterler = \"şöüİıçğ\"\n",
    "\n",
    "    for i in parola:\n",
    "        if i in turkce_karakterler:\n",
    "            raise TypeError(\"parola türkçe karakter içeremez...\")\n",
    "        else:\n",
    "            pass\n",
    "    print(\"geçerli parola\")\n",
    "    \n",
    "parola = input(\"parola: \")\n",
    "\n",
    "try:\n",
    "    checkPassword(parola)\n",
    "except TypeError as err:\n",
    "    print(err)\n",
    "    "
   ]
  },
  {
   "cell_type": "code",
   "execution_count": 74,
   "id": "102f8421",
   "metadata": {},
   "outputs": [
    {
     "name": "stdout",
     "output_type": "stream",
     "text": [
      "120\n",
      "3628800\n",
      "2432902008176640000\n",
      "pozitif sayı girin...\n",
      "invalid literal for int() with base 10: '10a'\n"
     ]
    }
   ],
   "source": [
    "def faktoriyel(x):\n",
    "    x = int(x)\n",
    "    \n",
    "    if x < 0:\n",
    "        raise ValueError(\"pozitif sayı girin...\")\n",
    "    \n",
    "    carpim = 1\n",
    "    \n",
    "    for i in range(1, x + 1):\n",
    "        carpim *= i\n",
    "    return carpim\n",
    "    \n",
    "\n",
    "\n",
    "for x in [5,10,20,-3,\"10a\"]:\n",
    "    try:\n",
    "        y = faktoriyel(x)\n",
    "    except ValueError as err:\n",
    "        print(err)\n",
    "        continue\n",
    "    print(y)\n",
    "        "
   ]
  },
  {
   "cell_type": "code",
   "execution_count": 3,
   "id": "a4cf828f",
   "metadata": {},
   "outputs": [
    {
     "ename": "FileExistsError",
     "evalue": "[Errno 17] File exists: 'newfile.txt'",
     "output_type": "error",
     "traceback": [
      "\u001b[1;31m---------------------------------------------------------------------------\u001b[0m",
      "\u001b[1;31mFileExistsError\u001b[0m                           Traceback (most recent call last)",
      "\u001b[1;32mC:\\Users\\ADMCN_~1\\AppData\\Local\\Temp/ipykernel_4940/2271481727.py\u001b[0m in \u001b[0;36m<module>\u001b[1;34m\u001b[0m\n\u001b[1;32m----> 1\u001b[1;33m \u001b[0mfile\u001b[0m \u001b[1;33m=\u001b[0m \u001b[0mopen\u001b[0m\u001b[1;33m(\u001b[0m\u001b[1;34m\"newfile.txt\"\u001b[0m\u001b[1;33m,\u001b[0m\u001b[1;34m\"x\"\u001b[0m\u001b[1;33m,\u001b[0m\u001b[0mencoding\u001b[0m \u001b[1;33m=\u001b[0m \u001b[1;34m\"utf-8\"\u001b[0m\u001b[1;33m)\u001b[0m\u001b[1;33m\u001b[0m\u001b[1;33m\u001b[0m\u001b[0m\n\u001b[0m\u001b[0;32m      2\u001b[0m \u001b[0mfile\u001b[0m\u001b[1;33m.\u001b[0m\u001b[0mclose\u001b[0m\u001b[1;33m(\u001b[0m\u001b[1;33m)\u001b[0m\u001b[1;33m\u001b[0m\u001b[1;33m\u001b[0m\u001b[0m\n",
      "\u001b[1;31mFileExistsError\u001b[0m: [Errno 17] File exists: 'newfile.txt'"
     ]
    }
   ],
   "source": [
    "file = open(\"newfile.txt\",\"x\",encoding = \"utf-8\")\n",
    "file.close()"
   ]
  },
  {
   "cell_type": "code",
   "execution_count": 6,
   "id": "a22265f5",
   "metadata": {},
   "outputs": [],
   "source": [
    "file = open(\"newfile.txt\",\"w\",encoding = \"utf-8\")\n"
   ]
  },
  {
   "cell_type": "code",
   "execution_count": 8,
   "id": "e307a6cb",
   "metadata": {},
   "outputs": [
    {
     "name": "stdout",
     "output_type": "stream",
     "text": [
      "7\n"
     ]
    }
   ],
   "source": [
    "print(file.write(\"merhaba\"))"
   ]
  },
  {
   "cell_type": "code",
   "execution_count": 9,
   "id": "5ced4266",
   "metadata": {},
   "outputs": [],
   "source": [
    "file.close()"
   ]
  },
  {
   "cell_type": "code",
   "execution_count": 27,
   "id": "e6ced76e",
   "metadata": {},
   "outputs": [
    {
     "name": "stdout",
     "output_type": "stream",
     "text": [
      "1-Notları Oku\n",
      "2-Not gir\n",
      "3-Notları Kaydet\n",
      "4-Çıkış\n",
      "1\n"
     ]
    },
    {
     "ename": "IndexError",
     "evalue": "list index out of range",
     "output_type": "error",
     "traceback": [
      "\u001b[1;31m---------------------------------------------------------------------------\u001b[0m",
      "\u001b[1;31mIndexError\u001b[0m                                Traceback (most recent call last)",
      "\u001b[1;32mC:\\Users\\ADMCN_~1\\AppData\\Local\\Temp/ipykernel_4940/127592019.py\u001b[0m in \u001b[0;36m<module>\u001b[1;34m\u001b[0m\n\u001b[0;32m     66\u001b[0m \u001b[1;33m\u001b[0m\u001b[0m\n\u001b[0;32m     67\u001b[0m     \u001b[1;32mif\u001b[0m \u001b[0mislem\u001b[0m \u001b[1;33m==\u001b[0m \u001b[1;34m\"1\"\u001b[0m\u001b[1;33m:\u001b[0m\u001b[1;33m\u001b[0m\u001b[1;33m\u001b[0m\u001b[0m\n\u001b[1;32m---> 68\u001b[1;33m         \u001b[0mortalamaOku\u001b[0m\u001b[1;33m(\u001b[0m\u001b[1;33m)\u001b[0m\u001b[1;33m\u001b[0m\u001b[1;33m\u001b[0m\u001b[0m\n\u001b[0m\u001b[0;32m     69\u001b[0m     \u001b[1;32melif\u001b[0m \u001b[0mislem\u001b[0m \u001b[1;33m==\u001b[0m \u001b[1;34m\"2\"\u001b[0m\u001b[1;33m:\u001b[0m\u001b[1;33m\u001b[0m\u001b[1;33m\u001b[0m\u001b[0m\n\u001b[0;32m     70\u001b[0m         \u001b[0mnotGir\u001b[0m\u001b[1;33m(\u001b[0m\u001b[1;33m)\u001b[0m\u001b[1;33m\u001b[0m\u001b[1;33m\u001b[0m\u001b[0m\n",
      "\u001b[1;32mC:\\Users\\ADMCN_~1\\AppData\\Local\\Temp/ipykernel_4940/127592019.py\u001b[0m in \u001b[0;36mortalamaOku\u001b[1;34m()\u001b[0m\n\u001b[0;32m     45\u001b[0m     \u001b[1;32mwith\u001b[0m \u001b[0mopen\u001b[0m\u001b[1;33m(\u001b[0m\u001b[1;34m\"SINAV NOTLARI.txt\"\u001b[0m\u001b[1;33m,\u001b[0m \u001b[1;34m\"r\"\u001b[0m\u001b[1;33m,\u001b[0m\u001b[0mencoding\u001b[0m \u001b[1;33m=\u001b[0m \u001b[1;34m\"utf-8\"\u001b[0m\u001b[1;33m)\u001b[0m \u001b[1;32mas\u001b[0m \u001b[0mfile\u001b[0m\u001b[1;33m:\u001b[0m\u001b[1;33m\u001b[0m\u001b[1;33m\u001b[0m\u001b[0m\n\u001b[0;32m     46\u001b[0m         \u001b[1;32mfor\u001b[0m \u001b[0mi\u001b[0m \u001b[1;32min\u001b[0m \u001b[0mfile\u001b[0m\u001b[1;33m:\u001b[0m\u001b[1;33m\u001b[0m\u001b[1;33m\u001b[0m\u001b[0m\n\u001b[1;32m---> 47\u001b[1;33m             \u001b[0mprint\u001b[0m\u001b[1;33m(\u001b[0m\u001b[0mnotOrtalama\u001b[0m\u001b[1;33m(\u001b[0m\u001b[0mi\u001b[0m\u001b[1;33m)\u001b[0m\u001b[1;33m)\u001b[0m\u001b[1;33m\u001b[0m\u001b[1;33m\u001b[0m\u001b[0m\n\u001b[0m\u001b[0;32m     48\u001b[0m \u001b[1;33m\u001b[0m\u001b[0m\n\u001b[0;32m     49\u001b[0m \u001b[1;33m\u001b[0m\u001b[0m\n",
      "\u001b[1;32mC:\\Users\\ADMCN_~1\\AppData\\Local\\Temp/ipykernel_4940/127592019.py\u001b[0m in \u001b[0;36mnotOrtalama\u001b[1;34m(i)\u001b[0m\n\u001b[0;32m      6\u001b[0m \u001b[1;33m\u001b[0m\u001b[0m\n\u001b[0;32m      7\u001b[0m     \u001b[0mogrenci_adı\u001b[0m \u001b[1;33m=\u001b[0m \u001b[0mliste\u001b[0m\u001b[1;33m[\u001b[0m\u001b[1;36m0\u001b[0m\u001b[1;33m]\u001b[0m\u001b[1;33m\u001b[0m\u001b[1;33m\u001b[0m\u001b[0m\n\u001b[1;32m----> 8\u001b[1;33m     \u001b[0mnotlar\u001b[0m \u001b[1;33m=\u001b[0m \u001b[0mliste\u001b[0m\u001b[1;33m[\u001b[0m\u001b[1;36m1\u001b[0m\u001b[1;33m]\u001b[0m\u001b[1;33m.\u001b[0m\u001b[0msplit\u001b[0m\u001b[1;33m(\u001b[0m\u001b[1;34m\",\"\u001b[0m\u001b[1;33m)\u001b[0m\u001b[1;33m\u001b[0m\u001b[1;33m\u001b[0m\u001b[0m\n\u001b[0m\u001b[0;32m      9\u001b[0m \u001b[1;33m\u001b[0m\u001b[0m\n\u001b[0;32m     10\u001b[0m     \u001b[0mog_not1\u001b[0m \u001b[1;33m=\u001b[0m \u001b[0mint\u001b[0m\u001b[1;33m(\u001b[0m\u001b[0mnotlar\u001b[0m\u001b[1;33m[\u001b[0m\u001b[1;36m0\u001b[0m\u001b[1;33m]\u001b[0m\u001b[1;33m)\u001b[0m\u001b[1;33m\u001b[0m\u001b[1;33m\u001b[0m\u001b[0m\n",
      "\u001b[1;31mIndexError\u001b[0m: list index out of range"
     ]
    }
   ],
   "source": [
    "def notOrtalama(i):\n",
    "    \n",
    "    \n",
    "    i = i[:-1]\n",
    "    liste = i.split(\":\")\n",
    "    \n",
    "    ogrenci_adı = liste[0]\n",
    "    notlar = liste[1].split(\",\")\n",
    "    \n",
    "    og_not1 = int(notlar[0])\n",
    "    og_not2 = int(notlar[1])\n",
    "    og_not3 = int(notlar[2])\n",
    "    \n",
    "    \n",
    "    ortalama = (og_not1 + og_not2 + og_not3) / 3\n",
    "    \n",
    "    if (ortalama >= 90):\n",
    "        harf = \"AA\"\n",
    "    \n",
    "    elif (ortalama >= 85):\n",
    "        harf = \"BA\"\n",
    "    \n",
    "    elif (ortalama >= 80):\n",
    "        harf = \"BB\"\n",
    "    elif (ortalama >= 75):\n",
    "        harf = \"CB\"\n",
    "    elif (ortalama >= 70):\n",
    "        harf = \"CC\"\n",
    "    elif (ortalama >= 65):\n",
    "        harf = \"DC\"\n",
    "    elif (ortalama >= 60):\n",
    "        harf = \"DD\"\n",
    "    elif (ortalama >= 55):\n",
    "        harf = \"FD\"\n",
    "    else:\n",
    "        harf = \"FF\"\n",
    "        \n",
    "    return \"ogrenci_adı\"+\":\"+harf+\"\\n\"\n",
    "    \n",
    "    \n",
    "    \n",
    "\n",
    "def ortalamaOku():\n",
    "    \n",
    "    with open(\"SINAV NOTLARI.txt\", \"r\",encoding = \"utf-8\") as file:\n",
    "        for i in file:\n",
    "            print(notOrtalama(i))\n",
    "            \n",
    "        \n",
    "def notGir():\n",
    "   \n",
    "    ad = input(\"öğrenci adı: \")\n",
    "    soyad = input(\"öğrenci soyadı: \")\n",
    "    not1 = input(\"not1: \")\n",
    "    not2 = input(\"not2: \")\n",
    "    not3 = input(\"not3: \")\n",
    "    \n",
    "    with open(\"SINAV NOTLARI.txt\",\"a\",encoding = \"utf-8\") as file:\n",
    "        file.write(ad + \" \" + soyad + \":\" + not1 + \",\" + not2 + \",\" + not3 + \"\\n\")\n",
    "        \n",
    "\n",
    "def notKaydet():\n",
    "    pass\n",
    "while True:\n",
    "    islem = input(\"1-Notları Oku\\n2-Not gir\\n3-Notları Kaydet\\n4-Çıkış\\n\")\n",
    "    \n",
    "    if islem == \"1\":\n",
    "        ortalamaOku()\n",
    "    elif islem == \"2\":\n",
    "        notGir()\n",
    "    elif islem == \"3\":\n",
    "        notKaydet()\n",
    "    else:\n",
    "        break\n",
    "    "
   ]
  },
  {
   "cell_type": "code",
   "execution_count": 24,
   "id": "ec12d953",
   "metadata": {},
   "outputs": [
    {
     "ename": "NameError",
     "evalue": "name 'liste' is not defined",
     "output_type": "error",
     "traceback": [
      "\u001b[1;31m---------------------------------------------------------------------------\u001b[0m",
      "\u001b[1;31mNameError\u001b[0m                                 Traceback (most recent call last)",
      "\u001b[1;32mC:\\Users\\ADMCN_~1\\AppData\\Local\\Temp/ipykernel_4940/1550687898.py\u001b[0m in \u001b[0;36m<module>\u001b[1;34m\u001b[0m\n\u001b[1;32m----> 1\u001b[1;33m \u001b[0mliste\u001b[0m\u001b[1;33m\u001b[0m\u001b[1;33m\u001b[0m\u001b[0m\n\u001b[0m",
      "\u001b[1;31mNameError\u001b[0m: name 'liste' is not defined"
     ]
    }
   ],
   "source": [
    "liste"
   ]
  },
  {
   "cell_type": "code",
   "execution_count": null,
   "id": "4f114e2b",
   "metadata": {},
   "outputs": [],
   "source": []
  }
 ],
 "metadata": {
  "kernelspec": {
   "display_name": "Python 3 (ipykernel)",
   "language": "python",
   "name": "python3"
  },
  "language_info": {
   "codemirror_mode": {
    "name": "ipython",
    "version": 3
   },
   "file_extension": ".py",
   "mimetype": "text/x-python",
   "name": "python",
   "nbconvert_exporter": "python",
   "pygments_lexer": "ipython3",
   "version": "3.9.7"
  }
 },
 "nbformat": 4,
 "nbformat_minor": 5
}
