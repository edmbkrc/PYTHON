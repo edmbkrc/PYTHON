{
  "nbformat": 4,
  "nbformat_minor": 0,
  "metadata": {
    "colab": {
      "provenance": [],
      "collapsed_sections": []
    },
    "kernelspec": {
      "name": "python3",
      "display_name": "Python 3"
    },
    "language_info": {
      "name": "python"
    }
  },
  "cells": [
    {
      "cell_type": "markdown",
      "source": [
        "If you had deposited a coin on the cryptocurrency exchange that brought 7% fixed profit daily for a week, how much would your $ 1000 reach at the end of the 7th day?"
      ],
      "metadata": {
        "id": "yWz_K7q-Xvpj"
      }
    },
    {
      "cell_type": "code",
      "source": [
        "i = 1\n",
        "capital = 1000\n",
        "btc = 19439.70\n",
        "while i < 8:\n",
        "  btc +=(btc * 0.07)\n",
        "  i += 1\n",
        "print(f\"btc at the end of the 7th day:{btc}\")\n",
        "last_money = round((capital + btc),4)\n",
        "\n",
        "print(f\"money at the end of the 7th day:{last_money}\")\n",
        "\n"
      ],
      "metadata": {
        "colab": {
          "base_uri": "https://localhost:8080/"
        },
        "id": "wFSM_H4AQsr8",
        "outputId": "5b34079e-98a3-4c4e-b1d7-54f8099678f8"
      },
      "execution_count": null,
      "outputs": [
        {
          "output_type": "stream",
          "name": "stdout",
          "text": [
            "btc at the end of the 7th day:31215.910168297738\n",
            "money at the end of the 7th day:32215.9102\n"
          ]
        }
      ]
    },
    {
      "cell_type": "code",
      "source": [],
      "metadata": {
        "id": "RUHU1_W0URVT"
      },
      "execution_count": null,
      "outputs": []
    }
  ]
}